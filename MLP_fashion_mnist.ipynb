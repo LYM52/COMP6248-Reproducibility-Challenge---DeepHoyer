{
  "nbformat": 4,
  "nbformat_minor": 0,
  "metadata": {
    "colab": {
      "name": "MLP.ipynb",
      "provenance": [],
      "collapsed_sections": [],
      "authorship_tag": "ABX9TyMeH0MkXR+qz7NvWRFcJBUS"
    },
    "kernelspec": {
      "name": "python3",
      "display_name": "Python 3"
    },
    "language_info": {
      "name": "python"
    },
    "accelerator": "GPU"
  },
  "cells": [
    {
      "cell_type": "markdown",
      "metadata": {
        "id": "4LEbJdeco2hd"
      },
      "source": [
        "#MLP fashion_mnist"
      ]
    },
    {
      "cell_type": "code",
      "metadata": {
        "colab": {
          "base_uri": "https://localhost:8080/"
        },
        "id": "41sYxCa0t3V1",
        "outputId": "89ba12ca-95e6-4213-9db9-398ff04e6c2d"
      },
      "source": [
        "from google.colab import drive\n",
        "drive.mount(\"/content/drive\")"
      ],
      "execution_count": 1,
      "outputs": [
        {
          "output_type": "stream",
          "text": [
            "Mounted at /content/drive\n"
          ],
          "name": "stdout"
        }
      ]
    },
    {
      "cell_type": "code",
      "metadata": {
        "colab": {
          "base_uri": "https://localhost:8080/"
        },
        "id": "iM1_21iIuDvF",
        "outputId": "a0cabf26-5a3d-4a54-f5ea-6b53ffa3d574"
      },
      "source": [
        "import os\n",
        "path=\"/content/drive/My Drive/DL/DeepHoyer-master/mnist/MLP\"\n",
        "os.chdir(path)\n",
        "os.listdir(path)"
      ],
      "execution_count": 2,
      "outputs": [
        {
          "output_type": "execute_result",
          "data": {
            "text/plain": [
              "['structure.py',\n",
              " 'util.py',\n",
              " 'element.py',\n",
              " 'prun_tune_V.py',\n",
              " 'prun_tune_T.py',\n",
              " 'net',\n",
              " 'prun_tune_V_fashion.py',\n",
              " 'structure_fashion.py',\n",
              " '__pycache__',\n",
              " 'saves',\n",
              " 'data',\n",
              " 'saves_fashion',\n",
              " 'data_fashion',\n",
              " 'element_fashion.py',\n",
              " 'log.txt',\n",
              " 'MLP.ipynb']"
            ]
          },
          "metadata": {
            "tags": []
          },
          "execution_count": 2
        }
      ]
    },
    {
      "cell_type": "markdown",
      "metadata": {
        "id": "XFjZU0YhnbyQ"
      },
      "source": [
        "Pre-trained model\n",
        "\n",
        "Increase the amount of training to see if the accuracy rate increases."
      ]
    },
    {
      "cell_type": "code",
      "metadata": {
        "colab": {
          "base_uri": "https://localhost:8080/"
        },
        "id": "gvz_easam6FQ",
        "outputId": "aeaa2983-61b8-4af8-a2a1-725726ad7220"
      },
      "source": [
        "!python element_fashion.py --reg 0 --decay 0.0 --epochs 300"
      ],
      "execution_count": 3,
      "outputs": [
        {
          "output_type": "stream",
          "text": [
            "Using CUDA!\n",
            "/usr/local/lib/python3.7/dist-packages/torch/utils/data/dataloader.py:477: UserWarning: This DataLoader will create 5 worker processes in total. Our suggested max number of worker in current system is 2, which is smaller than what this DataLoader is going to create. Please be aware that excessive worker creation might get DataLoader running slow or even freeze, lower the worker number to avoid potential slowness/freeze if necessary.\n",
            "  cpuset_checked))\n",
            "LeNet(\n",
            "  (fc1): Linear(in_features=784, out_features=300, bias=True)\n",
            "  (fc2): Linear(in_features=300, out_features=100, bias=True)\n",
            "  (fc3): Linear(in_features=100, out_features=10, bias=True)\n",
            ")\n",
            "Param name           Shape                          Type           \n",
            "----------------------------------------------------------------------\n",
            "fc1.weight           torch.Size([300, 784])         torch.float32  \n",
            "fc1.bias             torch.Size([300])              torch.float32  \n",
            "fc2.weight           torch.Size([100, 300])         torch.float32  \n",
            "fc2.bias             torch.Size([100])              torch.float32  \n",
            "fc3.weight           torch.Size([10, 100])          torch.float32  \n",
            "fc3.bias             torch.Size([10])               torch.float32  \n",
            "--- Initial training ---\n",
            "Train Epoch: 299 [50000/60000 ( 83%)]  Loss: 0.001  Reg: 0.000: 100% 300/300 [25:06<00:00,  5.02s/it]\n",
            "Test set: Average loss: 1.4714, Accuracy: 8937/10000 (89.37%)\n"
          ],
          "name": "stdout"
        }
      ]
    },
    {
      "cell_type": "code",
      "metadata": {
        "colab": {
          "base_uri": "https://localhost:8080/"
        },
        "id": "cQLJ6FXbxFXt",
        "outputId": "9439450e-3a12-4dd2-e230-873c640bd77c"
      },
      "source": [
        "!python element_fashion.py --reg 0 --decay 0.0"
      ],
      "execution_count": 3,
      "outputs": [
        {
          "output_type": "stream",
          "text": [
            "Using CUDA!\n",
            "Downloading http://fashion-mnist.s3-website.eu-central-1.amazonaws.com/train-images-idx3-ubyte.gz\n",
            "Downloading http://fashion-mnist.s3-website.eu-central-1.amazonaws.com/train-images-idx3-ubyte.gz to data_fashion/FashionMNIST/raw/train-images-idx3-ubyte.gz\n",
            "26422272it [00:01, 17311115.12it/s]                  \n",
            "Extracting data_fashion/FashionMNIST/raw/train-images-idx3-ubyte.gz to data_fashion/FashionMNIST/raw\n",
            "\n",
            "Downloading http://fashion-mnist.s3-website.eu-central-1.amazonaws.com/train-labels-idx1-ubyte.gz\n",
            "Downloading http://fashion-mnist.s3-website.eu-central-1.amazonaws.com/train-labels-idx1-ubyte.gz to data_fashion/FashionMNIST/raw/train-labels-idx1-ubyte.gz\n",
            "29696it [00:00, 304297.28it/s]\n",
            "Extracting data_fashion/FashionMNIST/raw/train-labels-idx1-ubyte.gz to data_fashion/FashionMNIST/raw\n",
            "\n",
            "Downloading http://fashion-mnist.s3-website.eu-central-1.amazonaws.com/t10k-images-idx3-ubyte.gz\n",
            "Downloading http://fashion-mnist.s3-website.eu-central-1.amazonaws.com/t10k-images-idx3-ubyte.gz to data_fashion/FashionMNIST/raw/t10k-images-idx3-ubyte.gz\n",
            "4422656it [00:00, 5520053.68it/s]                 \n",
            "Extracting data_fashion/FashionMNIST/raw/t10k-images-idx3-ubyte.gz to data_fashion/FashionMNIST/raw\n",
            "\n",
            "Downloading http://fashion-mnist.s3-website.eu-central-1.amazonaws.com/t10k-labels-idx1-ubyte.gz\n",
            "Downloading http://fashion-mnist.s3-website.eu-central-1.amazonaws.com/t10k-labels-idx1-ubyte.gz to data_fashion/FashionMNIST/raw/t10k-labels-idx1-ubyte.gz\n",
            "6144it [00:00, 20023157.56it/s]\n",
            "Extracting data_fashion/FashionMNIST/raw/t10k-labels-idx1-ubyte.gz to data_fashion/FashionMNIST/raw\n",
            "\n",
            "Processing...\n",
            "/usr/local/lib/python3.7/dist-packages/torchvision/datasets/mnist.py:502: UserWarning: The given NumPy array is not writeable, and PyTorch does not support non-writeable tensors. This means you can write to the underlying (supposedly non-writeable) NumPy array using the tensor. You may want to copy the array to protect its data or make it writeable before converting it to a tensor. This type of warning will be suppressed for the rest of this program. (Triggered internally at  /pytorch/torch/csrc/utils/tensor_numpy.cpp:143.)\n",
            "  return torch.from_numpy(parsed.astype(m[2], copy=False)).view(*s)\n",
            "Done!\n",
            "/usr/local/lib/python3.7/dist-packages/torch/utils/data/dataloader.py:477: UserWarning: This DataLoader will create 5 worker processes in total. Our suggested max number of worker in current system is 2, which is smaller than what this DataLoader is going to create. Please be aware that excessive worker creation might get DataLoader running slow or even freeze, lower the worker number to avoid potential slowness/freeze if necessary.\n",
            "  cpuset_checked))\n",
            "LeNet(\n",
            "  (fc1): Linear(in_features=784, out_features=300, bias=True)\n",
            "  (fc2): Linear(in_features=300, out_features=100, bias=True)\n",
            "  (fc3): Linear(in_features=100, out_features=10, bias=True)\n",
            ")\n",
            "Param name           Shape                          Type           \n",
            "----------------------------------------------------------------------\n",
            "fc1.weight           torch.Size([300, 784])         torch.float32  \n",
            "fc1.bias             torch.Size([300])              torch.float32  \n",
            "fc2.weight           torch.Size([100, 300])         torch.float32  \n",
            "fc2.bias             torch.Size([100])              torch.float32  \n",
            "fc3.weight           torch.Size([10, 100])          torch.float32  \n",
            "fc3.bias             torch.Size([10])               torch.float32  \n",
            "--- Initial training ---\n",
            "Train Epoch: 249 [50000/60000 ( 83%)]  Loss: 0.000  Reg: 0.000: 100% 250/250 [31:58<00:00,  7.67s/it]\n",
            "Test set: Average loss: 1.3954, Accuracy: 8868/10000 (88.68%)\n"
          ],
          "name": "stdout"
        }
      ]
    },
    {
      "cell_type": "markdown",
      "metadata": {
        "id": "2tal-Bo4uKEg"
      },
      "source": [
        "#fashion minist element"
      ]
    },
    {
      "cell_type": "markdown",
      "metadata": {
        "id": "bgmshzUOzuDi"
      },
      "source": [
        "Increase learning rate"
      ]
    },
    {
      "cell_type": "code",
      "metadata": {
        "colab": {
          "base_uri": "https://localhost:8080/"
        },
        "id": "2NLldYlyzgm2",
        "outputId": "8b7acbbc-4d81-4a97-f961-625446c8b2f4"
      },
      "source": [
        "!python element_fashion.py --reg 0 --decay 0.0 --lr 0.01"
      ],
      "execution_count": 4,
      "outputs": [
        {
          "output_type": "stream",
          "text": [
            "Using CUDA!\n",
            "/usr/local/lib/python3.7/dist-packages/torch/utils/data/dataloader.py:477: UserWarning: This DataLoader will create 5 worker processes in total. Our suggested max number of worker in current system is 2, which is smaller than what this DataLoader is going to create. Please be aware that excessive worker creation might get DataLoader running slow or even freeze, lower the worker number to avoid potential slowness/freeze if necessary.\n",
            "  cpuset_checked))\n",
            "LeNet(\n",
            "  (fc1): Linear(in_features=784, out_features=300, bias=True)\n",
            "  (fc2): Linear(in_features=300, out_features=100, bias=True)\n",
            "  (fc3): Linear(in_features=100, out_features=10, bias=True)\n",
            ")\n",
            "Param name           Shape                          Type           \n",
            "----------------------------------------------------------------------\n",
            "fc1.weight           torch.Size([300, 784])         torch.float32  \n",
            "fc1.bias             torch.Size([300])              torch.float32  \n",
            "fc2.weight           torch.Size([100, 300])         torch.float32  \n",
            "fc2.bias             torch.Size([100])              torch.float32  \n",
            "fc3.weight           torch.Size([10, 100])          torch.float32  \n",
            "fc3.bias             torch.Size([10])               torch.float32  \n",
            "--- Initial training ---\n",
            "Train Epoch: 249 [50000/60000 ( 83%)]  Loss: 0.069  Reg: 0.000: 100% 250/250 [20:54<00:00,  5.02s/it]\n",
            "Test set: Average loss: 1.7139, Accuracy: 8762/10000 (87.62%)\n"
          ],
          "name": "stdout"
        }
      ]
    },
    {
      "cell_type": "code",
      "metadata": {
        "colab": {
          "base_uri": "https://localhost:8080/"
        },
        "id": "908C7SdhW4tT",
        "outputId": "c0e4a802-d5ca-4a21-be9f-d0a2f2d78bec"
      },
      "source": [
        "!python element_fashion.py --reg 0 --decay 0.0 --lr 0.0001"
      ],
      "execution_count": 4,
      "outputs": [
        {
          "output_type": "stream",
          "text": [
            "Using CUDA!\n",
            "/usr/local/lib/python3.7/dist-packages/torch/utils/data/dataloader.py:477: UserWarning: This DataLoader will create 5 worker processes in total. Our suggested max number of worker in current system is 2, which is smaller than what this DataLoader is going to create. Please be aware that excessive worker creation might get DataLoader running slow or even freeze, lower the worker number to avoid potential slowness/freeze if necessary.\n",
            "  cpuset_checked))\n",
            "LeNet(\n",
            "  (fc1): Linear(in_features=784, out_features=300, bias=True)\n",
            "  (fc2): Linear(in_features=300, out_features=100, bias=True)\n",
            "  (fc3): Linear(in_features=100, out_features=10, bias=True)\n",
            ")\n",
            "Param name           Shape                          Type           \n",
            "----------------------------------------------------------------------\n",
            "fc1.weight           torch.Size([300, 784])         torch.float32  \n",
            "fc1.bias             torch.Size([300])              torch.float32  \n",
            "fc2.weight           torch.Size([100, 300])         torch.float32  \n",
            "fc2.bias             torch.Size([100])              torch.float32  \n",
            "fc3.weight           torch.Size([10, 100])          torch.float32  \n",
            "fc3.bias             torch.Size([10])               torch.float32  \n",
            "--- Initial training ---\n",
            "Train Epoch: 249 [50000/60000 ( 83%)]  Loss: 0.007  Reg: 0.000: 100% 250/250 [31:03<00:00,  7.45s/it]\n",
            "Test set: Average loss: 0.7447, Accuracy: 8879/10000 (88.79%)\n"
          ],
          "name": "stdout"
        }
      ]
    },
    {
      "cell_type": "markdown",
      "metadata": {
        "id": "ZjG7UXWixgFW"
      },
      "source": [
        "L1 regularization"
      ]
    },
    {
      "cell_type": "code",
      "metadata": {
        "colab": {
          "base_uri": "https://localhost:8080/"
        },
        "id": "3Is2msJ1xoF5",
        "outputId": "83dbb325-c021-4c66-e5fd-b9ef41d3cbbf"
      },
      "source": [
        "!python element_fashion.py --reg 1 --pretrained"
      ],
      "execution_count": 4,
      "outputs": [
        {
          "output_type": "stream",
          "text": [
            "Using CUDA!\n",
            "/usr/local/lib/python3.7/dist-packages/torch/utils/data/dataloader.py:477: UserWarning: This DataLoader will create 5 worker processes in total. Our suggested max number of worker in current system is 2, which is smaller than what this DataLoader is going to create. Please be aware that excessive worker creation might get DataLoader running slow or even freeze, lower the worker number to avoid potential slowness/freeze if necessary.\n",
            "  cpuset_checked))\n",
            "LeNet(\n",
            "  (fc1): Linear(in_features=784, out_features=300, bias=True)\n",
            "  (fc2): Linear(in_features=300, out_features=100, bias=True)\n",
            "  (fc3): Linear(in_features=100, out_features=10, bias=True)\n",
            ")\n",
            "Param name           Shape                          Type           \n",
            "----------------------------------------------------------------------\n",
            "fc1.weight           torch.Size([300, 784])         torch.float32  \n",
            "fc1.bias             torch.Size([300])              torch.float32  \n",
            "fc2.weight           torch.Size([100, 300])         torch.float32  \n",
            "fc2.bias             torch.Size([100])              torch.float32  \n",
            "fc3.weight           torch.Size([10, 100])          torch.float32  \n",
            "fc3.bias             torch.Size([10])               torch.float32  \n",
            "Test set: Average loss: 1.3954, Accuracy: 8868/10000 (88.68%)\n",
            "--- Initial training ---\n",
            "Train Epoch: 249 [50000/60000 ( 83%)]  Loss: 0.562  Reg: 217.172: 100% 250/250 [35:06<00:00,  8.43s/it]\n",
            "Test set: Average loss: 0.4409, Accuracy: 8425/10000 (84.25%)\n"
          ],
          "name": "stdout"
        }
      ]
    },
    {
      "cell_type": "code",
      "metadata": {
        "colab": {
          "base_uri": "https://localhost:8080/"
        },
        "id": "UFeJXwF3fEv4",
        "outputId": "fea3b26c-2703-4440-e58b-f40ab21a4ee6"
      },
      "source": [
        "!python element_fashion.py --reg 1 --decay 0.0001 --pretrained"
      ],
      "execution_count": 8,
      "outputs": [
        {
          "output_type": "stream",
          "text": [
            "Using CUDA!\n",
            "/usr/local/lib/python3.7/dist-packages/torch/utils/data/dataloader.py:477: UserWarning: This DataLoader will create 5 worker processes in total. Our suggested max number of worker in current system is 2, which is smaller than what this DataLoader is going to create. Please be aware that excessive worker creation might get DataLoader running slow or even freeze, lower the worker number to avoid potential slowness/freeze if necessary.\n",
            "  cpuset_checked))\n",
            "LeNet(\n",
            "  (fc1): Linear(in_features=784, out_features=300, bias=True)\n",
            "  (fc2): Linear(in_features=300, out_features=100, bias=True)\n",
            "  (fc3): Linear(in_features=100, out_features=10, bias=True)\n",
            ")\n",
            "Param name           Shape                          Type           \n",
            "----------------------------------------------------------------------\n",
            "fc1.weight           torch.Size([300, 784])         torch.float32  \n",
            "fc1.bias             torch.Size([300])              torch.float32  \n",
            "fc2.weight           torch.Size([100, 300])         torch.float32  \n",
            "fc2.bias             torch.Size([100])              torch.float32  \n",
            "fc3.weight           torch.Size([10, 100])          torch.float32  \n",
            "fc3.bias             torch.Size([10])               torch.float32  \n",
            "Test set: Average loss: 1.3954, Accuracy: 8868/10000 (88.68%)\n",
            "--- Initial training ---\n",
            "Train Epoch: 249 [50000/60000 ( 83%)]  Loss: 0.240  Reg: 1650.959: 100% 250/250 [34:48<00:00,  8.35s/it]\n",
            "Test set: Average loss: 0.3351, Accuracy: 8855/10000 (88.55%)\n"
          ],
          "name": "stdout"
        }
      ]
    },
    {
      "cell_type": "code",
      "metadata": {
        "colab": {
          "base_uri": "https://localhost:8080/"
        },
        "id": "vxVNIbGOfnxH",
        "outputId": "a24b8da0-ce55-45cd-ab74-2fdc69df4305"
      },
      "source": [
        "!python element_fashion.py --reg 1 --decay 0.01 --pretrained"
      ],
      "execution_count": 9,
      "outputs": [
        {
          "output_type": "stream",
          "text": [
            "Using CUDA!\n",
            "/usr/local/lib/python3.7/dist-packages/torch/utils/data/dataloader.py:477: UserWarning: This DataLoader will create 5 worker processes in total. Our suggested max number of worker in current system is 2, which is smaller than what this DataLoader is going to create. Please be aware that excessive worker creation might get DataLoader running slow or even freeze, lower the worker number to avoid potential slowness/freeze if necessary.\n",
            "  cpuset_checked))\n",
            "LeNet(\n",
            "  (fc1): Linear(in_features=784, out_features=300, bias=True)\n",
            "  (fc2): Linear(in_features=300, out_features=100, bias=True)\n",
            "  (fc3): Linear(in_features=100, out_features=10, bias=True)\n",
            ")\n",
            "Param name           Shape                          Type           \n",
            "----------------------------------------------------------------------\n",
            "fc1.weight           torch.Size([300, 784])         torch.float32  \n",
            "fc1.bias             torch.Size([300])              torch.float32  \n",
            "fc2.weight           torch.Size([100, 300])         torch.float32  \n",
            "fc2.bias             torch.Size([100])              torch.float32  \n",
            "fc3.weight           torch.Size([10, 100])          torch.float32  \n",
            "fc3.bias             torch.Size([10])               torch.float32  \n",
            "Test set: Average loss: 1.3954, Accuracy: 8868/10000 (88.68%)\n",
            "--- Initial training ---\n",
            "Train Epoch: 249 [50000/60000 ( 83%)]  Loss: 0.846  Reg: 96.022: 100% 250/250 [35:10<00:00,  8.44s/it]\n",
            "Test set: Average loss: 0.6681, Accuracy: 7747/10000 (77.47%)\n"
          ],
          "name": "stdout"
        }
      ]
    },
    {
      "cell_type": "markdown",
      "metadata": {
        "id": "3yWzwqJdy_aD"
      },
      "source": [
        "hoyer"
      ]
    },
    {
      "cell_type": "code",
      "metadata": {
        "colab": {
          "base_uri": "https://localhost:8080/"
        },
        "id": "W-7opSM6zBNy",
        "outputId": "32ea3860-afc1-4aa0-9ff7-33806f882487"
      },
      "source": [
        "!python element_fashion.py --reg 2 --decay 0.02 --pretrained"
      ],
      "execution_count": 5,
      "outputs": [
        {
          "output_type": "stream",
          "text": [
            "Using CUDA!\n",
            "/usr/local/lib/python3.7/dist-packages/torch/utils/data/dataloader.py:477: UserWarning: This DataLoader will create 5 worker processes in total. Our suggested max number of worker in current system is 2, which is smaller than what this DataLoader is going to create. Please be aware that excessive worker creation might get DataLoader running slow or even freeze, lower the worker number to avoid potential slowness/freeze if necessary.\n",
            "  cpuset_checked))\n",
            "LeNet(\n",
            "  (fc1): Linear(in_features=784, out_features=300, bias=True)\n",
            "  (fc2): Linear(in_features=300, out_features=100, bias=True)\n",
            "  (fc3): Linear(in_features=100, out_features=10, bias=True)\n",
            ")\n",
            "Param name           Shape                          Type           \n",
            "----------------------------------------------------------------------\n",
            "fc1.weight           torch.Size([300, 784])         torch.float32  \n",
            "fc1.bias             torch.Size([300])              torch.float32  \n",
            "fc2.weight           torch.Size([100, 300])         torch.float32  \n",
            "fc2.bias             torch.Size([100])              torch.float32  \n",
            "fc3.weight           torch.Size([10, 100])          torch.float32  \n",
            "fc3.bias             torch.Size([10])               torch.float32  \n",
            "Test set: Average loss: 1.3954, Accuracy: 8868/10000 (88.68%)\n",
            "--- Initial training ---\n",
            "Train Epoch: 249 [50000/60000 ( 83%)]  Loss: 0.033  Reg: 60.977: 100% 250/250 [39:48<00:00,  9.56s/it]\n",
            "Test set: Average loss: 0.7823, Accuracy: 8806/10000 (88.06%)\n"
          ],
          "name": "stdout"
        }
      ]
    },
    {
      "cell_type": "code",
      "metadata": {
        "colab": {
          "base_uri": "https://localhost:8080/"
        },
        "id": "dJXZT0mbftPy",
        "outputId": "e66d8700-23df-45a6-ea41-6e9074f78c62"
      },
      "source": [
        "!python element_fashion.py --reg 2 --decay 0.002 --pretrained"
      ],
      "execution_count": 10,
      "outputs": [
        {
          "output_type": "stream",
          "text": [
            "Using CUDA!\n",
            "/usr/local/lib/python3.7/dist-packages/torch/utils/data/dataloader.py:477: UserWarning: This DataLoader will create 5 worker processes in total. Our suggested max number of worker in current system is 2, which is smaller than what this DataLoader is going to create. Please be aware that excessive worker creation might get DataLoader running slow or even freeze, lower the worker number to avoid potential slowness/freeze if necessary.\n",
            "  cpuset_checked))\n",
            "LeNet(\n",
            "  (fc1): Linear(in_features=784, out_features=300, bias=True)\n",
            "  (fc2): Linear(in_features=300, out_features=100, bias=True)\n",
            "  (fc3): Linear(in_features=100, out_features=10, bias=True)\n",
            ")\n",
            "Param name           Shape                          Type           \n",
            "----------------------------------------------------------------------\n",
            "fc1.weight           torch.Size([300, 784])         torch.float32  \n",
            "fc1.bias             torch.Size([300])              torch.float32  \n",
            "fc2.weight           torch.Size([100, 300])         torch.float32  \n",
            "fc2.bias             torch.Size([100])              torch.float32  \n",
            "fc3.weight           torch.Size([10, 100])          torch.float32  \n",
            "fc3.bias             torch.Size([10])               torch.float32  \n",
            "Test set: Average loss: 1.3954, Accuracy: 8868/10000 (88.68%)\n",
            "--- Initial training ---\n",
            "Train Epoch: 249 [50000/60000 ( 83%)]  Loss: 0.000  Reg: 66.024: 100% 250/250 [39:19<00:00,  9.44s/it]\n",
            "Test set: Average loss: 1.1468, Accuracy: 8956/10000 (89.56%)\n"
          ],
          "name": "stdout"
        }
      ]
    },
    {
      "cell_type": "code",
      "metadata": {
        "colab": {
          "base_uri": "https://localhost:8080/"
        },
        "id": "7gAdv4aAf1Ig",
        "outputId": "f2725f65-4767-4e38-dd70-c18372d6b6cf"
      },
      "source": [
        "!python element_fashion.py --reg 2 --decay 0.0002 --pretrained"
      ],
      "execution_count": 11,
      "outputs": [
        {
          "output_type": "stream",
          "text": [
            "Using CUDA!\n",
            "/usr/local/lib/python3.7/dist-packages/torch/utils/data/dataloader.py:477: UserWarning: This DataLoader will create 5 worker processes in total. Our suggested max number of worker in current system is 2, which is smaller than what this DataLoader is going to create. Please be aware that excessive worker creation might get DataLoader running slow or even freeze, lower the worker number to avoid potential slowness/freeze if necessary.\n",
            "  cpuset_checked))\n",
            "LeNet(\n",
            "  (fc1): Linear(in_features=784, out_features=300, bias=True)\n",
            "  (fc2): Linear(in_features=300, out_features=100, bias=True)\n",
            "  (fc3): Linear(in_features=100, out_features=10, bias=True)\n",
            ")\n",
            "Param name           Shape                          Type           \n",
            "----------------------------------------------------------------------\n",
            "fc1.weight           torch.Size([300, 784])         torch.float32  \n",
            "fc1.bias             torch.Size([300])              torch.float32  \n",
            "fc2.weight           torch.Size([100, 300])         torch.float32  \n",
            "fc2.bias             torch.Size([100])              torch.float32  \n",
            "fc3.weight           torch.Size([10, 100])          torch.float32  \n",
            "fc3.bias             torch.Size([10])               torch.float32  \n",
            "Test set: Average loss: 1.3954, Accuracy: 8868/10000 (88.68%)\n",
            "--- Initial training ---\n",
            "Train Epoch: 249 [50000/60000 ( 83%)]  Loss: 0.000  Reg: 72.741: 100% 250/250 [39:21<00:00,  9.45s/it]\n",
            "Test set: Average loss: 1.5913, Accuracy: 8969/10000 (89.69%)\n"
          ],
          "name": "stdout"
        }
      ]
    },
    {
      "cell_type": "markdown",
      "metadata": {
        "id": "ygL4D1WBzg1W"
      },
      "source": [
        "HS"
      ]
    },
    {
      "cell_type": "code",
      "metadata": {
        "colab": {
          "base_uri": "https://localhost:8080/"
        },
        "id": "GiKgusCVvz4A",
        "outputId": "566b680f-c467-4c1c-b041-fad79869d809"
      },
      "source": [
        "!python element_fashion.py --reg 3 --decay 0.0001 --pretrained"
      ],
      "execution_count": 6,
      "outputs": [
        {
          "output_type": "stream",
          "text": [
            "Using CUDA!\n",
            "/usr/local/lib/python3.7/dist-packages/torch/utils/data/dataloader.py:477: UserWarning: This DataLoader will create 5 worker processes in total. Our suggested max number of worker in current system is 2, which is smaller than what this DataLoader is going to create. Please be aware that excessive worker creation might get DataLoader running slow or even freeze, lower the worker number to avoid potential slowness/freeze if necessary.\n",
            "  cpuset_checked))\n",
            "LeNet(\n",
            "  (fc1): Linear(in_features=784, out_features=300, bias=True)\n",
            "  (fc2): Linear(in_features=300, out_features=100, bias=True)\n",
            "  (fc3): Linear(in_features=100, out_features=10, bias=True)\n",
            ")\n",
            "Param name           Shape                          Type           \n",
            "----------------------------------------------------------------------\n",
            "fc1.weight           torch.Size([300, 784])         torch.float32  \n",
            "fc1.bias             torch.Size([300])              torch.float32  \n",
            "fc2.weight           torch.Size([100, 300])         torch.float32  \n",
            "fc2.bias             torch.Size([100])              torch.float32  \n",
            "fc3.weight           torch.Size([10, 100])          torch.float32  \n",
            "fc3.bias             torch.Size([10])               torch.float32  \n",
            "Test set: Average loss: 1.3954, Accuracy: 8868/10000 (88.68%)\n",
            "--- Initial training ---\n",
            "Train Epoch: 249 [50000/60000 ( 83%)]  Loss: 0.005  Reg: 1770.739: 100% 250/250 [39:18<00:00,  9.44s/it]\n",
            "Test set: Average loss: 1.0490, Accuracy: 8903/10000 (89.03%)\n"
          ],
          "name": "stdout"
        }
      ]
    },
    {
      "cell_type": "code",
      "metadata": {
        "colab": {
          "base_uri": "https://localhost:8080/"
        },
        "id": "ulWIa8Azepcg",
        "outputId": "11ab20d0-6a6f-4d8a-86a6-cd1a702c207d"
      },
      "source": [
        "!python element_fashion.py --reg 3 --decay 0.0004 --pretrained"
      ],
      "execution_count": 5,
      "outputs": [
        {
          "output_type": "stream",
          "text": [
            "Using CUDA!\n",
            "/usr/local/lib/python3.7/dist-packages/torch/utils/data/dataloader.py:477: UserWarning: This DataLoader will create 5 worker processes in total. Our suggested max number of worker in current system is 2, which is smaller than what this DataLoader is going to create. Please be aware that excessive worker creation might get DataLoader running slow or even freeze, lower the worker number to avoid potential slowness/freeze if necessary.\n",
            "  cpuset_checked))\n",
            "LeNet(\n",
            "  (fc1): Linear(in_features=784, out_features=300, bias=True)\n",
            "  (fc2): Linear(in_features=300, out_features=100, bias=True)\n",
            "  (fc3): Linear(in_features=100, out_features=10, bias=True)\n",
            ")\n",
            "Param name           Shape                          Type           \n",
            "----------------------------------------------------------------------\n",
            "fc1.weight           torch.Size([300, 784])         torch.float32  \n",
            "fc1.bias             torch.Size([300])              torch.float32  \n",
            "fc2.weight           torch.Size([100, 300])         torch.float32  \n",
            "fc2.bias             torch.Size([100])              torch.float32  \n",
            "fc3.weight           torch.Size([10, 100])          torch.float32  \n",
            "fc3.bias             torch.Size([10])               torch.float32  \n",
            "Test set: Average loss: 1.3954, Accuracy: 8868/10000 (88.68%)\n",
            "--- Initial training ---\n",
            "Train Epoch: 249 [50000/60000 ( 83%)]  Loss: 0.059  Reg: 927.894: 100% 250/250 [40:10<00:00,  9.64s/it]\n",
            "Test set: Average loss: 0.8125, Accuracy: 8779/10000 (87.79%)\n"
          ],
          "name": "stdout"
        }
      ]
    },
    {
      "cell_type": "code",
      "metadata": {
        "colab": {
          "base_uri": "https://localhost:8080/"
        },
        "id": "mL-q5bGgzJOE",
        "outputId": "c17414e5-c3f5-42d7-a17e-b5461b78d3f1"
      },
      "source": [
        "!python element_fashion.py --reg 3 --decay 0.0002 --pretrained"
      ],
      "execution_count": 6,
      "outputs": [
        {
          "output_type": "stream",
          "text": [
            "Using CUDA!\n",
            "/usr/local/lib/python3.7/dist-packages/torch/utils/data/dataloader.py:477: UserWarning: This DataLoader will create 5 worker processes in total. Our suggested max number of worker in current system is 2, which is smaller than what this DataLoader is going to create. Please be aware that excessive worker creation might get DataLoader running slow or even freeze, lower the worker number to avoid potential slowness/freeze if necessary.\n",
            "  cpuset_checked))\n",
            "LeNet(\n",
            "  (fc1): Linear(in_features=784, out_features=300, bias=True)\n",
            "  (fc2): Linear(in_features=300, out_features=100, bias=True)\n",
            "  (fc3): Linear(in_features=100, out_features=10, bias=True)\n",
            ")\n",
            "Param name           Shape                          Type           \n",
            "----------------------------------------------------------------------\n",
            "fc1.weight           torch.Size([300, 784])         torch.float32  \n",
            "fc1.bias             torch.Size([300])              torch.float32  \n",
            "fc2.weight           torch.Size([100, 300])         torch.float32  \n",
            "fc2.bias             torch.Size([100])              torch.float32  \n",
            "fc3.weight           torch.Size([10, 100])          torch.float32  \n",
            "fc3.bias             torch.Size([10])               torch.float32  \n",
            "Test set: Average loss: 1.3954, Accuracy: 8868/10000 (88.68%)\n",
            "--- Initial training ---\n",
            "Train Epoch: 249 [50000/60000 ( 83%)]  Loss: 0.004  Reg: 1397.321: 100% 250/250 [39:53<00:00,  9.58s/it]\n",
            "Test set: Average loss: 0.9749, Accuracy: 8811/10000 (88.11%)\n"
          ],
          "name": "stdout"
        }
      ]
    },
    {
      "cell_type": "code",
      "metadata": {
        "colab": {
          "base_uri": "https://localhost:8080/"
        },
        "id": "qFVqaBNlf5wp",
        "outputId": "617baf2d-1b0c-4812-b082-35b817d442bf"
      },
      "source": [
        "!python element_fashion.py --reg 3 --decay 0.002 --pretrained"
      ],
      "execution_count": 12,
      "outputs": [
        {
          "output_type": "stream",
          "text": [
            "Using CUDA!\n",
            "/usr/local/lib/python3.7/dist-packages/torch/utils/data/dataloader.py:477: UserWarning: This DataLoader will create 5 worker processes in total. Our suggested max number of worker in current system is 2, which is smaller than what this DataLoader is going to create. Please be aware that excessive worker creation might get DataLoader running slow or even freeze, lower the worker number to avoid potential slowness/freeze if necessary.\n",
            "  cpuset_checked))\n",
            "LeNet(\n",
            "  (fc1): Linear(in_features=784, out_features=300, bias=True)\n",
            "  (fc2): Linear(in_features=300, out_features=100, bias=True)\n",
            "  (fc3): Linear(in_features=100, out_features=10, bias=True)\n",
            ")\n",
            "Param name           Shape                          Type           \n",
            "----------------------------------------------------------------------\n",
            "fc1.weight           torch.Size([300, 784])         torch.float32  \n",
            "fc1.bias             torch.Size([300])              torch.float32  \n",
            "fc2.weight           torch.Size([100, 300])         torch.float32  \n",
            "fc2.bias             torch.Size([100])              torch.float32  \n",
            "fc3.weight           torch.Size([10, 100])          torch.float32  \n",
            "fc3.bias             torch.Size([10])               torch.float32  \n",
            "Test set: Average loss: 1.3954, Accuracy: 8868/10000 (88.68%)\n",
            "--- Initial training ---\n",
            "Train Epoch: 249 [50000/60000 ( 83%)]  Loss: 0.244  Reg: 273.580: 100% 250/250 [39:33<00:00,  9.49s/it]\n",
            "Test set: Average loss: 0.4060, Accuracy: 8756/10000 (87.56%)\n"
          ],
          "name": "stdout"
        }
      ]
    },
    {
      "cell_type": "code",
      "metadata": {
        "colab": {
          "base_uri": "https://localhost:8080/"
        },
        "id": "h3kqwXmugBr9",
        "outputId": "72b43537-3dab-463d-b851-cfab0cf5c62f"
      },
      "source": [
        "!python element_fashion.py --reg 3 --decay 0.02 --pretrained"
      ],
      "execution_count": 13,
      "outputs": [
        {
          "output_type": "stream",
          "text": [
            "Using CUDA!\n",
            "/usr/local/lib/python3.7/dist-packages/torch/utils/data/dataloader.py:477: UserWarning: This DataLoader will create 5 worker processes in total. Our suggested max number of worker in current system is 2, which is smaller than what this DataLoader is going to create. Please be aware that excessive worker creation might get DataLoader running slow or even freeze, lower the worker number to avoid potential slowness/freeze if necessary.\n",
            "  cpuset_checked))\n",
            "LeNet(\n",
            "  (fc1): Linear(in_features=784, out_features=300, bias=True)\n",
            "  (fc2): Linear(in_features=300, out_features=100, bias=True)\n",
            "  (fc3): Linear(in_features=100, out_features=10, bias=True)\n",
            ")\n",
            "Param name           Shape                          Type           \n",
            "----------------------------------------------------------------------\n",
            "fc1.weight           torch.Size([300, 784])         torch.float32  \n",
            "fc1.bias             torch.Size([300])              torch.float32  \n",
            "fc2.weight           torch.Size([100, 300])         torch.float32  \n",
            "fc2.bias             torch.Size([100])              torch.float32  \n",
            "fc3.weight           torch.Size([10, 100])          torch.float32  \n",
            "fc3.bias             torch.Size([10])               torch.float32  \n",
            "Test set: Average loss: 1.3954, Accuracy: 8868/10000 (88.68%)\n",
            "--- Initial training ---\n",
            "Train Epoch: 249 [50000/60000 ( 83%)]  Loss: 0.542  Reg: 76.553: 100% 250/250 [40:22<00:00,  9.69s/it]\n",
            "Test set: Average loss: 0.4898, Accuracy: 8390/10000 (83.90%)\n"
          ],
          "name": "stdout"
        }
      ]
    },
    {
      "cell_type": "markdown",
      "metadata": {
        "id": "cwW5p9gjzSGt"
      },
      "source": [
        "l1"
      ]
    },
    {
      "cell_type": "code",
      "metadata": {
        "colab": {
          "base_uri": "https://localhost:8080/"
        },
        "id": "cnvAEfrFzUpc",
        "outputId": "ec0d3c03-c911-4f24-eb58-4472bac3a925"
      },
      "source": [
        "!python element_fashion.py --reg 4 --decay 2e-5 --pretrained"
      ],
      "execution_count": 7,
      "outputs": [
        {
          "output_type": "stream",
          "text": [
            "Using CUDA!\n",
            "/usr/local/lib/python3.7/dist-packages/torch/utils/data/dataloader.py:477: UserWarning: This DataLoader will create 5 worker processes in total. Our suggested max number of worker in current system is 2, which is smaller than what this DataLoader is going to create. Please be aware that excessive worker creation might get DataLoader running slow or even freeze, lower the worker number to avoid potential slowness/freeze if necessary.\n",
            "  cpuset_checked))\n",
            "LeNet(\n",
            "  (fc1): Linear(in_features=784, out_features=300, bias=True)\n",
            "  (fc2): Linear(in_features=300, out_features=100, bias=True)\n",
            "  (fc3): Linear(in_features=100, out_features=10, bias=True)\n",
            ")\n",
            "Param name           Shape                          Type           \n",
            "----------------------------------------------------------------------\n",
            "fc1.weight           torch.Size([300, 784])         torch.float32  \n",
            "fc1.bias             torch.Size([300])              torch.float32  \n",
            "fc2.weight           torch.Size([100, 300])         torch.float32  \n",
            "fc2.bias             torch.Size([100])              torch.float32  \n",
            "fc3.weight           torch.Size([10, 100])          torch.float32  \n",
            "fc3.bias             torch.Size([10])               torch.float32  \n",
            "Test set: Average loss: 1.3954, Accuracy: 8868/10000 (88.68%)\n",
            "--- Initial training ---\n",
            "Train Epoch: 249 [50000/60000 ( 83%)]  Loss: 0.119  Reg: 10758.458: 100% 250/250 [38:23<00:00,  9.21s/it]\n",
            "Test set: Average loss: 0.6339, Accuracy: 8799/10000 (87.99%)\n"
          ],
          "name": "stdout"
        }
      ]
    },
    {
      "cell_type": "markdown",
      "metadata": {
        "id": "1tyF4YNuuVj-"
      },
      "source": [
        "## pruning"
      ]
    },
    {
      "cell_type": "markdown",
      "metadata": {
        "id": "huqpHRz3ubSr"
      },
      "source": [
        "Hoyer pruning"
      ]
    },
    {
      "cell_type": "code",
      "metadata": {
        "colab": {
          "base_uri": "https://localhost:8080/"
        },
        "id": "W1nuDsJOuaa7",
        "outputId": "bed10ee4-f1c0-4157-8325-57a866baa293"
      },
      "source": [
        "!python prun_tune_V_fashion.py --model saves_fashion/elt_0.02_2 --sensitivity 0.05 "
      ],
      "execution_count": 7,
      "outputs": [
        {
          "output_type": "stream",
          "text": [
            "Using CUDA!\n",
            "/usr/local/lib/python3.7/dist-packages/torch/utils/data/dataloader.py:477: UserWarning: This DataLoader will create 5 worker processes in total. Our suggested max number of worker in current system is 2, which is smaller than what this DataLoader is going to create. Please be aware that excessive worker creation might get DataLoader running slow or even freeze, lower the worker number to avoid potential slowness/freeze if necessary.\n",
            "  cpuset_checked))\n",
            "--- Pruning ---\n",
            "Pruning with threshold : 0.5513413429260254 for layer fc1.weight\n",
            "Pruning with threshold : 0.046055614948272705 for layer fc1.bias\n",
            "Pruning with threshold : 0.5612023830413818 for layer fc2.weight\n",
            "Pruning with threshold : 0.022377726435661317 for layer fc2.bias\n",
            "Pruning with threshold : 0.42997307777404786 for layer fc3.weight\n",
            "Pruning with threshold : 0.08429589867591858 for layer fc3.bias\n",
            "fc1.weight           | nonzeros =    7581 /  235200 (  3.22%) | total_pruned =  227619 | shape = (300, 784)\n",
            "fc1.weight           | dim0 =     776 /     784 ( 98.98%) | dim1 =     241 /     300 ( 80.33%)\n",
            "fc1.bias             | nonzeros =       1 /     300 (  0.33%) | total_pruned =     299 | shape = (300,)\n",
            "fc2.weight           | nonzeros =     713 /   30000 (  2.38%) | total_pruned =   29287 | shape = (100, 300)\n",
            "fc2.weight           | dim0 =     189 /     300 ( 63.00%) | dim1 =      85 /     100 ( 85.00%)\n",
            "fc2.bias             | nonzeros =       1 /     100 (  1.00%) | total_pruned =      99 | shape = (100,)\n",
            "fc3.weight           | nonzeros =      88 /    1000 (  8.80%) | total_pruned =     912 | shape = (10, 100)\n",
            "fc3.weight           | dim0 =      58 /     100 ( 58.00%) | dim1 =      10 /      10 (100.00%)\n",
            "fc3.bias             | nonzeros =       1 /      10 ( 10.00%) | total_pruned =       9 | shape = (10,)\n",
            "alive: 8385, pruned : 258225, total: 266610, Compression rate :      31.80x  ( 96.85% pruned)\n",
            "--- Finetuning ---\n",
            "Best: 87.99% Train Epoch: 49 [50000/60000 ( 83%)]  Loss: 0.155554 Total: 0.155554: 100% 50/50 [07:53<00:00,  9.47s/it]\n",
            "Accuracy: 87.99%\n",
            "fc1.weight           | nonzeros =    7581 /  235200 (  3.22%) | total_pruned =  227619 | shape = (300, 784)\n",
            "fc1.weight           | dim0 =     776 /     784 ( 98.98%) | dim1 =     241 /     300 ( 80.33%)\n",
            "fc1.bias             | nonzeros =       1 /     300 (  0.33%) | total_pruned =     299 | shape = (300,)\n",
            "fc2.weight           | nonzeros =     713 /   30000 (  2.38%) | total_pruned =   29287 | shape = (100, 300)\n",
            "fc2.weight           | dim0 =     189 /     300 ( 63.00%) | dim1 =      85 /     100 ( 85.00%)\n",
            "fc2.bias             | nonzeros =       1 /     100 (  1.00%) | total_pruned =      99 | shape = (100,)\n",
            "fc3.weight           | nonzeros =      88 /    1000 (  8.80%) | total_pruned =     912 | shape = (10, 100)\n",
            "fc3.weight           | dim0 =      58 /     100 ( 58.00%) | dim1 =      10 /      10 (100.00%)\n",
            "fc3.bias             | nonzeros =       1 /      10 ( 10.00%) | total_pruned =       9 | shape = (10,)\n",
            "alive: 8385, pruned : 258225, total: 266610, Compression rate :      31.80x  ( 96.85% pruned)\n"
          ],
          "name": "stdout"
        }
      ]
    },
    {
      "cell_type": "code",
      "metadata": {
        "colab": {
          "base_uri": "https://localhost:8080/"
        },
        "id": "qNRHaqgmo18g",
        "outputId": "657b0f1e-26e0-4d1f-ecd8-d63fd6ea1019"
      },
      "source": [
        "!python prun_tune_V_fashion.py --model saves_fashion/elt_0.02_2 --sensitivity 0.04 "
      ],
      "execution_count": 8,
      "outputs": [
        {
          "output_type": "stream",
          "text": [
            "Using CUDA!\n",
            "/usr/local/lib/python3.7/dist-packages/torch/utils/data/dataloader.py:477: UserWarning: This DataLoader will create 5 worker processes in total. Our suggested max number of worker in current system is 2, which is smaller than what this DataLoader is going to create. Please be aware that excessive worker creation might get DataLoader running slow or even freeze, lower the worker number to avoid potential slowness/freeze if necessary.\n",
            "  cpuset_checked))\n",
            "--- Pruning ---\n",
            "Pruning with threshold : 0.4410730743408203 for layer fc1.weight\n",
            "Pruning with threshold : 0.036844491958618164 for layer fc1.bias\n",
            "Pruning with threshold : 0.44896190643310546 for layer fc2.weight\n",
            "Pruning with threshold : 0.017902181148529053 for layer fc2.bias\n",
            "Pruning with threshold : 0.3439784622192383 for layer fc3.weight\n",
            "Pruning with threshold : 0.06743671894073487 for layer fc3.bias\n",
            "fc1.weight           | nonzeros =    9808 /  235200 (  4.17%) | total_pruned =  225392 | shape = (300, 784)\n",
            "fc1.weight           | dim0 =     783 /     784 ( 99.87%) | dim1 =     241 /     300 ( 80.33%)\n",
            "fc1.bias             | nonzeros =       1 /     300 (  0.33%) | total_pruned =     299 | shape = (300,)\n",
            "fc2.weight           | nonzeros =     950 /   30000 (  3.17%) | total_pruned =   29050 | shape = (100, 300)\n",
            "fc2.weight           | dim0 =     192 /     300 ( 64.00%) | dim1 =      85 /     100 ( 85.00%)\n",
            "fc2.bias             | nonzeros =       1 /     100 (  1.00%) | total_pruned =      99 | shape = (100,)\n",
            "fc3.weight           | nonzeros =     101 /    1000 ( 10.10%) | total_pruned =     899 | shape = (10, 100)\n",
            "fc3.weight           | dim0 =      59 /     100 ( 59.00%) | dim1 =      10 /      10 (100.00%)\n",
            "fc3.bias             | nonzeros =       1 /      10 ( 10.00%) | total_pruned =       9 | shape = (10,)\n",
            "alive: 10862, pruned : 255748, total: 266610, Compression rate :      24.55x  ( 95.93% pruned)\n",
            "--- Finetuning ---\n",
            "Best: 88.20% Train Epoch: 49 [50000/60000 ( 83%)]  Loss: 0.089003 Total: 0.089003: 100% 50/50 [08:04<00:00,  9.70s/it]\n",
            "Accuracy: 88.20%\n",
            "fc1.weight           | nonzeros =    9808 /  235200 (  4.17%) | total_pruned =  225392 | shape = (300, 784)\n",
            "fc1.weight           | dim0 =     783 /     784 ( 99.87%) | dim1 =     241 /     300 ( 80.33%)\n",
            "fc1.bias             | nonzeros =       1 /     300 (  0.33%) | total_pruned =     299 | shape = (300,)\n",
            "fc2.weight           | nonzeros =     950 /   30000 (  3.17%) | total_pruned =   29050 | shape = (100, 300)\n",
            "fc2.weight           | dim0 =     192 /     300 ( 64.00%) | dim1 =      85 /     100 ( 85.00%)\n",
            "fc2.bias             | nonzeros =       1 /     100 (  1.00%) | total_pruned =      99 | shape = (100,)\n",
            "fc3.weight           | nonzeros =     101 /    1000 ( 10.10%) | total_pruned =     899 | shape = (10, 100)\n",
            "fc3.weight           | dim0 =      59 /     100 ( 59.00%) | dim1 =      10 /      10 (100.00%)\n",
            "fc3.bias             | nonzeros =       1 /      10 ( 10.00%) | total_pruned =       9 | shape = (10,)\n",
            "alive: 10862, pruned : 255748, total: 266610, Compression rate :      24.55x  ( 95.93% pruned)\n"
          ],
          "name": "stdout"
        }
      ]
    },
    {
      "cell_type": "code",
      "metadata": {
        "colab": {
          "base_uri": "https://localhost:8080/"
        },
        "id": "k0NY_mu0_Gbz",
        "outputId": "73f87428-a442-4d86-b781-4002a18f8c02"
      },
      "source": [
        "!python prun_tune_V_fashion.py --model saves_fashion/elt_0.002_2 --sensitivity 0.04 "
      ],
      "execution_count": 11,
      "outputs": [
        {
          "output_type": "stream",
          "text": [
            "Using CUDA!\n",
            "/usr/local/lib/python3.7/dist-packages/torch/utils/data/dataloader.py:477: UserWarning: This DataLoader will create 5 worker processes in total. Our suggested max number of worker in current system is 2, which is smaller than what this DataLoader is going to create. Please be aware that excessive worker creation might get DataLoader running slow or even freeze, lower the worker number to avoid potential slowness/freeze if necessary.\n",
            "  cpuset_checked))\n",
            "--- Pruning ---\n",
            "Pruning with threshold : 0.3938033676147461 for layer fc1.weight\n",
            "Pruning with threshold : 0.024240615367889407 for layer fc1.bias\n",
            "Pruning with threshold : 0.3993370056152344 for layer fc2.weight\n",
            "Pruning with threshold : 0.021215848922729492 for layer fc2.bias\n",
            "Pruning with threshold : 0.2495646858215332 for layer fc3.weight\n",
            "Pruning with threshold : 0.049227299690246584 for layer fc3.bias\n",
            "fc1.weight           | nonzeros =   32207 /  235200 ( 13.69%) | total_pruned =  202993 | shape = (300, 784)\n",
            "fc1.weight           | dim0 =     784 /     784 (100.00%) | dim1 =     253 /     300 ( 84.33%)\n",
            "fc1.bias             | nonzeros =       4 /     300 (  1.33%) | total_pruned =     296 | shape = (300,)\n",
            "fc2.weight           | nonzeros =    3580 /   30000 ( 11.93%) | total_pruned =   26420 | shape = (100, 300)\n",
            "fc2.weight           | dim0 =     229 /     300 ( 76.33%) | dim1 =      97 /     100 ( 97.00%)\n",
            "fc2.bias             | nonzeros =       1 /     100 (  1.00%) | total_pruned =      99 | shape = (100,)\n",
            "fc3.weight           | nonzeros =     226 /    1000 ( 22.60%) | total_pruned =     774 | shape = (10, 100)\n",
            "fc3.weight           | dim0 =      92 /     100 ( 92.00%) | dim1 =      10 /      10 (100.00%)\n",
            "fc3.bias             | nonzeros =       1 /      10 ( 10.00%) | total_pruned =       9 | shape = (10,)\n",
            "alive: 36019, pruned : 230591, total: 266610, Compression rate :       7.40x  ( 86.49% pruned)\n",
            "--- Finetuning ---\n",
            "Best: 89.09% Train Epoch: 49 [50000/60000 ( 83%)]  Loss: 0.060129 Total: 0.060129: 100% 50/50 [08:13<00:00,  9.88s/it]\n",
            "Accuracy: 89.09%\n",
            "fc1.weight           | nonzeros =   32207 /  235200 ( 13.69%) | total_pruned =  202993 | shape = (300, 784)\n",
            "fc1.weight           | dim0 =     784 /     784 (100.00%) | dim1 =     253 /     300 ( 84.33%)\n",
            "fc1.bias             | nonzeros =       4 /     300 (  1.33%) | total_pruned =     296 | shape = (300,)\n",
            "fc2.weight           | nonzeros =    3580 /   30000 ( 11.93%) | total_pruned =   26420 | shape = (100, 300)\n",
            "fc2.weight           | dim0 =     229 /     300 ( 76.33%) | dim1 =      97 /     100 ( 97.00%)\n",
            "fc2.bias             | nonzeros =       1 /     100 (  1.00%) | total_pruned =      99 | shape = (100,)\n",
            "fc3.weight           | nonzeros =     226 /    1000 ( 22.60%) | total_pruned =     774 | shape = (10, 100)\n",
            "fc3.weight           | dim0 =      92 /     100 ( 92.00%) | dim1 =      10 /      10 (100.00%)\n",
            "fc3.bias             | nonzeros =       1 /      10 ( 10.00%) | total_pruned =       9 | shape = (10,)\n",
            "alive: 36019, pruned : 230591, total: 266610, Compression rate :       7.40x  ( 86.49% pruned)\n"
          ],
          "name": "stdout"
        }
      ]
    },
    {
      "cell_type": "code",
      "metadata": {
        "colab": {
          "base_uri": "https://localhost:8080/"
        },
        "id": "SMPrevgVNE1W",
        "outputId": "07cb6613-fa60-414f-a04b-450923f0924b"
      },
      "source": [
        "!python prun_tune_V_fashion.py --model saves_fashion/elt_0.002_2 --sensitivity 0.03 "
      ],
      "execution_count": 12,
      "outputs": [
        {
          "output_type": "stream",
          "text": [
            "Using CUDA!\n",
            "/usr/local/lib/python3.7/dist-packages/torch/utils/data/dataloader.py:477: UserWarning: This DataLoader will create 5 worker processes in total. Our suggested max number of worker in current system is 2, which is smaller than what this DataLoader is going to create. Please be aware that excessive worker creation might get DataLoader running slow or even freeze, lower the worker number to avoid potential slowness/freeze if necessary.\n",
            "  cpuset_checked))\n",
            "--- Pruning ---\n",
            "Pruning with threshold : 0.2953525257110596 for layer fc1.weight\n",
            "Pruning with threshold : 0.01818046152591705 for layer fc1.bias\n",
            "Pruning with threshold : 0.29950275421142575 for layer fc2.weight\n",
            "Pruning with threshold : 0.015911886692047118 for layer fc2.bias\n",
            "Pruning with threshold : 0.1871735143661499 for layer fc3.weight\n",
            "Pruning with threshold : 0.03692047476768494 for layer fc3.bias\n",
            "fc1.weight           | nonzeros =   41692 /  235200 ( 17.73%) | total_pruned =  193508 | shape = (300, 784)\n",
            "fc1.weight           | dim0 =     784 /     784 (100.00%) | dim1 =     253 /     300 ( 84.33%)\n",
            "fc1.bias             | nonzeros =       4 /     300 (  1.33%) | total_pruned =     296 | shape = (300,)\n",
            "fc2.weight           | nonzeros =    5020 /   30000 ( 16.73%) | total_pruned =   24980 | shape = (100, 300)\n",
            "fc2.weight           | dim0 =     230 /     300 ( 76.67%) | dim1 =      97 /     100 ( 97.00%)\n",
            "fc2.bias             | nonzeros =       1 /     100 (  1.00%) | total_pruned =      99 | shape = (100,)\n",
            "fc3.weight           | nonzeros =     297 /    1000 ( 29.70%) | total_pruned =     703 | shape = (10, 100)\n",
            "fc3.weight           | dim0 =      92 /     100 ( 92.00%) | dim1 =      10 /      10 (100.00%)\n",
            "fc3.bias             | nonzeros =       1 /      10 ( 10.00%) | total_pruned =       9 | shape = (10,)\n",
            "alive: 47015, pruned : 219595, total: 266610, Compression rate :       5.67x  ( 82.37% pruned)\n",
            "--- Finetuning ---\n",
            "Best: 89.31% Train Epoch: 49 [50000/60000 ( 83%)]  Loss: 0.052097 Total: 0.052097: 100% 50/50 [08:18<00:00,  9.98s/it]\n",
            "Accuracy: 89.31%\n",
            "fc1.weight           | nonzeros =   41692 /  235200 ( 17.73%) | total_pruned =  193508 | shape = (300, 784)\n",
            "fc1.weight           | dim0 =     784 /     784 (100.00%) | dim1 =     253 /     300 ( 84.33%)\n",
            "fc1.bias             | nonzeros =       4 /     300 (  1.33%) | total_pruned =     296 | shape = (300,)\n",
            "fc2.weight           | nonzeros =    5020 /   30000 ( 16.73%) | total_pruned =   24980 | shape = (100, 300)\n",
            "fc2.weight           | dim0 =     230 /     300 ( 76.67%) | dim1 =      97 /     100 ( 97.00%)\n",
            "fc2.bias             | nonzeros =       1 /     100 (  1.00%) | total_pruned =      99 | shape = (100,)\n",
            "fc3.weight           | nonzeros =     297 /    1000 ( 29.70%) | total_pruned =     703 | shape = (10, 100)\n",
            "fc3.weight           | dim0 =      92 /     100 ( 92.00%) | dim1 =      10 /      10 (100.00%)\n",
            "fc3.bias             | nonzeros =       1 /      10 ( 10.00%) | total_pruned =       9 | shape = (10,)\n",
            "alive: 47015, pruned : 219595, total: 266610, Compression rate :       5.67x  ( 82.37% pruned)\n"
          ],
          "name": "stdout"
        }
      ]
    },
    {
      "cell_type": "markdown",
      "metadata": {
        "id": "DskIBskpo__m"
      },
      "source": [
        "HS pruning"
      ]
    },
    {
      "cell_type": "code",
      "metadata": {
        "colab": {
          "base_uri": "https://localhost:8080/"
        },
        "id": "m3lkLGbOZn2G",
        "outputId": "42986174-35e5-442d-bc0e-74131e917d01"
      },
      "source": [
        "!python prun_tune_V_fashion.py --model saves_fashion/elt_0.0002_3 --sensitivity 0.04"
      ],
      "execution_count": 14,
      "outputs": [
        {
          "output_type": "stream",
          "text": [
            "Using CUDA!\n",
            "/usr/local/lib/python3.7/dist-packages/torch/utils/data/dataloader.py:477: UserWarning: This DataLoader will create 5 worker processes in total. Our suggested max number of worker in current system is 2, which is smaller than what this DataLoader is going to create. Please be aware that excessive worker creation might get DataLoader running slow or even freeze, lower the worker number to avoid potential slowness/freeze if necessary.\n",
            "  cpuset_checked))\n",
            "--- Pruning ---\n",
            "Pruning with threshold : 0.35273262023925783 for layer fc1.weight\n",
            "Pruning with threshold : 0.4170065689086914 for layer fc1.bias\n",
            "Pruning with threshold : 0.42283241271972655 for layer fc2.weight\n",
            "Pruning with threshold : 0.01884436368942261 for layer fc2.bias\n",
            "Pruning with threshold : 0.2936343765258789 for layer fc3.weight\n",
            "Pruning with threshold : 0.03515484809875488 for layer fc3.bias\n",
            "fc1.weight           | nonzeros =    9905 /  235200 (  4.21%) | total_pruned =  225295 | shape = (300, 784)\n",
            "fc1.weight           | dim0 =     784 /     784 (100.00%) | dim1 =     218 /     300 ( 72.67%)\n",
            "fc1.bias             | nonzeros =      34 /     300 ( 11.33%) | total_pruned =     266 | shape = (300,)\n",
            "fc2.weight           | nonzeros =    1839 /   30000 (  6.13%) | total_pruned =   28161 | shape = (100, 300)\n",
            "fc2.weight           | dim0 =     181 /     300 ( 60.33%) | dim1 =      97 /     100 ( 97.00%)\n",
            "fc2.bias             | nonzeros =       1 /     100 (  1.00%) | total_pruned =      99 | shape = (100,)\n",
            "fc3.weight           | nonzeros =     295 /    1000 ( 29.50%) | total_pruned =     705 | shape = (10, 100)\n",
            "fc3.weight           | dim0 =      90 /     100 ( 90.00%) | dim1 =      10 /      10 (100.00%)\n",
            "fc3.bias             | nonzeros =       1 /      10 ( 10.00%) | total_pruned =       9 | shape = (10,)\n",
            "alive: 12075, pruned : 254535, total: 266610, Compression rate :      22.08x  ( 95.47% pruned)\n",
            "--- Finetuning ---\n",
            "Best: 88.64% Train Epoch: 49 [50000/60000 ( 83%)]  Loss: 0.058375 Total: 0.058375: 100% 50/50 [08:41<00:00, 10.42s/it]\n",
            "Accuracy: 88.64%\n",
            "fc1.weight           | nonzeros =    9905 /  235200 (  4.21%) | total_pruned =  225295 | shape = (300, 784)\n",
            "fc1.weight           | dim0 =     784 /     784 (100.00%) | dim1 =     218 /     300 ( 72.67%)\n",
            "fc1.bias             | nonzeros =      34 /     300 ( 11.33%) | total_pruned =     266 | shape = (300,)\n",
            "fc2.weight           | nonzeros =    1839 /   30000 (  6.13%) | total_pruned =   28161 | shape = (100, 300)\n",
            "fc2.weight           | dim0 =     181 /     300 ( 60.33%) | dim1 =      97 /     100 ( 97.00%)\n",
            "fc2.bias             | nonzeros =       1 /     100 (  1.00%) | total_pruned =      99 | shape = (100,)\n",
            "fc3.weight           | nonzeros =     295 /    1000 ( 29.50%) | total_pruned =     705 | shape = (10, 100)\n",
            "fc3.weight           | dim0 =      90 /     100 ( 90.00%) | dim1 =      10 /      10 (100.00%)\n",
            "fc3.bias             | nonzeros =       1 /      10 ( 10.00%) | total_pruned =       9 | shape = (10,)\n",
            "alive: 12075, pruned : 254535, total: 266610, Compression rate :      22.08x  ( 95.47% pruned)\n"
          ],
          "name": "stdout"
        }
      ]
    },
    {
      "cell_type": "code",
      "metadata": {
        "colab": {
          "base_uri": "https://localhost:8080/"
        },
        "id": "y7DYehMMpCr6",
        "outputId": "b48eea19-7a65-4407-9a2c-758086639eb3"
      },
      "source": [
        "!python prun_tune_V_fashion.py --model saves_fashion/elt_0.0002_3 --sensitivity 0.03 "
      ],
      "execution_count": 10,
      "outputs": [
        {
          "output_type": "stream",
          "text": [
            "Using CUDA!\n",
            "/usr/local/lib/python3.7/dist-packages/torch/utils/data/dataloader.py:477: UserWarning: This DataLoader will create 5 worker processes in total. Our suggested max number of worker in current system is 2, which is smaller than what this DataLoader is going to create. Please be aware that excessive worker creation might get DataLoader running slow or even freeze, lower the worker number to avoid potential slowness/freeze if necessary.\n",
            "  cpuset_checked))\n",
            "--- Pruning ---\n",
            "Pruning with threshold : 0.26454946517944333 for layer fc1.weight\n",
            "Pruning with threshold : 0.31275492668151855 for layer fc1.bias\n",
            "Pruning with threshold : 0.3171243095397949 for layer fc2.weight\n",
            "Pruning with threshold : 0.014133272767066956 for layer fc2.bias\n",
            "Pruning with threshold : 0.22022578239440918 for layer fc3.weight\n",
            "Pruning with threshold : 0.02636613607406616 for layer fc3.bias\n",
            "fc1.weight           | nonzeros =   13337 /  235200 (  5.67%) | total_pruned =  221863 | shape = (300, 784)\n",
            "fc1.weight           | dim0 =     784 /     784 (100.00%) | dim1 =     219 /     300 ( 73.00%)\n",
            "fc1.bias             | nonzeros =      38 /     300 ( 12.67%) | total_pruned =     262 | shape = (300,)\n",
            "fc2.weight           | nonzeros =    2680 /   30000 (  8.93%) | total_pruned =   27320 | shape = (100, 300)\n",
            "fc2.weight           | dim0 =     182 /     300 ( 60.67%) | dim1 =      97 /     100 ( 97.00%)\n",
            "fc2.bias             | nonzeros =       2 /     100 (  2.00%) | total_pruned =      98 | shape = (100,)\n",
            "fc3.weight           | nonzeros =     357 /    1000 ( 35.70%) | total_pruned =     643 | shape = (10, 100)\n",
            "fc3.weight           | dim0 =      90 /     100 ( 90.00%) | dim1 =      10 /      10 (100.00%)\n",
            "fc3.bias             | nonzeros =       1 /      10 ( 10.00%) | total_pruned =       9 | shape = (10,)\n",
            "alive: 16415, pruned : 250195, total: 266610, Compression rate :      16.24x  ( 93.84% pruned)\n",
            "--- Finetuning ---\n",
            "Best: 88.83% Train Epoch: 49 [50000/60000 ( 83%)]  Loss: 0.033864 Total: 0.033864: 100% 50/50 [08:09<00:00,  9.78s/it]\n",
            "Accuracy: 88.83%\n",
            "fc1.weight           | nonzeros =   13337 /  235200 (  5.67%) | total_pruned =  221863 | shape = (300, 784)\n",
            "fc1.weight           | dim0 =     784 /     784 (100.00%) | dim1 =     219 /     300 ( 73.00%)\n",
            "fc1.bias             | nonzeros =      38 /     300 ( 12.67%) | total_pruned =     262 | shape = (300,)\n",
            "fc2.weight           | nonzeros =    2680 /   30000 (  8.93%) | total_pruned =   27320 | shape = (100, 300)\n",
            "fc2.weight           | dim0 =     182 /     300 ( 60.67%) | dim1 =      97 /     100 ( 97.00%)\n",
            "fc2.bias             | nonzeros =       2 /     100 (  2.00%) | total_pruned =      98 | shape = (100,)\n",
            "fc3.weight           | nonzeros =     357 /    1000 ( 35.70%) | total_pruned =     643 | shape = (10, 100)\n",
            "fc3.weight           | dim0 =      90 /     100 ( 90.00%) | dim1 =      10 /      10 (100.00%)\n",
            "fc3.bias             | nonzeros =       1 /      10 ( 10.00%) | total_pruned =       9 | shape = (10,)\n",
            "alive: 16415, pruned : 250195, total: 266610, Compression rate :      16.24x  ( 93.84% pruned)\n"
          ],
          "name": "stdout"
        }
      ]
    },
    {
      "cell_type": "code",
      "metadata": {
        "colab": {
          "base_uri": "https://localhost:8080/"
        },
        "id": "o5hEjfiPN97O",
        "outputId": "3a6d4858-65e0-4f00-9988-2a063abfbfb9"
      },
      "source": [
        "!python prun_tune_V_fashion.py --model saves_fashion/elt_0.0002_3 --sensitivity 0.02 "
      ],
      "execution_count": 13,
      "outputs": [
        {
          "output_type": "stream",
          "text": [
            "Using CUDA!\n",
            "/usr/local/lib/python3.7/dist-packages/torch/utils/data/dataloader.py:477: UserWarning: This DataLoader will create 5 worker processes in total. Our suggested max number of worker in current system is 2, which is smaller than what this DataLoader is going to create. Please be aware that excessive worker creation might get DataLoader running slow or even freeze, lower the worker number to avoid potential slowness/freeze if necessary.\n",
            "  cpuset_checked))\n",
            "--- Pruning ---\n",
            "Pruning with threshold : 0.17636631011962892 for layer fc1.weight\n",
            "Pruning with threshold : 0.2085032844543457 for layer fc1.bias\n",
            "Pruning with threshold : 0.21141620635986327 for layer fc2.weight\n",
            "Pruning with threshold : 0.009422181844711304 for layer fc2.bias\n",
            "Pruning with threshold : 0.14681718826293946 for layer fc3.weight\n",
            "Pruning with threshold : 0.01757742404937744 for layer fc3.bias\n",
            "fc1.weight           | nonzeros =   18804 /  235200 (  7.99%) | total_pruned =  216396 | shape = (300, 784)\n",
            "fc1.weight           | dim0 =     784 /     784 (100.00%) | dim1 =     220 /     300 ( 73.33%)\n",
            "fc1.bias             | nonzeros =      50 /     300 ( 16.67%) | total_pruned =     250 | shape = (300,)\n",
            "fc2.weight           | nonzeros =    4010 /   30000 ( 13.37%) | total_pruned =   25990 | shape = (100, 300)\n",
            "fc2.weight           | dim0 =     183 /     300 ( 61.00%) | dim1 =      97 /     100 ( 97.00%)\n",
            "fc2.bias             | nonzeros =       7 /     100 (  7.00%) | total_pruned =      93 | shape = (100,)\n",
            "fc3.weight           | nonzeros =     446 /    1000 ( 44.60%) | total_pruned =     554 | shape = (10, 100)\n",
            "fc3.weight           | dim0 =      90 /     100 ( 90.00%) | dim1 =      10 /      10 (100.00%)\n",
            "fc3.bias             | nonzeros =       1 /      10 ( 10.00%) | total_pruned =       9 | shape = (10,)\n",
            "alive: 23318, pruned : 243292, total: 266610, Compression rate :      11.43x  ( 91.25% pruned)\n",
            "--- Finetuning ---\n",
            "Best: 89.06% Train Epoch: 49 [50000/60000 ( 83%)]  Loss: 0.046478 Total: 0.046478: 100% 50/50 [08:10<00:00,  9.81s/it]\n",
            "Accuracy: 89.06%\n",
            "fc1.weight           | nonzeros =   18804 /  235200 (  7.99%) | total_pruned =  216396 | shape = (300, 784)\n",
            "fc1.weight           | dim0 =     784 /     784 (100.00%) | dim1 =     220 /     300 ( 73.33%)\n",
            "fc1.bias             | nonzeros =      50 /     300 ( 16.67%) | total_pruned =     250 | shape = (300,)\n",
            "fc2.weight           | nonzeros =    4010 /   30000 ( 13.37%) | total_pruned =   25990 | shape = (100, 300)\n",
            "fc2.weight           | dim0 =     183 /     300 ( 61.00%) | dim1 =      97 /     100 ( 97.00%)\n",
            "fc2.bias             | nonzeros =       7 /     100 (  7.00%) | total_pruned =      93 | shape = (100,)\n",
            "fc3.weight           | nonzeros =     446 /    1000 ( 44.60%) | total_pruned =     554 | shape = (10, 100)\n",
            "fc3.weight           | dim0 =      90 /     100 ( 90.00%) | dim1 =      10 /      10 (100.00%)\n",
            "fc3.bias             | nonzeros =       1 /      10 ( 10.00%) | total_pruned =       9 | shape = (10,)\n",
            "alive: 23318, pruned : 243292, total: 266610, Compression rate :      11.43x  ( 91.25% pruned)\n"
          ],
          "name": "stdout"
        }
      ]
    },
    {
      "cell_type": "markdown",
      "metadata": {
        "id": "DG6BgHyJuOd0"
      },
      "source": [
        "# fashion_minist struction"
      ]
    },
    {
      "cell_type": "markdown",
      "metadata": {
        "id": "cg10MkR_oRL4"
      },
      "source": [
        "Group Lasso (L1)"
      ]
    },
    {
      "cell_type": "code",
      "metadata": {
        "colab": {
          "base_uri": "https://localhost:8080/"
        },
        "id": "K9ul2HuIZ0Gj",
        "outputId": "f10bbcc6-59b0-4545-a726-9aa99d8ca73c"
      },
      "source": [
        "!python structure_fashion.py --reg 1  --pretrained"
      ],
      "execution_count": 15,
      "outputs": [
        {
          "output_type": "stream",
          "text": [
            "Using CUDA!\n",
            "/usr/local/lib/python3.7/dist-packages/torch/utils/data/dataloader.py:477: UserWarning: This DataLoader will create 5 worker processes in total. Our suggested max number of worker in current system is 2, which is smaller than what this DataLoader is going to create. Please be aware that excessive worker creation might get DataLoader running slow or even freeze, lower the worker number to avoid potential slowness/freeze if necessary.\n",
            "  cpuset_checked))\n",
            "LeNet(\n",
            "  (fc1): Linear(in_features=784, out_features=300, bias=True)\n",
            "  (fc2): Linear(in_features=300, out_features=100, bias=True)\n",
            "  (fc3): Linear(in_features=100, out_features=10, bias=True)\n",
            ")\n",
            "Param name           Shape                          Type           \n",
            "----------------------------------------------------------------------\n",
            "fc1.weight           torch.Size([300, 784])         torch.float32  \n",
            "fc1.bias             torch.Size([300])              torch.float32  \n",
            "fc2.weight           torch.Size([100, 300])         torch.float32  \n",
            "fc2.bias             torch.Size([100])              torch.float32  \n",
            "fc3.weight           torch.Size([10, 100])          torch.float32  \n",
            "fc3.bias             torch.Size([10])               torch.float32  \n",
            "Test set: Average loss: 1.3954, Accuracy: 8868/10000 (88.68%)\n",
            "--- Initial training ---\n",
            "Train Epoch: 249 [50000/60000 ( 83%)]  Loss: 0.429  Reg: 196.337: 100% 250/250 [38:28<00:00,  9.23s/it]\n",
            "Test set: Average loss: 0.3909, Accuracy: 8627/10000 (86.27%)\n"
          ],
          "name": "stdout"
        }
      ]
    },
    {
      "cell_type": "markdown",
      "metadata": {
        "id": "GO6eNGXFocTX"
      },
      "source": [
        "Group HS"
      ]
    },
    {
      "cell_type": "code",
      "metadata": {
        "colab": {
          "base_uri": "https://localhost:8080/"
        },
        "id": "ATM-hdRtaBki",
        "outputId": "2008d8cd-2bce-4da9-e4ad-8cd90c762687"
      },
      "source": [
        "!python structure_fashion.py --reg 2  --decay 0.1 --pretrained"
      ],
      "execution_count": 16,
      "outputs": [
        {
          "output_type": "stream",
          "text": [
            "Using CUDA!\n",
            "/usr/local/lib/python3.7/dist-packages/torch/utils/data/dataloader.py:477: UserWarning: This DataLoader will create 5 worker processes in total. Our suggested max number of worker in current system is 2, which is smaller than what this DataLoader is going to create. Please be aware that excessive worker creation might get DataLoader running slow or even freeze, lower the worker number to avoid potential slowness/freeze if necessary.\n",
            "  cpuset_checked))\n",
            "LeNet(\n",
            "  (fc1): Linear(in_features=784, out_features=300, bias=True)\n",
            "  (fc2): Linear(in_features=300, out_features=100, bias=True)\n",
            "  (fc3): Linear(in_features=100, out_features=10, bias=True)\n",
            ")\n",
            "Param name           Shape                          Type           \n",
            "----------------------------------------------------------------------\n",
            "fc1.weight           torch.Size([300, 784])         torch.float32  \n",
            "fc1.bias             torch.Size([300])              torch.float32  \n",
            "fc2.weight           torch.Size([100, 300])         torch.float32  \n",
            "fc2.bias             torch.Size([100])              torch.float32  \n",
            "fc3.weight           torch.Size([10, 100])          torch.float32  \n",
            "fc3.bias             torch.Size([10])               torch.float32  \n",
            "Test set: Average loss: 1.3954, Accuracy: 8868/10000 (88.68%)\n",
            "--- Initial training ---\n",
            "Train Epoch: 249 [50000/60000 ( 83%)]  Loss: 0.807  Reg: 10.383: 100% 250/250 [40:33<00:00,  9.74s/it]\n",
            "Test set: Average loss: 0.5846, Accuracy: 7966/10000 (79.66%)\n"
          ],
          "name": "stdout"
        }
      ]
    },
    {
      "cell_type": "code",
      "metadata": {
        "colab": {
          "base_uri": "https://localhost:8080/"
        },
        "id": "TfSCRUiraG7M",
        "outputId": "ff70ee7f-6f50-4b7c-bfc3-1a03e5e09992"
      },
      "source": [
        "!python structure_fashion.py --reg 2  --decay 0.01 --pretrained"
      ],
      "execution_count": 17,
      "outputs": [
        {
          "output_type": "stream",
          "text": [
            "Using CUDA!\n",
            "/usr/local/lib/python3.7/dist-packages/torch/utils/data/dataloader.py:477: UserWarning: This DataLoader will create 5 worker processes in total. Our suggested max number of worker in current system is 2, which is smaller than what this DataLoader is going to create. Please be aware that excessive worker creation might get DataLoader running slow or even freeze, lower the worker number to avoid potential slowness/freeze if necessary.\n",
            "  cpuset_checked))\n",
            "LeNet(\n",
            "  (fc1): Linear(in_features=784, out_features=300, bias=True)\n",
            "  (fc2): Linear(in_features=300, out_features=100, bias=True)\n",
            "  (fc3): Linear(in_features=100, out_features=10, bias=True)\n",
            ")\n",
            "Param name           Shape                          Type           \n",
            "----------------------------------------------------------------------\n",
            "fc1.weight           torch.Size([300, 784])         torch.float32  \n",
            "fc1.bias             torch.Size([300])              torch.float32  \n",
            "fc2.weight           torch.Size([100, 300])         torch.float32  \n",
            "fc2.bias             torch.Size([100])              torch.float32  \n",
            "fc3.weight           torch.Size([10, 100])          torch.float32  \n",
            "fc3.bias             torch.Size([10])               torch.float32  \n",
            "Test set: Average loss: 1.3954, Accuracy: 8868/10000 (88.68%)\n",
            "--- Initial training ---\n",
            "Train Epoch: 249 [50000/60000 ( 83%)]  Loss: 0.572  Reg: 23.189: 100% 250/250 [40:22<00:00,  9.69s/it]\n",
            "Test set: Average loss: 0.4084, Accuracy: 8536/10000 (85.36%)\n"
          ],
          "name": "stdout"
        }
      ]
    },
    {
      "cell_type": "code",
      "metadata": {
        "colab": {
          "base_uri": "https://localhost:8080/"
        },
        "id": "suCV9Q18a8Ym",
        "outputId": "58f39f66-d518-42ed-bdb3-b8c3c77cd46d"
      },
      "source": [
        "!python structure_fashion.py --reg 2  --decay 0.0001 --pretrained"
      ],
      "execution_count": 20,
      "outputs": [
        {
          "output_type": "stream",
          "text": [
            "Using CUDA!\n",
            "/usr/local/lib/python3.7/dist-packages/torch/utils/data/dataloader.py:477: UserWarning: This DataLoader will create 5 worker processes in total. Our suggested max number of worker in current system is 2, which is smaller than what this DataLoader is going to create. Please be aware that excessive worker creation might get DataLoader running slow or even freeze, lower the worker number to avoid potential slowness/freeze if necessary.\n",
            "  cpuset_checked))\n",
            "LeNet(\n",
            "  (fc1): Linear(in_features=784, out_features=300, bias=True)\n",
            "  (fc2): Linear(in_features=300, out_features=100, bias=True)\n",
            "  (fc3): Linear(in_features=100, out_features=10, bias=True)\n",
            ")\n",
            "Param name           Shape                          Type           \n",
            "----------------------------------------------------------------------\n",
            "fc1.weight           torch.Size([300, 784])         torch.float32  \n",
            "fc1.bias             torch.Size([300])              torch.float32  \n",
            "fc2.weight           torch.Size([100, 300])         torch.float32  \n",
            "fc2.bias             torch.Size([100])              torch.float32  \n",
            "fc3.weight           torch.Size([10, 100])          torch.float32  \n",
            "fc3.bias             torch.Size([10])               torch.float32  \n",
            "Test set: Average loss: 1.3954, Accuracy: 8868/10000 (88.68%)\n",
            "--- Initial training ---\n",
            "Train Epoch: 249 [50000/60000 ( 83%)]  Loss: 0.136  Reg: 974.681: 100% 250/250 [40:19<00:00,  9.68s/it]\n",
            "Test set: Average loss: 0.4951, Accuracy: 8847/10000 (88.47%)\n"
          ],
          "name": "stdout"
        }
      ]
    },
    {
      "cell_type": "code",
      "metadata": {
        "colab": {
          "base_uri": "https://localhost:8080/"
        },
        "id": "Yh1_9-sHaK0D",
        "outputId": "0b859e5e-0880-4141-fe65-9c0915dabdb1"
      },
      "source": [
        "!python structure_fashion.py --reg 2  --decay 0.001 --pretrained"
      ],
      "execution_count": 18,
      "outputs": [
        {
          "output_type": "stream",
          "text": [
            "Using CUDA!\n",
            "/usr/local/lib/python3.7/dist-packages/torch/utils/data/dataloader.py:477: UserWarning: This DataLoader will create 5 worker processes in total. Our suggested max number of worker in current system is 2, which is smaller than what this DataLoader is going to create. Please be aware that excessive worker creation might get DataLoader running slow or even freeze, lower the worker number to avoid potential slowness/freeze if necessary.\n",
            "  cpuset_checked))\n",
            "LeNet(\n",
            "  (fc1): Linear(in_features=784, out_features=300, bias=True)\n",
            "  (fc2): Linear(in_features=300, out_features=100, bias=True)\n",
            "  (fc3): Linear(in_features=100, out_features=10, bias=True)\n",
            ")\n",
            "Param name           Shape                          Type           \n",
            "----------------------------------------------------------------------\n",
            "fc1.weight           torch.Size([300, 784])         torch.float32  \n",
            "fc1.bias             torch.Size([300])              torch.float32  \n",
            "fc2.weight           torch.Size([100, 300])         torch.float32  \n",
            "fc2.bias             torch.Size([100])              torch.float32  \n",
            "fc3.weight           torch.Size([10, 100])          torch.float32  \n",
            "fc3.bias             torch.Size([10])               torch.float32  \n",
            "Test set: Average loss: 1.3954, Accuracy: 8868/10000 (88.68%)\n",
            "--- Initial training ---\n",
            "Train Epoch: 249 [50000/60000 ( 83%)]  Loss: 0.330  Reg: 110.404: 100% 250/250 [40:15<00:00,  9.66s/it]\n",
            "Test set: Average loss: 0.3335, Accuracy: 8799/10000 (87.99%)\n"
          ],
          "name": "stdout"
        }
      ]
    },
    {
      "cell_type": "markdown",
      "metadata": {
        "id": "hQdkzSN-uYY9"
      },
      "source": [
        "##pruning"
      ]
    },
    {
      "cell_type": "markdown",
      "metadata": {
        "id": "Tr8pt5WUom5B"
      },
      "source": [
        "Group Lasso (L1) pruning"
      ]
    },
    {
      "cell_type": "code",
      "metadata": {
        "colab": {
          "base_uri": "https://localhost:8080/"
        },
        "id": "zqjCi0QJae4u",
        "outputId": "40d0f2ee-8155-4484-93ef-ef7a8036ca08"
      },
      "source": [
        "!python prun_tune_V_fashion.py --model saves_fashion/str_0.001_1 "
      ],
      "execution_count": 22,
      "outputs": [
        {
          "output_type": "stream",
          "text": [
            "Using CUDA!\n",
            "/usr/local/lib/python3.7/dist-packages/torch/utils/data/dataloader.py:477: UserWarning: This DataLoader will create 5 worker processes in total. Our suggested max number of worker in current system is 2, which is smaller than what this DataLoader is going to create. Please be aware that excessive worker creation might get DataLoader running slow or even freeze, lower the worker number to avoid potential slowness/freeze if necessary.\n",
            "  cpuset_checked))\n",
            "--- Pruning ---\n",
            "Pruning with threshold : 0.0021355219651013613 for layer fc1.weight\n",
            "Pruning with threshold : 0.038521744310855865 for layer fc1.bias\n",
            "Pruning with threshold : 0.008833527565002441 for layer fc2.weight\n",
            "Pruning with threshold : 0.06766540557146072 for layer fc2.bias\n",
            "Pruning with threshold : 0.051802076399326324 for layer fc3.weight\n",
            "Pruning with threshold : 0.10545499622821808 for layer fc3.bias\n",
            "fc1.weight           | nonzeros =   16257 /  235200 (  6.91%) | total_pruned =  218943 | shape = (300, 784)\n",
            "fc1.weight           | dim0 =     759 /     784 ( 96.81%) | dim1 =      31 /     300 ( 10.33%)\n",
            "fc1.bias             | nonzeros =      97 /     300 ( 32.33%) | total_pruned =     203 | shape = (300,)\n",
            "fc2.weight           | nonzeros =     260 /   30000 (  0.87%) | total_pruned =   29740 | shape = (100, 300)\n",
            "fc2.weight           | dim0 =      34 /     300 ( 11.33%) | dim1 =      10 /     100 ( 10.00%)\n",
            "fc2.bias             | nonzeros =       9 /     100 (  9.00%) | total_pruned =      91 | shape = (100,)\n",
            "fc3.weight           | nonzeros =      91 /    1000 (  9.10%) | total_pruned =     909 | shape = (10, 100)\n",
            "fc3.weight           | dim0 =      10 /     100 ( 10.00%) | dim1 =      10 /      10 (100.00%)\n",
            "fc3.bias             | nonzeros =       9 /      10 ( 90.00%) | total_pruned =       1 | shape = (10,)\n",
            "alive: 16723, pruned : 249887, total: 266610, Compression rate :      15.94x  ( 93.73% pruned)\n",
            "--- Finetuning ---\n",
            "Best: 87.47% Train Epoch: 49 [50000/60000 ( 83%)]  Loss: 0.160055 Total: 0.160055: 100% 50/50 [08:07<00:00,  9.74s/it]\n",
            "Accuracy: 87.47%\n",
            "fc1.weight           | nonzeros =   16257 /  235200 (  6.91%) | total_pruned =  218943 | shape = (300, 784)\n",
            "fc1.weight           | dim0 =     759 /     784 ( 96.81%) | dim1 =      31 /     300 ( 10.33%)\n",
            "fc1.bias             | nonzeros =      97 /     300 ( 32.33%) | total_pruned =     203 | shape = (300,)\n",
            "fc2.weight           | nonzeros =     260 /   30000 (  0.87%) | total_pruned =   29740 | shape = (100, 300)\n",
            "fc2.weight           | dim0 =      34 /     300 ( 11.33%) | dim1 =      10 /     100 ( 10.00%)\n",
            "fc2.bias             | nonzeros =       9 /     100 (  9.00%) | total_pruned =      91 | shape = (100,)\n",
            "fc3.weight           | nonzeros =      91 /    1000 (  9.10%) | total_pruned =     909 | shape = (10, 100)\n",
            "fc3.weight           | dim0 =      10 /     100 ( 10.00%) | dim1 =      10 /      10 (100.00%)\n",
            "fc3.bias             | nonzeros =       9 /      10 ( 90.00%) | total_pruned =       1 | shape = (10,)\n",
            "alive: 16723, pruned : 249887, total: 266610, Compression rate :      15.94x  ( 93.73% pruned)\n"
          ],
          "name": "stdout"
        }
      ]
    },
    {
      "cell_type": "code",
      "metadata": {
        "colab": {
          "base_uri": "https://localhost:8080/"
        },
        "id": "icZpiubvw1jl",
        "outputId": "cbf19262-1009-4e17-b086-a7d2f024ea48"
      },
      "source": [
        "!python prun_tune_V_fashion.py --model saves_fashion/str_0.001_1 --sensitivity 0.02"
      ],
      "execution_count": 6,
      "outputs": [
        {
          "output_type": "stream",
          "text": [
            "Using CUDA!\n",
            "/usr/local/lib/python3.7/dist-packages/torch/utils/data/dataloader.py:477: UserWarning: This DataLoader will create 5 worker processes in total. Our suggested max number of worker in current system is 2, which is smaller than what this DataLoader is going to create. Please be aware that excessive worker creation might get DataLoader running slow or even freeze, lower the worker number to avoid potential slowness/freeze if necessary.\n",
            "  cpuset_checked))\n",
            "--- Pruning ---\n",
            "Pruning with threshold : 0.0001708417572081089 for layer fc1.weight\n",
            "Pruning with threshold : 0.0030817395448684694 for layer fc1.bias\n",
            "Pruning with threshold : 0.0007066822052001953 for layer fc2.weight\n",
            "Pruning with threshold : 0.005413232445716858 for layer fc2.bias\n",
            "Pruning with threshold : 0.004144166111946106 for layer fc3.weight\n",
            "Pruning with threshold : 0.008436399698257447 for layer fc3.bias\n",
            "fc1.weight           | nonzeros =   24623 /  235200 ( 10.47%) | total_pruned =  210577 | shape = (300, 784)\n",
            "fc1.weight           | dim0 =     783 /     784 ( 99.87%) | dim1 =     294 /     300 ( 98.00%)\n",
            "fc1.bias             | nonzeros =     231 /     300 ( 77.00%) | total_pruned =      69 | shape = (300,)\n",
            "fc2.weight           | nonzeros =     359 /   30000 (  1.20%) | total_pruned =   29641 | shape = (100, 300)\n",
            "fc2.weight           | dim0 =      42 /     300 ( 14.00%) | dim1 =      10 /     100 ( 10.00%)\n",
            "fc2.bias             | nonzeros =      21 /     100 ( 21.00%) | total_pruned =      79 | shape = (100,)\n",
            "fc3.weight           | nonzeros =      99 /    1000 (  9.90%) | total_pruned =     901 | shape = (10, 100)\n",
            "fc3.weight           | dim0 =      10 /     100 ( 10.00%) | dim1 =      10 /      10 (100.00%)\n",
            "fc3.bias             | nonzeros =       9 /      10 ( 90.00%) | total_pruned =       1 | shape = (10,)\n",
            "alive: 25342, pruned : 241268, total: 266610, Compression rate :      10.52x  ( 90.49% pruned)\n",
            "--- Finetuning ---\n",
            "Best: 87.60% Train Epoch: 49 [50000/60000 ( 83%)]  Loss: 0.159894 Total: 0.159894: 100% 50/50 [06:23<00:00,  7.67s/it]\n",
            "Accuracy: 87.60%\n",
            "fc1.weight           | nonzeros =   24623 /  235200 ( 10.47%) | total_pruned =  210577 | shape = (300, 784)\n",
            "fc1.weight           | dim0 =     783 /     784 ( 99.87%) | dim1 =     294 /     300 ( 98.00%)\n",
            "fc1.bias             | nonzeros =     231 /     300 ( 77.00%) | total_pruned =      69 | shape = (300,)\n",
            "fc2.weight           | nonzeros =     359 /   30000 (  1.20%) | total_pruned =   29641 | shape = (100, 300)\n",
            "fc2.weight           | dim0 =      42 /     300 ( 14.00%) | dim1 =      10 /     100 ( 10.00%)\n",
            "fc2.bias             | nonzeros =      21 /     100 ( 21.00%) | total_pruned =      79 | shape = (100,)\n",
            "fc3.weight           | nonzeros =      99 /    1000 (  9.90%) | total_pruned =     901 | shape = (10, 100)\n",
            "fc3.weight           | dim0 =      10 /     100 ( 10.00%) | dim1 =      10 /      10 (100.00%)\n",
            "fc3.bias             | nonzeros =       9 /      10 ( 90.00%) | total_pruned =       1 | shape = (10,)\n",
            "alive: 25342, pruned : 241268, total: 266610, Compression rate :      10.52x  ( 90.49% pruned)\n"
          ],
          "name": "stdout"
        }
      ]
    },
    {
      "cell_type": "markdown",
      "metadata": {
        "id": "nxE7SKkyosJd"
      },
      "source": [
        "Group HS pruning"
      ]
    },
    {
      "cell_type": "code",
      "metadata": {
        "colab": {
          "base_uri": "https://localhost:8080/"
        },
        "id": "WQAYKZgfakHO",
        "outputId": "7751df34-672f-414a-b72f-cf78fe7ae7db"
      },
      "source": [
        "!python prun_tune_V_fashion.py --model saves_fashion/str_0.01_2 --sensitivity 0.02"
      ],
      "execution_count": 19,
      "outputs": [
        {
          "output_type": "stream",
          "text": [
            "Using CUDA!\n",
            "/usr/local/lib/python3.7/dist-packages/torch/utils/data/dataloader.py:477: UserWarning: This DataLoader will create 5 worker processes in total. Our suggested max number of worker in current system is 2, which is smaller than what this DataLoader is going to create. Please be aware that excessive worker creation might get DataLoader running slow or even freeze, lower the worker number to avoid potential slowness/freeze if necessary.\n",
            "  cpuset_checked))\n",
            "--- Pruning ---\n",
            "Pruning with threshold : 0.0014186325669288636 for layer fc1.weight\n",
            "Pruning with threshold : 0.0033380141854286193 for layer fc1.bias\n",
            "Pruning with threshold : 0.002725796401500702 for layer fc2.weight\n",
            "Pruning with threshold : 0.005922582745552063 for layer fc2.bias\n",
            "Pruning with threshold : 0.014581298828125 for layer fc3.weight\n",
            "Pruning with threshold : 0.011452662944793702 for layer fc3.bias\n",
            "fc1.weight           | nonzeros =   12338 /  235200 (  5.25%) | total_pruned =  222862 | shape = (300, 784)\n",
            "fc1.weight           | dim0 =     755 /     784 ( 96.30%) | dim1 =      25 /     300 (  8.33%)\n",
            "fc1.bias             | nonzeros =     226 /     300 ( 75.33%) | total_pruned =      74 | shape = (300,)\n",
            "fc2.weight           | nonzeros =     214 /   30000 (  0.71%) | total_pruned =   29786 | shape = (100, 300)\n",
            "fc2.weight           | dim0 =      26 /     300 (  8.67%) | dim1 =      10 /     100 ( 10.00%)\n",
            "fc2.bias             | nonzeros =      20 /     100 ( 20.00%) | total_pruned =      80 | shape = (100,)\n",
            "fc3.weight           | nonzeros =      89 /    1000 (  8.90%) | total_pruned =     911 | shape = (10, 100)\n",
            "fc3.weight           | dim0 =      11 /     100 ( 11.00%) | dim1 =      10 /      10 (100.00%)\n",
            "fc3.bias             | nonzeros =      10 /      10 (100.00%) | total_pruned =       0 | shape = (10,)\n",
            "alive: 12897, pruned : 253713, total: 266610, Compression rate :      20.67x  ( 95.16% pruned)\n",
            "--- Finetuning ---\n",
            "Best: 87.26% Train Epoch: 49 [50000/60000 ( 83%)]  Loss: 0.239043 Total: 0.239043: 100% 50/50 [08:12<00:00,  9.84s/it]\n",
            "Accuracy: 87.26%\n",
            "fc1.weight           | nonzeros =   12338 /  235200 (  5.25%) | total_pruned =  222862 | shape = (300, 784)\n",
            "fc1.weight           | dim0 =     755 /     784 ( 96.30%) | dim1 =      25 /     300 (  8.33%)\n",
            "fc1.bias             | nonzeros =     226 /     300 ( 75.33%) | total_pruned =      74 | shape = (300,)\n",
            "fc2.weight           | nonzeros =     214 /   30000 (  0.71%) | total_pruned =   29786 | shape = (100, 300)\n",
            "fc2.weight           | dim0 =      26 /     300 (  8.67%) | dim1 =      10 /     100 ( 10.00%)\n",
            "fc2.bias             | nonzeros =      20 /     100 ( 20.00%) | total_pruned =      80 | shape = (100,)\n",
            "fc3.weight           | nonzeros =      89 /    1000 (  8.90%) | total_pruned =     911 | shape = (10, 100)\n",
            "fc3.weight           | dim0 =      11 /     100 ( 11.00%) | dim1 =      10 /      10 (100.00%)\n",
            "fc3.bias             | nonzeros =      10 /      10 (100.00%) | total_pruned =       0 | shape = (10,)\n",
            "alive: 12897, pruned : 253713, total: 266610, Compression rate :      20.67x  ( 95.16% pruned)\n"
          ],
          "name": "stdout"
        }
      ]
    },
    {
      "cell_type": "code",
      "metadata": {
        "colab": {
          "base_uri": "https://localhost:8080/"
        },
        "id": "_8UzFfhNa4v-",
        "outputId": "755057b5-d73c-4292-e8ff-d49eccb4d89d"
      },
      "source": [
        "!python prun_tune_V_fashion.py --model saves_fashion/str_0.0001_2 --sensitivity 0.8"
      ],
      "execution_count": 21,
      "outputs": [
        {
          "output_type": "stream",
          "text": [
            "Using CUDA!\n",
            "/usr/local/lib/python3.7/dist-packages/torch/utils/data/dataloader.py:477: UserWarning: This DataLoader will create 5 worker processes in total. Our suggested max number of worker in current system is 2, which is smaller than what this DataLoader is going to create. Please be aware that excessive worker creation might get DataLoader running slow or even freeze, lower the worker number to avoid potential slowness/freeze if necessary.\n",
            "  cpuset_checked))\n",
            "--- Pruning ---\n",
            "Pruning with threshold : 0.05783651471138001 for layer fc1.weight\n",
            "Pruning with threshold : 0.17750715017318727 for layer fc1.bias\n",
            "Pruning with threshold : 0.08844892978668213 for layer fc2.weight\n",
            "Pruning with threshold : 0.15150198936462403 for layer fc2.bias\n",
            "Pruning with threshold : 0.34199435710906984 for layer fc3.weight\n",
            "Pruning with threshold : 0.18934168815612795 for layer fc3.bias\n",
            "fc1.weight           | nonzeros =   39002 /  235200 ( 16.58%) | total_pruned =  196198 | shape = (300, 784)\n",
            "fc1.weight           | dim0 =     689 /     784 ( 87.88%) | dim1 =     116 /     300 ( 38.67%)\n",
            "fc1.bias             | nonzeros =      73 /     300 ( 24.33%) | total_pruned =     227 | shape = (300,)\n",
            "fc2.weight           | nonzeros =    5805 /   30000 ( 19.35%) | total_pruned =   24195 | shape = (100, 300)\n",
            "fc2.weight           | dim0 =     111 /     300 ( 37.00%) | dim1 =      88 /     100 ( 88.00%)\n",
            "fc2.bias             | nonzeros =      48 /     100 ( 48.00%) | total_pruned =      52 | shape = (100,)\n",
            "fc3.weight           | nonzeros =     367 /    1000 ( 36.70%) | total_pruned =     633 | shape = (10, 100)\n",
            "fc3.weight           | dim0 =      87 /     100 ( 87.00%) | dim1 =      10 /      10 (100.00%)\n",
            "fc3.bias             | nonzeros =       5 /      10 ( 50.00%) | total_pruned =       5 | shape = (10,)\n",
            "alive: 45300, pruned : 221310, total: 266610, Compression rate :       5.89x  ( 83.01% pruned)\n",
            "--- Finetuning ---\n",
            "Best: 89.39% Train Epoch: 49 [50000/60000 ( 83%)]  Loss: 0.050750 Total: 0.050750: 100% 50/50 [08:08<00:00,  9.76s/it]\n",
            "Accuracy: 89.39%\n",
            "fc1.weight           | nonzeros =   39002 /  235200 ( 16.58%) | total_pruned =  196198 | shape = (300, 784)\n",
            "fc1.weight           | dim0 =     689 /     784 ( 87.88%) | dim1 =     116 /     300 ( 38.67%)\n",
            "fc1.bias             | nonzeros =      73 /     300 ( 24.33%) | total_pruned =     227 | shape = (300,)\n",
            "fc2.weight           | nonzeros =    5805 /   30000 ( 19.35%) | total_pruned =   24195 | shape = (100, 300)\n",
            "fc2.weight           | dim0 =     111 /     300 ( 37.00%) | dim1 =      88 /     100 ( 88.00%)\n",
            "fc2.bias             | nonzeros =      48 /     100 ( 48.00%) | total_pruned =      52 | shape = (100,)\n",
            "fc3.weight           | nonzeros =     367 /    1000 ( 36.70%) | total_pruned =     633 | shape = (10, 100)\n",
            "fc3.weight           | dim0 =      87 /     100 ( 87.00%) | dim1 =      10 /      10 (100.00%)\n",
            "fc3.bias             | nonzeros =       5 /      10 ( 50.00%) | total_pruned =       5 | shape = (10,)\n",
            "alive: 45300, pruned : 221310, total: 266610, Compression rate :       5.89x  ( 83.01% pruned)\n"
          ],
          "name": "stdout"
        }
      ]
    },
    {
      "cell_type": "code",
      "metadata": {
        "colab": {
          "base_uri": "https://localhost:8080/"
        },
        "id": "UQDM5luSW1hS",
        "outputId": "cd86aee1-c827-43ff-e60c-d37d79d578f7"
      },
      "source": [
        "!python prun_tune_V_fashion.py --model saves_fashion/str_0.0001_2 --sensitivity 0.9"
      ],
      "execution_count": 23,
      "outputs": [
        {
          "output_type": "stream",
          "text": [
            "Using CUDA!\n",
            "/usr/local/lib/python3.7/dist-packages/torch/utils/data/dataloader.py:477: UserWarning: This DataLoader will create 5 worker processes in total. Our suggested max number of worker in current system is 2, which is smaller than what this DataLoader is going to create. Please be aware that excessive worker creation might get DataLoader running slow or even freeze, lower the worker number to avoid potential slowness/freeze if necessary.\n",
            "  cpuset_checked))\n",
            "--- Pruning ---\n",
            "Pruning with threshold : 0.06506607905030251 for layer fc1.weight\n",
            "Pruning with threshold : 0.19969554394483566 for layer fc1.bias\n",
            "Pruning with threshold : 0.0995050460100174 for layer fc2.weight\n",
            "Pruning with threshold : 0.17043973803520204 for layer fc2.bias\n",
            "Pruning with threshold : 0.3847436517477036 for layer fc3.weight\n",
            "Pruning with threshold : 0.21300939917564393 for layer fc3.bias\n",
            "fc1.weight           | nonzeros =   35940 /  235200 ( 15.28%) | total_pruned =  199260 | shape = (300, 784)\n",
            "fc1.weight           | dim0 =     683 /     784 ( 87.12%) | dim1 =     112 /     300 ( 37.33%)\n",
            "fc1.bias             | nonzeros =      69 /     300 ( 23.00%) | total_pruned =     231 | shape = (300,)\n",
            "fc2.weight           | nonzeros =    5428 /   30000 ( 18.09%) | total_pruned =   24572 | shape = (100, 300)\n",
            "fc2.weight           | dim0 =     110 /     300 ( 36.67%) | dim1 =      88 /     100 ( 88.00%)\n",
            "fc2.bias             | nonzeros =      42 /     100 ( 42.00%) | total_pruned =      58 | shape = (100,)\n",
            "fc3.weight           | nonzeros =     325 /    1000 ( 32.50%) | total_pruned =     675 | shape = (10, 100)\n",
            "fc3.weight           | dim0 =      86 /     100 ( 86.00%) | dim1 =      10 /      10 (100.00%)\n",
            "fc3.bias             | nonzeros =       4 /      10 ( 40.00%) | total_pruned =       6 | shape = (10,)\n",
            "alive: 41808, pruned : 224802, total: 266610, Compression rate :       6.38x  ( 84.32% pruned)\n",
            "--- Finetuning ---\n",
            "Best: 89.37% Train Epoch: 49 [50000/60000 ( 83%)]  Loss: 0.065409 Total: 0.065409: 100% 50/50 [08:15<00:00,  9.90s/it]\n",
            "Accuracy: 89.37%\n",
            "fc1.weight           | nonzeros =   35940 /  235200 ( 15.28%) | total_pruned =  199260 | shape = (300, 784)\n",
            "fc1.weight           | dim0 =     683 /     784 ( 87.12%) | dim1 =     112 /     300 ( 37.33%)\n",
            "fc1.bias             | nonzeros =      69 /     300 ( 23.00%) | total_pruned =     231 | shape = (300,)\n",
            "fc2.weight           | nonzeros =    5428 /   30000 ( 18.09%) | total_pruned =   24572 | shape = (100, 300)\n",
            "fc2.weight           | dim0 =     110 /     300 ( 36.67%) | dim1 =      88 /     100 ( 88.00%)\n",
            "fc2.bias             | nonzeros =      42 /     100 ( 42.00%) | total_pruned =      58 | shape = (100,)\n",
            "fc3.weight           | nonzeros =     325 /    1000 ( 32.50%) | total_pruned =     675 | shape = (10, 100)\n",
            "fc3.weight           | dim0 =      86 /     100 ( 86.00%) | dim1 =      10 /      10 (100.00%)\n",
            "fc3.bias             | nonzeros =       4 /      10 ( 40.00%) | total_pruned =       6 | shape = (10,)\n",
            "alive: 41808, pruned : 224802, total: 266610, Compression rate :       6.38x  ( 84.32% pruned)\n"
          ],
          "name": "stdout"
        }
      ]
    },
    {
      "cell_type": "code",
      "metadata": {
        "colab": {
          "base_uri": "https://localhost:8080/"
        },
        "id": "z7FkSUarXcak",
        "outputId": "15d25b66-6c28-4da3-f6af-eca892f5d8cb"
      },
      "source": [
        "!python prun_tune_V_fashion.py --model saves_fashion/str_0.0001_2 --sensitivity 1"
      ],
      "execution_count": 24,
      "outputs": [
        {
          "output_type": "stream",
          "text": [
            "Using CUDA!\n",
            "/usr/local/lib/python3.7/dist-packages/torch/utils/data/dataloader.py:477: UserWarning: This DataLoader will create 5 worker processes in total. Our suggested max number of worker in current system is 2, which is smaller than what this DataLoader is going to create. Please be aware that excessive worker creation might get DataLoader running slow or even freeze, lower the worker number to avoid potential slowness/freeze if necessary.\n",
            "  cpuset_checked))\n",
            "--- Pruning ---\n",
            "Pruning with threshold : 0.072295643389225 for layer fc1.weight\n",
            "Pruning with threshold : 0.22188393771648407 for layer fc1.bias\n",
            "Pruning with threshold : 0.11056116223335266 for layer fc2.weight\n",
            "Pruning with threshold : 0.18937748670578003 for layer fc2.bias\n",
            "Pruning with threshold : 0.4274929463863373 for layer fc3.weight\n",
            "Pruning with threshold : 0.2366771101951599 for layer fc3.bias\n",
            "fc1.weight           | nonzeros =   33150 /  235200 ( 14.09%) | total_pruned =  202050 | shape = (300, 784)\n",
            "fc1.weight           | dim0 =     680 /     784 ( 86.73%) | dim1 =     110 /     300 ( 36.67%)\n",
            "fc1.bias             | nonzeros =      64 /     300 ( 21.33%) | total_pruned =     236 | shape = (300,)\n",
            "fc2.weight           | nonzeros =    5064 /   30000 ( 16.88%) | total_pruned =   24936 | shape = (100, 300)\n",
            "fc2.weight           | dim0 =     110 /     300 ( 36.67%) | dim1 =      88 /     100 ( 88.00%)\n",
            "fc2.bias             | nonzeros =      38 /     100 ( 38.00%) | total_pruned =      62 | shape = (100,)\n",
            "fc3.weight           | nonzeros =     287 /    1000 ( 28.70%) | total_pruned =     713 | shape = (10, 100)\n",
            "fc3.weight           | dim0 =      84 /     100 ( 84.00%) | dim1 =      10 /      10 (100.00%)\n",
            "fc3.bias             | nonzeros =       4 /      10 ( 40.00%) | total_pruned =       6 | shape = (10,)\n",
            "alive: 38607, pruned : 228003, total: 266610, Compression rate :       6.91x  ( 85.52% pruned)\n",
            "--- Finetuning ---\n",
            "Best: 89.37% Train Epoch: 49 [50000/60000 ( 83%)]  Loss: 0.055544 Total: 0.055544: 100% 50/50 [08:11<00:00,  9.83s/it]\n",
            "Accuracy: 89.37%\n",
            "fc1.weight           | nonzeros =   33150 /  235200 ( 14.09%) | total_pruned =  202050 | shape = (300, 784)\n",
            "fc1.weight           | dim0 =     680 /     784 ( 86.73%) | dim1 =     110 /     300 ( 36.67%)\n",
            "fc1.bias             | nonzeros =      64 /     300 ( 21.33%) | total_pruned =     236 | shape = (300,)\n",
            "fc2.weight           | nonzeros =    5064 /   30000 ( 16.88%) | total_pruned =   24936 | shape = (100, 300)\n",
            "fc2.weight           | dim0 =     110 /     300 ( 36.67%) | dim1 =      88 /     100 ( 88.00%)\n",
            "fc2.bias             | nonzeros =      38 /     100 ( 38.00%) | total_pruned =      62 | shape = (100,)\n",
            "fc3.weight           | nonzeros =     287 /    1000 ( 28.70%) | total_pruned =     713 | shape = (10, 100)\n",
            "fc3.weight           | dim0 =      84 /     100 ( 84.00%) | dim1 =      10 /      10 (100.00%)\n",
            "fc3.bias             | nonzeros =       4 /      10 ( 40.00%) | total_pruned =       6 | shape = (10,)\n",
            "alive: 38607, pruned : 228003, total: 266610, Compression rate :       6.91x  ( 85.52% pruned)\n"
          ],
          "name": "stdout"
        }
      ]
    },
    {
      "cell_type": "code",
      "metadata": {
        "colab": {
          "base_uri": "https://localhost:8080/"
        },
        "id": "xiRxdFAwcBl6",
        "outputId": "956e1aa9-34c5-43a0-f210-4d5c7f65e314"
      },
      "source": [
        "!python prun_tune_V_fashion.py --model saves_fashion/str_0.0001_2 --sensitivity 1.5"
      ],
      "execution_count": 25,
      "outputs": [
        {
          "output_type": "stream",
          "text": [
            "Using CUDA!\n",
            "/usr/local/lib/python3.7/dist-packages/torch/utils/data/dataloader.py:477: UserWarning: This DataLoader will create 5 worker processes in total. Our suggested max number of worker in current system is 2, which is smaller than what this DataLoader is going to create. Please be aware that excessive worker creation might get DataLoader running slow or even freeze, lower the worker number to avoid potential slowness/freeze if necessary.\n",
            "  cpuset_checked))\n",
            "--- Pruning ---\n",
            "Pruning with threshold : 0.10844346508383751 for layer fc1.weight\n",
            "Pruning with threshold : 0.3328259065747261 for layer fc1.bias\n",
            "Pruning with threshold : 0.165841743350029 for layer fc2.weight\n",
            "Pruning with threshold : 0.28406623005867004 for layer fc2.bias\n",
            "Pruning with threshold : 0.6412394195795059 for layer fc3.weight\n",
            "Pruning with threshold : 0.35501566529273987 for layer fc3.bias\n",
            "fc1.weight           | nonzeros =   22015 /  235200 (  9.36%) | total_pruned =  213185 | shape = (300, 784)\n",
            "fc1.weight           | dim0 =     656 /     784 ( 83.67%) | dim1 =     109 /     300 ( 36.33%)\n",
            "fc1.bias             | nonzeros =      37 /     300 ( 12.33%) | total_pruned =     263 | shape = (300,)\n",
            "fc2.weight           | nonzeros =    3410 /   30000 ( 11.37%) | total_pruned =   26590 | shape = (100, 300)\n",
            "fc2.weight           | dim0 =     109 /     300 ( 36.33%) | dim1 =      88 /     100 ( 88.00%)\n",
            "fc2.bias             | nonzeros =      20 /     100 ( 20.00%) | total_pruned =      80 | shape = (100,)\n",
            "fc3.weight           | nonzeros =     134 /    1000 ( 13.40%) | total_pruned =     866 | shape = (10, 100)\n",
            "fc3.weight           | dim0 =      71 /     100 ( 71.00%) | dim1 =      10 /      10 (100.00%)\n",
            "fc3.bias             | nonzeros =       1 /      10 ( 10.00%) | total_pruned =       9 | shape = (10,)\n",
            "alive: 25617, pruned : 240993, total: 266610, Compression rate :      10.41x  ( 90.39% pruned)\n",
            "--- Finetuning ---\n",
            "Best: 89.22% Train Epoch: 49 [50000/60000 ( 83%)]  Loss: 0.036153 Total: 0.036153: 100% 50/50 [08:06<00:00,  9.74s/it]\n",
            "Accuracy: 89.22%\n",
            "fc1.weight           | nonzeros =   22015 /  235200 (  9.36%) | total_pruned =  213185 | shape = (300, 784)\n",
            "fc1.weight           | dim0 =     656 /     784 ( 83.67%) | dim1 =     109 /     300 ( 36.33%)\n",
            "fc1.bias             | nonzeros =      37 /     300 ( 12.33%) | total_pruned =     263 | shape = (300,)\n",
            "fc2.weight           | nonzeros =    3410 /   30000 ( 11.37%) | total_pruned =   26590 | shape = (100, 300)\n",
            "fc2.weight           | dim0 =     109 /     300 ( 36.33%) | dim1 =      88 /     100 ( 88.00%)\n",
            "fc2.bias             | nonzeros =      20 /     100 ( 20.00%) | total_pruned =      80 | shape = (100,)\n",
            "fc3.weight           | nonzeros =     134 /    1000 ( 13.40%) | total_pruned =     866 | shape = (10, 100)\n",
            "fc3.weight           | dim0 =      71 /     100 ( 71.00%) | dim1 =      10 /      10 (100.00%)\n",
            "fc3.bias             | nonzeros =       1 /      10 ( 10.00%) | total_pruned =       9 | shape = (10,)\n",
            "alive: 25617, pruned : 240993, total: 266610, Compression rate :      10.41x  ( 90.39% pruned)\n"
          ],
          "name": "stdout"
        }
      ]
    },
    {
      "cell_type": "code",
      "metadata": {
        "colab": {
          "base_uri": "https://localhost:8080/"
        },
        "id": "gCvJwprrvXkS",
        "outputId": "d2a1b605-acad-4e0b-f3bf-066671985e5b"
      },
      "source": [
        "!python prun_tune_V_fashion.py --model saves_fashion/str_0.0001_2 --sensitivity 1.6"
      ],
      "execution_count": 5,
      "outputs": [
        {
          "output_type": "stream",
          "text": [
            "Using CUDA!\n",
            "/usr/local/lib/python3.7/dist-packages/torch/utils/data/dataloader.py:477: UserWarning: This DataLoader will create 5 worker processes in total. Our suggested max number of worker in current system is 2, which is smaller than what this DataLoader is going to create. Please be aware that excessive worker creation might get DataLoader running slow or even freeze, lower the worker number to avoid potential slowness/freeze if necessary.\n",
            "  cpuset_checked))\n",
            "--- Pruning ---\n",
            "Pruning with threshold : 0.11567302942276002 for layer fc1.weight\n",
            "Pruning with threshold : 0.35501430034637455 for layer fc1.bias\n",
            "Pruning with threshold : 0.17689785957336426 for layer fc2.weight\n",
            "Pruning with threshold : 0.30300397872924806 for layer fc2.bias\n",
            "Pruning with threshold : 0.6839887142181397 for layer fc3.weight\n",
            "Pruning with threshold : 0.3786833763122559 for layer fc3.bias\n",
            "fc1.weight           | nonzeros =   20326 /  235200 (  8.64%) | total_pruned =  214874 | shape = (300, 784)\n",
            "fc1.weight           | dim0 =     648 /     784 ( 82.65%) | dim1 =     109 /     300 ( 36.33%)\n",
            "fc1.bias             | nonzeros =      34 /     300 ( 11.33%) | total_pruned =     266 | shape = (300,)\n",
            "fc2.weight           | nonzeros =    3175 /   30000 ( 10.58%) | total_pruned =   26825 | shape = (100, 300)\n",
            "fc2.weight           | dim0 =     109 /     300 ( 36.33%) | dim1 =      88 /     100 ( 88.00%)\n",
            "fc2.bias             | nonzeros =      16 /     100 ( 16.00%) | total_pruned =      84 | shape = (100,)\n",
            "fc3.weight           | nonzeros =     120 /    1000 ( 12.00%) | total_pruned =     880 | shape = (10, 100)\n",
            "fc3.weight           | dim0 =      67 /     100 ( 67.00%) | dim1 =      10 /      10 (100.00%)\n",
            "fc3.bias             | nonzeros =       1 /      10 ( 10.00%) | total_pruned =       9 | shape = (10,)\n",
            "alive: 23672, pruned : 242938, total: 266610, Compression rate :      11.26x  ( 91.12% pruned)\n",
            "--- Finetuning ---\n",
            "Best: 88.86% Train Epoch: 49 [50000/60000 ( 83%)]  Loss: 0.030419 Total: 0.030419: 100% 50/50 [06:24<00:00,  7.70s/it]\n",
            "Accuracy: 88.86%\n",
            "fc1.weight           | nonzeros =   20326 /  235200 (  8.64%) | total_pruned =  214874 | shape = (300, 784)\n",
            "fc1.weight           | dim0 =     648 /     784 ( 82.65%) | dim1 =     109 /     300 ( 36.33%)\n",
            "fc1.bias             | nonzeros =      34 /     300 ( 11.33%) | total_pruned =     266 | shape = (300,)\n",
            "fc2.weight           | nonzeros =    3175 /   30000 ( 10.58%) | total_pruned =   26825 | shape = (100, 300)\n",
            "fc2.weight           | dim0 =     109 /     300 ( 36.33%) | dim1 =      88 /     100 ( 88.00%)\n",
            "fc2.bias             | nonzeros =      16 /     100 ( 16.00%) | total_pruned =      84 | shape = (100,)\n",
            "fc3.weight           | nonzeros =     120 /    1000 ( 12.00%) | total_pruned =     880 | shape = (10, 100)\n",
            "fc3.weight           | dim0 =      67 /     100 ( 67.00%) | dim1 =      10 /      10 (100.00%)\n",
            "fc3.bias             | nonzeros =       1 /      10 ( 10.00%) | total_pruned =       9 | shape = (10,)\n",
            "alive: 23672, pruned : 242938, total: 266610, Compression rate :      11.26x  ( 91.12% pruned)\n"
          ],
          "name": "stdout"
        }
      ]
    },
    {
      "cell_type": "code",
      "metadata": {
        "colab": {
          "base_uri": "https://localhost:8080/"
        },
        "id": "qrthQEoQtxEY",
        "outputId": "77741aa6-d8fb-44d7-a359-8b8389dd8797"
      },
      "source": [
        "!python prun_tune_V_fashion.py --model saves_fashion/str_0.0001_2 --sensitivity 1.8"
      ],
      "execution_count": 4,
      "outputs": [
        {
          "output_type": "stream",
          "text": [
            "Using CUDA!\n",
            "/usr/local/lib/python3.7/dist-packages/torch/utils/data/dataloader.py:477: UserWarning: This DataLoader will create 5 worker processes in total. Our suggested max number of worker in current system is 2, which is smaller than what this DataLoader is going to create. Please be aware that excessive worker creation might get DataLoader running slow or even freeze, lower the worker number to avoid potential slowness/freeze if necessary.\n",
            "  cpuset_checked))\n",
            "--- Pruning ---\n",
            "Pruning with threshold : 0.13013215810060502 for layer fc1.weight\n",
            "Pruning with threshold : 0.3993910878896713 for layer fc1.bias\n",
            "Pruning with threshold : 0.1990100920200348 for layer fc2.weight\n",
            "Pruning with threshold : 0.3408794760704041 for layer fc2.bias\n",
            "Pruning with threshold : 0.7694873034954072 for layer fc3.weight\n",
            "Pruning with threshold : 0.42601879835128786 for layer fc3.bias\n",
            "fc1.weight           | nonzeros =   17240 /  235200 (  7.33%) | total_pruned =  217960 | shape = (300, 784)\n",
            "fc1.weight           | dim0 =     632 /     784 ( 80.61%) | dim1 =     109 /     300 ( 36.33%)\n",
            "fc1.bias             | nonzeros =      32 /     300 ( 10.67%) | total_pruned =     268 | shape = (300,)\n",
            "fc2.weight           | nonzeros =    2670 /   30000 (  8.90%) | total_pruned =   27330 | shape = (100, 300)\n",
            "fc2.weight           | dim0 =     109 /     300 ( 36.33%) | dim1 =      88 /     100 ( 88.00%)\n",
            "fc2.bias             | nonzeros =      12 /     100 ( 12.00%) | total_pruned =      88 | shape = (100,)\n",
            "fc3.weight           | nonzeros =      82 /    1000 (  8.20%) | total_pruned =     918 | shape = (10, 100)\n",
            "fc3.weight           | dim0 =      56 /     100 ( 56.00%) | dim1 =      10 /      10 (100.00%)\n",
            "fc3.bias             | nonzeros =       1 /      10 ( 10.00%) | total_pruned =       9 | shape = (10,)\n",
            "alive: 20037, pruned : 246573, total: 266610, Compression rate :      13.31x  ( 92.48% pruned)\n",
            "--- Finetuning ---\n",
            "Best: 79.47% Train Epoch: 49 [50000/60000 ( 83%)]  Loss: 0.120192 Total: 0.120192: 100% 50/50 [06:25<00:00,  7.71s/it]\n",
            "Accuracy: 79.47%\n",
            "fc1.weight           | nonzeros =   17240 /  235200 (  7.33%) | total_pruned =  217960 | shape = (300, 784)\n",
            "fc1.weight           | dim0 =     632 /     784 ( 80.61%) | dim1 =     109 /     300 ( 36.33%)\n",
            "fc1.bias             | nonzeros =      32 /     300 ( 10.67%) | total_pruned =     268 | shape = (300,)\n",
            "fc2.weight           | nonzeros =    2670 /   30000 (  8.90%) | total_pruned =   27330 | shape = (100, 300)\n",
            "fc2.weight           | dim0 =     109 /     300 ( 36.33%) | dim1 =      88 /     100 ( 88.00%)\n",
            "fc2.bias             | nonzeros =      12 /     100 ( 12.00%) | total_pruned =      88 | shape = (100,)\n",
            "fc3.weight           | nonzeros =      82 /    1000 (  8.20%) | total_pruned =     918 | shape = (10, 100)\n",
            "fc3.weight           | dim0 =      56 /     100 ( 56.00%) | dim1 =      10 /      10 (100.00%)\n",
            "fc3.bias             | nonzeros =       1 /      10 ( 10.00%) | total_pruned =       9 | shape = (10,)\n",
            "alive: 20037, pruned : 246573, total: 266610, Compression rate :      13.31x  ( 92.48% pruned)\n"
          ],
          "name": "stdout"
        }
      ]
    },
    {
      "cell_type": "code",
      "metadata": {
        "colab": {
          "base_uri": "https://localhost:8080/"
        },
        "id": "Ecpqy67ErTb2",
        "outputId": "8df4636c-39a5-4772-be42-4e6a659355c2"
      },
      "source": [
        "!python prun_tune_V_fashion.py --model saves_fashion/str_0.0001_2 --sensitivity 2"
      ],
      "execution_count": 3,
      "outputs": [
        {
          "output_type": "stream",
          "text": [
            "Using CUDA!\n",
            "/usr/local/lib/python3.7/dist-packages/torch/utils/data/dataloader.py:477: UserWarning: This DataLoader will create 5 worker processes in total. Our suggested max number of worker in current system is 2, which is smaller than what this DataLoader is going to create. Please be aware that excessive worker creation might get DataLoader running slow or even freeze, lower the worker number to avoid potential slowness/freeze if necessary.\n",
            "  cpuset_checked))\n",
            "--- Pruning ---\n",
            "Pruning with threshold : 0.14459128677845 for layer fc1.weight\n",
            "Pruning with threshold : 0.44376787543296814 for layer fc1.bias\n",
            "Pruning with threshold : 0.22112232446670532 for layer fc2.weight\n",
            "Pruning with threshold : 0.37875497341156006 for layer fc2.bias\n",
            "Pruning with threshold : 0.8549858927726746 for layer fc3.weight\n",
            "Pruning with threshold : 0.4733542203903198 for layer fc3.bias\n",
            "fc1.weight           | nonzeros =   14635 /  235200 (  6.22%) | total_pruned =  220565 | shape = (300, 784)\n",
            "fc1.weight           | dim0 =     621 /     784 ( 79.21%) | dim1 =     109 /     300 ( 36.33%)\n",
            "fc1.bias             | nonzeros =      29 /     300 (  9.67%) | total_pruned =     271 | shape = (300,)\n",
            "fc2.weight           | nonzeros =    2238 /   30000 (  7.46%) | total_pruned =   27762 | shape = (100, 300)\n",
            "fc2.weight           | dim0 =     109 /     300 ( 36.33%) | dim1 =      88 /     100 ( 88.00%)\n",
            "fc2.bias             | nonzeros =       8 /     100 (  8.00%) | total_pruned =      92 | shape = (100,)\n",
            "fc3.weight           | nonzeros =      55 /    1000 (  5.50%) | total_pruned =     945 | shape = (10, 100)\n",
            "fc3.weight           | dim0 =      44 /     100 ( 44.00%) | dim1 =      10 /      10 (100.00%)\n",
            "fc3.bias             | nonzeros =       0 /      10 (  0.00%) | total_pruned =      10 | shape = (10,)\n",
            "alive: 16965, pruned : 249645, total: 266610, Compression rate :      15.72x  ( 93.64% pruned)\n",
            "--- Finetuning ---\n",
            "Best: 60.14% Train Epoch: 49 [50000/60000 ( 83%)]  Loss: 0.408521 Total: 0.408521: 100% 50/50 [06:26<00:00,  7.73s/it]\n",
            "Accuracy: 60.14%\n",
            "fc1.weight           | nonzeros =   14635 /  235200 (  6.22%) | total_pruned =  220565 | shape = (300, 784)\n",
            "fc1.weight           | dim0 =     621 /     784 ( 79.21%) | dim1 =     109 /     300 ( 36.33%)\n",
            "fc1.bias             | nonzeros =      29 /     300 (  9.67%) | total_pruned =     271 | shape = (300,)\n",
            "fc2.weight           | nonzeros =    2238 /   30000 (  7.46%) | total_pruned =   27762 | shape = (100, 300)\n",
            "fc2.weight           | dim0 =     109 /     300 ( 36.33%) | dim1 =      88 /     100 ( 88.00%)\n",
            "fc2.bias             | nonzeros =       8 /     100 (  8.00%) | total_pruned =      92 | shape = (100,)\n",
            "fc3.weight           | nonzeros =      55 /    1000 (  5.50%) | total_pruned =     945 | shape = (10, 100)\n",
            "fc3.weight           | dim0 =      44 /     100 ( 44.00%) | dim1 =      10 /      10 (100.00%)\n",
            "fc3.bias             | nonzeros =       0 /      10 (  0.00%) | total_pruned =      10 | shape = (10,)\n",
            "alive: 16965, pruned : 249645, total: 266610, Compression rate :      15.72x  ( 93.64% pruned)\n"
          ],
          "name": "stdout"
        }
      ]
    }
  ]
}