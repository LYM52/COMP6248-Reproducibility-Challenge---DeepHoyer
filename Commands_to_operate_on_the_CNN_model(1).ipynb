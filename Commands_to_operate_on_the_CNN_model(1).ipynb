{
  "nbformat": 4,
  "nbformat_minor": 0,
  "metadata": {
    "colab": {
      "name": "Commands to operate on the CNN model(1).ipynb",
      "provenance": [],
      "collapsed_sections": [],
      "include_colab_link": true
    },
    "kernelspec": {
      "name": "python3",
      "display_name": "Python 3"
    },
    "language_info": {
      "name": "python"
    },
    "accelerator": "GPU"
  },
  "cells": [
    {
      "cell_type": "markdown",
      "metadata": {
        "id": "view-in-github",
        "colab_type": "text"
      },
      "source": [
        "<a href=\"https://colab.research.google.com/github/LYM52/COMP6248-Reproducibility-Challenge---DeepHoyer/blob/main/Commands_to_operate_on_the_CNN_model(1).ipynb\" target=\"_parent\"><img src=\"https://colab.research.google.com/assets/colab-badge.svg\" alt=\"Open In Colab\"/></a>"
      ]
    },
    {
      "cell_type": "code",
      "metadata": {
        "colab": {
          "base_uri": "https://localhost:8080/"
        },
        "id": "l33tHZxj2shN",
        "outputId": "73d36bfc-556f-4b38-cabc-a1151a54cd92"
      },
      "source": [
        "from google.colab import drive\n",
        "drive.mount('/content/drive')"
      ],
      "execution_count": null,
      "outputs": [
        {
          "output_type": "stream",
          "text": [
            "Mounted at /content/drive\n"
          ],
          "name": "stdout"
        }
      ]
    },
    {
      "cell_type": "code",
      "metadata": {
        "colab": {
          "base_uri": "https://localhost:8080/"
        },
        "id": "ls1pIJJ22wVw",
        "outputId": "08352d26-4992-48cd-af18-8a2d0000e310"
      },
      "source": [
        "import os\n",
        "path=\"/content/drive/MyDrive/DeepHoyer-master/mnist/CNN\"\n",
        "os.chdir(path)\n",
        "os.listdir(path)"
      ],
      "execution_count": null,
      "outputs": [
        {
          "output_type": "execute_result",
          "data": {
            "text/plain": [
              "['util.py',\n",
              " 'prun_tune_V.py',\n",
              " 'prun_tune_T.py',\n",
              " 'element.py',\n",
              " 'structure.py',\n",
              " 'net',\n",
              " '__pycache__',\n",
              " 'saves',\n",
              " 'data',\n",
              " 'log.txt']"
            ]
          },
          "metadata": {
            "tags": []
          },
          "execution_count": 2
        }
      ]
    },
    {
      "cell_type": "code",
      "metadata": {
        "colab": {
          "base_uri": "https://localhost:8080/"
        },
        "id": "jlUwgdyZKcfn",
        "outputId": "cd4b76ce-851f-4ac8-d8c8-43e5f2e0afa9"
      },
      "source": [
        "!python element.py --reg-type 0 # No regularizer; Element-wise Pruning"
      ],
      "execution_count": null,
      "outputs": [
        {
          "output_type": "stream",
          "text": [
            "Using CUDA!\n",
            "/usr/local/lib/python3.7/dist-packages/torch/utils/data/dataloader.py:477: UserWarning: This DataLoader will create 5 worker processes in total. Our suggested max number of worker in current system is 2, which is smaller than what this DataLoader is going to create. Please be aware that excessive worker creation might get DataLoader running slow or even freeze, lower the worker number to avoid potential slowness/freeze if necessary.\n",
            "  cpuset_checked))\n",
            "LeNet_5(\n",
            "  (conv1): Conv2d(1, 20, kernel_size=(5, 5), stride=(1, 1))\n",
            "  (conv2): Conv2d(20, 50, kernel_size=(5, 5), stride=(1, 1))\n",
            "  (fc1): Linear(in_features=800, out_features=500, bias=True)\n",
            "  (fc2): Linear(in_features=500, out_features=10, bias=True)\n",
            ")\n",
            "Param name           Shape                          Type           \n",
            "----------------------------------------------------------------------\n",
            "conv1.weight         torch.Size([20, 1, 5, 5])      torch.float32  \n",
            "conv1.bias           torch.Size([20])               torch.float32  \n",
            "conv2.weight         torch.Size([50, 20, 5, 5])     torch.float32  \n",
            "conv2.bias           torch.Size([50])               torch.float32  \n",
            "fc1.weight           torch.Size([500, 800])         torch.float32  \n",
            "fc1.bias             torch.Size([500])              torch.float32  \n",
            "fc2.weight           torch.Size([10, 500])          torch.float32  \n",
            "fc2.bias             torch.Size([10])               torch.float32  \n",
            "--- Initial training ---\n",
            "Train Epoch: 249 [50000/60000 ( 83%)]  Loss: 0.000  Reg: 0.000: 100% 250/250 [23:43<00:00,  5.69s/it]\n",
            "Test set: Average loss: 0.0938, Accuracy: 9937/10000 (99.37%)\n"
          ],
          "name": "stdout"
        }
      ]
    },
    {
      "cell_type": "code",
      "metadata": {
        "colab": {
          "base_uri": "https://localhost:8080/"
        },
        "id": "bx0LoWwhE8wu",
        "outputId": "fd4b7f7c-c183-456a-caf0-df750c3a9272"
      },
      "source": [
        "!python element.py --reg-type 1 # L1 regularizer; Element-wise Pruning"
      ],
      "execution_count": null,
      "outputs": [
        {
          "output_type": "stream",
          "text": [
            "Using CUDA!\n",
            "/usr/local/lib/python3.7/dist-packages/torch/utils/data/dataloader.py:477: UserWarning: This DataLoader will create 5 worker processes in total. Our suggested max number of worker in current system is 2, which is smaller than what this DataLoader is going to create. Please be aware that excessive worker creation might get DataLoader running slow or even freeze, lower the worker number to avoid potential slowness/freeze if necessary.\n",
            "  cpuset_checked))\n",
            "LeNet_5(\n",
            "  (conv1): Conv2d(1, 20, kernel_size=(5, 5), stride=(1, 1))\n",
            "  (conv2): Conv2d(20, 50, kernel_size=(5, 5), stride=(1, 1))\n",
            "  (fc1): Linear(in_features=800, out_features=500, bias=True)\n",
            "  (fc2): Linear(in_features=500, out_features=10, bias=True)\n",
            ")\n",
            "Param name           Shape                          Type           \n",
            "----------------------------------------------------------------------\n",
            "conv1.weight         torch.Size([20, 1, 5, 5])      torch.float32  \n",
            "conv1.bias           torch.Size([20])               torch.float32  \n",
            "conv2.weight         torch.Size([50, 20, 5, 5])     torch.float32  \n",
            "conv2.bias           torch.Size([50])               torch.float32  \n",
            "fc1.weight           torch.Size([500, 800])         torch.float32  \n",
            "fc1.bias             torch.Size([500])              torch.float32  \n",
            "fc2.weight           torch.Size([10, 500])          torch.float32  \n",
            "fc2.bias             torch.Size([10])               torch.float32  \n",
            "--- Initial training ---\n",
            "Train Epoch: 249 [50000/60000 ( 83%)]  Loss: 0.077  Reg: 174.984: 100% 250/250 [25:07<00:00,  6.03s/it]\n",
            "Test set: Average loss: 0.0600, Accuracy: 9826/10000 (98.26%)\n"
          ],
          "name": "stdout"
        }
      ]
    },
    {
      "cell_type": "code",
      "metadata": {
        "colab": {
          "base_uri": "https://localhost:8080/"
        },
        "id": "A6HjufwG37_k",
        "outputId": "7608096e-e4c8-49c7-eabf-427d04b42168"
      },
      "source": [
        "!python element.py --reg-type 2 --decay 0.01 # Hoyer regularizer; Element-wise Pruning"
      ],
      "execution_count": null,
      "outputs": [
        {
          "output_type": "stream",
          "text": [
            "Using CUDA!\n",
            "/usr/local/lib/python3.7/dist-packages/torch/utils/data/dataloader.py:477: UserWarning: This DataLoader will create 5 worker processes in total. Our suggested max number of worker in current system is 2, which is smaller than what this DataLoader is going to create. Please be aware that excessive worker creation might get DataLoader running slow or even freeze, lower the worker number to avoid potential slowness/freeze if necessary.\n",
            "  cpuset_checked))\n",
            "LeNet_5(\n",
            "  (conv1): Conv2d(1, 20, kernel_size=(5, 5), stride=(1, 1))\n",
            "  (conv2): Conv2d(20, 50, kernel_size=(5, 5), stride=(1, 1))\n",
            "  (fc1): Linear(in_features=800, out_features=500, bias=True)\n",
            "  (fc2): Linear(in_features=500, out_features=10, bias=True)\n",
            ")\n",
            "Param name           Shape                          Type           \n",
            "----------------------------------------------------------------------\n",
            "conv1.weight         torch.Size([20, 1, 5, 5])      torch.float32  \n",
            "conv1.bias           torch.Size([20])               torch.float32  \n",
            "conv2.weight         torch.Size([50, 20, 5, 5])     torch.float32  \n",
            "conv2.bias           torch.Size([50])               torch.float32  \n",
            "fc1.weight           torch.Size([500, 800])         torch.float32  \n",
            "fc1.bias             torch.Size([500])              torch.float32  \n",
            "fc2.weight           torch.Size([10, 500])          torch.float32  \n",
            "fc2.bias             torch.Size([10])               torch.float32  \n",
            "--- Initial training ---\n",
            "Train Epoch: 249 [50000/60000 ( 83%)]  Loss: 0.011  Reg: 30.639: 100% 250/250 [28:59<00:00,  6.96s/it]\n",
            "Test set: Average loss: 0.0689, Accuracy: 9855/10000 (98.55%)\n"
          ],
          "name": "stdout"
        }
      ]
    },
    {
      "cell_type": "code",
      "metadata": {
        "colab": {
          "base_uri": "https://localhost:8080/"
        },
        "id": "PdSCaNxN3dlL",
        "outputId": "c4f91155-40bb-4086-e8c4-9215bba0a117"
      },
      "source": [
        "!python element.py --reg-type 3 --decay 0.0001  # Hoyer-Square regularizer; Element-wise Pruning"
      ],
      "execution_count": null,
      "outputs": [
        {
          "output_type": "stream",
          "text": [
            "Using CUDA!\n",
            "Downloading http://yann.lecun.com/exdb/mnist/train-images-idx3-ubyte.gz\n",
            "Downloading http://yann.lecun.com/exdb/mnist/train-images-idx3-ubyte.gz to data/MNIST/raw/train-images-idx3-ubyte.gz\n",
            "Failed to download (trying next):\n",
            "HTTP Error 503: Service Unavailable\n",
            "\n",
            "Downloading https://ossci-datasets.s3.amazonaws.com/mnist/train-images-idx3-ubyte.gz\n",
            "Downloading https://ossci-datasets.s3.amazonaws.com/mnist/train-images-idx3-ubyte.gz to data/MNIST/raw/train-images-idx3-ubyte.gz\n",
            "9913344it [00:00, 14518500.94it/s]                \n",
            "Extracting data/MNIST/raw/train-images-idx3-ubyte.gz to data/MNIST/raw\n",
            "\n",
            "Downloading http://yann.lecun.com/exdb/mnist/train-labels-idx1-ubyte.gz\n",
            "Downloading http://yann.lecun.com/exdb/mnist/train-labels-idx1-ubyte.gz to data/MNIST/raw/train-labels-idx1-ubyte.gz\n",
            "29696it [00:00, 461244.68it/s]\n",
            "Extracting data/MNIST/raw/train-labels-idx1-ubyte.gz to data/MNIST/raw\n",
            "\n",
            "Downloading http://yann.lecun.com/exdb/mnist/t10k-images-idx3-ubyte.gz\n",
            "Downloading http://yann.lecun.com/exdb/mnist/t10k-images-idx3-ubyte.gz to data/MNIST/raw/t10k-images-idx3-ubyte.gz\n",
            "1649664it [00:49, 33528.56it/s]                 \n",
            "Extracting data/MNIST/raw/t10k-images-idx3-ubyte.gz to data/MNIST/raw\n",
            "\n",
            "Downloading http://yann.lecun.com/exdb/mnist/t10k-labels-idx1-ubyte.gz\n",
            "Downloading http://yann.lecun.com/exdb/mnist/t10k-labels-idx1-ubyte.gz to data/MNIST/raw/t10k-labels-idx1-ubyte.gz\n",
            "5120it [00:00, 24101948.91it/s]\n",
            "Extracting data/MNIST/raw/t10k-labels-idx1-ubyte.gz to data/MNIST/raw\n",
            "\n",
            "Processing...\n",
            "/usr/local/lib/python3.7/dist-packages/torchvision/datasets/mnist.py:502: UserWarning: The given NumPy array is not writeable, and PyTorch does not support non-writeable tensors. This means you can write to the underlying (supposedly non-writeable) NumPy array using the tensor. You may want to copy the array to protect its data or make it writeable before converting it to a tensor. This type of warning will be suppressed for the rest of this program. (Triggered internally at  /pytorch/torch/csrc/utils/tensor_numpy.cpp:143.)\n",
            "  return torch.from_numpy(parsed.astype(m[2], copy=False)).view(*s)\n",
            "Done!\n",
            "/usr/local/lib/python3.7/dist-packages/torch/utils/data/dataloader.py:477: UserWarning: This DataLoader will create 5 worker processes in total. Our suggested max number of worker in current system is 2, which is smaller than what this DataLoader is going to create. Please be aware that excessive worker creation might get DataLoader running slow or even freeze, lower the worker number to avoid potential slowness/freeze if necessary.\n",
            "  cpuset_checked))\n",
            "LeNet_5(\n",
            "  (conv1): Conv2d(1, 20, kernel_size=(5, 5), stride=(1, 1))\n",
            "  (conv2): Conv2d(20, 50, kernel_size=(5, 5), stride=(1, 1))\n",
            "  (fc1): Linear(in_features=800, out_features=500, bias=True)\n",
            "  (fc2): Linear(in_features=500, out_features=10, bias=True)\n",
            ")\n",
            "Param name           Shape                          Type           \n",
            "----------------------------------------------------------------------\n",
            "conv1.weight         torch.Size([20, 1, 5, 5])      torch.float32  \n",
            "conv1.bias           torch.Size([20])               torch.float32  \n",
            "conv2.weight         torch.Size([50, 20, 5, 5])     torch.float32  \n",
            "conv2.bias           torch.Size([50])               torch.float32  \n",
            "fc1.weight           torch.Size([500, 800])         torch.float32  \n",
            "fc1.bias             torch.Size([500])              torch.float32  \n",
            "fc2.weight           torch.Size([10, 500])          torch.float32  \n",
            "fc2.bias             torch.Size([10])               torch.float32  \n",
            "--- Initial training ---\n",
            "Train Epoch: 249 [50000/60000 ( 83%)]  Loss: 0.010  Reg: 236.588: 100% 250/250 [29:57<00:00,  7.19s/it]\n",
            "Test set: Average loss: 0.0823, Accuracy: 9890/10000 (98.90%)\n"
          ],
          "name": "stdout"
        }
      ]
    },
    {
      "cell_type": "code",
      "metadata": {
        "id": "1sGBEjV6A8rC",
        "colab": {
          "base_uri": "https://localhost:8080/"
        },
        "outputId": "75e7428f-864f-4b6d-fb34-d55dae433108"
      },
      "source": [
        "!python element.py --reg-type 4 --decay 0.00002  # Transformed L1 regularizer; Element-wise Pruning"
      ],
      "execution_count": null,
      "outputs": [
        {
          "output_type": "stream",
          "text": [
            "Using CUDA!\n",
            "/usr/local/lib/python3.7/dist-packages/torch/utils/data/dataloader.py:477: UserWarning: This DataLoader will create 5 worker processes in total. Our suggested max number of worker in current system is 2, which is smaller than what this DataLoader is going to create. Please be aware that excessive worker creation might get DataLoader running slow or even freeze, lower the worker number to avoid potential slowness/freeze if necessary.\n",
            "  cpuset_checked))\n",
            "LeNet_5(\n",
            "  (conv1): Conv2d(1, 20, kernel_size=(5, 5), stride=(1, 1))\n",
            "  (conv2): Conv2d(20, 50, kernel_size=(5, 5), stride=(1, 1))\n",
            "  (fc1): Linear(in_features=800, out_features=500, bias=True)\n",
            "  (fc2): Linear(in_features=500, out_features=10, bias=True)\n",
            ")\n",
            "Param name           Shape                          Type           \n",
            "----------------------------------------------------------------------\n",
            "conv1.weight         torch.Size([20, 1, 5, 5])      torch.float32  \n",
            "conv1.bias           torch.Size([20])               torch.float32  \n",
            "conv2.weight         torch.Size([50, 20, 5, 5])     torch.float32  \n",
            "conv2.bias           torch.Size([50])               torch.float32  \n",
            "fc1.weight           torch.Size([500, 800])         torch.float32  \n",
            "fc1.bias             torch.Size([500])              torch.float32  \n",
            "fc2.weight           torch.Size([10, 500])          torch.float32  \n",
            "fc2.bias             torch.Size([10])               torch.float32  \n",
            "--- Initial training ---\n",
            "Train Epoch: 249 [50000/60000 ( 83%)]  Loss: 0.004  Reg: 1347.160: 100% 250/250 [27:54<00:00,  6.70s/it]\n",
            "Test set: Average loss: 0.0429, Accuracy: 9910/10000 (99.10%)\n"
          ],
          "name": "stdout"
        }
      ]
    },
    {
      "cell_type": "code",
      "metadata": {
        "id": "S4R-Oc6JylzD",
        "colab": {
          "base_uri": "https://localhost:8080/"
        },
        "outputId": "143299b7-0b81-4049-bd64-f61cd1736028"
      },
      "source": [
        "!python prun_tune_V.py --model saves/elt_0.001_0 # Using prun_tune_V.py to prune the model processed by no regularizer; Element-wise Pruning"
      ],
      "execution_count": null,
      "outputs": [
        {
          "output_type": "stream",
          "text": [
            "Using CUDA!\n",
            "/usr/local/lib/python3.7/dist-packages/torch/utils/data/dataloader.py:477: UserWarning: This DataLoader will create 5 worker processes in total. Our suggested max number of worker in current system is 2, which is smaller than what this DataLoader is going to create. Please be aware that excessive worker creation might get DataLoader running slow or even freeze, lower the worker number to avoid potential slowness/freeze if necessary.\n",
            "  cpuset_checked))\n",
            "--- Pruning ---\n",
            "Pruning with threshold : 0.054860636591911316 for layer conv1.weight\n",
            "Pruning with threshold : 0.027777336537837982 for layer conv1.bias\n",
            "Pruning with threshold : 0.040678542107343674 for layer conv2.weight\n",
            "Pruning with threshold : 0.01679549552500248 for layer conv2.bias\n",
            "Pruning with threshold : 0.03043046034872532 for layer fc1.weight\n",
            "Pruning with threshold : 0.013997078873217106 for layer fc1.bias\n",
            "Pruning with threshold : 0.03587421029806137 for layer fc2.weight\n",
            "Pruning with threshold : 0.020299052819609642 for layer fc2.bias\n",
            "conv1.weight         | nonzeros =     416 /     500 ( 83.20%) | total_pruned =      84 | shape = (20, 1, 5, 5)\n",
            "conv1.weight         | dim0 =       1 /       1 (100.00%) | dim1 =      20 /      20 (100.00%)\n",
            "conv1.bias           | nonzeros =      19 /      20 ( 95.00%) | total_pruned =       1 | shape = (20,)\n",
            "conv2.weight         | nonzeros =   19254 /   25000 ( 77.02%) | total_pruned =    5746 | shape = (50, 20, 5, 5)\n",
            "conv2.weight         | dim0 =      20 /      20 (100.00%) | dim1 =      50 /      50 (100.00%)\n",
            "conv2.bias           | nonzeros =      45 /      50 ( 90.00%) | total_pruned =       5 | shape = (50,)\n",
            "fc1.weight           | nonzeros =  269617 /  400000 ( 67.40%) | total_pruned =  130383 | shape = (500, 800)\n",
            "fc1.weight           | dim0 =     800 /     800 (100.00%) | dim1 =     500 /     500 (100.00%)\n",
            "fc1.bias             | nonzeros =     413 /     500 ( 82.60%) | total_pruned =      87 | shape = (500,)\n",
            "fc2.weight           | nonzeros =    3318 /    5000 ( 66.36%) | total_pruned =    1682 | shape = (10, 500)\n",
            "fc2.weight           | dim0 =     482 /     500 ( 96.40%) | dim1 =      10 /      10 (100.00%)\n",
            "fc2.bias             | nonzeros =       9 /      10 ( 90.00%) | total_pruned =       1 | shape = (10,)\n",
            "alive: 293091, pruned : 137989, total: 431080, Compression rate :       1.47x  ( 32.01% pruned)\n",
            "--- Finetuning ---\n",
            "Best: 99.40% Train Epoch: 49 [50000/60000 ( 83%)]  Loss: 0.020245 Total: 0.020245: 100% 50/50 [06:46<00:00,  8.14s/it]\n",
            "Accuracy: 99.40%\n",
            "conv1.weight         | nonzeros =     416 /     500 ( 83.20%) | total_pruned =      84 | shape = (20, 1, 5, 5)\n",
            "conv1.weight         | dim0 =       1 /       1 (100.00%) | dim1 =      20 /      20 (100.00%)\n",
            "conv1.bias           | nonzeros =      19 /      20 ( 95.00%) | total_pruned =       1 | shape = (20,)\n",
            "conv2.weight         | nonzeros =   19254 /   25000 ( 77.02%) | total_pruned =    5746 | shape = (50, 20, 5, 5)\n",
            "conv2.weight         | dim0 =      20 /      20 (100.00%) | dim1 =      50 /      50 (100.00%)\n",
            "conv2.bias           | nonzeros =      45 /      50 ( 90.00%) | total_pruned =       5 | shape = (50,)\n",
            "fc1.weight           | nonzeros =  269616 /  400000 ( 67.40%) | total_pruned =  130384 | shape = (500, 800)\n",
            "fc1.weight           | dim0 =     800 /     800 (100.00%) | dim1 =     500 /     500 (100.00%)\n",
            "fc1.bias             | nonzeros =     413 /     500 ( 82.60%) | total_pruned =      87 | shape = (500,)\n",
            "fc2.weight           | nonzeros =    3318 /    5000 ( 66.36%) | total_pruned =    1682 | shape = (10, 500)\n",
            "fc2.weight           | dim0 =     482 /     500 ( 96.40%) | dim1 =      10 /      10 (100.00%)\n",
            "fc2.bias             | nonzeros =       9 /      10 ( 90.00%) | total_pruned =       1 | shape = (10,)\n",
            "alive: 293090, pruned : 137990, total: 431080, Compression rate :       1.47x  ( 32.01% pruned)\n"
          ],
          "name": "stdout"
        }
      ]
    },
    {
      "cell_type": "code",
      "metadata": {
        "colab": {
          "base_uri": "https://localhost:8080/"
        },
        "id": "ddaQPzK1du5F",
        "outputId": "b8d2b26a-197a-4208-af49-7978bb30086b"
      },
      "source": [
        "!python prun_tune_V.py --model saves/elt_0.001_1 # Using prun_tune_V.py to prune the model processed by L1 regularizer; Element-wise Pruning"
      ],
      "execution_count": null,
      "outputs": [
        {
          "output_type": "stream",
          "text": [
            "Using CUDA!\n",
            "/usr/local/lib/python3.7/dist-packages/torch/utils/data/dataloader.py:477: UserWarning: This DataLoader will create 5 worker processes in total. Our suggested max number of worker in current system is 2, which is smaller than what this DataLoader is going to create. Please be aware that excessive worker creation might get DataLoader running slow or even freeze, lower the worker number to avoid potential slowness/freeze if necessary.\n",
            "  cpuset_checked))\n",
            "--- Pruning ---\n",
            "Pruning with threshold : 0.0681331604719162 for layer conv1.weight\n",
            "Pruning with threshold : 0.032517801970243454 for layer conv1.bias\n",
            "Pruning with threshold : 0.008075390942394733 for layer conv2.weight\n",
            "Pruning with threshold : 0.0001293733948841691 for layer conv2.bias\n",
            "Pruning with threshold : 0.0010399838211014867 for layer fc1.weight\n",
            "Pruning with threshold : 6.85944760334678e-05 for layer fc1.bias\n",
            "Pruning with threshold : 0.015789829194545746 for layer fc2.weight\n",
            "Pruning with threshold : 0.0004210139741189778 for layer fc2.bias\n",
            "conv1.weight         | nonzeros =      29 /     500 (  5.80%) | total_pruned =     471 | shape = (20, 1, 5, 5)\n",
            "conv1.weight         | dim0 =       1 /       1 (100.00%) | dim1 =       3 /      20 ( 15.00%)\n",
            "conv1.bias           | nonzeros =       1 /      20 (  5.00%) | total_pruned =      19 | shape = (20,)\n",
            "conv2.weight         | nonzeros =     103 /   25000 (  0.41%) | total_pruned =   24897 | shape = (50, 20, 5, 5)\n",
            "conv2.weight         | dim0 =       3 /      20 ( 15.00%) | dim1 =       7 /      50 ( 14.00%)\n",
            "conv2.bias           | nonzeros =      26 /      50 ( 52.00%) | total_pruned =      24 | shape = (50,)\n",
            "fc1.weight           | nonzeros =    1490 /  400000 (  0.37%) | total_pruned =  398510 | shape = (500, 800)\n",
            "fc1.weight           | dim0 =     112 /     800 ( 14.00%) | dim1 =      16 /     500 (  3.20%)\n",
            "fc1.bias             | nonzeros =     303 /     500 ( 60.60%) | total_pruned =     197 | shape = (500,)\n",
            "fc2.weight           | nonzeros =      59 /    5000 (  1.18%) | total_pruned =    4941 | shape = (10, 500)\n",
            "fc2.weight           | dim0 =      16 /     500 (  3.20%) | dim1 =      10 /      10 (100.00%)\n",
            "fc2.bias             | nonzeros =       7 /      10 ( 70.00%) | total_pruned =       3 | shape = (10,)\n",
            "alive: 2018, pruned : 429062, total: 431080, Compression rate :     213.62x  ( 99.53% pruned)\n",
            "--- Finetuning ---\n",
            "Best: 98.59% Train Epoch: 49 [50000/60000 ( 83%)]  Loss: 0.021921 Total: 0.021921: 100% 50/50 [06:29<00:00,  7.78s/it]\n",
            "Accuracy: 98.59%\n",
            "conv1.weight         | nonzeros =      29 /     500 (  5.80%) | total_pruned =     471 | shape = (20, 1, 5, 5)\n",
            "conv1.weight         | dim0 =       1 /       1 (100.00%) | dim1 =       3 /      20 ( 15.00%)\n",
            "conv1.bias           | nonzeros =       1 /      20 (  5.00%) | total_pruned =      19 | shape = (20,)\n",
            "conv2.weight         | nonzeros =     103 /   25000 (  0.41%) | total_pruned =   24897 | shape = (50, 20, 5, 5)\n",
            "conv2.weight         | dim0 =       3 /      20 ( 15.00%) | dim1 =       7 /      50 ( 14.00%)\n",
            "conv2.bias           | nonzeros =      26 /      50 ( 52.00%) | total_pruned =      24 | shape = (50,)\n",
            "fc1.weight           | nonzeros =    1490 /  400000 (  0.37%) | total_pruned =  398510 | shape = (500, 800)\n",
            "fc1.weight           | dim0 =     112 /     800 ( 14.00%) | dim1 =      16 /     500 (  3.20%)\n",
            "fc1.bias             | nonzeros =     303 /     500 ( 60.60%) | total_pruned =     197 | shape = (500,)\n",
            "fc2.weight           | nonzeros =      59 /    5000 (  1.18%) | total_pruned =    4941 | shape = (10, 500)\n",
            "fc2.weight           | dim0 =      16 /     500 (  3.20%) | dim1 =      10 /      10 (100.00%)\n",
            "fc2.bias             | nonzeros =       7 /      10 ( 70.00%) | total_pruned =       3 | shape = (10,)\n",
            "alive: 2018, pruned : 429062, total: 431080, Compression rate :     213.62x  ( 99.53% pruned)\n"
          ],
          "name": "stdout"
        }
      ]
    },
    {
      "cell_type": "code",
      "metadata": {
        "id": "5HgOQF3lwA1n",
        "colab": {
          "base_uri": "https://localhost:8080/"
        },
        "outputId": "6d30ac7c-eb98-4d37-8de1-efc83ce520d9"
      },
      "source": [
        "!python prun_tune_V.py --model saves/elt_0.01_2 --sensitivity 0.08 # Using prun_tune_V.py to prune the model processed by Hoyer regularizer; Element-wise Pruning"
      ],
      "execution_count": null,
      "outputs": [
        {
          "output_type": "stream",
          "text": [
            "Using CUDA!\n",
            "/usr/local/lib/python3.7/dist-packages/torch/utils/data/dataloader.py:477: UserWarning: This DataLoader will create 5 worker processes in total. Our suggested max number of worker in current system is 2, which is smaller than what this DataLoader is going to create. Please be aware that excessive worker creation might get DataLoader running slow or even freeze, lower the worker number to avoid potential slowness/freeze if necessary.\n",
            "  cpuset_checked))\n",
            "--- Pruning ---\n",
            "Pruning with threshold : 1.125499038696289 for layer conv1.weight\n",
            "Pruning with threshold : 0.015110732316970826 for layer conv1.bias\n",
            "Pruning with threshold : 0.2804394149780273 for layer conv2.weight\n",
            "Pruning with threshold : 1.0830403137207032 for layer conv2.bias\n",
            "Pruning with threshold : 0.27878555297851565 for layer fc1.weight\n",
            "Pruning with threshold : 0.4467515563964844 for layer fc1.bias\n",
            "Pruning with threshold : 0.2510237312316895 for layer fc2.weight\n",
            "Pruning with threshold : 0.029610087871551515 for layer fc2.bias\n",
            "conv1.weight         | nonzeros =      10 /     500 (  2.00%) | total_pruned =     490 | shape = (20, 1, 5, 5)\n",
            "conv1.weight         | dim0 =       1 /       1 (100.00%) | dim1 =       3 /      20 ( 15.00%)\n",
            "conv1.bias           | nonzeros =       1 /      20 (  5.00%) | total_pruned =      19 | shape = (20,)\n",
            "conv2.weight         | nonzeros =     213 /   25000 (  0.85%) | total_pruned =   24787 | shape = (50, 20, 5, 5)\n",
            "conv2.weight         | dim0 =      11 /      20 ( 55.00%) | dim1 =      22 /      50 ( 44.00%)\n",
            "conv2.bias           | nonzeros =       1 /      50 (  2.00%) | total_pruned =      49 | shape = (50,)\n",
            "fc1.weight           | nonzeros =    1516 /  400000 (  0.38%) | total_pruned =  398484 | shape = (500, 800)\n",
            "fc1.weight           | dim0 =     252 /     800 ( 31.50%) | dim1 =     225 /     500 ( 45.00%)\n",
            "fc1.bias             | nonzeros =       1 /     500 (  0.20%) | total_pruned =     499 | shape = (500,)\n",
            "fc2.weight           | nonzeros =      75 /    5000 (  1.50%) | total_pruned =    4925 | shape = (10, 500)\n",
            "fc2.weight           | dim0 =      45 /     500 (  9.00%) | dim1 =      10 /      10 (100.00%)\n",
            "fc2.bias             | nonzeros =       1 /      10 ( 10.00%) | total_pruned =       9 | shape = (10,)\n",
            "alive: 1818, pruned : 429262, total: 431080, Compression rate :     237.12x  ( 99.58% pruned)\n",
            "--- Finetuning ---\n",
            "Best: 97.32% Train Epoch: 49 [50000/60000 ( 83%)]  Loss: 0.050707 Total: 0.050707: 100% 50/50 [06:36<00:00,  7.93s/it]\n",
            "Accuracy: 97.32%\n",
            "conv1.weight         | nonzeros =      10 /     500 (  2.00%) | total_pruned =     490 | shape = (20, 1, 5, 5)\n",
            "conv1.weight         | dim0 =       1 /       1 (100.00%) | dim1 =       3 /      20 ( 15.00%)\n",
            "conv1.bias           | nonzeros =       1 /      20 (  5.00%) | total_pruned =      19 | shape = (20,)\n",
            "conv2.weight         | nonzeros =     213 /   25000 (  0.85%) | total_pruned =   24787 | shape = (50, 20, 5, 5)\n",
            "conv2.weight         | dim0 =      11 /      20 ( 55.00%) | dim1 =      22 /      50 ( 44.00%)\n",
            "conv2.bias           | nonzeros =       1 /      50 (  2.00%) | total_pruned =      49 | shape = (50,)\n",
            "fc1.weight           | nonzeros =    1516 /  400000 (  0.38%) | total_pruned =  398484 | shape = (500, 800)\n",
            "fc1.weight           | dim0 =     252 /     800 ( 31.50%) | dim1 =     225 /     500 ( 45.00%)\n",
            "fc1.bias             | nonzeros =       1 /     500 (  0.20%) | total_pruned =     499 | shape = (500,)\n",
            "fc2.weight           | nonzeros =      75 /    5000 (  1.50%) | total_pruned =    4925 | shape = (10, 500)\n",
            "fc2.weight           | dim0 =      45 /     500 (  9.00%) | dim1 =      10 /      10 (100.00%)\n",
            "fc2.bias             | nonzeros =       1 /      10 ( 10.00%) | total_pruned =       9 | shape = (10,)\n",
            "alive: 1818, pruned : 429262, total: 431080, Compression rate :     237.12x  ( 99.58% pruned)\n"
          ],
          "name": "stdout"
        }
      ]
    },
    {
      "cell_type": "code",
      "metadata": {
        "id": "7ox1GZERKd8r",
        "colab": {
          "base_uri": "https://localhost:8080/"
        },
        "outputId": "adfdac81-7510-4d3e-e4f8-0351bcf60ce7"
      },
      "source": [
        "!python prun_tune_V.py --model saves/elt_0.0001_3 --sensitivity 0.03 # Using prun_tune_V.py to prune the model processed by Hoyer-Square regularizer; Element-wise Pruning"
      ],
      "execution_count": null,
      "outputs": [
        {
          "output_type": "stream",
          "text": [
            "Using CUDA!\n",
            "/usr/local/lib/python3.7/dist-packages/torch/utils/data/dataloader.py:477: UserWarning: This DataLoader will create 5 worker processes in total. Our suggested max number of worker in current system is 2, which is smaller than what this DataLoader is going to create. Please be aware that excessive worker creation might get DataLoader running slow or even freeze, lower the worker number to avoid potential slowness/freeze if necessary.\n",
            "  cpuset_checked))\n",
            "--- Pruning ---\n",
            "Pruning with threshold : 0.18729005813598631 for layer conv1.weight\n",
            "Pruning with threshold : 0.002515648975968361 for layer conv1.bias\n",
            "Pruning with threshold : 0.07406576871871948 for layer conv2.weight\n",
            "Pruning with threshold : 0.004511188566684723 for layer conv2.bias\n",
            "Pruning with threshold : 0.07950721979141236 for layer fc1.weight\n",
            "Pruning with threshold : 0.008575262725353241 for layer fc1.bias\n",
            "Pruning with threshold : 0.10571260929107666 for layer fc2.weight\n",
            "Pruning with threshold : 0.008255482614040374 for layer fc2.bias\n",
            "conv1.weight         | nonzeros =     111 /     500 ( 22.20%) | total_pruned =     389 | shape = (20, 1, 5, 5)\n",
            "conv1.weight         | dim0 =       1 /       1 (100.00%) | dim1 =      11 /      20 ( 55.00%)\n",
            "conv1.bias           | nonzeros =      13 /      20 ( 65.00%) | total_pruned =       7 | shape = (20,)\n",
            "conv2.weight         | nonzeros =    1428 /   25000 (  5.71%) | total_pruned =   23572 | shape = (50, 20, 5, 5)\n",
            "conv2.weight         | dim0 =      14 /      20 ( 70.00%) | dim1 =      15 /      50 ( 30.00%)\n",
            "conv2.bias           | nonzeros =       9 /      50 ( 18.00%) | total_pruned =      41 | shape = (50,)\n",
            "fc1.weight           | nonzeros =    4210 /  400000 (  1.05%) | total_pruned =  395790 | shape = (500, 800)\n",
            "fc1.weight           | dim0 =     318 /     800 ( 39.75%) | dim1 =     162 /     500 ( 32.40%)\n",
            "fc1.bias             | nonzeros =      29 /     500 (  5.80%) | total_pruned =     471 | shape = (500,)\n",
            "fc2.weight           | nonzeros =     289 /    5000 (  5.78%) | total_pruned =    4711 | shape = (10, 500)\n",
            "fc2.weight           | dim0 =      55 /     500 ( 11.00%) | dim1 =      10 /      10 (100.00%)\n",
            "fc2.bias             | nonzeros =       1 /      10 ( 10.00%) | total_pruned =       9 | shape = (10,)\n",
            "alive: 6090, pruned : 424990, total: 431080, Compression rate :      70.78x  ( 98.59% pruned)\n",
            "--- Finetuning ---\n",
            "Best: 99.17% Train Epoch: 49 [50000/60000 ( 83%)]  Loss: 0.001033 Total: 0.001033: 100% 50/50 [06:29<00:00,  7.80s/it]\n",
            "Accuracy: 99.17%\n",
            "conv1.weight         | nonzeros =     111 /     500 ( 22.20%) | total_pruned =     389 | shape = (20, 1, 5, 5)\n",
            "conv1.weight         | dim0 =       1 /       1 (100.00%) | dim1 =      11 /      20 ( 55.00%)\n",
            "conv1.bias           | nonzeros =      13 /      20 ( 65.00%) | total_pruned =       7 | shape = (20,)\n",
            "conv2.weight         | nonzeros =    1428 /   25000 (  5.71%) | total_pruned =   23572 | shape = (50, 20, 5, 5)\n",
            "conv2.weight         | dim0 =      14 /      20 ( 70.00%) | dim1 =      15 /      50 ( 30.00%)\n",
            "conv2.bias           | nonzeros =       9 /      50 ( 18.00%) | total_pruned =      41 | shape = (50,)\n",
            "fc1.weight           | nonzeros =    4210 /  400000 (  1.05%) | total_pruned =  395790 | shape = (500, 800)\n",
            "fc1.weight           | dim0 =     318 /     800 ( 39.75%) | dim1 =     162 /     500 ( 32.40%)\n",
            "fc1.bias             | nonzeros =      29 /     500 (  5.80%) | total_pruned =     471 | shape = (500,)\n",
            "fc2.weight           | nonzeros =     289 /    5000 (  5.78%) | total_pruned =    4711 | shape = (10, 500)\n",
            "fc2.weight           | dim0 =      55 /     500 ( 11.00%) | dim1 =      10 /      10 (100.00%)\n",
            "fc2.bias             | nonzeros =       1 /      10 ( 10.00%) | total_pruned =       9 | shape = (10,)\n",
            "alive: 6090, pruned : 424990, total: 431080, Compression rate :      70.78x  ( 98.59% pruned)\n"
          ],
          "name": "stdout"
        }
      ]
    },
    {
      "cell_type": "code",
      "metadata": {
        "colab": {
          "base_uri": "https://localhost:8080/"
        },
        "id": "lN4qBseufKH5",
        "outputId": "3c88a7c4-9954-4f72-a913-eb8ade45ab3e"
      },
      "source": [
        "!python prun_tune_V.py --model saves/elt_2e-05_4 --sensitivity 0.6 # Using prun_tune_V.py to prune the model processed by Transformed L1 regularizer; Element-wise Pruning"
      ],
      "execution_count": null,
      "outputs": [
        {
          "output_type": "stream",
          "text": [
            "Using CUDA!\n",
            "/usr/local/lib/python3.7/dist-packages/torch/utils/data/dataloader.py:477: UserWarning: This DataLoader will create 5 worker processes in total. Our suggested max number of worker in current system is 2, which is smaller than what this DataLoader is going to create. Please be aware that excessive worker creation might get DataLoader running slow or even freeze, lower the worker number to avoid potential slowness/freeze if necessary.\n",
            "  cpuset_checked))\n",
            "--- Pruning ---\n",
            "Pruning with threshold : 0.20668576955795287 for layer conv1.weight\n",
            "Pruning with threshold : 0.08884646594524383 for layer conv1.bias\n",
            "Pruning with threshold : 0.045602153241634365 for layer conv2.weight\n",
            "Pruning with threshold : 0.0021745333448052405 for layer conv2.bias\n",
            "Pruning with threshold : 0.013901089131832122 for layer fc1.weight\n",
            "Pruning with threshold : 0.0006218397058546542 for layer fc1.bias\n",
            "Pruning with threshold : 0.06920305341482162 for layer fc2.weight\n",
            "Pruning with threshold : 0.0025606244802474976 for layer fc2.bias\n",
            "conv1.weight         | nonzeros =     118 /     500 ( 23.60%) | total_pruned =     382 | shape = (20, 1, 5, 5)\n",
            "conv1.weight         | dim0 =       1 /       1 (100.00%) | dim1 =      10 /      20 ( 50.00%)\n",
            "conv1.bias           | nonzeros =       5 /      20 ( 25.00%) | total_pruned =      15 | shape = (20,)\n",
            "conv2.weight         | nonzeros =     671 /   25000 (  2.68%) | total_pruned =   24329 | shape = (50, 20, 5, 5)\n",
            "conv2.weight         | dim0 =      10 /      20 ( 50.00%) | dim1 =      15 /      50 ( 30.00%)\n",
            "conv2.bias           | nonzeros =      10 /      50 ( 20.00%) | total_pruned =      40 | shape = (50,)\n",
            "fc1.weight           | nonzeros =    3451 /  400000 (  0.86%) | total_pruned =  396549 | shape = (500, 800)\n",
            "fc1.weight           | dim0 =     277 /     800 ( 34.62%) | dim1 =      42 /     500 (  8.40%)\n",
            "fc1.bias             | nonzeros =      37 /     500 (  7.40%) | total_pruned =     463 | shape = (500,)\n",
            "fc2.weight           | nonzeros =     214 /    5000 (  4.28%) | total_pruned =    4786 | shape = (10, 500)\n",
            "fc2.weight           | dim0 =      42 /     500 (  8.40%) | dim1 =      10 /      10 (100.00%)\n",
            "fc2.bias             | nonzeros =       3 /      10 ( 30.00%) | total_pruned =       7 | shape = (10,)\n",
            "alive: 4509, pruned : 426571, total: 431080, Compression rate :      95.60x  ( 98.95% pruned)\n",
            "--- Finetuning ---\n",
            "Best: 99.16% Train Epoch: 49 [50000/60000 ( 83%)]  Loss: 0.003791 Total: 0.003791: 100% 50/50 [06:35<00:00,  7.92s/it]\n",
            "Accuracy: 99.16%\n",
            "conv1.weight         | nonzeros =     118 /     500 ( 23.60%) | total_pruned =     382 | shape = (20, 1, 5, 5)\n",
            "conv1.weight         | dim0 =       1 /       1 (100.00%) | dim1 =      10 /      20 ( 50.00%)\n",
            "conv1.bias           | nonzeros =       5 /      20 ( 25.00%) | total_pruned =      15 | shape = (20,)\n",
            "conv2.weight         | nonzeros =     671 /   25000 (  2.68%) | total_pruned =   24329 | shape = (50, 20, 5, 5)\n",
            "conv2.weight         | dim0 =      10 /      20 ( 50.00%) | dim1 =      15 /      50 ( 30.00%)\n",
            "conv2.bias           | nonzeros =      10 /      50 ( 20.00%) | total_pruned =      40 | shape = (50,)\n",
            "fc1.weight           | nonzeros =    3451 /  400000 (  0.86%) | total_pruned =  396549 | shape = (500, 800)\n",
            "fc1.weight           | dim0 =     277 /     800 ( 34.62%) | dim1 =      42 /     500 (  8.40%)\n",
            "fc1.bias             | nonzeros =      37 /     500 (  7.40%) | total_pruned =     463 | shape = (500,)\n",
            "fc2.weight           | nonzeros =     214 /    5000 (  4.28%) | total_pruned =    4786 | shape = (10, 500)\n",
            "fc2.weight           | dim0 =      42 /     500 (  8.40%) | dim1 =      10 /      10 (100.00%)\n",
            "fc2.bias             | nonzeros =       3 /      10 ( 30.00%) | total_pruned =       7 | shape = (10,)\n",
            "alive: 4509, pruned : 426571, total: 431080, Compression rate :      95.60x  ( 98.95% pruned)\n"
          ],
          "name": "stdout"
        }
      ]
    },
    {
      "cell_type": "code",
      "metadata": {
        "colab": {
          "base_uri": "https://localhost:8080/"
        },
        "id": "eBOqePwugUVX",
        "outputId": "2121ae95-5903-4540-e3de-bccc623ee763"
      },
      "source": [
        "!python prun_tune_V.py --model saves/str_0.001_0 # Using prun_tune_V.py to prune the model processed by no regularizer; structure Pruning"
      ],
      "execution_count": null,
      "outputs": [
        {
          "output_type": "stream",
          "text": [
            "Using CUDA!\n",
            "/usr/local/lib/python3.7/dist-packages/torch/utils/data/dataloader.py:477: UserWarning: This DataLoader will create 5 worker processes in total. Our suggested max number of worker in current system is 2, which is smaller than what this DataLoader is going to create. Please be aware that excessive worker creation might get DataLoader running slow or even freeze, lower the worker number to avoid potential slowness/freeze if necessary.\n",
            "  cpuset_checked))\n",
            "--- Pruning ---\n",
            "Pruning with threshold : 0.0616317056119442 for layer conv1.weight\n",
            "Pruning with threshold : 0.02599509246647358 for layer conv1.bias\n",
            "Pruning with threshold : 0.012158576399087906 for layer conv2.weight\n",
            "Pruning with threshold : 0.012332193553447723 for layer conv2.bias\n",
            "Pruning with threshold : 0.0037560623604804277 for layer fc1.weight\n",
            "Pruning with threshold : 0.0018357698572799563 for layer fc1.bias\n",
            "Pruning with threshold : 0.021099785342812538 for layer fc2.weight\n",
            "Pruning with threshold : 0.007998857647180557 for layer fc2.bias\n",
            "conv1.weight         | nonzeros =     217 /     500 ( 43.40%) | total_pruned =     283 | shape = (20, 1, 5, 5)\n",
            "conv1.weight         | dim0 =       1 /       1 (100.00%) | dim1 =      10 /      20 ( 50.00%)\n",
            "conv1.bias           | nonzeros =       7 /      20 ( 35.00%) | total_pruned =      13 | shape = (20,)\n",
            "conv2.weight         | nonzeros =    5101 /   25000 ( 20.40%) | total_pruned =   19899 | shape = (50, 20, 5, 5)\n",
            "conv2.weight         | dim0 =      11 /      20 ( 55.00%) | dim1 =      26 /      50 ( 52.00%)\n",
            "conv2.bias           | nonzeros =      22 /      50 ( 44.00%) | total_pruned =      28 | shape = (50,)\n",
            "fc1.weight           | nonzeros =   26068 /  400000 (  6.52%) | total_pruned =  373932 | shape = (500, 800)\n",
            "fc1.weight           | dim0 =     469 /     800 ( 58.62%) | dim1 =     215 /     500 ( 43.00%)\n",
            "fc1.bias             | nonzeros =      97 /     500 ( 19.40%) | total_pruned =     403 | shape = (500,)\n",
            "fc2.weight           | nonzeros =     785 /    5000 ( 15.70%) | total_pruned =    4215 | shape = (10, 500)\n",
            "fc2.weight           | dim0 =     190 /     500 ( 38.00%) | dim1 =      10 /      10 (100.00%)\n",
            "fc2.bias             | nonzeros =       8 /      10 ( 80.00%) | total_pruned =       2 | shape = (10,)\n",
            "alive: 32305, pruned : 398775, total: 431080, Compression rate :      13.34x  ( 92.51% pruned)\n",
            "--- Finetuning ---\n",
            "Best: 99.35% Train Epoch: 49 [50000/60000 ( 83%)]  Loss: 0.000209 Total: 0.000209: 100% 50/50 [06:41<00:00,  8.03s/it]\n",
            "Accuracy: 99.35%\n",
            "conv1.weight         | nonzeros =     217 /     500 ( 43.40%) | total_pruned =     283 | shape = (20, 1, 5, 5)\n",
            "conv1.weight         | dim0 =       1 /       1 (100.00%) | dim1 =      10 /      20 ( 50.00%)\n",
            "conv1.bias           | nonzeros =       7 /      20 ( 35.00%) | total_pruned =      13 | shape = (20,)\n",
            "conv2.weight         | nonzeros =    5101 /   25000 ( 20.40%) | total_pruned =   19899 | shape = (50, 20, 5, 5)\n",
            "conv2.weight         | dim0 =      11 /      20 ( 55.00%) | dim1 =      26 /      50 ( 52.00%)\n",
            "conv2.bias           | nonzeros =      22 /      50 ( 44.00%) | total_pruned =      28 | shape = (50,)\n",
            "fc1.weight           | nonzeros =   26068 /  400000 (  6.52%) | total_pruned =  373932 | shape = (500, 800)\n",
            "fc1.weight           | dim0 =     469 /     800 ( 58.62%) | dim1 =     215 /     500 ( 43.00%)\n",
            "fc1.bias             | nonzeros =      97 /     500 ( 19.40%) | total_pruned =     403 | shape = (500,)\n",
            "fc2.weight           | nonzeros =     785 /    5000 ( 15.70%) | total_pruned =    4215 | shape = (10, 500)\n",
            "fc2.weight           | dim0 =     190 /     500 ( 38.00%) | dim1 =      10 /      10 (100.00%)\n",
            "fc2.bias             | nonzeros =       8 /      10 ( 80.00%) | total_pruned =       2 | shape = (10,)\n",
            "alive: 32305, pruned : 398775, total: 431080, Compression rate :      13.34x  ( 92.51% pruned)\n"
          ],
          "name": "stdout"
        }
      ]
    },
    {
      "cell_type": "code",
      "metadata": {
        "colab": {
          "base_uri": "https://localhost:8080/"
        },
        "id": "8zdvIXiIohgF",
        "outputId": "1cfa657f-1ae0-4f9c-de43-0018d638b808"
      },
      "source": [
        "!python prun_tune_V.py --model saves/str_0.001_1 # Using prun_tune_V.py to prune the model processed by Group Lasso regularizer; structure Pruning"
      ],
      "execution_count": null,
      "outputs": [
        {
          "output_type": "stream",
          "text": [
            "Using CUDA!\n",
            "/usr/local/lib/python3.7/dist-packages/torch/utils/data/dataloader.py:477: UserWarning: This DataLoader will create 5 worker processes in total. Our suggested max number of worker in current system is 2, which is smaller than what this DataLoader is going to create. Please be aware that excessive worker creation might get DataLoader running slow or even freeze, lower the worker number to avoid potential slowness/freeze if necessary.\n",
            "  cpuset_checked))\n",
            "--- Pruning ---\n",
            "Pruning with threshold : 0.0611465759575367 for layer conv1.weight\n",
            "Pruning with threshold : 0.003954078536480665 for layer conv1.bias\n",
            "Pruning with threshold : 0.0037666207645088434 for layer conv2.weight\n",
            "Pruning with threshold : 0.08419746905565262 for layer conv2.bias\n",
            "Pruning with threshold : 0.0012221913784742355 for layer fc1.weight\n",
            "Pruning with threshold : 0.013603153638541698 for layer fc1.bias\n",
            "Pruning with threshold : 0.013917536474764347 for layer fc2.weight\n",
            "Pruning with threshold : 0.07179535180330276 for layer fc2.bias\n",
            "conv1.weight         | nonzeros =       6 /     500 (  1.20%) | total_pruned =     494 | shape = (20, 1, 5, 5)\n",
            "conv1.weight         | dim0 =       1 /       1 (100.00%) | dim1 =       1 /      20 (  5.00%)\n",
            "conv1.bias           | nonzeros =      19 /      20 ( 95.00%) | total_pruned =       1 | shape = (20,)\n",
            "conv2.weight         | nonzeros =     168 /   25000 (  0.67%) | total_pruned =   24832 | shape = (50, 20, 5, 5)\n",
            "conv2.weight         | dim0 =       1 /      20 (  5.00%) | dim1 =       9 /      50 ( 18.00%)\n",
            "conv2.bias           | nonzeros =       6 /      50 ( 12.00%) | total_pruned =      44 | shape = (50,)\n",
            "fc1.weight           | nonzeros =    2184 /  400000 (  0.55%) | total_pruned =  397816 | shape = (500, 800)\n",
            "fc1.weight           | dim0 =     144 /     800 ( 18.00%) | dim1 =      17 /     500 (  3.40%)\n",
            "fc1.bias             | nonzeros =      16 /     500 (  3.20%) | total_pruned =     484 | shape = (500,)\n",
            "fc2.weight           | nonzeros =     166 /    5000 (  3.32%) | total_pruned =    4834 | shape = (10, 500)\n",
            "fc2.weight           | dim0 =      17 /     500 (  3.40%) | dim1 =      10 /      10 (100.00%)\n",
            "fc2.bias             | nonzeros =       9 /      10 ( 90.00%) | total_pruned =       1 | shape = (10,)\n",
            "alive: 2574, pruned : 428506, total: 431080, Compression rate :     167.47x  ( 99.40% pruned)\n",
            "--- Finetuning ---\n",
            "Best: 98.65% Train Epoch: 49 [50000/60000 ( 83%)]  Loss: 0.021099 Total: 0.021099: 100% 50/50 [06:46<00:00,  8.12s/it]\n",
            "Accuracy: 98.65%\n",
            "conv1.weight         | nonzeros =       6 /     500 (  1.20%) | total_pruned =     494 | shape = (20, 1, 5, 5)\n",
            "conv1.weight         | dim0 =       1 /       1 (100.00%) | dim1 =       1 /      20 (  5.00%)\n",
            "conv1.bias           | nonzeros =      19 /      20 ( 95.00%) | total_pruned =       1 | shape = (20,)\n",
            "conv2.weight         | nonzeros =     168 /   25000 (  0.67%) | total_pruned =   24832 | shape = (50, 20, 5, 5)\n",
            "conv2.weight         | dim0 =       1 /      20 (  5.00%) | dim1 =       9 /      50 ( 18.00%)\n",
            "conv2.bias           | nonzeros =       6 /      50 ( 12.00%) | total_pruned =      44 | shape = (50,)\n",
            "fc1.weight           | nonzeros =    2184 /  400000 (  0.55%) | total_pruned =  397816 | shape = (500, 800)\n",
            "fc1.weight           | dim0 =     144 /     800 ( 18.00%) | dim1 =      17 /     500 (  3.40%)\n",
            "fc1.bias             | nonzeros =      16 /     500 (  3.20%) | total_pruned =     484 | shape = (500,)\n",
            "fc2.weight           | nonzeros =     166 /    5000 (  3.32%) | total_pruned =    4834 | shape = (10, 500)\n",
            "fc2.weight           | dim0 =      17 /     500 (  3.40%) | dim1 =      10 /      10 (100.00%)\n",
            "fc2.bias             | nonzeros =       9 /      10 ( 90.00%) | total_pruned =       1 | shape = (10,)\n",
            "alive: 2574, pruned : 428506, total: 431080, Compression rate :     167.47x  ( 99.40% pruned)\n"
          ],
          "name": "stdout"
        }
      ]
    },
    {
      "cell_type": "code",
      "metadata": {
        "colab": {
          "base_uri": "https://localhost:8080/"
        },
        "id": "QEkzdKQ2rK4n",
        "outputId": "25746450-dcf8-4e50-a730-5403d40e76d1"
      },
      "source": [
        "!python prun_tune_T.py --model saves/str_0.001_0  # Using prun_tune_T.py to prune the model processed by no regularizer; structure Pruning"
      ],
      "execution_count": null,
      "outputs": [
        {
          "output_type": "stream",
          "text": [
            "Using CUDA!\n",
            "/usr/local/lib/python3.7/dist-packages/torch/utils/data/dataloader.py:477: UserWarning: This DataLoader will create 5 worker processes in total. Our suggested max number of worker in current system is 2, which is smaller than what this DataLoader is going to create. Please be aware that excessive worker creation might get DataLoader running slow or even freeze, lower the worker number to avoid potential slowness/freeze if necessary.\n",
            "  cpuset_checked))\n",
            "--- Pruning ---\n",
            "Test set: Average loss: 0.0307, Accuracy: 9922/10000 (99.22%)\n",
            "conv1.weight         | nonzeros =     333 /     500 ( 66.60%) | total_pruned =     167 | shape = (20, 1, 5, 5)\n",
            "conv1.weight         | dim0 =       1 /       1 (100.00%) | dim1 =      15 /      20 ( 75.00%)\n",
            "conv1.bias           | nonzeros =      15 /      20 ( 75.00%) | total_pruned =       5 | shape = (20,)\n",
            "conv2.weight         | nonzeros =    7313 /   25000 ( 29.25%) | total_pruned =   17687 | shape = (50, 20, 5, 5)\n",
            "conv2.weight         | dim0 =      12 /      20 ( 60.00%) | dim1 =      32 /      50 ( 64.00%)\n",
            "conv2.bias           | nonzeros =      31 /      50 ( 62.00%) | total_pruned =      19 | shape = (50,)\n",
            "fc1.weight           | nonzeros =   36555 /  400000 (  9.14%) | total_pruned =  363445 | shape = (500, 800)\n",
            "fc1.weight           | dim0 =     487 /     800 ( 60.88%) | dim1 =     264 /     500 ( 52.80%)\n",
            "fc1.bias             | nonzeros =     120 /     500 ( 24.00%) | total_pruned =     380 | shape = (500,)\n",
            "fc2.weight           | nonzeros =    2822 /    5000 ( 56.44%) | total_pruned =    2178 | shape = (10, 500)\n",
            "fc2.weight           | dim0 =     423 /     500 ( 84.60%) | dim1 =      10 /      10 (100.00%)\n",
            "fc2.bias             | nonzeros =      10 /      10 (100.00%) | total_pruned =       0 | shape = (10,)\n",
            "alive: 47199, pruned : 383881, total: 431080, Compression rate :       9.13x  ( 89.05% pruned)\n",
            "--- Finetuning ---\n",
            "Train Epoch: 99 [50000/60000 ( 83%)]  Loss: 0.000000 Total: 0.000000: 100% 100/100 [18:06<00:00, 10.87s/it]\n",
            "Test set: Average loss: 0.0604, Accuracy: 9936/10000 (99.36%)\n"
          ],
          "name": "stdout"
        }
      ]
    },
    {
      "cell_type": "code",
      "metadata": {
        "colab": {
          "base_uri": "https://localhost:8080/"
        },
        "id": "kMmQDq2Eyv2F",
        "outputId": "fb488ff5-b9f9-48af-cad9-e38820f05c6c"
      },
      "source": [
        "!python prun_tune_T.py --model saves/str_0.001_1 # Using prun_tune_T.py to prune the model processed by Group Lasso regularizer; structure Pruning"
      ],
      "execution_count": null,
      "outputs": [
        {
          "output_type": "stream",
          "text": [
            "Using CUDA!\n",
            "/usr/local/lib/python3.7/dist-packages/torch/utils/data/dataloader.py:477: UserWarning: This DataLoader will create 5 worker processes in total. Our suggested max number of worker in current system is 2, which is smaller than what this DataLoader is going to create. Please be aware that excessive worker creation might get DataLoader running slow or even freeze, lower the worker number to avoid potential slowness/freeze if necessary.\n",
            "  cpuset_checked))\n",
            "--- Pruning ---\n",
            "Test set: Average loss: 0.0604, Accuracy: 9803/10000 (98.03%)\n",
            "conv1.weight         | nonzeros =      21 /     500 (  4.20%) | total_pruned =     479 | shape = (20, 1, 5, 5)\n",
            "conv1.weight         | dim0 =       1 /       1 (100.00%) | dim1 =       1 /      20 (  5.00%)\n",
            "conv1.bias           | nonzeros =      20 /      20 (100.00%) | total_pruned =       0 | shape = (20,)\n",
            "conv2.weight         | nonzeros =     225 /   25000 (  0.90%) | total_pruned =   24775 | shape = (50, 20, 5, 5)\n",
            "conv2.weight         | dim0 =      11 /      20 ( 55.00%) | dim1 =       9 /      50 ( 18.00%)\n",
            "conv2.bias           | nonzeros =      47 /      50 ( 94.00%) | total_pruned =       3 | shape = (50,)\n",
            "fc1.weight           | nonzeros =    2225 /  400000 (  0.56%) | total_pruned =  397775 | shape = (500, 800)\n",
            "fc1.weight           | dim0 =     144 /     800 ( 18.00%) | dim1 =      17 /     500 (  3.40%)\n",
            "fc1.bias             | nonzeros =     276 /     500 ( 55.20%) | total_pruned =     224 | shape = (500,)\n",
            "fc2.weight           | nonzeros =     169 /    5000 (  3.38%) | total_pruned =    4831 | shape = (10, 500)\n",
            "fc2.weight           | dim0 =      17 /     500 (  3.40%) | dim1 =      10 /      10 (100.00%)\n",
            "fc2.bias             | nonzeros =      10 /      10 (100.00%) | total_pruned =       0 | shape = (10,)\n",
            "alive: 2993, pruned : 428087, total: 431080, Compression rate :     144.03x  ( 99.31% pruned)\n",
            "--- Finetuning ---\n",
            "Train Epoch: 99 [50000/60000 ( 83%)]  Loss: 0.009741 Total: 0.009741: 100% 100/100 [17:56<00:00, 10.77s/it]\n",
            "Test set: Average loss: 0.0479, Accuracy: 9854/10000 (98.54%)\n"
          ],
          "name": "stdout"
        }
      ]
    },
    {
      "cell_type": "code",
      "metadata": {
        "colab": {
          "base_uri": "https://localhost:8080/"
        },
        "id": "34bQbmuMy2fN",
        "outputId": "0bd4e237-ef44-4a30-bf3d-f415fc8215f5"
      },
      "source": [
        "!python prun_tune_T.py --model saves/elt_0.001_1 # Using prun_tune_T.py to prune the model processed by L1 regularizer; element Pruning"
      ],
      "execution_count": null,
      "outputs": [
        {
          "output_type": "stream",
          "text": [
            "Using CUDA!\n",
            "/usr/local/lib/python3.7/dist-packages/torch/utils/data/dataloader.py:477: UserWarning: This DataLoader will create 5 worker processes in total. Our suggested max number of worker in current system is 2, which is smaller than what this DataLoader is going to create. Please be aware that excessive worker creation might get DataLoader running slow or even freeze, lower the worker number to avoid potential slowness/freeze if necessary.\n",
            "  cpuset_checked))\n",
            "--- Pruning ---\n",
            "Test set: Average loss: 0.0597, Accuracy: 9829/10000 (98.29%)\n",
            "conv1.weight         | nonzeros =      56 /     500 ( 11.20%) | total_pruned =     444 | shape = (20, 1, 5, 5)\n",
            "conv1.weight         | dim0 =       1 /       1 (100.00%) | dim1 =       3 /      20 ( 15.00%)\n",
            "conv1.bias           | nonzeros =       3 /      20 ( 15.00%) | total_pruned =      17 | shape = (20,)\n",
            "conv2.weight         | nonzeros =     334 /   25000 (  1.34%) | total_pruned =   24666 | shape = (50, 20, 5, 5)\n",
            "conv2.weight         | dim0 =       3 /      20 ( 15.00%) | dim1 =       7 /      50 ( 14.00%)\n",
            "conv2.bias           | nonzeros =       4 /      50 (  8.00%) | total_pruned =      46 | shape = (50,)\n",
            "fc1.weight           | nonzeros =    1501 /  400000 (  0.38%) | total_pruned =  398499 | shape = (500, 800)\n",
            "fc1.weight           | dim0 =     112 /     800 ( 14.00%) | dim1 =      16 /     500 (  3.20%)\n",
            "fc1.bias             | nonzeros =       8 /     500 (  1.60%) | total_pruned =     492 | shape = (500,)\n",
            "fc2.weight           | nonzeros =     137 /    5000 (  2.74%) | total_pruned =    4863 | shape = (10, 500)\n",
            "fc2.weight           | dim0 =      16 /     500 (  3.20%) | dim1 =      10 /      10 (100.00%)\n",
            "fc2.bias             | nonzeros =       6 /      10 ( 60.00%) | total_pruned =       4 | shape = (10,)\n",
            "alive: 2049, pruned : 429031, total: 431080, Compression rate :     210.39x  ( 99.52% pruned)\n",
            "--- Finetuning ---\n",
            "Train Epoch: 99 [50000/60000 ( 83%)]  Loss: 0.012559 Total: 0.012559: 100% 100/100 [17:40<00:00, 10.61s/it]\n",
            "Test set: Average loss: 0.0413, Accuracy: 9869/10000 (98.69%)\n"
          ],
          "name": "stdout"
        }
      ]
    },
    {
      "cell_type": "code",
      "metadata": {
        "colab": {
          "base_uri": "https://localhost:8080/"
        },
        "id": "OijExPwsyu-J",
        "outputId": "955b22a1-4962-49c3-ed8c-6cc0d4ddc2a0"
      },
      "source": [
        "!python prun_tune_T.py --model saves/elt_2e-05_4 # Using prun_tune_T.py to prune the model processed by Transformed L1 regularizer; element Pruning"
      ],
      "execution_count": null,
      "outputs": [
        {
          "output_type": "stream",
          "text": [
            "Using CUDA!\n",
            "/usr/local/lib/python3.7/dist-packages/torch/utils/data/dataloader.py:477: UserWarning: This DataLoader will create 5 worker processes in total. Our suggested max number of worker in current system is 2, which is smaller than what this DataLoader is going to create. Please be aware that excessive worker creation might get DataLoader running slow or even freeze, lower the worker number to avoid potential slowness/freeze if necessary.\n",
            "  cpuset_checked))\n",
            "--- Pruning ---\n",
            "Test set: Average loss: 0.0429, Accuracy: 9910/10000 (99.10%)\n",
            "conv1.weight         | nonzeros =     245 /     500 ( 49.00%) | total_pruned =     255 | shape = (20, 1, 5, 5)\n",
            "conv1.weight         | dim0 =       1 /       1 (100.00%) | dim1 =      10 /      20 ( 50.00%)\n",
            "conv1.bias           | nonzeros =      10 /      20 ( 50.00%) | total_pruned =      10 | shape = (20,)\n",
            "conv2.weight         | nonzeros =    3742 /   25000 ( 14.97%) | total_pruned =   21258 | shape = (50, 20, 5, 5)\n",
            "conv2.weight         | dim0 =      10 /      20 ( 50.00%) | dim1 =      18 /      50 ( 36.00%)\n",
            "conv2.bias           | nonzeros =      13 /      50 ( 26.00%) | total_pruned =      37 | shape = (50,)\n",
            "fc1.weight           | nonzeros =    8534 /  400000 (  2.13%) | total_pruned =  391466 | shape = (500, 800)\n",
            "fc1.weight           | dim0 =     288 /     800 ( 36.00%) | dim1 =      42 /     500 (  8.40%)\n",
            "fc1.bias             | nonzeros =      28 /     500 (  5.60%) | total_pruned =     472 | shape = (500,)\n",
            "fc2.weight           | nonzeros =     404 /    5000 (  8.08%) | total_pruned =    4596 | shape = (10, 500)\n",
            "fc2.weight           | dim0 =      43 /     500 (  8.60%) | dim1 =      10 /      10 (100.00%)\n",
            "fc2.bias             | nonzeros =       7 /      10 ( 70.00%) | total_pruned =       3 | shape = (10,)\n",
            "alive: 12983, pruned : 418097, total: 431080, Compression rate :      33.20x  ( 96.99% pruned)\n",
            "--- Finetuning ---\n",
            "Train Epoch: 99 [50000/60000 ( 83%)]  Loss: 0.000000 Total: 0.000000: 100% 100/100 [18:04<00:00, 10.84s/it]\n",
            "Test set: Average loss: 0.0917, Accuracy: 9920/10000 (99.20%)\n"
          ],
          "name": "stdout"
        }
      ]
    }
  ]
}