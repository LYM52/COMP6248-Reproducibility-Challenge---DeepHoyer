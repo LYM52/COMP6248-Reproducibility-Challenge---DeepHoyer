{
  "nbformat": 4,
  "nbformat_minor": 0,
  "metadata": {
    "colab": {
      "name": "CNN_fashion_mnist.ipynb",
      "provenance": [],
      "collapsed_sections": [],
      "machine_shape": "hm",
      "authorship_tag": "ABX9TyNCUnSRRioYQlUlD72PZiJw"
    },
    "kernelspec": {
      "name": "python3",
      "display_name": "Python 3"
    },
    "language_info": {
      "name": "python"
    },
    "accelerator": "GPU"
  },
  "cells": [
    {
      "cell_type": "markdown",
      "metadata": {
        "id": "yxcjDhsOAgci"
      },
      "source": [
        "# CNN_fashion_mnist\n"
      ]
    },
    {
      "cell_type": "code",
      "metadata": {
        "colab": {
          "base_uri": "https://localhost:8080/"
        },
        "id": "Nn9Kc-H8X1ed",
        "outputId": "0498dd2e-f8c8-4050-b2fb-4d3cb633f38e"
      },
      "source": [
        "from google.colab import drive\n",
        "drive.mount(\"/content/drive\")"
      ],
      "execution_count": 11,
      "outputs": [
        {
          "output_type": "stream",
          "text": [
            "Drive already mounted at /content/drive; to attempt to forcibly remount, call drive.mount(\"/content/drive\", force_remount=True).\n"
          ],
          "name": "stdout"
        }
      ]
    },
    {
      "cell_type": "code",
      "metadata": {
        "colab": {
          "base_uri": "https://localhost:8080/"
        },
        "id": "jUvVoGxeYcUJ",
        "outputId": "b140b2b4-2f1a-4678-d49f-517dba434bd8"
      },
      "source": [
        "import os\n",
        "path=\"/content/drive/My Drive/DL/DeepHoyer-master/fashion_mnist/CNN\"\n",
        "os.chdir(path)\n",
        "os.listdir(path)"
      ],
      "execution_count": 3,
      "outputs": [
        {
          "output_type": "execute_result",
          "data": {
            "text/plain": [
              "['CNN.ipynb',\n",
              " 'structure.py',\n",
              " 'util.py',\n",
              " 'prun_tune_T.py',\n",
              " 'data',\n",
              " 'saves',\n",
              " '__pycache__',\n",
              " 'data_fashion',\n",
              " 'net',\n",
              " 'saves_fashion',\n",
              " 'element_minist.py',\n",
              " 'structure_fashion.py',\n",
              " 'prun_tune_V.py',\n",
              " 'prun_tune_V_fashion.py',\n",
              " 'element.py',\n",
              " 'log.txt']"
            ]
          },
          "metadata": {
            "tags": []
          },
          "execution_count": 3
        }
      ]
    },
    {
      "cell_type": "markdown",
      "metadata": {
        "id": "FfJV7gwzRv-V"
      },
      "source": [
        "#pretrained 90.68%"
      ]
    },
    {
      "cell_type": "code",
      "metadata": {
        "colab": {
          "base_uri": "https://localhost:8080/"
        },
        "id": "grUCx9b2ZPvX",
        "outputId": "2901b15f-306d-4ac3-e6a7-3cc142bd624a"
      },
      "source": [
        "!python element.py --reg 0 --decay 0.0"
      ],
      "execution_count": 3,
      "outputs": [
        {
          "output_type": "stream",
          "text": [
            "Using CUDA!\n",
            "/usr/local/lib/python3.7/dist-packages/torch/utils/data/dataloader.py:477: UserWarning: This DataLoader will create 5 worker processes in total. Our suggested max number of worker in current system is 4, which is smaller than what this DataLoader is going to create. Please be aware that excessive worker creation might get DataLoader running slow or even freeze, lower the worker number to avoid potential slowness/freeze if necessary.\n",
            "  cpuset_checked))\n",
            "LeNet_5(\n",
            "  (conv1): Conv2d(1, 20, kernel_size=(5, 5), stride=(1, 1))\n",
            "  (conv2): Conv2d(20, 50, kernel_size=(5, 5), stride=(1, 1))\n",
            "  (fc1): Linear(in_features=800, out_features=500, bias=True)\n",
            "  (fc2): Linear(in_features=500, out_features=10, bias=True)\n",
            ")\n",
            "Param name           Shape                          Type           \n",
            "----------------------------------------------------------------------\n",
            "conv1.weight         torch.Size([20, 1, 5, 5])      torch.float32  \n",
            "conv1.bias           torch.Size([20])               torch.float32  \n",
            "conv2.weight         torch.Size([50, 20, 5, 5])     torch.float32  \n",
            "conv2.bias           torch.Size([50])               torch.float32  \n",
            "fc1.weight           torch.Size([500, 800])         torch.float32  \n",
            "fc1.bias             torch.Size([500])              torch.float32  \n",
            "fc2.weight           torch.Size([10, 500])          torch.float32  \n",
            "fc2.bias             torch.Size([10])               torch.float32  \n",
            "--- Initial training ---\n",
            "Train Epoch: 249 [50000/60000 ( 83%)]  Loss: 0.000  Reg: 0.000: 100% 250/250 [12:07<00:00,  2.91s/it]\n",
            "Test set: Average loss: 2.4972, Accuracy: 9068/10000 (90.68%)\n"
          ],
          "name": "stdout"
        }
      ]
    },
    {
      "cell_type": "markdown",
      "metadata": {
        "id": "G0ynuJ0irPZH"
      },
      "source": [
        "#fashion_minist element"
      ]
    },
    {
      "cell_type": "code",
      "metadata": {
        "colab": {
          "base_uri": "https://localhost:8080/"
        },
        "id": "PgNwX3mucujy",
        "outputId": "49e73ec6-f91c-436d-9e8a-ef223e8e188c"
      },
      "source": [
        "!python element.py --reg_type 1 --pretrained"
      ],
      "execution_count": 8,
      "outputs": [
        {
          "output_type": "stream",
          "text": [
            "Using CUDA!\n",
            "/usr/local/lib/python3.7/dist-packages/torch/utils/data/dataloader.py:477: UserWarning: This DataLoader will create 5 worker processes in total. Our suggested max number of worker in current system is 4, which is smaller than what this DataLoader is going to create. Please be aware that excessive worker creation might get DataLoader running slow or even freeze, lower the worker number to avoid potential slowness/freeze if necessary.\n",
            "  cpuset_checked))\n",
            "LeNet_5(\n",
            "  (conv1): Conv2d(1, 20, kernel_size=(5, 5), stride=(1, 1))\n",
            "  (conv2): Conv2d(20, 50, kernel_size=(5, 5), stride=(1, 1))\n",
            "  (fc1): Linear(in_features=800, out_features=500, bias=True)\n",
            "  (fc2): Linear(in_features=500, out_features=10, bias=True)\n",
            ")\n",
            "Param name           Shape                          Type           \n",
            "----------------------------------------------------------------------\n",
            "conv1.weight         torch.Size([20, 1, 5, 5])      torch.float32  \n",
            "conv1.bias           torch.Size([20])               torch.float32  \n",
            "conv2.weight         torch.Size([50, 20, 5, 5])     torch.float32  \n",
            "conv2.bias           torch.Size([50])               torch.float32  \n",
            "fc1.weight           torch.Size([500, 800])         torch.float32  \n",
            "fc1.bias             torch.Size([500])              torch.float32  \n",
            "fc2.weight           torch.Size([10, 500])          torch.float32  \n",
            "fc2.bias             torch.Size([10])               torch.float32  \n",
            "Test set: Average loss: 2.4972, Accuracy: 9068/10000 (90.68%)\n",
            "--- Initial training ---\n",
            "Train Epoch: 249 [50000/60000 ( 83%)]  Loss: 0.380  Reg: 216.378: 100% 250/250 [14:46<00:00,  3.55s/it]\n",
            "Test set: Average loss: 0.3170, Accuracy: 8875/10000 (88.75%)\n"
          ],
          "name": "stdout"
        }
      ]
    },
    {
      "cell_type": "code",
      "metadata": {
        "colab": {
          "base_uri": "https://localhost:8080/"
        },
        "id": "r8T3u0q5lUIB",
        "outputId": "08ed52a2-b9e5-48d0-d15e-a9be772fadda"
      },
      "source": [
        "!python element.py --reg_type 2 --pretrained"
      ],
      "execution_count": 9,
      "outputs": [
        {
          "output_type": "stream",
          "text": [
            "Using CUDA!\n",
            "/usr/local/lib/python3.7/dist-packages/torch/utils/data/dataloader.py:477: UserWarning: This DataLoader will create 5 worker processes in total. Our suggested max number of worker in current system is 4, which is smaller than what this DataLoader is going to create. Please be aware that excessive worker creation might get DataLoader running slow or even freeze, lower the worker number to avoid potential slowness/freeze if necessary.\n",
            "  cpuset_checked))\n",
            "LeNet_5(\n",
            "  (conv1): Conv2d(1, 20, kernel_size=(5, 5), stride=(1, 1))\n",
            "  (conv2): Conv2d(20, 50, kernel_size=(5, 5), stride=(1, 1))\n",
            "  (fc1): Linear(in_features=800, out_features=500, bias=True)\n",
            "  (fc2): Linear(in_features=500, out_features=10, bias=True)\n",
            ")\n",
            "Param name           Shape                          Type           \n",
            "----------------------------------------------------------------------\n",
            "conv1.weight         torch.Size([20, 1, 5, 5])      torch.float32  \n",
            "conv1.bias           torch.Size([20])               torch.float32  \n",
            "conv2.weight         torch.Size([50, 20, 5, 5])     torch.float32  \n",
            "conv2.bias           torch.Size([50])               torch.float32  \n",
            "fc1.weight           torch.Size([500, 800])         torch.float32  \n",
            "fc1.bias             torch.Size([500])              torch.float32  \n",
            "fc2.weight           torch.Size([10, 500])          torch.float32  \n",
            "fc2.bias             torch.Size([10])               torch.float32  \n",
            "Test set: Average loss: 2.4972, Accuracy: 9068/10000 (90.68%)\n",
            "--- Initial training ---\n",
            "Train Epoch: 249 [50000/60000 ( 83%)]  Loss: 0.001  Reg: 68.637: 100% 250/250 [17:50<00:00,  4.28s/it]\n",
            "Test set: Average loss: 1.6869, Accuracy: 9089/10000 (90.89%)\n"
          ],
          "name": "stdout"
        }
      ]
    },
    {
      "cell_type": "code",
      "metadata": {
        "colab": {
          "base_uri": "https://localhost:8080/"
        },
        "id": "rOefuNX096vT",
        "outputId": "ff0e26ca-e406-4ed5-c218-54bf90c86e25"
      },
      "source": [
        "!python element.py --reg_type 2 --decay 0.01 --pretrained"
      ],
      "execution_count": 32,
      "outputs": [
        {
          "output_type": "stream",
          "text": [
            "Using CUDA!\n",
            "/usr/local/lib/python3.7/dist-packages/torch/utils/data/dataloader.py:477: UserWarning: This DataLoader will create 5 worker processes in total. Our suggested max number of worker in current system is 4, which is smaller than what this DataLoader is going to create. Please be aware that excessive worker creation might get DataLoader running slow or even freeze, lower the worker number to avoid potential slowness/freeze if necessary.\n",
            "  cpuset_checked))\n",
            "LeNet_5(\n",
            "  (conv1): Conv2d(1, 20, kernel_size=(5, 5), stride=(1, 1))\n",
            "  (conv2): Conv2d(20, 50, kernel_size=(5, 5), stride=(1, 1))\n",
            "  (fc1): Linear(in_features=800, out_features=500, bias=True)\n",
            "  (fc2): Linear(in_features=500, out_features=10, bias=True)\n",
            ")\n",
            "Param name           Shape                          Type           \n",
            "----------------------------------------------------------------------\n",
            "conv1.weight         torch.Size([20, 1, 5, 5])      torch.float32  \n",
            "conv1.bias           torch.Size([20])               torch.float32  \n",
            "conv2.weight         torch.Size([50, 20, 5, 5])     torch.float32  \n",
            "conv2.bias           torch.Size([50])               torch.float32  \n",
            "fc1.weight           torch.Size([500, 800])         torch.float32  \n",
            "fc1.bias             torch.Size([500])              torch.float32  \n",
            "fc2.weight           torch.Size([10, 500])          torch.float32  \n",
            "fc2.bias             torch.Size([10])               torch.float32  \n",
            "Test set: Average loss: 2.4972, Accuracy: 9068/10000 (90.68%)\n",
            "--- Initial training ---\n",
            "Train Epoch: 249 [50000/60000 ( 83%)]  Loss: 0.130  Reg: 62.160: 100% 250/250 [17:42<00:00,  4.25s/it]\n",
            "Test set: Average loss: 0.5849, Accuracy: 8947/10000 (89.47%)\n"
          ],
          "name": "stdout"
        }
      ]
    },
    {
      "cell_type": "code",
      "metadata": {
        "colab": {
          "base_uri": "https://localhost:8080/"
        },
        "id": "IwAZEtBkphJR",
        "outputId": "1ff45800-5f79-4798-ad7e-cc7930448aab"
      },
      "source": [
        "!python element.py --reg_type 3 --pretrained"
      ],
      "execution_count": 10,
      "outputs": [
        {
          "output_type": "stream",
          "text": [
            "Using CUDA!\n",
            "/usr/local/lib/python3.7/dist-packages/torch/utils/data/dataloader.py:477: UserWarning: This DataLoader will create 5 worker processes in total. Our suggested max number of worker in current system is 4, which is smaller than what this DataLoader is going to create. Please be aware that excessive worker creation might get DataLoader running slow or even freeze, lower the worker number to avoid potential slowness/freeze if necessary.\n",
            "  cpuset_checked))\n",
            "LeNet_5(\n",
            "  (conv1): Conv2d(1, 20, kernel_size=(5, 5), stride=(1, 1))\n",
            "  (conv2): Conv2d(20, 50, kernel_size=(5, 5), stride=(1, 1))\n",
            "  (fc1): Linear(in_features=800, out_features=500, bias=True)\n",
            "  (fc2): Linear(in_features=500, out_features=10, bias=True)\n",
            ")\n",
            "Param name           Shape                          Type           \n",
            "----------------------------------------------------------------------\n",
            "conv1.weight         torch.Size([20, 1, 5, 5])      torch.float32  \n",
            "conv1.bias           torch.Size([20])               torch.float32  \n",
            "conv2.weight         torch.Size([50, 20, 5, 5])     torch.float32  \n",
            "conv2.bias           torch.Size([50])               torch.float32  \n",
            "fc1.weight           torch.Size([500, 800])         torch.float32  \n",
            "fc1.bias             torch.Size([500])              torch.float32  \n",
            "fc2.weight           torch.Size([10, 500])          torch.float32  \n",
            "fc2.bias             torch.Size([10])               torch.float32  \n",
            "Test set: Average loss: 2.4972, Accuracy: 9068/10000 (90.68%)\n",
            "--- Initial training ---\n",
            "Train Epoch: 249 [50000/60000 ( 83%)]  Loss: 0.029  Reg: 529.085: 100% 250/250 [18:12<00:00,  4.37s/it]\n",
            "Test set: Average loss: 0.8071, Accuracy: 9008/10000 (90.08%)\n"
          ],
          "name": "stdout"
        }
      ]
    },
    {
      "cell_type": "code",
      "metadata": {
        "colab": {
          "base_uri": "https://localhost:8080/"
        },
        "id": "zPfWwzUV-C_S",
        "outputId": "8d7af159-ba60-4ede-a03f-0c1543898ff5"
      },
      "source": [
        "!python element.py --reg_type 3 --decay 0.0001 --pretrained"
      ],
      "execution_count": 33,
      "outputs": [
        {
          "output_type": "stream",
          "text": [
            "Using CUDA!\n",
            "/usr/local/lib/python3.7/dist-packages/torch/utils/data/dataloader.py:477: UserWarning: This DataLoader will create 5 worker processes in total. Our suggested max number of worker in current system is 4, which is smaller than what this DataLoader is going to create. Please be aware that excessive worker creation might get DataLoader running slow or even freeze, lower the worker number to avoid potential slowness/freeze if necessary.\n",
            "  cpuset_checked))\n",
            "LeNet_5(\n",
            "  (conv1): Conv2d(1, 20, kernel_size=(5, 5), stride=(1, 1))\n",
            "  (conv2): Conv2d(20, 50, kernel_size=(5, 5), stride=(1, 1))\n",
            "  (fc1): Linear(in_features=800, out_features=500, bias=True)\n",
            "  (fc2): Linear(in_features=500, out_features=10, bias=True)\n",
            ")\n",
            "Param name           Shape                          Type           \n",
            "----------------------------------------------------------------------\n",
            "conv1.weight         torch.Size([20, 1, 5, 5])      torch.float32  \n",
            "conv1.bias           torch.Size([20])               torch.float32  \n",
            "conv2.weight         torch.Size([50, 20, 5, 5])     torch.float32  \n",
            "conv2.bias           torch.Size([50])               torch.float32  \n",
            "fc1.weight           torch.Size([500, 800])         torch.float32  \n",
            "fc1.bias             torch.Size([500])              torch.float32  \n",
            "fc2.weight           torch.Size([10, 500])          torch.float32  \n",
            "fc2.bias             torch.Size([10])               torch.float32  \n",
            "Test set: Average loss: 2.4972, Accuracy: 9068/10000 (90.68%)\n",
            "--- Initial training ---\n",
            "Train Epoch: 249 [50000/60000 ( 83%)]  Loss: 0.001  Reg: 1659.228: 100% 250/250 [18:23<00:00,  4.41s/it]\n",
            "Test set: Average loss: 0.9859, Accuracy: 9037/10000 (90.37%)\n"
          ],
          "name": "stdout"
        }
      ]
    },
    {
      "cell_type": "code",
      "metadata": {
        "colab": {
          "base_uri": "https://localhost:8080/"
        },
        "id": "DXWYpSHQtzMy",
        "outputId": "753a5385-163b-4ff9-e486-568d45088bdd"
      },
      "source": [
        "!python element.py --reg_type 4 --pretrained"
      ],
      "execution_count": 11,
      "outputs": [
        {
          "output_type": "stream",
          "text": [
            "Using CUDA!\n",
            "/usr/local/lib/python3.7/dist-packages/torch/utils/data/dataloader.py:477: UserWarning: This DataLoader will create 5 worker processes in total. Our suggested max number of worker in current system is 4, which is smaller than what this DataLoader is going to create. Please be aware that excessive worker creation might get DataLoader running slow or even freeze, lower the worker number to avoid potential slowness/freeze if necessary.\n",
            "  cpuset_checked))\n",
            "LeNet_5(\n",
            "  (conv1): Conv2d(1, 20, kernel_size=(5, 5), stride=(1, 1))\n",
            "  (conv2): Conv2d(20, 50, kernel_size=(5, 5), stride=(1, 1))\n",
            "  (fc1): Linear(in_features=800, out_features=500, bias=True)\n",
            "  (fc2): Linear(in_features=500, out_features=10, bias=True)\n",
            ")\n",
            "Param name           Shape                          Type           \n",
            "----------------------------------------------------------------------\n",
            "conv1.weight         torch.Size([20, 1, 5, 5])      torch.float32  \n",
            "conv1.bias           torch.Size([20])               torch.float32  \n",
            "conv2.weight         torch.Size([50, 20, 5, 5])     torch.float32  \n",
            "conv2.bias           torch.Size([50])               torch.float32  \n",
            "fc1.weight           torch.Size([500, 800])         torch.float32  \n",
            "fc1.bias             torch.Size([500])              torch.float32  \n",
            "fc2.weight           torch.Size([10, 500])          torch.float32  \n",
            "fc2.bias             torch.Size([10])               torch.float32  \n",
            "Test set: Average loss: 2.4972, Accuracy: 9068/10000 (90.68%)\n",
            "--- Initial training ---\n",
            "Train Epoch: 249 [50000/60000 ( 83%)]  Loss: 0.428  Reg: 277.416: 100% 250/250 [17:09<00:00,  4.12s/it]\n",
            "Test set: Average loss: 0.3356, Accuracy: 8788/10000 (87.88%)\n"
          ],
          "name": "stdout"
        }
      ]
    },
    {
      "cell_type": "code",
      "metadata": {
        "colab": {
          "base_uri": "https://localhost:8080/"
        },
        "id": "XScbBahg-KKj",
        "outputId": "bd5bee76-1c97-46a9-bc9f-fd4dd3be2051"
      },
      "source": [
        "!python element.py --reg_type 4 --decay 2e-5 --pretrained"
      ],
      "execution_count": 34,
      "outputs": [
        {
          "output_type": "stream",
          "text": [
            "Using CUDA!\n",
            "/usr/local/lib/python3.7/dist-packages/torch/utils/data/dataloader.py:477: UserWarning: This DataLoader will create 5 worker processes in total. Our suggested max number of worker in current system is 4, which is smaller than what this DataLoader is going to create. Please be aware that excessive worker creation might get DataLoader running slow or even freeze, lower the worker number to avoid potential slowness/freeze if necessary.\n",
            "  cpuset_checked))\n",
            "LeNet_5(\n",
            "  (conv1): Conv2d(1, 20, kernel_size=(5, 5), stride=(1, 1))\n",
            "  (conv2): Conv2d(20, 50, kernel_size=(5, 5), stride=(1, 1))\n",
            "  (fc1): Linear(in_features=800, out_features=500, bias=True)\n",
            "  (fc2): Linear(in_features=500, out_features=10, bias=True)\n",
            ")\n",
            "Param name           Shape                          Type           \n",
            "----------------------------------------------------------------------\n",
            "conv1.weight         torch.Size([20, 1, 5, 5])      torch.float32  \n",
            "conv1.bias           torch.Size([20])               torch.float32  \n",
            "conv2.weight         torch.Size([50, 20, 5, 5])     torch.float32  \n",
            "conv2.bias           torch.Size([50])               torch.float32  \n",
            "fc1.weight           torch.Size([500, 800])         torch.float32  \n",
            "fc1.bias             torch.Size([500])              torch.float32  \n",
            "fc2.weight           torch.Size([10, 500])          torch.float32  \n",
            "fc2.bias             torch.Size([10])               torch.float32  \n",
            "Test set: Average loss: 2.4972, Accuracy: 9068/10000 (90.68%)\n",
            "--- Initial training ---\n",
            "Train Epoch: 249 [50000/60000 ( 83%)]  Loss: 0.005  Reg: 7687.196: 100% 250/250 [17:10<00:00,  4.12s/it]\n",
            "Test set: Average loss: 0.6901, Accuracy: 9039/10000 (90.39%)\n"
          ],
          "name": "stdout"
        }
      ]
    },
    {
      "cell_type": "markdown",
      "metadata": {
        "id": "FIfCPlOeCQal"
      },
      "source": [
        "##pruning"
      ]
    },
    {
      "cell_type": "code",
      "metadata": {
        "colab": {
          "base_uri": "https://localhost:8080/"
        },
        "id": "EJ_pKfn0JXl4",
        "outputId": "dca20338-02b7-4220-cf71-f414b7a00e52"
      },
      "source": [
        "!python prun_tune_V_fashion.py --model saves_fashion/elt_0.0_0 --sensitivity 0.08 "
      ],
      "execution_count": 3,
      "outputs": [
        {
          "output_type": "stream",
          "text": [
            "Using CUDA!\n",
            "/usr/local/lib/python3.7/dist-packages/torch/utils/data/dataloader.py:477: UserWarning: This DataLoader will create 5 worker processes in total. Our suggested max number of worker in current system is 4, which is smaller than what this DataLoader is going to create. Please be aware that excessive worker creation might get DataLoader running slow or even freeze, lower the worker number to avoid potential slowness/freeze if necessary.\n",
            "  cpuset_checked))\n",
            "--- Pruning ---\n",
            "Pruning with threshold : 0.03381674528121948 for layer conv1.weight\n",
            "Pruning with threshold : 0.01925510048866272 for layer conv1.bias\n",
            "Pruning with threshold : 0.028718280792236327 for layer conv2.weight\n",
            "Pruning with threshold : 0.029304850101470947 for layer conv2.bias\n",
            "Pruning with threshold : 0.023585810661315917 for layer fc1.weight\n",
            "Pruning with threshold : 0.016054936647415162 for layer fc1.bias\n",
            "Pruning with threshold : 0.0257480525970459 for layer fc2.weight\n",
            "Pruning with threshold : 0.02578336715698242 for layer fc2.bias\n",
            "conv1.weight         | nonzeros =     469 /     500 ( 93.80%) | total_pruned =      31 | shape = (20, 1, 5, 5)\n",
            "conv1.weight         | dim0 =       1 /       1 (100.00%) | dim1 =      20 /      20 (100.00%)\n",
            "conv1.bias           | nonzeros =      20 /      20 (100.00%) | total_pruned =       0 | shape = (20,)\n",
            "conv2.weight         | nonzeros =   22885 /   25000 ( 91.54%) | total_pruned =    2115 | shape = (50, 20, 5, 5)\n",
            "conv2.weight         | dim0 =      20 /      20 (100.00%) | dim1 =      50 /      50 (100.00%)\n",
            "conv2.bias           | nonzeros =      50 /      50 (100.00%) | total_pruned =       0 | shape = (50,)\n",
            "fc1.weight           | nonzeros =  321917 /  400000 ( 80.48%) | total_pruned =   78083 | shape = (500, 800)\n",
            "fc1.weight           | dim0 =     800 /     800 (100.00%) | dim1 =     500 /     500 (100.00%)\n",
            "fc1.bias             | nonzeros =     449 /     500 ( 89.80%) | total_pruned =      51 | shape = (500,)\n",
            "fc2.weight           | nonzeros =    4045 /    5000 ( 80.90%) | total_pruned =     955 | shape = (10, 500)\n",
            "fc2.weight           | dim0 =     500 /     500 (100.00%) | dim1 =      10 /      10 (100.00%)\n",
            "fc2.bias             | nonzeros =      10 /      10 (100.00%) | total_pruned =       0 | shape = (10,)\n",
            "alive: 349845, pruned : 81235, total: 431080, Compression rate :       1.23x  ( 18.84% pruned)\n",
            "--- Finetuning ---\n",
            "Best: 91.26% Train Epoch: 35 [50000/60000 ( 83%)]  Loss: 0.009757 Total: 0.009757:  70% 35/50 [03:33<01:30,  6.05s/it]Traceback (most recent call last):\n",
            "  File \"prun_tune_V_fashion.py\", line 143, in <module>\n",
            "  File \"prun_tune_V_fashion.py\", line 84, in train\n",
            "    for batch_idx, (data, target) in enumerate(train_loader):\n",
            "  File \"/usr/local/lib/python3.7/dist-packages/torch/utils/data/dataloader.py\", line 517, in __next__\n",
            "    data = self._next_data()\n",
            "  File \"/usr/local/lib/python3.7/dist-packages/torch/utils/data/dataloader.py\", line 1171, in _next_data\n",
            "    self._shutdown_workers()\n",
            "  File \"/usr/local/lib/python3.7/dist-packages/torch/utils/data/dataloader.py\", line 1297, in _shutdown_workers\n",
            "    w.join(timeout=_utils.MP_STATUS_CHECK_INTERVAL)\n",
            "  File \"/usr/lib/python3.7/multiprocessing/process.py\", line 140, in join\n",
            "    res = self._popen.wait(timeout)\n",
            "  File \"/usr/lib/python3.7/multiprocessing/popen_fork.py\", line 45, in wait\n",
            "    if not wait([self.sentinel], timeout):\n",
            "  File \"/usr/lib/python3.7/multiprocessing/connection.py\", line 921, in wait\n",
            "    ready = selector.select(timeout)\n",
            "  File \"/usr/lib/python3.7/selectors.py\", line 415, in select\n",
            "    fd_event_list = self._selector.poll(timeout)\n",
            "KeyboardInterrupt\n",
            "Best: 91.26% Train Epoch: 35 [50000/60000 ( 83%)]  Loss: 0.009757 Total: 0.009757:  70% 35/50 [03:34<01:31,  6.13s/it]\n"
          ],
          "name": "stdout"
        }
      ]
    },
    {
      "cell_type": "code",
      "metadata": {
        "colab": {
          "base_uri": "https://localhost:8080/"
        },
        "id": "_5VmwdXiL28a",
        "outputId": "b2d0b905-c2db-4645-a989-b6e9d5f57b21"
      },
      "source": [
        "!python prun_tune_V_fashion.py --model saves_fashion/elt_0.001_1 --sensitivity 0.03 "
      ],
      "execution_count": 5,
      "outputs": [
        {
          "output_type": "stream",
          "text": [
            "Using CUDA!\n",
            "/usr/local/lib/python3.7/dist-packages/torch/utils/data/dataloader.py:477: UserWarning: This DataLoader will create 5 worker processes in total. Our suggested max number of worker in current system is 4, which is smaller than what this DataLoader is going to create. Please be aware that excessive worker creation might get DataLoader running slow or even freeze, lower the worker number to avoid potential slowness/freeze if necessary.\n",
            "  cpuset_checked))\n",
            "--- Pruning ---\n",
            "Pruning with threshold : 0.007529236972332 for layer conv1.weight\n",
            "Pruning with threshold : 0.011606569290161132 for layer conv1.bias\n",
            "Pruning with threshold : 0.0011680775508284569 for layer conv2.weight\n",
            "Pruning with threshold : 0.003987655341625214 for layer conv2.bias\n",
            "Pruning with threshold : 0.00019166847690939903 for layer fc1.weight\n",
            "Pruning with threshold : 6.271548190852627e-06 for layer fc1.bias\n",
            "Pruning with threshold : 0.003096131309866905 for layer fc2.weight\n",
            "Pruning with threshold : 2.2574358154088256e-05 for layer fc2.bias\n",
            "conv1.weight         | nonzeros =      64 /     500 ( 12.80%) | total_pruned =     436 | shape = (20, 1, 5, 5)\n",
            "conv1.weight         | dim0 =       1 /       1 (100.00%) | dim1 =       5 /      20 ( 25.00%)\n",
            "conv1.bias           | nonzeros =       2 /      20 ( 10.00%) | total_pruned =      18 | shape = (20,)\n",
            "conv2.weight         | nonzeros =     838 /   25000 (  3.35%) | total_pruned =   24162 | shape = (50, 20, 5, 5)\n",
            "conv2.weight         | dim0 =       5 /      20 ( 25.00%) | dim1 =       9 /      50 ( 18.00%)\n",
            "conv2.bias           | nonzeros =       3 /      50 (  6.00%) | total_pruned =      47 | shape = (50,)\n",
            "fc1.weight           | nonzeros =   54808 /  400000 ( 13.70%) | total_pruned =  345192 | shape = (500, 800)\n",
            "fc1.weight           | dim0 =     800 /     800 (100.00%) | dim1 =     500 /     500 (100.00%)\n",
            "fc1.bias             | nonzeros =     473 /     500 ( 94.60%) | total_pruned =      27 | shape = (500,)\n",
            "fc2.weight           | nonzeros =      64 /    5000 (  1.28%) | total_pruned =    4936 | shape = (10, 500)\n",
            "fc2.weight           | dim0 =      14 /     500 (  2.80%) | dim1 =      10 /      10 (100.00%)\n",
            "fc2.bias             | nonzeros =       9 /      10 ( 90.00%) | total_pruned =       1 | shape = (10,)\n",
            "alive: 56261, pruned : 374819, total: 431080, Compression rate :       7.66x  ( 86.95% pruned)\n",
            "--- Finetuning ---\n",
            "Best: 90.18% Train Epoch: 49 [50000/60000 ( 83%)]  Loss: 0.146061 Total: 0.146061: 100% 50/50 [05:09<00:00,  6.20s/it]\n",
            "Accuracy: 90.18%\n",
            "conv1.weight         | nonzeros =      64 /     500 ( 12.80%) | total_pruned =     436 | shape = (20, 1, 5, 5)\n",
            "conv1.weight         | dim0 =       1 /       1 (100.00%) | dim1 =       5 /      20 ( 25.00%)\n",
            "conv1.bias           | nonzeros =       2 /      20 ( 10.00%) | total_pruned =      18 | shape = (20,)\n",
            "conv2.weight         | nonzeros =     838 /   25000 (  3.35%) | total_pruned =   24162 | shape = (50, 20, 5, 5)\n",
            "conv2.weight         | dim0 =       5 /      20 ( 25.00%) | dim1 =       9 /      50 ( 18.00%)\n",
            "conv2.bias           | nonzeros =       3 /      50 (  6.00%) | total_pruned =      47 | shape = (50,)\n",
            "fc1.weight           | nonzeros =   54808 /  400000 ( 13.70%) | total_pruned =  345192 | shape = (500, 800)\n",
            "fc1.weight           | dim0 =     800 /     800 (100.00%) | dim1 =     500 /     500 (100.00%)\n",
            "fc1.bias             | nonzeros =     473 /     500 ( 94.60%) | total_pruned =      27 | shape = (500,)\n",
            "fc2.weight           | nonzeros =      64 /    5000 (  1.28%) | total_pruned =    4936 | shape = (10, 500)\n",
            "fc2.weight           | dim0 =      14 /     500 (  2.80%) | dim1 =      10 /      10 (100.00%)\n",
            "fc2.bias             | nonzeros =       9 /      10 ( 90.00%) | total_pruned =       1 | shape = (10,)\n",
            "alive: 56261, pruned : 374819, total: 431080, Compression rate :       7.66x  ( 86.95% pruned)\n"
          ],
          "name": "stdout"
        }
      ]
    },
    {
      "cell_type": "code",
      "metadata": {
        "colab": {
          "base_uri": "https://localhost:8080/"
        },
        "id": "asCGvZ1-USOn",
        "outputId": "8f6cf92e-f4d1-42d0-f6ec-69dc990cb7ec"
      },
      "source": [
        "!python prun_tune_V_fashion.py --model saves_fashion/elt_0.001_1 --sensitivity 0.03 "
      ],
      "execution_count": 10,
      "outputs": [
        {
          "output_type": "stream",
          "text": [
            "Using CUDA!\n",
            "/usr/local/lib/python3.7/dist-packages/torch/utils/data/dataloader.py:477: UserWarning: This DataLoader will create 5 worker processes in total. Our suggested max number of worker in current system is 4, which is smaller than what this DataLoader is going to create. Please be aware that excessive worker creation might get DataLoader running slow or even freeze, lower the worker number to avoid potential slowness/freeze if necessary.\n",
            "  cpuset_checked))\n",
            "--- Pruning ---\n",
            "Pruning with threshold : 0.007529236972332 for layer conv1.weight\n",
            "Pruning with threshold : 0.011606569290161132 for layer conv1.bias\n",
            "Pruning with threshold : 0.0011680775508284569 for layer conv2.weight\n",
            "Pruning with threshold : 0.003987655341625214 for layer conv2.bias\n",
            "Pruning with threshold : 0.00019166847690939903 for layer fc1.weight\n",
            "Pruning with threshold : 6.271548190852627e-06 for layer fc1.bias\n",
            "Pruning with threshold : 0.003096131309866905 for layer fc2.weight\n",
            "Pruning with threshold : 2.2574358154088256e-05 for layer fc2.bias\n",
            "conv1.weight         | nonzeros =      64 /     500 ( 12.80%) | total_pruned =     436 | shape = (20, 1, 5, 5)\n",
            "conv1.weight         | dim0 =       1 /       1 (100.00%) | dim1 =       5 /      20 ( 25.00%)\n",
            "conv1.bias           | nonzeros =       2 /      20 ( 10.00%) | total_pruned =      18 | shape = (20,)\n",
            "conv2.weight         | nonzeros =     838 /   25000 (  3.35%) | total_pruned =   24162 | shape = (50, 20, 5, 5)\n",
            "conv2.weight         | dim0 =       5 /      20 ( 25.00%) | dim1 =       9 /      50 ( 18.00%)\n",
            "conv2.bias           | nonzeros =       3 /      50 (  6.00%) | total_pruned =      47 | shape = (50,)\n",
            "fc1.weight           | nonzeros =   54808 /  400000 ( 13.70%) | total_pruned =  345192 | shape = (500, 800)\n",
            "fc1.weight           | dim0 =     800 /     800 (100.00%) | dim1 =     500 /     500 (100.00%)\n",
            "fc1.bias             | nonzeros =     473 /     500 ( 94.60%) | total_pruned =      27 | shape = (500,)\n",
            "fc2.weight           | nonzeros =      64 /    5000 (  1.28%) | total_pruned =    4936 | shape = (10, 500)\n",
            "fc2.weight           | dim0 =      14 /     500 (  2.80%) | dim1 =      10 /      10 (100.00%)\n",
            "fc2.bias             | nonzeros =       9 /      10 ( 90.00%) | total_pruned =       1 | shape = (10,)\n",
            "alive: 56261, pruned : 374819, total: 431080, Compression rate :       7.66x  ( 86.95% pruned)\n",
            "--- Finetuning ---\n",
            "Best: 90.19% Train Epoch: 49 [50000/60000 ( 83%)]  Loss: 0.147234 Total: 0.147234: 100% 50/50 [05:15<00:00,  6.30s/it]\n",
            "Accuracy: 90.19%\n",
            "conv1.weight         | nonzeros =      64 /     500 ( 12.80%) | total_pruned =     436 | shape = (20, 1, 5, 5)\n",
            "conv1.weight         | dim0 =       1 /       1 (100.00%) | dim1 =       5 /      20 ( 25.00%)\n",
            "conv1.bias           | nonzeros =       2 /      20 ( 10.00%) | total_pruned =      18 | shape = (20,)\n",
            "conv2.weight         | nonzeros =     838 /   25000 (  3.35%) | total_pruned =   24162 | shape = (50, 20, 5, 5)\n",
            "conv2.weight         | dim0 =       5 /      20 ( 25.00%) | dim1 =       9 /      50 ( 18.00%)\n",
            "conv2.bias           | nonzeros =       3 /      50 (  6.00%) | total_pruned =      47 | shape = (50,)\n",
            "fc1.weight           | nonzeros =   54808 /  400000 ( 13.70%) | total_pruned =  345192 | shape = (500, 800)\n",
            "fc1.weight           | dim0 =     800 /     800 (100.00%) | dim1 =     500 /     500 (100.00%)\n",
            "fc1.bias             | nonzeros =     473 /     500 ( 94.60%) | total_pruned =      27 | shape = (500,)\n",
            "fc2.weight           | nonzeros =      64 /    5000 (  1.28%) | total_pruned =    4936 | shape = (10, 500)\n",
            "fc2.weight           | dim0 =      14 /     500 (  2.80%) | dim1 =      10 /      10 (100.00%)\n",
            "fc2.bias             | nonzeros =       9 /      10 ( 90.00%) | total_pruned =       1 | shape = (10,)\n",
            "alive: 56261, pruned : 374819, total: 431080, Compression rate :       7.66x  ( 86.95% pruned)\n"
          ],
          "name": "stdout"
        }
      ]
    },
    {
      "cell_type": "code",
      "metadata": {
        "colab": {
          "base_uri": "https://localhost:8080/"
        },
        "id": "CUBoZef1ju84",
        "outputId": "72c3af08-625a-4791-ef0a-92c216084ad1"
      },
      "source": [
        "!python prun_tune_V_fashion.py --model saves_fashion/elt_0.001_2 --sensitivity 0.08 "
      ],
      "execution_count": 9,
      "outputs": [
        {
          "output_type": "stream",
          "text": [
            "Using CUDA!\n",
            "/usr/local/lib/python3.7/dist-packages/torch/utils/data/dataloader.py:477: UserWarning: This DataLoader will create 5 worker processes in total. Our suggested max number of worker in current system is 4, which is smaller than what this DataLoader is going to create. Please be aware that excessive worker creation might get DataLoader running slow or even freeze, lower the worker number to avoid potential slowness/freeze if necessary.\n",
            "  cpuset_checked))\n",
            "--- Pruning ---\n",
            "Pruning with threshold : 0.249091739654541 for layer conv1.weight\n",
            "Pruning with threshold : 2.432593994140625 for layer conv1.bias\n",
            "Pruning with threshold : 0.3919355392456055 for layer conv2.weight\n",
            "Pruning with threshold : 0.040954666137695314 for layer conv2.bias\n",
            "Pruning with threshold : 0.5279229736328125 for layer fc1.weight\n",
            "Pruning with threshold : 0.41061565399169925 for layer fc1.bias\n",
            "Pruning with threshold : 0.5775148391723633 for layer fc2.weight\n",
            "Pruning with threshold : 0.06129956245422363 for layer fc2.bias\n",
            "conv1.weight         | nonzeros =     223 /     500 ( 44.60%) | total_pruned =     277 | shape = (20, 1, 5, 5)\n",
            "conv1.weight         | dim0 =       1 /       1 (100.00%) | dim1 =      18 /      20 ( 90.00%)\n",
            "conv1.bias           | nonzeros =       1 /      20 (  5.00%) | total_pruned =      19 | shape = (20,)\n",
            "conv2.weight         | nonzeros =    5026 /   25000 ( 20.10%) | total_pruned =   19974 | shape = (50, 20, 5, 5)\n",
            "conv2.weight         | dim0 =      19 /      20 ( 95.00%) | dim1 =      48 /      50 ( 96.00%)\n",
            "conv2.bias           | nonzeros =       3 /      50 (  6.00%) | total_pruned =      47 | shape = (50,)\n",
            "fc1.weight           | nonzeros =   27733 /  400000 (  6.93%) | total_pruned =  372267 | shape = (500, 800)\n",
            "fc1.weight           | dim0 =     768 /     800 ( 96.00%) | dim1 =     371 /     500 ( 74.20%)\n",
            "fc1.bias             | nonzeros =       1 /     500 (  0.20%) | total_pruned =     499 | shape = (500,)\n",
            "fc2.weight           | nonzeros =     188 /    5000 (  3.76%) | total_pruned =    4812 | shape = (10, 500)\n",
            "fc2.weight           | dim0 =     143 /     500 ( 28.60%) | dim1 =      10 /      10 (100.00%)\n",
            "fc2.bias             | nonzeros =       1 /      10 ( 10.00%) | total_pruned =       9 | shape = (10,)\n",
            "alive: 33176, pruned : 397904, total: 431080, Compression rate :      12.99x  ( 92.30% pruned)\n",
            "--- Finetuning ---\n",
            "Best: 89.86% Train Epoch: 49 [50000/60000 ( 83%)]  Loss: 0.082450 Total: 0.082450: 100% 50/50 [04:23<00:00,  5.28s/it]\n",
            "Accuracy: 89.86%\n",
            "conv1.weight         | nonzeros =     223 /     500 ( 44.60%) | total_pruned =     277 | shape = (20, 1, 5, 5)\n",
            "conv1.weight         | dim0 =       1 /       1 (100.00%) | dim1 =      18 /      20 ( 90.00%)\n",
            "conv1.bias           | nonzeros =       1 /      20 (  5.00%) | total_pruned =      19 | shape = (20,)\n",
            "conv2.weight         | nonzeros =    5026 /   25000 ( 20.10%) | total_pruned =   19974 | shape = (50, 20, 5, 5)\n",
            "conv2.weight         | dim0 =      19 /      20 ( 95.00%) | dim1 =      48 /      50 ( 96.00%)\n",
            "conv2.bias           | nonzeros =       3 /      50 (  6.00%) | total_pruned =      47 | shape = (50,)\n",
            "fc1.weight           | nonzeros =   27733 /  400000 (  6.93%) | total_pruned =  372267 | shape = (500, 800)\n",
            "fc1.weight           | dim0 =     768 /     800 ( 96.00%) | dim1 =     371 /     500 ( 74.20%)\n",
            "fc1.bias             | nonzeros =       1 /     500 (  0.20%) | total_pruned =     499 | shape = (500,)\n",
            "fc2.weight           | nonzeros =     188 /    5000 (  3.76%) | total_pruned =    4812 | shape = (10, 500)\n",
            "fc2.weight           | dim0 =     143 /     500 ( 28.60%) | dim1 =      10 /      10 (100.00%)\n",
            "fc2.bias             | nonzeros =       1 /      10 ( 10.00%) | total_pruned =       9 | shape = (10,)\n",
            "alive: 33176, pruned : 397904, total: 431080, Compression rate :      12.99x  ( 92.30% pruned)\n"
          ],
          "name": "stdout"
        }
      ]
    },
    {
      "cell_type": "code",
      "metadata": {
        "colab": {
          "base_uri": "https://localhost:8080/"
        },
        "id": "Kx1BBPBMmEZw",
        "outputId": "03e8b265-8907-4d78-855d-fbf613d06776"
      },
      "source": [
        "!python prun_tune_V_fashion.py --model saves_fashion/elt_0.001_2 --sensitivity 0.01 "
      ],
      "execution_count": 10,
      "outputs": [
        {
          "output_type": "stream",
          "text": [
            "Using CUDA!\n",
            "/usr/local/lib/python3.7/dist-packages/torch/utils/data/dataloader.py:477: UserWarning: This DataLoader will create 5 worker processes in total. Our suggested max number of worker in current system is 4, which is smaller than what this DataLoader is going to create. Please be aware that excessive worker creation might get DataLoader running slow or even freeze, lower the worker number to avoid potential slowness/freeze if necessary.\n",
            "  cpuset_checked))\n",
            "--- Pruning ---\n",
            "Pruning with threshold : 0.031136467456817626 for layer conv1.weight\n",
            "Pruning with threshold : 0.30407424926757814 for layer conv1.bias\n",
            "Pruning with threshold : 0.048991942405700685 for layer conv2.weight\n",
            "Pruning with threshold : 0.005119333267211914 for layer conv2.bias\n",
            "Pruning with threshold : 0.06599037170410156 for layer fc1.weight\n",
            "Pruning with threshold : 0.051326956748962406 for layer fc1.bias\n",
            "Pruning with threshold : 0.07218935489654542 for layer fc2.weight\n",
            "Pruning with threshold : 0.007662445306777954 for layer fc2.bias\n",
            "conv1.weight         | nonzeros =     391 /     500 ( 78.20%) | total_pruned =     109 | shape = (20, 1, 5, 5)\n",
            "conv1.weight         | dim0 =       1 /       1 (100.00%) | dim1 =      18 /      20 ( 90.00%)\n",
            "conv1.bias           | nonzeros =       5 /      20 ( 25.00%) | total_pruned =      15 | shape = (20,)\n",
            "conv2.weight         | nonzeros =   16684 /   25000 ( 66.74%) | total_pruned =    8316 | shape = (50, 20, 5, 5)\n",
            "conv2.weight         | dim0 =      20 /      20 (100.00%) | dim1 =      48 /      50 ( 96.00%)\n",
            "conv2.bias           | nonzeros =      26 /      50 ( 52.00%) | total_pruned =      24 | shape = (50,)\n",
            "fc1.weight           | nonzeros =  157765 /  400000 ( 39.44%) | total_pruned =  242235 | shape = (500, 800)\n",
            "fc1.weight           | dim0 =     784 /     800 ( 98.00%) | dim1 =     445 /     500 ( 89.00%)\n",
            "fc1.bias             | nonzeros =       1 /     500 (  0.20%) | total_pruned =     499 | shape = (500,)\n",
            "fc2.weight           | nonzeros =    1829 /    5000 ( 36.58%) | total_pruned =    3171 | shape = (10, 500)\n",
            "fc2.weight           | dim0 =     337 /     500 ( 67.40%) | dim1 =      10 /      10 (100.00%)\n",
            "fc2.bias             | nonzeros =       1 /      10 ( 10.00%) | total_pruned =       9 | shape = (10,)\n",
            "alive: 176702, pruned : 254378, total: 431080, Compression rate :       2.44x  ( 59.01% pruned)\n",
            "--- Finetuning ---\n",
            "Best: 91.47% Train Epoch: 49 [50000/60000 ( 83%)]  Loss: 0.011938 Total: 0.011938: 100% 50/50 [04:45<00:00,  5.70s/it]\n",
            "Accuracy: 91.47%\n",
            "conv1.weight         | nonzeros =     391 /     500 ( 78.20%) | total_pruned =     109 | shape = (20, 1, 5, 5)\n",
            "conv1.weight         | dim0 =       1 /       1 (100.00%) | dim1 =      18 /      20 ( 90.00%)\n",
            "conv1.bias           | nonzeros =       5 /      20 ( 25.00%) | total_pruned =      15 | shape = (20,)\n",
            "conv2.weight         | nonzeros =   16684 /   25000 ( 66.74%) | total_pruned =    8316 | shape = (50, 20, 5, 5)\n",
            "conv2.weight         | dim0 =      20 /      20 (100.00%) | dim1 =      48 /      50 ( 96.00%)\n",
            "conv2.bias           | nonzeros =      26 /      50 ( 52.00%) | total_pruned =      24 | shape = (50,)\n",
            "fc1.weight           | nonzeros =  157765 /  400000 ( 39.44%) | total_pruned =  242235 | shape = (500, 800)\n",
            "fc1.weight           | dim0 =     784 /     800 ( 98.00%) | dim1 =     445 /     500 ( 89.00%)\n",
            "fc1.bias             | nonzeros =       1 /     500 (  0.20%) | total_pruned =     499 | shape = (500,)\n",
            "fc2.weight           | nonzeros =    1829 /    5000 ( 36.58%) | total_pruned =    3171 | shape = (10, 500)\n",
            "fc2.weight           | dim0 =     337 /     500 ( 67.40%) | dim1 =      10 /      10 (100.00%)\n",
            "fc2.bias             | nonzeros =       1 /      10 ( 10.00%) | total_pruned =       9 | shape = (10,)\n",
            "alive: 176702, pruned : 254378, total: 431080, Compression rate :       2.44x  ( 59.01% pruned)\n"
          ],
          "name": "stdout"
        }
      ]
    },
    {
      "cell_type": "code",
      "metadata": {
        "colab": {
          "base_uri": "https://localhost:8080/"
        },
        "id": "b5UYDUcrSwF7",
        "outputId": "77e724ba-c917-48c9-d6d4-bb6c30b6efa1"
      },
      "source": [
        "!python prun_tune_V_fashion.py --model saves_fashion/elt_0.01_2 --sensitivity 0.07 "
      ],
      "execution_count": 9,
      "outputs": [
        {
          "output_type": "stream",
          "text": [
            "Using CUDA!\n",
            "/usr/local/lib/python3.7/dist-packages/torch/utils/data/dataloader.py:477: UserWarning: This DataLoader will create 5 worker processes in total. Our suggested max number of worker in current system is 4, which is smaller than what this DataLoader is going to create. Please be aware that excessive worker creation might get DataLoader running slow or even freeze, lower the worker number to avoid potential slowness/freeze if necessary.\n",
            "  cpuset_checked))\n",
            "--- Pruning ---\n",
            "Pruning with threshold : 0.49208586215972905 for layer conv1.weight\n",
            "Pruning with threshold : 2.1537757301330567 for layer conv1.bias\n",
            "Pruning with threshold : 0.4903519439697266 for layer conv2.weight\n",
            "Pruning with threshold : 0.04161656498908997 for layer conv2.bias\n",
            "Pruning with threshold : 0.619507703781128 for layer fc1.weight\n",
            "Pruning with threshold : 0.35137843608856206 for layer fc1.bias\n",
            "Pruning with threshold : 0.5223172283172608 for layer fc2.weight\n",
            "Pruning with threshold : 0.06691442370414734 for layer fc2.bias\n",
            "conv1.weight         | nonzeros =      56 /     500 ( 11.20%) | total_pruned =     444 | shape = (20, 1, 5, 5)\n",
            "conv1.weight         | dim0 =       1 /       1 (100.00%) | dim1 =      13 /      20 ( 65.00%)\n",
            "conv1.bias           | nonzeros =       1 /      20 (  5.00%) | total_pruned =      19 | shape = (20,)\n",
            "conv2.weight         | nonzeros =     715 /   25000 (  2.86%) | total_pruned =   24285 | shape = (50, 20, 5, 5)\n",
            "conv2.weight         | dim0 =      17 /      20 ( 85.00%) | dim1 =      48 /      50 ( 96.00%)\n",
            "conv2.bias           | nonzeros =       1 /      50 (  2.00%) | total_pruned =      49 | shape = (50,)\n",
            "fc1.weight           | nonzeros =    4122 /  400000 (  1.03%) | total_pruned =  395878 | shape = (500, 800)\n",
            "fc1.weight           | dim0 =     750 /     800 ( 93.75%) | dim1 =     284 /     500 ( 56.80%)\n",
            "fc1.bias             | nonzeros =       1 /     500 (  0.20%) | total_pruned =     499 | shape = (500,)\n",
            "fc2.weight           | nonzeros =     152 /    5000 (  3.04%) | total_pruned =    4848 | shape = (10, 500)\n",
            "fc2.weight           | dim0 =     121 /     500 ( 24.20%) | dim1 =      10 /      10 (100.00%)\n",
            "fc2.bias             | nonzeros =       1 /      10 ( 10.00%) | total_pruned =       9 | shape = (10,)\n",
            "alive: 5049, pruned : 426031, total: 431080, Compression rate :      85.38x  ( 98.83% pruned)\n",
            "--- Finetuning ---\n",
            "Best: 88.18% Train Epoch: 49 [50000/60000 ( 83%)]  Loss: 0.306401 Total: 0.306401: 100% 50/50 [04:57<00:00,  5.96s/it]\n",
            "Accuracy: 88.18%\n",
            "conv1.weight         | nonzeros =      56 /     500 ( 11.20%) | total_pruned =     444 | shape = (20, 1, 5, 5)\n",
            "conv1.weight         | dim0 =       1 /       1 (100.00%) | dim1 =      13 /      20 ( 65.00%)\n",
            "conv1.bias           | nonzeros =       1 /      20 (  5.00%) | total_pruned =      19 | shape = (20,)\n",
            "conv2.weight         | nonzeros =     715 /   25000 (  2.86%) | total_pruned =   24285 | shape = (50, 20, 5, 5)\n",
            "conv2.weight         | dim0 =      17 /      20 ( 85.00%) | dim1 =      48 /      50 ( 96.00%)\n",
            "conv2.bias           | nonzeros =       1 /      50 (  2.00%) | total_pruned =      49 | shape = (50,)\n",
            "fc1.weight           | nonzeros =    4122 /  400000 (  1.03%) | total_pruned =  395878 | shape = (500, 800)\n",
            "fc1.weight           | dim0 =     750 /     800 ( 93.75%) | dim1 =     284 /     500 ( 56.80%)\n",
            "fc1.bias             | nonzeros =       1 /     500 (  0.20%) | total_pruned =     499 | shape = (500,)\n",
            "fc2.weight           | nonzeros =     152 /    5000 (  3.04%) | total_pruned =    4848 | shape = (10, 500)\n",
            "fc2.weight           | dim0 =     121 /     500 ( 24.20%) | dim1 =      10 /      10 (100.00%)\n",
            "fc2.bias             | nonzeros =       1 /      10 ( 10.00%) | total_pruned =       9 | shape = (10,)\n",
            "alive: 5049, pruned : 426031, total: 431080, Compression rate :      85.38x  ( 98.83% pruned)\n"
          ],
          "name": "stdout"
        }
      ]
    },
    {
      "cell_type": "code",
      "metadata": {
        "colab": {
          "base_uri": "https://localhost:8080/"
        },
        "id": "66AZI8Op-TXu",
        "outputId": "c04624b8-0da1-4351-f3e1-ee5e199aa9f9"
      },
      "source": [
        "!python prun_tune_V_fashion.py --model saves_fashion/elt_0.01_2 --sensitivity 0.08 "
      ],
      "execution_count": 13,
      "outputs": [
        {
          "output_type": "stream",
          "text": [
            "Using CUDA!\n",
            "/usr/local/lib/python3.7/dist-packages/torch/utils/data/dataloader.py:477: UserWarning: This DataLoader will create 5 worker processes in total. Our suggested max number of worker in current system is 4, which is smaller than what this DataLoader is going to create. Please be aware that excessive worker creation might get DataLoader running slow or even freeze, lower the worker number to avoid potential slowness/freeze if necessary.\n",
            "  cpuset_checked))\n",
            "--- Pruning ---\n",
            "Pruning with threshold : 0.5623838424682618 for layer conv1.weight\n",
            "Pruning with threshold : 2.461457977294922 for layer conv1.bias\n",
            "Pruning with threshold : 0.5604022216796876 for layer conv2.weight\n",
            "Pruning with threshold : 0.04756178855895996 for layer conv2.bias\n",
            "Pruning with threshold : 0.7080088043212891 for layer fc1.weight\n",
            "Pruning with threshold : 0.4015753555297852 for layer fc1.bias\n",
            "Pruning with threshold : 0.5969339752197266 for layer fc2.weight\n",
            "Pruning with threshold : 0.0764736270904541 for layer fc2.bias\n",
            "conv1.weight         | nonzeros =      43 /     500 (  8.60%) | total_pruned =     457 | shape = (20, 1, 5, 5)\n",
            "conv1.weight         | dim0 =       1 /       1 (100.00%) | dim1 =      13 /      20 ( 65.00%)\n",
            "conv1.bias           | nonzeros =       1 /      20 (  5.00%) | total_pruned =      19 | shape = (20,)\n",
            "conv2.weight         | nonzeros =     556 /   25000 (  2.22%) | total_pruned =   24444 | shape = (50, 20, 5, 5)\n",
            "conv2.weight         | dim0 =      17 /      20 ( 85.00%) | dim1 =      48 /      50 ( 96.00%)\n",
            "conv2.bias           | nonzeros =       1 /      50 (  2.00%) | total_pruned =      49 | shape = (50,)\n",
            "fc1.weight           | nonzeros =    3329 /  400000 (  0.83%) | total_pruned =  396671 | shape = (500, 800)\n",
            "fc1.weight           | dim0 =     737 /     800 ( 92.12%) | dim1 =     283 /     500 ( 56.60%)\n",
            "fc1.bias             | nonzeros =       1 /     500 (  0.20%) | total_pruned =     499 | shape = (500,)\n",
            "fc2.weight           | nonzeros =     117 /    5000 (  2.34%) | total_pruned =    4883 | shape = (10, 500)\n",
            "fc2.weight           | dim0 =     100 /     500 ( 20.00%) | dim1 =      10 /      10 (100.00%)\n",
            "fc2.bias             | nonzeros =       1 /      10 ( 10.00%) | total_pruned =       9 | shape = (10,)\n",
            "alive: 4049, pruned : 427031, total: 431080, Compression rate :     106.47x  ( 99.06% pruned)\n",
            "--- Finetuning ---\n",
            "Best: 85.90% Train Epoch: 49 [50000/60000 ( 83%)]  Loss: 0.326587 Total: 0.326587: 100% 50/50 [04:49<00:00,  5.79s/it]\n",
            "Accuracy: 85.90%\n",
            "conv1.weight         | nonzeros =      43 /     500 (  8.60%) | total_pruned =     457 | shape = (20, 1, 5, 5)\n",
            "conv1.weight         | dim0 =       1 /       1 (100.00%) | dim1 =      13 /      20 ( 65.00%)\n",
            "conv1.bias           | nonzeros =       1 /      20 (  5.00%) | total_pruned =      19 | shape = (20,)\n",
            "conv2.weight         | nonzeros =     556 /   25000 (  2.22%) | total_pruned =   24444 | shape = (50, 20, 5, 5)\n",
            "conv2.weight         | dim0 =      17 /      20 ( 85.00%) | dim1 =      48 /      50 ( 96.00%)\n",
            "conv2.bias           | nonzeros =       1 /      50 (  2.00%) | total_pruned =      49 | shape = (50,)\n",
            "fc1.weight           | nonzeros =    3329 /  400000 (  0.83%) | total_pruned =  396671 | shape = (500, 800)\n",
            "fc1.weight           | dim0 =     737 /     800 ( 92.12%) | dim1 =     283 /     500 ( 56.60%)\n",
            "fc1.bias             | nonzeros =       1 /     500 (  0.20%) | total_pruned =     499 | shape = (500,)\n",
            "fc2.weight           | nonzeros =     117 /    5000 (  2.34%) | total_pruned =    4883 | shape = (10, 500)\n",
            "fc2.weight           | dim0 =     100 /     500 ( 20.00%) | dim1 =      10 /      10 (100.00%)\n",
            "fc2.bias             | nonzeros =       1 /      10 ( 10.00%) | total_pruned =       9 | shape = (10,)\n",
            "alive: 4049, pruned : 427031, total: 431080, Compression rate :     106.47x  ( 99.06% pruned)\n"
          ],
          "name": "stdout"
        }
      ]
    },
    {
      "cell_type": "code",
      "metadata": {
        "colab": {
          "base_uri": "https://localhost:8080/"
        },
        "id": "_DcLtpX00Jy4",
        "outputId": "6b3c6401-1b01-4fa2-b0fb-e2553fcd646f"
      },
      "source": [
        "!python prun_tune_V_fashion.py --model saves_fashion/elt_0.01_2 --sensitivity 0.06 "
      ],
      "execution_count": 6,
      "outputs": [
        {
          "output_type": "stream",
          "text": [
            "Using CUDA!\n",
            "/usr/local/lib/python3.7/dist-packages/torch/utils/data/dataloader.py:477: UserWarning: This DataLoader will create 5 worker processes in total. Our suggested max number of worker in current system is 4, which is smaller than what this DataLoader is going to create. Please be aware that excessive worker creation might get DataLoader running slow or even freeze, lower the worker number to avoid potential slowness/freeze if necessary.\n",
            "  cpuset_checked))\n",
            "--- Pruning ---\n",
            "Pruning with threshold : 0.42178788185119626 for layer conv1.weight\n",
            "Pruning with threshold : 1.8460934829711912 for layer conv1.bias\n",
            "Pruning with threshold : 0.4203016662597656 for layer conv2.weight\n",
            "Pruning with threshold : 0.03567134141921997 for layer conv2.bias\n",
            "Pruning with threshold : 0.5310066032409668 for layer fc1.weight\n",
            "Pruning with threshold : 0.30118151664733883 for layer fc1.bias\n",
            "Pruning with threshold : 0.4477004814147949 for layer fc2.weight\n",
            "Pruning with threshold : 0.05735522031784057 for layer fc2.bias\n",
            "conv1.weight         | nonzeros =      78 /     500 ( 15.60%) | total_pruned =     422 | shape = (20, 1, 5, 5)\n",
            "conv1.weight         | dim0 =       1 /       1 (100.00%) | dim1 =      14 /      20 ( 70.00%)\n",
            "conv1.bias           | nonzeros =       1 /      20 (  5.00%) | total_pruned =      19 | shape = (20,)\n",
            "conv2.weight         | nonzeros =     915 /   25000 (  3.66%) | total_pruned =   24085 | shape = (50, 20, 5, 5)\n",
            "conv2.weight         | dim0 =      17 /      20 ( 85.00%) | dim1 =      48 /      50 ( 96.00%)\n",
            "conv2.bias           | nonzeros =       1 /      50 (  2.00%) | total_pruned =      49 | shape = (50,)\n",
            "fc1.weight           | nonzeros =    5275 /  400000 (  1.32%) | total_pruned =  394725 | shape = (500, 800)\n",
            "fc1.weight           | dim0 =     754 /     800 ( 94.25%) | dim1 =     284 /     500 ( 56.80%)\n",
            "fc1.bias             | nonzeros =       1 /     500 (  0.20%) | total_pruned =     499 | shape = (500,)\n",
            "fc2.weight           | nonzeros =     187 /    5000 (  3.74%) | total_pruned =    4813 | shape = (10, 500)\n",
            "fc2.weight           | dim0 =     142 /     500 ( 28.40%) | dim1 =      10 /      10 (100.00%)\n",
            "fc2.bias             | nonzeros =       1 /      10 ( 10.00%) | total_pruned =       9 | shape = (10,)\n",
            "alive: 6459, pruned : 424621, total: 431080, Compression rate :      66.74x  ( 98.50% pruned)\n",
            "--- Finetuning ---\n",
            "Best: 89.27% Train Epoch: 49 [50000/60000 ( 83%)]  Loss: 0.199742 Total: 0.199742: 100% 50/50 [05:44<00:00,  6.89s/it]\n",
            "Accuracy: 89.27%\n",
            "conv1.weight         | nonzeros =      78 /     500 ( 15.60%) | total_pruned =     422 | shape = (20, 1, 5, 5)\n",
            "conv1.weight         | dim0 =       1 /       1 (100.00%) | dim1 =      14 /      20 ( 70.00%)\n",
            "conv1.bias           | nonzeros =       1 /      20 (  5.00%) | total_pruned =      19 | shape = (20,)\n",
            "conv2.weight         | nonzeros =     915 /   25000 (  3.66%) | total_pruned =   24085 | shape = (50, 20, 5, 5)\n",
            "conv2.weight         | dim0 =      17 /      20 ( 85.00%) | dim1 =      48 /      50 ( 96.00%)\n",
            "conv2.bias           | nonzeros =       1 /      50 (  2.00%) | total_pruned =      49 | shape = (50,)\n",
            "fc1.weight           | nonzeros =    5275 /  400000 (  1.32%) | total_pruned =  394725 | shape = (500, 800)\n",
            "fc1.weight           | dim0 =     754 /     800 ( 94.25%) | dim1 =     284 /     500 ( 56.80%)\n",
            "fc1.bias             | nonzeros =       1 /     500 (  0.20%) | total_pruned =     499 | shape = (500,)\n",
            "fc2.weight           | nonzeros =     187 /    5000 (  3.74%) | total_pruned =    4813 | shape = (10, 500)\n",
            "fc2.weight           | dim0 =     142 /     500 ( 28.40%) | dim1 =      10 /      10 (100.00%)\n",
            "fc2.bias             | nonzeros =       1 /      10 ( 10.00%) | total_pruned =       9 | shape = (10,)\n",
            "alive: 6459, pruned : 424621, total: 431080, Compression rate :      66.74x  ( 98.50% pruned)\n"
          ],
          "name": "stdout"
        }
      ]
    },
    {
      "cell_type": "code",
      "metadata": {
        "colab": {
          "base_uri": "https://localhost:8080/"
        },
        "id": "TXxcASbE0NAF",
        "outputId": "99742eb3-f0fb-4bb6-b64a-0719837effec"
      },
      "source": [
        "!python prun_tune_V_fashion.py --model saves_fashion/elt_0.01_2 --sensitivity 0.05 "
      ],
      "execution_count": 4,
      "outputs": [
        {
          "output_type": "stream",
          "text": [
            "Using CUDA!\n",
            "/usr/local/lib/python3.7/dist-packages/torch/utils/data/dataloader.py:477: UserWarning: This DataLoader will create 5 worker processes in total. Our suggested max number of worker in current system is 4, which is smaller than what this DataLoader is going to create. Please be aware that excessive worker creation might get DataLoader running slow or even freeze, lower the worker number to avoid potential slowness/freeze if necessary.\n",
            "  cpuset_checked))\n",
            "--- Pruning ---\n",
            "Pruning with threshold : 0.3514899015426636 for layer conv1.weight\n",
            "Pruning with threshold : 1.5384112358093263 for layer conv1.bias\n",
            "Pruning with threshold : 0.3502513885498047 for layer conv2.weight\n",
            "Pruning with threshold : 0.029726117849349976 for layer conv2.bias\n",
            "Pruning with threshold : 0.4425055027008057 for layer fc1.weight\n",
            "Pruning with threshold : 0.2509845972061157 for layer fc1.bias\n",
            "Pruning with threshold : 0.3730837345123291 for layer fc2.weight\n",
            "Pruning with threshold : 0.04779601693153382 for layer fc2.bias\n",
            "conv1.weight         | nonzeros =      98 /     500 ( 19.60%) | total_pruned =     402 | shape = (20, 1, 5, 5)\n",
            "conv1.weight         | dim0 =       1 /       1 (100.00%) | dim1 =      14 /      20 ( 70.00%)\n",
            "conv1.bias           | nonzeros =       1 /      20 (  5.00%) | total_pruned =      19 | shape = (20,)\n",
            "conv2.weight         | nonzeros =    1196 /   25000 (  4.78%) | total_pruned =   23804 | shape = (50, 20, 5, 5)\n",
            "conv2.weight         | dim0 =      17 /      20 ( 85.00%) | dim1 =      48 /      50 ( 96.00%)\n",
            "conv2.bias           | nonzeros =       1 /      50 (  2.00%) | total_pruned =      49 | shape = (50,)\n",
            "fc1.weight           | nonzeros =    6974 /  400000 (  1.74%) | total_pruned =  393026 | shape = (500, 800)\n",
            "fc1.weight           | dim0 =     759 /     800 ( 94.88%) | dim1 =     284 /     500 ( 56.80%)\n",
            "fc1.bias             | nonzeros =       1 /     500 (  0.20%) | total_pruned =     499 | shape = (500,)\n",
            "fc2.weight           | nonzeros =     234 /    5000 (  4.68%) | total_pruned =    4766 | shape = (10, 500)\n",
            "fc2.weight           | dim0 =     159 /     500 ( 31.80%) | dim1 =      10 /      10 (100.00%)\n",
            "fc2.bias             | nonzeros =       1 /      10 ( 10.00%) | total_pruned =       9 | shape = (10,)\n",
            "alive: 8506, pruned : 422574, total: 431080, Compression rate :      50.68x  ( 98.03% pruned)\n",
            "--- Finetuning ---\n",
            "Best: 89.76% Train Epoch: 49 [50000/60000 ( 83%)]  Loss: 0.149597 Total: 0.149597: 100% 50/50 [04:24<00:00,  5.30s/it]\n",
            "Accuracy: 89.76%\n",
            "conv1.weight         | nonzeros =      98 /     500 ( 19.60%) | total_pruned =     402 | shape = (20, 1, 5, 5)\n",
            "conv1.weight         | dim0 =       1 /       1 (100.00%) | dim1 =      14 /      20 ( 70.00%)\n",
            "conv1.bias           | nonzeros =       1 /      20 (  5.00%) | total_pruned =      19 | shape = (20,)\n",
            "conv2.weight         | nonzeros =    1196 /   25000 (  4.78%) | total_pruned =   23804 | shape = (50, 20, 5, 5)\n",
            "conv2.weight         | dim0 =      17 /      20 ( 85.00%) | dim1 =      48 /      50 ( 96.00%)\n",
            "conv2.bias           | nonzeros =       1 /      50 (  2.00%) | total_pruned =      49 | shape = (50,)\n",
            "fc1.weight           | nonzeros =    6974 /  400000 (  1.74%) | total_pruned =  393026 | shape = (500, 800)\n",
            "fc1.weight           | dim0 =     759 /     800 ( 94.88%) | dim1 =     284 /     500 ( 56.80%)\n",
            "fc1.bias             | nonzeros =       1 /     500 (  0.20%) | total_pruned =     499 | shape = (500,)\n",
            "fc2.weight           | nonzeros =     234 /    5000 (  4.68%) | total_pruned =    4766 | shape = (10, 500)\n",
            "fc2.weight           | dim0 =     159 /     500 ( 31.80%) | dim1 =      10 /      10 (100.00%)\n",
            "fc2.bias             | nonzeros =       1 /      10 ( 10.00%) | total_pruned =       9 | shape = (10,)\n",
            "alive: 8506, pruned : 422574, total: 431080, Compression rate :      50.68x  ( 98.03% pruned)\n"
          ],
          "name": "stdout"
        }
      ]
    },
    {
      "cell_type": "code",
      "metadata": {
        "colab": {
          "base_uri": "https://localhost:8080/"
        },
        "id": "B4XS9YENVRW6",
        "outputId": "3e99016f-86d9-4d3d-e1bc-b8a0d70092ca"
      },
      "source": [
        "!python prun_tune_V_fashion.py --model saves_fashion/elt_0.01_2 --sensitivity 0.04 "
      ],
      "execution_count": 5,
      "outputs": [
        {
          "output_type": "stream",
          "text": [
            "Using CUDA!\n",
            "/usr/local/lib/python3.7/dist-packages/torch/utils/data/dataloader.py:477: UserWarning: This DataLoader will create 5 worker processes in total. Our suggested max number of worker in current system is 4, which is smaller than what this DataLoader is going to create. Please be aware that excessive worker creation might get DataLoader running slow or even freeze, lower the worker number to avoid potential slowness/freeze if necessary.\n",
            "  cpuset_checked))\n",
            "--- Pruning ---\n",
            "Pruning with threshold : 0.2811919212341309 for layer conv1.weight\n",
            "Pruning with threshold : 1.230728988647461 for layer conv1.bias\n",
            "Pruning with threshold : 0.2802011108398438 for layer conv2.weight\n",
            "Pruning with threshold : 0.02378089427947998 for layer conv2.bias\n",
            "Pruning with threshold : 0.35400440216064455 for layer fc1.weight\n",
            "Pruning with threshold : 0.2007876777648926 for layer fc1.bias\n",
            "Pruning with threshold : 0.2984669876098633 for layer fc2.weight\n",
            "Pruning with threshold : 0.03823681354522705 for layer fc2.bias\n",
            "conv1.weight         | nonzeros =     112 /     500 ( 22.40%) | total_pruned =     388 | shape = (20, 1, 5, 5)\n",
            "conv1.weight         | dim0 =       1 /       1 (100.00%) | dim1 =      14 /      20 ( 70.00%)\n",
            "conv1.bias           | nonzeros =       1 /      20 (  5.00%) | total_pruned =      19 | shape = (20,)\n",
            "conv2.weight         | nonzeros =    1544 /   25000 (  6.18%) | total_pruned =   23456 | shape = (50, 20, 5, 5)\n",
            "conv2.weight         | dim0 =      17 /      20 ( 85.00%) | dim1 =      48 /      50 ( 96.00%)\n",
            "conv2.bias           | nonzeros =       1 /      50 (  2.00%) | total_pruned =      49 | shape = (50,)\n",
            "fc1.weight           | nonzeros =    9498 /  400000 (  2.37%) | total_pruned =  390502 | shape = (500, 800)\n",
            "fc1.weight           | dim0 =     762 /     800 ( 95.25%) | dim1 =     284 /     500 ( 56.80%)\n",
            "fc1.bias             | nonzeros =       1 /     500 (  0.20%) | total_pruned =     499 | shape = (500,)\n",
            "fc2.weight           | nonzeros =     282 /    5000 (  5.64%) | total_pruned =    4718 | shape = (10, 500)\n",
            "fc2.weight           | dim0 =     168 /     500 ( 33.60%) | dim1 =      10 /      10 (100.00%)\n",
            "fc2.bias             | nonzeros =       1 /      10 ( 10.00%) | total_pruned =       9 | shape = (10,)\n",
            "alive: 11440, pruned : 419640, total: 431080, Compression rate :      37.68x  ( 97.35% pruned)\n",
            "--- Finetuning ---\n",
            "Best: 89.97% Train Epoch: 49 [50000/60000 ( 83%)]  Loss: 0.093203 Total: 0.093203: 100% 50/50 [04:27<00:00,  5.35s/it]\n",
            "Accuracy: 89.97%\n",
            "conv1.weight         | nonzeros =     112 /     500 ( 22.40%) | total_pruned =     388 | shape = (20, 1, 5, 5)\n",
            "conv1.weight         | dim0 =       1 /       1 (100.00%) | dim1 =      14 /      20 ( 70.00%)\n",
            "conv1.bias           | nonzeros =       1 /      20 (  5.00%) | total_pruned =      19 | shape = (20,)\n",
            "conv2.weight         | nonzeros =    1544 /   25000 (  6.18%) | total_pruned =   23456 | shape = (50, 20, 5, 5)\n",
            "conv2.weight         | dim0 =      17 /      20 ( 85.00%) | dim1 =      48 /      50 ( 96.00%)\n",
            "conv2.bias           | nonzeros =       1 /      50 (  2.00%) | total_pruned =      49 | shape = (50,)\n",
            "fc1.weight           | nonzeros =    9498 /  400000 (  2.37%) | total_pruned =  390502 | shape = (500, 800)\n",
            "fc1.weight           | dim0 =     762 /     800 ( 95.25%) | dim1 =     284 /     500 ( 56.80%)\n",
            "fc1.bias             | nonzeros =       1 /     500 (  0.20%) | total_pruned =     499 | shape = (500,)\n",
            "fc2.weight           | nonzeros =     282 /    5000 (  5.64%) | total_pruned =    4718 | shape = (10, 500)\n",
            "fc2.weight           | dim0 =     168 /     500 ( 33.60%) | dim1 =      10 /      10 (100.00%)\n",
            "fc2.bias             | nonzeros =       1 /      10 ( 10.00%) | total_pruned =       9 | shape = (10,)\n",
            "alive: 11440, pruned : 419640, total: 431080, Compression rate :      37.68x  ( 97.35% pruned)\n"
          ],
          "name": "stdout"
        }
      ]
    },
    {
      "cell_type": "code",
      "metadata": {
        "colab": {
          "base_uri": "https://localhost:8080/"
        },
        "id": "ZVC24MQJksEP",
        "outputId": "032e6e8b-0baf-4c7c-96a8-139fec92b7d2"
      },
      "source": [
        "!python prun_tune_V_fashion.py --model saves_fashion/elt_0.01_2 --sensitivity 0.03 "
      ],
      "execution_count": 6,
      "outputs": [
        {
          "output_type": "stream",
          "text": [
            "Using CUDA!\n",
            "/usr/local/lib/python3.7/dist-packages/torch/utils/data/dataloader.py:477: UserWarning: This DataLoader will create 5 worker processes in total. Our suggested max number of worker in current system is 4, which is smaller than what this DataLoader is going to create. Please be aware that excessive worker creation might get DataLoader running slow or even freeze, lower the worker number to avoid potential slowness/freeze if necessary.\n",
            "  cpuset_checked))\n",
            "--- Pruning ---\n",
            "Pruning with threshold : 0.21089394092559813 for layer conv1.weight\n",
            "Pruning with threshold : 0.9230467414855956 for layer conv1.bias\n",
            "Pruning with threshold : 0.2101508331298828 for layer conv2.weight\n",
            "Pruning with threshold : 0.017835670709609983 for layer conv2.bias\n",
            "Pruning with threshold : 0.2655033016204834 for layer fc1.weight\n",
            "Pruning with threshold : 0.15059075832366942 for layer fc1.bias\n",
            "Pruning with threshold : 0.22385024070739745 for layer fc2.weight\n",
            "Pruning with threshold : 0.028677610158920286 for layer fc2.bias\n",
            "conv1.weight         | nonzeros =     139 /     500 ( 27.80%) | total_pruned =     361 | shape = (20, 1, 5, 5)\n",
            "conv1.weight         | dim0 =       1 /       1 (100.00%) | dim1 =      14 /      20 ( 70.00%)\n",
            "conv1.bias           | nonzeros =       1 /      20 (  5.00%) | total_pruned =      19 | shape = (20,)\n",
            "conv2.weight         | nonzeros =    2022 /   25000 (  8.09%) | total_pruned =   22978 | shape = (50, 20, 5, 5)\n",
            "conv2.weight         | dim0 =      17 /      20 ( 85.00%) | dim1 =      48 /      50 ( 96.00%)\n",
            "conv2.bias           | nonzeros =       3 /      50 (  6.00%) | total_pruned =      47 | shape = (50,)\n",
            "fc1.weight           | nonzeros =   13362 /  400000 (  3.34%) | total_pruned =  386638 | shape = (500, 800)\n",
            "fc1.weight           | dim0 =     762 /     800 ( 95.25%) | dim1 =     284 /     500 ( 56.80%)\n",
            "fc1.bias             | nonzeros =       1 /     500 (  0.20%) | total_pruned =     499 | shape = (500,)\n",
            "fc2.weight           | nonzeros =     333 /    5000 (  6.66%) | total_pruned =    4667 | shape = (10, 500)\n",
            "fc2.weight           | dim0 =     170 /     500 ( 34.00%) | dim1 =      10 /      10 (100.00%)\n",
            "fc2.bias             | nonzeros =       1 /      10 ( 10.00%) | total_pruned =       9 | shape = (10,)\n",
            "alive: 15862, pruned : 415218, total: 431080, Compression rate :      27.18x  ( 96.32% pruned)\n",
            "--- Finetuning ---\n",
            "Best: 90.58% Train Epoch: 49 [50000/60000 ( 83%)]  Loss: 0.008089 Total: 0.008089: 100% 50/50 [04:26<00:00,  5.33s/it]\n",
            "Accuracy: 90.58%\n",
            "conv1.weight         | nonzeros =     139 /     500 ( 27.80%) | total_pruned =     361 | shape = (20, 1, 5, 5)\n",
            "conv1.weight         | dim0 =       1 /       1 (100.00%) | dim1 =      14 /      20 ( 70.00%)\n",
            "conv1.bias           | nonzeros =       1 /      20 (  5.00%) | total_pruned =      19 | shape = (20,)\n",
            "conv2.weight         | nonzeros =    2022 /   25000 (  8.09%) | total_pruned =   22978 | shape = (50, 20, 5, 5)\n",
            "conv2.weight         | dim0 =      17 /      20 ( 85.00%) | dim1 =      48 /      50 ( 96.00%)\n",
            "conv2.bias           | nonzeros =       3 /      50 (  6.00%) | total_pruned =      47 | shape = (50,)\n",
            "fc1.weight           | nonzeros =   13362 /  400000 (  3.34%) | total_pruned =  386638 | shape = (500, 800)\n",
            "fc1.weight           | dim0 =     762 /     800 ( 95.25%) | dim1 =     284 /     500 ( 56.80%)\n",
            "fc1.bias             | nonzeros =       1 /     500 (  0.20%) | total_pruned =     499 | shape = (500,)\n",
            "fc2.weight           | nonzeros =     333 /    5000 (  6.66%) | total_pruned =    4667 | shape = (10, 500)\n",
            "fc2.weight           | dim0 =     170 /     500 ( 34.00%) | dim1 =      10 /      10 (100.00%)\n",
            "fc2.bias             | nonzeros =       1 /      10 ( 10.00%) | total_pruned =       9 | shape = (10,)\n",
            "alive: 15862, pruned : 415218, total: 431080, Compression rate :      27.18x  ( 96.32% pruned)\n"
          ],
          "name": "stdout"
        }
      ]
    },
    {
      "cell_type": "code",
      "metadata": {
        "colab": {
          "base_uri": "https://localhost:8080/"
        },
        "id": "xDgkiZerZVVd",
        "outputId": "e1ce57ab-caed-4017-9fef-ec6848503b10"
      },
      "source": [
        "!python prun_tune_V_fashion.py --model saves_fashion/elt_0.001_3 --sensitivity 0.03 "
      ],
      "execution_count": 11,
      "outputs": [
        {
          "output_type": "stream",
          "text": [
            "Using CUDA!\n",
            "/usr/local/lib/python3.7/dist-packages/torch/utils/data/dataloader.py:477: UserWarning: This DataLoader will create 5 worker processes in total. Our suggested max number of worker in current system is 4, which is smaller than what this DataLoader is going to create. Please be aware that excessive worker creation might get DataLoader running slow or even freeze, lower the worker number to avoid potential slowness/freeze if necessary.\n",
            "  cpuset_checked))\n",
            "--- Pruning ---\n",
            "Pruning with threshold : 0.13844022274017334 for layer conv1.weight\n",
            "Pruning with threshold : 0.9159988975524902 for layer conv1.bias\n",
            "Pruning with threshold : 0.24664727210998535 for layer conv2.weight\n",
            "Pruning with threshold : 0.5663528823852538 for layer conv2.bias\n",
            "Pruning with threshold : 0.12861040592193604 for layer fc1.weight\n",
            "Pruning with threshold : 0.17460004806518553 for layer fc1.bias\n",
            "Pruning with threshold : 0.1329435110092163 for layer fc2.weight\n",
            "Pruning with threshold : 0.016389411091804505 for layer fc2.bias\n",
            "conv1.weight         | nonzeros =     179 /     500 ( 35.80%) | total_pruned =     321 | shape = (20, 1, 5, 5)\n",
            "conv1.weight         | dim0 =       1 /       1 (100.00%) | dim1 =      14 /      20 ( 70.00%)\n",
            "conv1.bias           | nonzeros =       3 /      20 ( 15.00%) | total_pruned =      17 | shape = (20,)\n",
            "conv2.weight         | nonzeros =    1915 /   25000 (  7.66%) | total_pruned =   23085 | shape = (50, 20, 5, 5)\n",
            "conv2.weight         | dim0 =      19 /      20 ( 95.00%) | dim1 =      45 /      50 ( 90.00%)\n",
            "conv2.bias           | nonzeros =       5 /      50 ( 10.00%) | total_pruned =      45 | shape = (50,)\n",
            "fc1.weight           | nonzeros =    4997 /  400000 (  1.25%) | total_pruned =  395003 | shape = (500, 800)\n",
            "fc1.weight           | dim0 =     620 /     800 ( 77.50%) | dim1 =     163 /     500 ( 32.60%)\n",
            "fc1.bias             | nonzeros =       3 /     500 (  0.60%) | total_pruned =     497 | shape = (500,)\n",
            "fc2.weight           | nonzeros =     174 /    5000 (  3.48%) | total_pruned =    4826 | shape = (10, 500)\n",
            "fc2.weight           | dim0 =      39 /     500 (  7.80%) | dim1 =      10 /      10 (100.00%)\n",
            "fc2.bias             | nonzeros =       1 /      10 ( 10.00%) | total_pruned =       9 | shape = (10,)\n",
            "alive: 7277, pruned : 423803, total: 431080, Compression rate :      59.24x  ( 98.31% pruned)\n",
            "--- Finetuning ---\n",
            "Best: 90.00% Train Epoch: 49 [50000/60000 ( 83%)]  Loss: 0.046718 Total: 0.046718: 100% 50/50 [04:43<00:00,  5.67s/it]\n",
            "Accuracy: 90.00%\n",
            "conv1.weight         | nonzeros =     179 /     500 ( 35.80%) | total_pruned =     321 | shape = (20, 1, 5, 5)\n",
            "conv1.weight         | dim0 =       1 /       1 (100.00%) | dim1 =      14 /      20 ( 70.00%)\n",
            "conv1.bias           | nonzeros =       3 /      20 ( 15.00%) | total_pruned =      17 | shape = (20,)\n",
            "conv2.weight         | nonzeros =    1915 /   25000 (  7.66%) | total_pruned =   23085 | shape = (50, 20, 5, 5)\n",
            "conv2.weight         | dim0 =      19 /      20 ( 95.00%) | dim1 =      45 /      50 ( 90.00%)\n",
            "conv2.bias           | nonzeros =       5 /      50 ( 10.00%) | total_pruned =      45 | shape = (50,)\n",
            "fc1.weight           | nonzeros =    4997 /  400000 (  1.25%) | total_pruned =  395003 | shape = (500, 800)\n",
            "fc1.weight           | dim0 =     620 /     800 ( 77.50%) | dim1 =     163 /     500 ( 32.60%)\n",
            "fc1.bias             | nonzeros =       3 /     500 (  0.60%) | total_pruned =     497 | shape = (500,)\n",
            "fc2.weight           | nonzeros =     174 /    5000 (  3.48%) | total_pruned =    4826 | shape = (10, 500)\n",
            "fc2.weight           | dim0 =      39 /     500 (  7.80%) | dim1 =      10 /      10 (100.00%)\n",
            "fc2.bias             | nonzeros =       1 /      10 ( 10.00%) | total_pruned =       9 | shape = (10,)\n",
            "alive: 7277, pruned : 423803, total: 431080, Compression rate :      59.24x  ( 98.31% pruned)\n"
          ],
          "name": "stdout"
        }
      ]
    },
    {
      "cell_type": "code",
      "metadata": {
        "colab": {
          "base_uri": "https://localhost:8080/"
        },
        "id": "IhqJy61IhX4N",
        "outputId": "32c0a79d-2494-4dac-e68d-fb9d928bdac1"
      },
      "source": [
        "!python prun_tune_V_fashion.py --model saves_fashion/elt_0.001_3 --sensitivity 0.04"
      ],
      "execution_count": 12,
      "outputs": [
        {
          "output_type": "stream",
          "text": [
            "Using CUDA!\n",
            "/usr/local/lib/python3.7/dist-packages/torch/utils/data/dataloader.py:477: UserWarning: This DataLoader will create 5 worker processes in total. Our suggested max number of worker in current system is 4, which is smaller than what this DataLoader is going to create. Please be aware that excessive worker creation might get DataLoader running slow or even freeze, lower the worker number to avoid potential slowness/freeze if necessary.\n",
            "  cpuset_checked))\n",
            "--- Pruning ---\n",
            "Pruning with threshold : 0.18458696365356445 for layer conv1.weight\n",
            "Pruning with threshold : 1.2213318634033203 for layer conv1.bias\n",
            "Pruning with threshold : 0.3288630294799805 for layer conv2.weight\n",
            "Pruning with threshold : 0.7551371765136718 for layer conv2.bias\n",
            "Pruning with threshold : 0.17148054122924805 for layer fc1.weight\n",
            "Pruning with threshold : 0.23280006408691406 for layer fc1.bias\n",
            "Pruning with threshold : 0.17725801467895508 for layer fc2.weight\n",
            "Pruning with threshold : 0.021852548122406005 for layer fc2.bias\n",
            "conv1.weight         | nonzeros =     159 /     500 ( 31.80%) | total_pruned =     341 | shape = (20, 1, 5, 5)\n",
            "conv1.weight         | dim0 =       1 /       1 (100.00%) | dim1 =      14 /      20 ( 70.00%)\n",
            "conv1.bias           | nonzeros =       2 /      20 ( 10.00%) | total_pruned =      18 | shape = (20,)\n",
            "conv2.weight         | nonzeros =    1224 /   25000 (  4.90%) | total_pruned =   23776 | shape = (50, 20, 5, 5)\n",
            "conv2.weight         | dim0 =      19 /      20 ( 95.00%) | dim1 =      45 /      50 ( 90.00%)\n",
            "conv2.bias           | nonzeros =       3 /      50 (  6.00%) | total_pruned =      47 | shape = (50,)\n",
            "fc1.weight           | nonzeros =    3934 /  400000 (  0.98%) | total_pruned =  396066 | shape = (500, 800)\n",
            "fc1.weight           | dim0 =     619 /     800 ( 77.38%) | dim1 =     163 /     500 ( 32.60%)\n",
            "fc1.bias             | nonzeros =       2 /     500 (  0.40%) | total_pruned =     498 | shape = (500,)\n",
            "fc2.weight           | nonzeros =     159 /    5000 (  3.18%) | total_pruned =    4841 | shape = (10, 500)\n",
            "fc2.weight           | dim0 =      39 /     500 (  7.80%) | dim1 =      10 /      10 (100.00%)\n",
            "fc2.bias             | nonzeros =       1 /      10 ( 10.00%) | total_pruned =       9 | shape = (10,)\n",
            "alive: 5484, pruned : 425596, total: 431080, Compression rate :      78.61x  ( 98.73% pruned)\n",
            "--- Finetuning ---\n",
            "Best: 90.06% Train Epoch: 49 [50000/60000 ( 83%)]  Loss: 0.123208 Total: 0.123208: 100% 50/50 [04:45<00:00,  5.71s/it]\n",
            "Accuracy: 90.06%\n",
            "conv1.weight         | nonzeros =     159 /     500 ( 31.80%) | total_pruned =     341 | shape = (20, 1, 5, 5)\n",
            "conv1.weight         | dim0 =       1 /       1 (100.00%) | dim1 =      14 /      20 ( 70.00%)\n",
            "conv1.bias           | nonzeros =       2 /      20 ( 10.00%) | total_pruned =      18 | shape = (20,)\n",
            "conv2.weight         | nonzeros =    1224 /   25000 (  4.90%) | total_pruned =   23776 | shape = (50, 20, 5, 5)\n",
            "conv2.weight         | dim0 =      19 /      20 ( 95.00%) | dim1 =      45 /      50 ( 90.00%)\n",
            "conv2.bias           | nonzeros =       3 /      50 (  6.00%) | total_pruned =      47 | shape = (50,)\n",
            "fc1.weight           | nonzeros =    3934 /  400000 (  0.98%) | total_pruned =  396066 | shape = (500, 800)\n",
            "fc1.weight           | dim0 =     619 /     800 ( 77.38%) | dim1 =     163 /     500 ( 32.60%)\n",
            "fc1.bias             | nonzeros =       2 /     500 (  0.40%) | total_pruned =     498 | shape = (500,)\n",
            "fc2.weight           | nonzeros =     159 /    5000 (  3.18%) | total_pruned =    4841 | shape = (10, 500)\n",
            "fc2.weight           | dim0 =      39 /     500 (  7.80%) | dim1 =      10 /      10 (100.00%)\n",
            "fc2.bias             | nonzeros =       1 /      10 ( 10.00%) | total_pruned =       9 | shape = (10,)\n",
            "alive: 5484, pruned : 425596, total: 431080, Compression rate :      78.61x  ( 98.73% pruned)\n"
          ],
          "name": "stdout"
        }
      ]
    },
    {
      "cell_type": "code",
      "metadata": {
        "colab": {
          "base_uri": "https://localhost:8080/"
        },
        "id": "ZCAWgEU1lV0M",
        "outputId": "3f07bd97-e4f3-4ca0-8034-cb8315dfd911"
      },
      "source": [
        "!python prun_tune_V_fashion.py --model saves_fashion/elt_0.0001_3 --sensitivity 0.035 "
      ],
      "execution_count": 14,
      "outputs": [
        {
          "output_type": "stream",
          "text": [
            "Using CUDA!\n",
            "/usr/local/lib/python3.7/dist-packages/torch/utils/data/dataloader.py:477: UserWarning: This DataLoader will create 5 worker processes in total. Our suggested max number of worker in current system is 4, which is smaller than what this DataLoader is going to create. Please be aware that excessive worker creation might get DataLoader running slow or even freeze, lower the worker number to avoid potential slowness/freeze if necessary.\n",
            "  cpuset_checked))\n",
            "--- Pruning ---\n",
            "Pruning with threshold : 0.11866039276123048 for layer conv1.weight\n",
            "Pruning with threshold : 1.0118453884124756 for layer conv1.bias\n",
            "Pruning with threshold : 0.26138944387435914 for layer conv2.weight\n",
            "Pruning with threshold : 0.025705338418483735 for layer conv2.bias\n",
            "Pruning with threshold : 0.26926297187805176 for layer fc1.weight\n",
            "Pruning with threshold : 0.19704846858978273 for layer fc1.bias\n",
            "Pruning with threshold : 0.22624643325805666 for layer fc2.weight\n",
            "Pruning with threshold : 0.023203236758708955 for layer fc2.bias\n",
            "conv1.weight         | nonzeros =     317 /     500 ( 63.40%) | total_pruned =     183 | shape = (20, 1, 5, 5)\n",
            "conv1.weight         | dim0 =       1 /       1 (100.00%) | dim1 =      17 /      20 ( 85.00%)\n",
            "conv1.bias           | nonzeros =       1 /      20 (  5.00%) | total_pruned =      19 | shape = (20,)\n",
            "conv2.weight         | nonzeros =    4546 /   25000 ( 18.18%) | total_pruned =   20454 | shape = (50, 20, 5, 5)\n",
            "conv2.weight         | dim0 =      19 /      20 ( 95.00%) | dim1 =      48 /      50 ( 96.00%)\n",
            "conv2.bias           | nonzeros =      11 /      50 ( 22.00%) | total_pruned =      39 | shape = (50,)\n",
            "fc1.weight           | nonzeros =   14383 /  400000 (  3.60%) | total_pruned =  385617 | shape = (500, 800)\n",
            "fc1.weight           | dim0 =     767 /     800 ( 95.88%) | dim1 =     305 /     500 ( 61.00%)\n",
            "fc1.bias             | nonzeros =      16 /     500 (  3.20%) | total_pruned =     484 | shape = (500,)\n",
            "fc2.weight           | nonzeros =     694 /    5000 ( 13.88%) | total_pruned =    4306 | shape = (10, 500)\n",
            "fc2.weight           | dim0 =     186 /     500 ( 37.20%) | dim1 =      10 /      10 (100.00%)\n",
            "fc2.bias             | nonzeros =       1 /      10 ( 10.00%) | total_pruned =       9 | shape = (10,)\n",
            "alive: 19969, pruned : 411111, total: 431080, Compression rate :      21.59x  ( 95.37% pruned)\n",
            "--- Finetuning ---\n",
            "Best: 90.98% Train Epoch: 49 [50000/60000 ( 83%)]  Loss: 0.006549 Total: 0.006549: 100% 50/50 [04:51<00:00,  5.83s/it]\n",
            "Accuracy: 90.98%\n",
            "conv1.weight         | nonzeros =     317 /     500 ( 63.40%) | total_pruned =     183 | shape = (20, 1, 5, 5)\n",
            "conv1.weight         | dim0 =       1 /       1 (100.00%) | dim1 =      17 /      20 ( 85.00%)\n",
            "conv1.bias           | nonzeros =       1 /      20 (  5.00%) | total_pruned =      19 | shape = (20,)\n",
            "conv2.weight         | nonzeros =    4546 /   25000 ( 18.18%) | total_pruned =   20454 | shape = (50, 20, 5, 5)\n",
            "conv2.weight         | dim0 =      19 /      20 ( 95.00%) | dim1 =      48 /      50 ( 96.00%)\n",
            "conv2.bias           | nonzeros =      11 /      50 ( 22.00%) | total_pruned =      39 | shape = (50,)\n",
            "fc1.weight           | nonzeros =   14383 /  400000 (  3.60%) | total_pruned =  385617 | shape = (500, 800)\n",
            "fc1.weight           | dim0 =     767 /     800 ( 95.88%) | dim1 =     305 /     500 ( 61.00%)\n",
            "fc1.bias             | nonzeros =      16 /     500 (  3.20%) | total_pruned =     484 | shape = (500,)\n",
            "fc2.weight           | nonzeros =     694 /    5000 ( 13.88%) | total_pruned =    4306 | shape = (10, 500)\n",
            "fc2.weight           | dim0 =     186 /     500 ( 37.20%) | dim1 =      10 /      10 (100.00%)\n",
            "fc2.bias             | nonzeros =       1 /      10 ( 10.00%) | total_pruned =       9 | shape = (10,)\n",
            "alive: 19969, pruned : 411111, total: 431080, Compression rate :      21.59x  ( 95.37% pruned)\n"
          ],
          "name": "stdout"
        }
      ]
    },
    {
      "cell_type": "code",
      "metadata": {
        "colab": {
          "base_uri": "https://localhost:8080/"
        },
        "id": "sfG35SHT-eyB",
        "outputId": "11304430-1c87-4fff-8f5d-3d3e10bd416a"
      },
      "source": [
        "!python prun_tune_V_fashion.py --model saves_fashion/elt_0.0001_3 --sensitivity 0.03 "
      ],
      "execution_count": 4,
      "outputs": [
        {
          "output_type": "stream",
          "text": [
            "Using CUDA!\n",
            "/usr/local/lib/python3.7/dist-packages/torch/utils/data/dataloader.py:477: UserWarning: This DataLoader will create 5 worker processes in total. Our suggested max number of worker in current system is 4, which is smaller than what this DataLoader is going to create. Please be aware that excessive worker creation might get DataLoader running slow or even freeze, lower the worker number to avoid potential slowness/freeze if necessary.\n",
            "  cpuset_checked))\n",
            "--- Pruning ---\n",
            "Pruning with threshold : 0.10170890808105468 for layer conv1.weight\n",
            "Pruning with threshold : 0.8672960472106933 for layer conv1.bias\n",
            "Pruning with threshold : 0.22404809474945067 for layer conv2.weight\n",
            "Pruning with threshold : 0.0220331472158432 for layer conv2.bias\n",
            "Pruning with threshold : 0.23079683303833007 for layer fc1.weight\n",
            "Pruning with threshold : 0.16889868736267089 for layer fc1.bias\n",
            "Pruning with threshold : 0.1939255142211914 for layer fc2.weight\n",
            "Pruning with threshold : 0.01988848865032196 for layer fc2.bias\n",
            "conv1.weight         | nonzeros =     327 /     500 ( 65.40%) | total_pruned =     173 | shape = (20, 1, 5, 5)\n",
            "conv1.weight         | dim0 =       1 /       1 (100.00%) | dim1 =      17 /      20 ( 85.00%)\n",
            "conv1.bias           | nonzeros =       2 /      20 ( 10.00%) | total_pruned =      18 | shape = (20,)\n",
            "conv2.weight         | nonzeros =    5227 /   25000 ( 20.91%) | total_pruned =   19773 | shape = (50, 20, 5, 5)\n",
            "conv2.weight         | dim0 =      19 /      20 ( 95.00%) | dim1 =      48 /      50 ( 96.00%)\n",
            "conv2.bias           | nonzeros =      12 /      50 ( 24.00%) | total_pruned =      38 | shape = (50,)\n",
            "fc1.weight           | nonzeros =   17675 /  400000 (  4.42%) | total_pruned =  382325 | shape = (500, 800)\n",
            "fc1.weight           | dim0 =     768 /     800 ( 96.00%) | dim1 =     305 /     500 ( 61.00%)\n",
            "fc1.bias             | nonzeros =      20 /     500 (  4.00%) | total_pruned =     480 | shape = (500,)\n",
            "fc2.weight           | nonzeros =     762 /    5000 ( 15.24%) | total_pruned =    4238 | shape = (10, 500)\n",
            "fc2.weight           | dim0 =     186 /     500 ( 37.20%) | dim1 =      10 /      10 (100.00%)\n",
            "fc2.bias             | nonzeros =       1 /      10 ( 10.00%) | total_pruned =       9 | shape = (10,)\n",
            "alive: 24026, pruned : 407054, total: 431080, Compression rate :      17.94x  ( 94.43% pruned)\n",
            "--- Finetuning ---\n",
            "Best: 91.17% Train Epoch: 49 [50000/60000 ( 83%)]  Loss: 0.004926 Total: 0.004926: 100% 50/50 [04:21<00:00,  5.22s/it]\n",
            "Accuracy: 91.17%\n",
            "conv1.weight         | nonzeros =     327 /     500 ( 65.40%) | total_pruned =     173 | shape = (20, 1, 5, 5)\n",
            "conv1.weight         | dim0 =       1 /       1 (100.00%) | dim1 =      17 /      20 ( 85.00%)\n",
            "conv1.bias           | nonzeros =       2 /      20 ( 10.00%) | total_pruned =      18 | shape = (20,)\n",
            "conv2.weight         | nonzeros =    5227 /   25000 ( 20.91%) | total_pruned =   19773 | shape = (50, 20, 5, 5)\n",
            "conv2.weight         | dim0 =      19 /      20 ( 95.00%) | dim1 =      48 /      50 ( 96.00%)\n",
            "conv2.bias           | nonzeros =      12 /      50 ( 24.00%) | total_pruned =      38 | shape = (50,)\n",
            "fc1.weight           | nonzeros =   17675 /  400000 (  4.42%) | total_pruned =  382325 | shape = (500, 800)\n",
            "fc1.weight           | dim0 =     768 /     800 ( 96.00%) | dim1 =     305 /     500 ( 61.00%)\n",
            "fc1.bias             | nonzeros =      20 /     500 (  4.00%) | total_pruned =     480 | shape = (500,)\n",
            "fc2.weight           | nonzeros =     762 /    5000 ( 15.24%) | total_pruned =    4238 | shape = (10, 500)\n",
            "fc2.weight           | dim0 =     186 /     500 ( 37.20%) | dim1 =      10 /      10 (100.00%)\n",
            "fc2.bias             | nonzeros =       1 /      10 ( 10.00%) | total_pruned =       9 | shape = (10,)\n",
            "alive: 24026, pruned : 407054, total: 431080, Compression rate :      17.94x  ( 94.43% pruned)\n"
          ],
          "name": "stdout"
        }
      ]
    },
    {
      "cell_type": "code",
      "metadata": {
        "colab": {
          "base_uri": "https://localhost:8080/"
        },
        "id": "WidahfqDYZJJ",
        "outputId": "195290ab-df79-47af-8cbb-9c7d9fb9b424"
      },
      "source": [
        "!python prun_tune_V_fashion.py --model saves_fashion/elt_0.0001_3 --sensitivity 0.04 "
      ],
      "execution_count": 8,
      "outputs": [
        {
          "output_type": "stream",
          "text": [
            "Using CUDA!\n",
            "/usr/local/lib/python3.7/dist-packages/torch/utils/data/dataloader.py:477: UserWarning: This DataLoader will create 5 worker processes in total. Our suggested max number of worker in current system is 4, which is smaller than what this DataLoader is going to create. Please be aware that excessive worker creation might get DataLoader running slow or even freeze, lower the worker number to avoid potential slowness/freeze if necessary.\n",
            "  cpuset_checked))\n",
            "--- Pruning ---\n",
            "Pruning with threshold : 0.13561187744140626 for layer conv1.weight\n",
            "Pruning with threshold : 1.1563947296142578 for layer conv1.bias\n",
            "Pruning with threshold : 0.2987307929992676 for layer conv2.weight\n",
            "Pruning with threshold : 0.02937752962112427 for layer conv2.bias\n",
            "Pruning with threshold : 0.3077291107177734 for layer fc1.weight\n",
            "Pruning with threshold : 0.22519824981689454 for layer fc1.bias\n",
            "Pruning with threshold : 0.2585673522949219 for layer fc2.weight\n",
            "Pruning with threshold : 0.02651798486709595 for layer fc2.bias\n",
            "conv1.weight         | nonzeros =     304 /     500 ( 60.80%) | total_pruned =     196 | shape = (20, 1, 5, 5)\n",
            "conv1.weight         | dim0 =       1 /       1 (100.00%) | dim1 =      17 /      20 ( 85.00%)\n",
            "conv1.bias           | nonzeros =       1 /      20 (  5.00%) | total_pruned =      19 | shape = (20,)\n",
            "conv2.weight         | nonzeros =    3894 /   25000 ( 15.58%) | total_pruned =   21106 | shape = (50, 20, 5, 5)\n",
            "conv2.weight         | dim0 =      19 /      20 ( 95.00%) | dim1 =      48 /      50 ( 96.00%)\n",
            "conv2.bias           | nonzeros =      11 /      50 ( 22.00%) | total_pruned =      39 | shape = (50,)\n",
            "fc1.weight           | nonzeros =   11915 /  400000 (  2.98%) | total_pruned =  388085 | shape = (500, 800)\n",
            "fc1.weight           | dim0 =     766 /     800 ( 95.75%) | dim1 =     305 /     500 ( 61.00%)\n",
            "fc1.bias             | nonzeros =      13 /     500 (  2.60%) | total_pruned =     487 | shape = (500,)\n",
            "fc2.weight           | nonzeros =     616 /    5000 ( 12.32%) | total_pruned =    4384 | shape = (10, 500)\n",
            "fc2.weight           | dim0 =     186 /     500 ( 37.20%) | dim1 =      10 /      10 (100.00%)\n",
            "fc2.bias             | nonzeros =       1 /      10 ( 10.00%) | total_pruned =       9 | shape = (10,)\n",
            "alive: 16755, pruned : 414325, total: 431080, Compression rate :      25.73x  ( 96.11% pruned)\n",
            "--- Finetuning ---\n",
            "Best: 90.79% Train Epoch: 49 [50000/60000 ( 83%)]  Loss: 0.012423 Total: 0.012423: 100% 50/50 [05:01<00:00,  6.03s/it]\n",
            "Accuracy: 90.79%\n",
            "conv1.weight         | nonzeros =     304 /     500 ( 60.80%) | total_pruned =     196 | shape = (20, 1, 5, 5)\n",
            "conv1.weight         | dim0 =       1 /       1 (100.00%) | dim1 =      17 /      20 ( 85.00%)\n",
            "conv1.bias           | nonzeros =       1 /      20 (  5.00%) | total_pruned =      19 | shape = (20,)\n",
            "conv2.weight         | nonzeros =    3894 /   25000 ( 15.58%) | total_pruned =   21106 | shape = (50, 20, 5, 5)\n",
            "conv2.weight         | dim0 =      19 /      20 ( 95.00%) | dim1 =      48 /      50 ( 96.00%)\n",
            "conv2.bias           | nonzeros =      11 /      50 ( 22.00%) | total_pruned =      39 | shape = (50,)\n",
            "fc1.weight           | nonzeros =   11915 /  400000 (  2.98%) | total_pruned =  388085 | shape = (500, 800)\n",
            "fc1.weight           | dim0 =     766 /     800 ( 95.75%) | dim1 =     305 /     500 ( 61.00%)\n",
            "fc1.bias             | nonzeros =      13 /     500 (  2.60%) | total_pruned =     487 | shape = (500,)\n",
            "fc2.weight           | nonzeros =     616 /    5000 ( 12.32%) | total_pruned =    4384 | shape = (10, 500)\n",
            "fc2.weight           | dim0 =     186 /     500 ( 37.20%) | dim1 =      10 /      10 (100.00%)\n",
            "fc2.bias             | nonzeros =       1 /      10 ( 10.00%) | total_pruned =       9 | shape = (10,)\n",
            "alive: 16755, pruned : 414325, total: 431080, Compression rate :      25.73x  ( 96.11% pruned)\n"
          ],
          "name": "stdout"
        }
      ]
    },
    {
      "cell_type": "code",
      "metadata": {
        "colab": {
          "base_uri": "https://localhost:8080/"
        },
        "id": "tw_ZkkxgS5zC",
        "outputId": "d0f09c3a-f29e-4a40-b198-55c6a6c43452"
      },
      "source": [
        "!python prun_tune_V_fashion.py --model saves_fashion/elt_0.0001_3 --sensitivity 0.05 "
      ],
      "execution_count": 6,
      "outputs": [
        {
          "output_type": "stream",
          "text": [
            "Using CUDA!\n",
            "/usr/local/lib/python3.7/dist-packages/torch/utils/data/dataloader.py:477: UserWarning: This DataLoader will create 5 worker processes in total. Our suggested max number of worker in current system is 4, which is smaller than what this DataLoader is going to create. Please be aware that excessive worker creation might get DataLoader running slow or even freeze, lower the worker number to avoid potential slowness/freeze if necessary.\n",
            "  cpuset_checked))\n",
            "--- Pruning ---\n",
            "Pruning with threshold : 0.16951484680175782 for layer conv1.weight\n",
            "Pruning with threshold : 1.4454934120178224 for layer conv1.bias\n",
            "Pruning with threshold : 0.3734134912490845 for layer conv2.weight\n",
            "Pruning with threshold : 0.03672191202640534 for layer conv2.bias\n",
            "Pruning with threshold : 0.3846613883972168 for layer fc1.weight\n",
            "Pruning with threshold : 0.2814978122711182 for layer fc1.bias\n",
            "Pruning with threshold : 0.32320919036865237 for layer fc2.weight\n",
            "Pruning with threshold : 0.03314748108386994 for layer fc2.bias\n",
            "conv1.weight         | nonzeros =     288 /     500 ( 57.60%) | total_pruned =     212 | shape = (20, 1, 5, 5)\n",
            "conv1.weight         | dim0 =       1 /       1 (100.00%) | dim1 =      17 /      20 ( 85.00%)\n",
            "conv1.bias           | nonzeros =       1 /      20 (  5.00%) | total_pruned =      19 | shape = (20,)\n",
            "conv2.weight         | nonzeros =    3035 /   25000 ( 12.14%) | total_pruned =   21965 | shape = (50, 20, 5, 5)\n",
            "conv2.weight         | dim0 =      19 /      20 ( 95.00%) | dim1 =      48 /      50 ( 96.00%)\n",
            "conv2.bias           | nonzeros =      11 /      50 ( 22.00%) | total_pruned =      39 | shape = (50,)\n",
            "fc1.weight           | nonzeros =    8429 /  400000 (  2.11%) | total_pruned =  391571 | shape = (500, 800)\n",
            "fc1.weight           | dim0 =     762 /     800 ( 95.25%) | dim1 =     305 /     500 ( 61.00%)\n",
            "fc1.bias             | nonzeros =      11 /     500 (  2.20%) | total_pruned =     489 | shape = (500,)\n",
            "fc2.weight           | nonzeros =     525 /    5000 ( 10.50%) | total_pruned =    4475 | shape = (10, 500)\n",
            "fc2.weight           | dim0 =     185 /     500 ( 37.00%) | dim1 =      10 /      10 (100.00%)\n",
            "fc2.bias             | nonzeros =       1 /      10 ( 10.00%) | total_pruned =       9 | shape = (10,)\n",
            "alive: 12301, pruned : 418779, total: 431080, Compression rate :      35.04x  ( 97.15% pruned)\n",
            "--- Finetuning ---\n",
            "Best: 89.89% Train Epoch: 49 [50000/60000 ( 83%)]  Loss: 0.030420 Total: 0.030420: 100% 50/50 [04:59<00:00,  6.00s/it]\n",
            "Accuracy: 89.89%\n",
            "conv1.weight         | nonzeros =     288 /     500 ( 57.60%) | total_pruned =     212 | shape = (20, 1, 5, 5)\n",
            "conv1.weight         | dim0 =       1 /       1 (100.00%) | dim1 =      17 /      20 ( 85.00%)\n",
            "conv1.bias           | nonzeros =       1 /      20 (  5.00%) | total_pruned =      19 | shape = (20,)\n",
            "conv2.weight         | nonzeros =    3035 /   25000 ( 12.14%) | total_pruned =   21965 | shape = (50, 20, 5, 5)\n",
            "conv2.weight         | dim0 =      19 /      20 ( 95.00%) | dim1 =      48 /      50 ( 96.00%)\n",
            "conv2.bias           | nonzeros =      11 /      50 ( 22.00%) | total_pruned =      39 | shape = (50,)\n",
            "fc1.weight           | nonzeros =    8429 /  400000 (  2.11%) | total_pruned =  391571 | shape = (500, 800)\n",
            "fc1.weight           | dim0 =     762 /     800 ( 95.25%) | dim1 =     305 /     500 ( 61.00%)\n",
            "fc1.bias             | nonzeros =      11 /     500 (  2.20%) | total_pruned =     489 | shape = (500,)\n",
            "fc2.weight           | nonzeros =     525 /    5000 ( 10.50%) | total_pruned =    4475 | shape = (10, 500)\n",
            "fc2.weight           | dim0 =     185 /     500 ( 37.00%) | dim1 =      10 /      10 (100.00%)\n",
            "fc2.bias             | nonzeros =       1 /      10 ( 10.00%) | total_pruned =       9 | shape = (10,)\n",
            "alive: 12301, pruned : 418779, total: 431080, Compression rate :      35.04x  ( 97.15% pruned)\n"
          ],
          "name": "stdout"
        }
      ]
    },
    {
      "cell_type": "markdown",
      "metadata": {
        "id": "aap8-hmbkWh_"
      },
      "source": [
        "# fashion_mnist struction"
      ]
    },
    {
      "cell_type": "code",
      "metadata": {
        "colab": {
          "base_uri": "https://localhost:8080/"
        },
        "id": "VumNjiiU7OE8",
        "outputId": "c79c4b2b-5478-405c-bb73-3acbacacc4ba"
      },
      "source": [
        "!python structure_fashion.py --reg 1  --decay 0.01 --pretrained"
      ],
      "execution_count": 13,
      "outputs": [
        {
          "output_type": "stream",
          "text": [
            "Using CUDA!\n",
            "/usr/local/lib/python3.7/dist-packages/torch/utils/data/dataloader.py:477: UserWarning: This DataLoader will create 5 worker processes in total. Our suggested max number of worker in current system is 4, which is smaller than what this DataLoader is going to create. Please be aware that excessive worker creation might get DataLoader running slow or even freeze, lower the worker number to avoid potential slowness/freeze if necessary.\n",
            "  cpuset_checked))\n",
            "LeNet_5(\n",
            "  (conv1): Conv2d(1, 20, kernel_size=(5, 5), stride=(1, 1))\n",
            "  (conv2): Conv2d(20, 50, kernel_size=(5, 5), stride=(1, 1))\n",
            "  (fc1): Linear(in_features=800, out_features=500, bias=True)\n",
            "  (fc2): Linear(in_features=500, out_features=10, bias=True)\n",
            ")\n",
            "Param name           Shape                          Type           \n",
            "----------------------------------------------------------------------\n",
            "conv1.weight         torch.Size([20, 1, 5, 5])      torch.float32  \n",
            "conv1.bias           torch.Size([20])               torch.float32  \n",
            "conv2.weight         torch.Size([50, 20, 5, 5])     torch.float32  \n",
            "conv2.bias           torch.Size([50])               torch.float32  \n",
            "fc1.weight           torch.Size([500, 800])         torch.float32  \n",
            "fc1.bias             torch.Size([500])              torch.float32  \n",
            "fc2.weight           torch.Size([10, 500])          torch.float32  \n",
            "fc2.bias             torch.Size([10])               torch.float32  \n",
            "Test set: Average loss: 2.4972, Accuracy: 9068/10000 (90.68%)\n",
            "--- Initial training ---\n",
            "Train Epoch: 249 [50000/60000 ( 83%)]  Loss: 0.689  Reg: 56.986: 100% 250/250 [14:48<00:00,  3.56s/it]\n",
            "Test set: Average loss: 0.6165, Accuracy: 7812/10000 (78.12%)\n"
          ],
          "name": "stdout"
        }
      ]
    },
    {
      "cell_type": "code",
      "metadata": {
        "colab": {
          "base_uri": "https://localhost:8080/"
        },
        "id": "PAdWfC11-yIq",
        "outputId": "3a799dc8-0c81-4ce5-a2f6-658817c3cdda"
      },
      "source": [
        "!python structure_fashion.py --reg 1  --decay 0.0001 --pretrained"
      ],
      "execution_count": 15,
      "outputs": [
        {
          "output_type": "stream",
          "text": [
            "Using CUDA!\n",
            "/usr/local/lib/python3.7/dist-packages/torch/utils/data/dataloader.py:477: UserWarning: This DataLoader will create 5 worker processes in total. Our suggested max number of worker in current system is 4, which is smaller than what this DataLoader is going to create. Please be aware that excessive worker creation might get DataLoader running slow or even freeze, lower the worker number to avoid potential slowness/freeze if necessary.\n",
            "  cpuset_checked))\n",
            "LeNet_5(\n",
            "  (conv1): Conv2d(1, 20, kernel_size=(5, 5), stride=(1, 1))\n",
            "  (conv2): Conv2d(20, 50, kernel_size=(5, 5), stride=(1, 1))\n",
            "  (fc1): Linear(in_features=800, out_features=500, bias=True)\n",
            "  (fc2): Linear(in_features=500, out_features=10, bias=True)\n",
            ")\n",
            "Param name           Shape                          Type           \n",
            "----------------------------------------------------------------------\n",
            "conv1.weight         torch.Size([20, 1, 5, 5])      torch.float32  \n",
            "conv1.bias           torch.Size([20])               torch.float32  \n",
            "conv2.weight         torch.Size([50, 20, 5, 5])     torch.float32  \n",
            "conv2.bias           torch.Size([50])               torch.float32  \n",
            "fc1.weight           torch.Size([500, 800])         torch.float32  \n",
            "fc1.bias             torch.Size([500])              torch.float32  \n",
            "fc2.weight           torch.Size([10, 500])          torch.float32  \n",
            "fc2.bias             torch.Size([10])               torch.float32  \n",
            "Test set: Average loss: 2.4972, Accuracy: 9068/10000 (90.68%)\n",
            "--- Initial training ---\n",
            "Train Epoch: 249 [50000/60000 ( 83%)]  Loss: 0.034  Reg: 1279.826: 100% 250/250 [14:48<00:00,  3.55s/it]\n",
            "Test set: Average loss: 0.3859, Accuracy: 9052/10000 (90.52%)\n"
          ],
          "name": "stdout"
        }
      ]
    },
    {
      "cell_type": "code",
      "metadata": {
        "colab": {
          "base_uri": "https://localhost:8080/"
        },
        "id": "Uy3JTzZJ3Axl",
        "outputId": "5e58781a-d0a5-4d46-fb47-b96ecfe4de10"
      },
      "source": [
        "!python structure_fashion.py --reg 1  --pretrained"
      ],
      "execution_count": 12,
      "outputs": [
        {
          "output_type": "stream",
          "text": [
            "Using CUDA!\n",
            "/usr/local/lib/python3.7/dist-packages/torch/utils/data/dataloader.py:477: UserWarning: This DataLoader will create 5 worker processes in total. Our suggested max number of worker in current system is 4, which is smaller than what this DataLoader is going to create. Please be aware that excessive worker creation might get DataLoader running slow or even freeze, lower the worker number to avoid potential slowness/freeze if necessary.\n",
            "  cpuset_checked))\n",
            "LeNet_5(\n",
            "  (conv1): Conv2d(1, 20, kernel_size=(5, 5), stride=(1, 1))\n",
            "  (conv2): Conv2d(20, 50, kernel_size=(5, 5), stride=(1, 1))\n",
            "  (fc1): Linear(in_features=800, out_features=500, bias=True)\n",
            "  (fc2): Linear(in_features=500, out_features=10, bias=True)\n",
            ")\n",
            "Param name           Shape                          Type           \n",
            "----------------------------------------------------------------------\n",
            "conv1.weight         torch.Size([20, 1, 5, 5])      torch.float32  \n",
            "conv1.bias           torch.Size([20])               torch.float32  \n",
            "conv2.weight         torch.Size([50, 20, 5, 5])     torch.float32  \n",
            "conv2.bias           torch.Size([50])               torch.float32  \n",
            "fc1.weight           torch.Size([500, 800])         torch.float32  \n",
            "fc1.bias             torch.Size([500])              torch.float32  \n",
            "fc2.weight           torch.Size([10, 500])          torch.float32  \n",
            "fc2.bias             torch.Size([10])               torch.float32  \n",
            "Test set: Average loss: 2.4972, Accuracy: 9068/10000 (90.68%)\n",
            "--- Initial training ---\n",
            "Train Epoch: 249 [50000/60000 ( 83%)]  Loss: 0.324  Reg: 211.105: 100% 250/250 [14:47<00:00,  3.55s/it]\n",
            "Test set: Average loss: 0.3065, Accuracy: 8890/10000 (88.90%)\n"
          ],
          "name": "stdout"
        }
      ]
    },
    {
      "cell_type": "code",
      "metadata": {
        "colab": {
          "base_uri": "https://localhost:8080/"
        },
        "id": "N2uPGtU7-_OO",
        "outputId": "514fd3c2-e0e0-4c29-c7e0-d8e707902180"
      },
      "source": [
        "!python structure_fashion.py --reg 2  --decay 0.1 --pretrained"
      ],
      "execution_count": 37,
      "outputs": [
        {
          "output_type": "stream",
          "text": [
            "Using CUDA!\n",
            "/usr/local/lib/python3.7/dist-packages/torch/utils/data/dataloader.py:477: UserWarning: This DataLoader will create 5 worker processes in total. Our suggested max number of worker in current system is 4, which is smaller than what this DataLoader is going to create. Please be aware that excessive worker creation might get DataLoader running slow or even freeze, lower the worker number to avoid potential slowness/freeze if necessary.\n",
            "  cpuset_checked))\n",
            "LeNet_5(\n",
            "  (conv1): Conv2d(1, 20, kernel_size=(5, 5), stride=(1, 1))\n",
            "  (conv2): Conv2d(20, 50, kernel_size=(5, 5), stride=(1, 1))\n",
            "  (fc1): Linear(in_features=800, out_features=500, bias=True)\n",
            "  (fc2): Linear(in_features=500, out_features=10, bias=True)\n",
            ")\n",
            "Param name           Shape                          Type           \n",
            "----------------------------------------------------------------------\n",
            "conv1.weight         torch.Size([20, 1, 5, 5])      torch.float32  \n",
            "conv1.bias           torch.Size([20])               torch.float32  \n",
            "conv2.weight         torch.Size([50, 20, 5, 5])     torch.float32  \n",
            "conv2.bias           torch.Size([50])               torch.float32  \n",
            "fc1.weight           torch.Size([500, 800])         torch.float32  \n",
            "fc1.bias             torch.Size([500])              torch.float32  \n",
            "fc2.weight           torch.Size([10, 500])          torch.float32  \n",
            "fc2.bias             torch.Size([10])               torch.float32  \n",
            "Test set: Average loss: 2.4972, Accuracy: 9068/10000 (90.68%)\n",
            "--- Initial training ---\n",
            "Train Epoch: 249 [50000/60000 ( 83%)]  Loss: 0.619  Reg: 10.445: 100% 250/250 [16:42<00:00,  4.01s/it]\n",
            "Test set: Average loss: 0.4883, Accuracy: 8198/10000 (81.98%)\n"
          ],
          "name": "stdout"
        }
      ]
    },
    {
      "cell_type": "code",
      "metadata": {
        "colab": {
          "base_uri": "https://localhost:8080/"
        },
        "id": "GJQ0fAo1T_o5",
        "outputId": "b3965983-3dde-4813-e128-727b6f0c212a"
      },
      "source": [
        "!python structure_fashion.py --reg 2  --decay 0.01 --pretrained"
      ],
      "execution_count": 7,
      "outputs": [
        {
          "output_type": "stream",
          "text": [
            "Using CUDA!\n",
            "/usr/local/lib/python3.7/dist-packages/torch/utils/data/dataloader.py:477: UserWarning: This DataLoader will create 5 worker processes in total. Our suggested max number of worker in current system is 4, which is smaller than what this DataLoader is going to create. Please be aware that excessive worker creation might get DataLoader running slow or even freeze, lower the worker number to avoid potential slowness/freeze if necessary.\n",
            "  cpuset_checked))\n",
            "LeNet_5(\n",
            "  (conv1): Conv2d(1, 20, kernel_size=(5, 5), stride=(1, 1))\n",
            "  (conv2): Conv2d(20, 50, kernel_size=(5, 5), stride=(1, 1))\n",
            "  (fc1): Linear(in_features=800, out_features=500, bias=True)\n",
            "  (fc2): Linear(in_features=500, out_features=10, bias=True)\n",
            ")\n",
            "Param name           Shape                          Type           \n",
            "----------------------------------------------------------------------\n",
            "conv1.weight         torch.Size([20, 1, 5, 5])      torch.float32  \n",
            "conv1.bias           torch.Size([20])               torch.float32  \n",
            "conv2.weight         torch.Size([50, 20, 5, 5])     torch.float32  \n",
            "conv2.bias           torch.Size([50])               torch.float32  \n",
            "fc1.weight           torch.Size([500, 800])         torch.float32  \n",
            "fc1.bias             torch.Size([500])              torch.float32  \n",
            "fc2.weight           torch.Size([10, 500])          torch.float32  \n",
            "fc2.bias             torch.Size([10])               torch.float32  \n",
            "Test set: Average loss: 2.4972, Accuracy: 9068/10000 (90.68%)\n",
            "--- Initial training ---\n",
            "Train Epoch: 249 [50000/60000 ( 83%)]  Loss: 0.312  Reg: 23.605: 100% 250/250 [19:03<00:00,  4.58s/it]\n",
            "Test set: Average loss: 0.2766, Accuracy: 9012/10000 (90.12%)\n"
          ],
          "name": "stdout"
        }
      ]
    },
    {
      "cell_type": "code",
      "metadata": {
        "colab": {
          "base_uri": "https://localhost:8080/"
        },
        "id": "PADyuYzjURLd",
        "outputId": "bf22f3a6-00fa-45ac-8ca3-7bcca8acb1a1"
      },
      "source": [
        "!python structure_fashion.py --reg 2  --decay 0.001 --pretrained"
      ],
      "execution_count": 8,
      "outputs": [
        {
          "output_type": "stream",
          "text": [
            "Using CUDA!\n",
            "/usr/local/lib/python3.7/dist-packages/torch/utils/data/dataloader.py:477: UserWarning: This DataLoader will create 5 worker processes in total. Our suggested max number of worker in current system is 4, which is smaller than what this DataLoader is going to create. Please be aware that excessive worker creation might get DataLoader running slow or even freeze, lower the worker number to avoid potential slowness/freeze if necessary.\n",
            "  cpuset_checked))\n",
            "LeNet_5(\n",
            "  (conv1): Conv2d(1, 20, kernel_size=(5, 5), stride=(1, 1))\n",
            "  (conv2): Conv2d(20, 50, kernel_size=(5, 5), stride=(1, 1))\n",
            "  (fc1): Linear(in_features=800, out_features=500, bias=True)\n",
            "  (fc2): Linear(in_features=500, out_features=10, bias=True)\n",
            ")\n",
            "Param name           Shape                          Type           \n",
            "----------------------------------------------------------------------\n",
            "conv1.weight         torch.Size([20, 1, 5, 5])      torch.float32  \n",
            "conv1.bias           torch.Size([20])               torch.float32  \n",
            "conv2.weight         torch.Size([50, 20, 5, 5])     torch.float32  \n",
            "conv2.bias           torch.Size([50])               torch.float32  \n",
            "fc1.weight           torch.Size([500, 800])         torch.float32  \n",
            "fc1.bias             torch.Size([500])              torch.float32  \n",
            "fc2.weight           torch.Size([10, 500])          torch.float32  \n",
            "fc2.bias             torch.Size([10])               torch.float32  \n",
            "Test set: Average loss: 2.4972, Accuracy: 9068/10000 (90.68%)\n",
            "--- Initial training ---\n",
            "Train Epoch: 249 [50000/60000 ( 83%)]  Loss: 0.037  Reg: 132.003: 100% 250/250 [19:16<00:00,  4.63s/it]\n",
            "Test set: Average loss: 0.4078, Accuracy: 9035/10000 (90.35%)\n"
          ],
          "name": "stdout"
        }
      ]
    },
    {
      "cell_type": "code",
      "metadata": {
        "colab": {
          "base_uri": "https://localhost:8080/"
        },
        "id": "EJw96j_-kd2Z",
        "outputId": "d6d1e28e-d1f0-4a74-cf92-444275c5bf57"
      },
      "source": [
        "!python structure_fashion.py --reg 1  --pretrained"
      ],
      "execution_count": 23,
      "outputs": [
        {
          "output_type": "stream",
          "text": [
            "Using CUDA!\n",
            "Downloading http://fashion-mnist.s3-website.eu-central-1.amazonaws.com/train-images-idx3-ubyte.gz\n",
            "Downloading http://fashion-mnist.s3-website.eu-central-1.amazonaws.com/train-images-idx3-ubyte.gz to data/FashionMNIST/raw/train-images-idx3-ubyte.gz\n",
            "26422272it [00:02, 11513229.32it/s]                 \n",
            "Extracting data/FashionMNIST/raw/train-images-idx3-ubyte.gz to data/FashionMNIST/raw\n",
            "\n",
            "Downloading http://fashion-mnist.s3-website.eu-central-1.amazonaws.com/train-labels-idx1-ubyte.gz\n",
            "Downloading http://fashion-mnist.s3-website.eu-central-1.amazonaws.com/train-labels-idx1-ubyte.gz to data/FashionMNIST/raw/train-labels-idx1-ubyte.gz\n",
            "29696it [00:00, 184003.04it/s]               \n",
            "Extracting data/FashionMNIST/raw/train-labels-idx1-ubyte.gz to data/FashionMNIST/raw\n",
            "\n",
            "Downloading http://fashion-mnist.s3-website.eu-central-1.amazonaws.com/t10k-images-idx3-ubyte.gz\n",
            "Downloading http://fashion-mnist.s3-website.eu-central-1.amazonaws.com/t10k-images-idx3-ubyte.gz to data/FashionMNIST/raw/t10k-images-idx3-ubyte.gz\n",
            "4422656it [00:01, 3873862.56it/s]                \n",
            "Extracting data/FashionMNIST/raw/t10k-images-idx3-ubyte.gz to data/FashionMNIST/raw\n",
            "\n",
            "Downloading http://fashion-mnist.s3-website.eu-central-1.amazonaws.com/t10k-labels-idx1-ubyte.gz\n",
            "Downloading http://fashion-mnist.s3-website.eu-central-1.amazonaws.com/t10k-labels-idx1-ubyte.gz to data/FashionMNIST/raw/t10k-labels-idx1-ubyte.gz\n",
            "6144it [00:00, 26787737.81it/s]\n",
            "Extracting data/FashionMNIST/raw/t10k-labels-idx1-ubyte.gz to data/FashionMNIST/raw\n",
            "\n",
            "Processing...\n",
            "/usr/local/lib/python3.7/dist-packages/torchvision/datasets/mnist.py:502: UserWarning: The given NumPy array is not writeable, and PyTorch does not support non-writeable tensors. This means you can write to the underlying (supposedly non-writeable) NumPy array using the tensor. You may want to copy the array to protect its data or make it writeable before converting it to a tensor. This type of warning will be suppressed for the rest of this program. (Triggered internally at  /pytorch/torch/csrc/utils/tensor_numpy.cpp:143.)\n",
            "  return torch.from_numpy(parsed.astype(m[2], copy=False)).view(*s)\n",
            "Done!\n",
            "/usr/local/lib/python3.7/dist-packages/torch/utils/data/dataloader.py:477: UserWarning: This DataLoader will create 5 worker processes in total. Our suggested max number of worker in current system is 4, which is smaller than what this DataLoader is going to create. Please be aware that excessive worker creation might get DataLoader running slow or even freeze, lower the worker number to avoid potential slowness/freeze if necessary.\n",
            "  cpuset_checked))\n",
            "LeNet_5(\n",
            "  (conv1): Conv2d(1, 20, kernel_size=(5, 5), stride=(1, 1))\n",
            "  (conv2): Conv2d(20, 50, kernel_size=(5, 5), stride=(1, 1))\n",
            "  (fc1): Linear(in_features=800, out_features=500, bias=True)\n",
            "  (fc2): Linear(in_features=500, out_features=10, bias=True)\n",
            ")\n",
            "Param name           Shape                          Type           \n",
            "----------------------------------------------------------------------\n",
            "conv1.weight         torch.Size([20, 1, 5, 5])      torch.float32  \n",
            "conv1.bias           torch.Size([20])               torch.float32  \n",
            "conv2.weight         torch.Size([50, 20, 5, 5])     torch.float32  \n",
            "conv2.bias           torch.Size([50])               torch.float32  \n",
            "fc1.weight           torch.Size([500, 800])         torch.float32  \n",
            "fc1.bias             torch.Size([500])              torch.float32  \n",
            "fc2.weight           torch.Size([10, 500])          torch.float32  \n",
            "fc2.bias             torch.Size([10])               torch.float32  \n",
            "Test set: Average loss: 2.4972, Accuracy: 9068/10000 (90.68%)\n",
            "--- Initial training ---\n",
            "Train Epoch: 249 [50000/60000 ( 83%)]  Loss: 0.341  Reg: 212.846: 100% 250/250 [14:50<00:00,  3.56s/it]\n",
            "Test set: Average loss: 0.3093, Accuracy: 8850/10000 (88.50%)\n"
          ],
          "name": "stdout"
        }
      ]
    },
    {
      "cell_type": "code",
      "metadata": {
        "colab": {
          "base_uri": "https://localhost:8080/"
        },
        "id": "lerG1apRo0CP",
        "outputId": "5bd3493c-b5de-4a48-c570-9e8f85982ff4"
      },
      "source": [
        "!python structure_fashion.py --reg 2  --pretrained"
      ],
      "execution_count": 24,
      "outputs": [
        {
          "output_type": "stream",
          "text": [
            "Using CUDA!\n",
            "/usr/local/lib/python3.7/dist-packages/torch/utils/data/dataloader.py:477: UserWarning: This DataLoader will create 5 worker processes in total. Our suggested max number of worker in current system is 4, which is smaller than what this DataLoader is going to create. Please be aware that excessive worker creation might get DataLoader running slow or even freeze, lower the worker number to avoid potential slowness/freeze if necessary.\n",
            "  cpuset_checked))\n",
            "LeNet_5(\n",
            "  (conv1): Conv2d(1, 20, kernel_size=(5, 5), stride=(1, 1))\n",
            "  (conv2): Conv2d(20, 50, kernel_size=(5, 5), stride=(1, 1))\n",
            "  (fc1): Linear(in_features=800, out_features=500, bias=True)\n",
            "  (fc2): Linear(in_features=500, out_features=10, bias=True)\n",
            ")\n",
            "Param name           Shape                          Type           \n",
            "----------------------------------------------------------------------\n",
            "conv1.weight         torch.Size([20, 1, 5, 5])      torch.float32  \n",
            "conv1.bias           torch.Size([20])               torch.float32  \n",
            "conv2.weight         torch.Size([50, 20, 5, 5])     torch.float32  \n",
            "conv2.bias           torch.Size([50])               torch.float32  \n",
            "fc1.weight           torch.Size([500, 800])         torch.float32  \n",
            "fc1.bias             torch.Size([500])              torch.float32  \n",
            "fc2.weight           torch.Size([10, 500])          torch.float32  \n",
            "fc2.bias             torch.Size([10])               torch.float32  \n",
            "Test set: Average loss: 2.4972, Accuracy: 9068/10000 (90.68%)\n",
            "--- Initial training ---\n",
            "Train Epoch: 249 [50000/60000 ( 83%)]  Loss: 0.055  Reg: 133.293: 100% 250/250 [16:45<00:00,  4.02s/it]\n",
            "Test set: Average loss: 0.4125, Accuracy: 9040/10000 (90.40%)\n"
          ],
          "name": "stdout"
        }
      ]
    },
    {
      "cell_type": "markdown",
      "metadata": {
        "id": "MZWtt4w4s5IL"
      },
      "source": [
        "##pruning"
      ]
    },
    {
      "cell_type": "code",
      "metadata": {
        "colab": {
          "base_uri": "https://localhost:8080/"
        },
        "id": "AiKJP_St7p2M",
        "outputId": "53ed63b3-5400-4d0a-a79f-5b83c943c7b8"
      },
      "source": [
        "!python prun_tune_V_fashion.py --model saves_fashion/struction/str_0.001_1 "
      ],
      "execution_count": 14,
      "outputs": [
        {
          "output_type": "stream",
          "text": [
            "Using CUDA!\n",
            "/usr/local/lib/python3.7/dist-packages/torch/utils/data/dataloader.py:477: UserWarning: This DataLoader will create 5 worker processes in total. Our suggested max number of worker in current system is 4, which is smaller than what this DataLoader is going to create. Please be aware that excessive worker creation might get DataLoader running slow or even freeze, lower the worker number to avoid potential slowness/freeze if necessary.\n",
            "  cpuset_checked))\n",
            "--- Pruning ---\n",
            "Pruning with threshold : 0.051222387701272964 for layer conv1.weight\n",
            "Pruning with threshold : 0.13423703610897064 for layer conv1.bias\n",
            "Pruning with threshold : 0.00690025370568037 for layer conv2.weight\n",
            "Pruning with threshold : 0.07122752815485 for layer conv2.bias\n",
            "Pruning with threshold : 0.0017935801297426224 for layer fc1.weight\n",
            "Pruning with threshold : 0.031449928879737854 for layer fc1.bias\n",
            "Pruning with threshold : 0.021400365978479385 for layer fc2.weight\n",
            "Pruning with threshold : 0.1246476024389267 for layer fc2.bias\n",
            "conv1.weight         | nonzeros =      53 /     500 ( 10.60%) | total_pruned =     447 | shape = (20, 1, 5, 5)\n",
            "conv1.weight         | dim0 =       1 /       1 (100.00%) | dim1 =       5 /      20 ( 25.00%)\n",
            "conv1.bias           | nonzeros =       2 /      20 ( 10.00%) | total_pruned =      18 | shape = (20,)\n",
            "conv2.weight         | nonzeros =     632 /   25000 (  2.53%) | total_pruned =   24368 | shape = (50, 20, 5, 5)\n",
            "conv2.weight         | dim0 =       5 /      20 ( 25.00%) | dim1 =      11 /      50 ( 22.00%)\n",
            "conv2.bias           | nonzeros =       9 /      50 ( 18.00%) | total_pruned =      41 | shape = (50,)\n",
            "fc1.weight           | nonzeros =    3248 /  400000 (  0.81%) | total_pruned =  396752 | shape = (500, 800)\n",
            "fc1.weight           | dim0 =     176 /     800 ( 22.00%) | dim1 =      24 /     500 (  4.80%)\n",
            "fc1.bias             | nonzeros =      23 /     500 (  4.60%) | total_pruned =     477 | shape = (500,)\n",
            "fc2.weight           | nonzeros =     181 /    5000 (  3.62%) | total_pruned =    4819 | shape = (10, 500)\n",
            "fc2.weight           | dim0 =      20 /     500 (  4.00%) | dim1 =      10 /      10 (100.00%)\n",
            "fc2.bias             | nonzeros =       8 /      10 ( 80.00%) | total_pruned =       2 | shape = (10,)\n",
            "alive: 4156, pruned : 426924, total: 431080, Compression rate :     103.72x  ( 99.04% pruned)\n",
            "--- Finetuning ---\n",
            "Best: 90.47% Train Epoch: 49 [50000/60000 ( 83%)]  Loss: 0.153813 Total: 0.153813: 100% 50/50 [04:18<00:00,  5.17s/it]\n",
            "Accuracy: 90.47%\n",
            "conv1.weight         | nonzeros =      53 /     500 ( 10.60%) | total_pruned =     447 | shape = (20, 1, 5, 5)\n",
            "conv1.weight         | dim0 =       1 /       1 (100.00%) | dim1 =       5 /      20 ( 25.00%)\n",
            "conv1.bias           | nonzeros =       2 /      20 ( 10.00%) | total_pruned =      18 | shape = (20,)\n",
            "conv2.weight         | nonzeros =     632 /   25000 (  2.53%) | total_pruned =   24368 | shape = (50, 20, 5, 5)\n",
            "conv2.weight         | dim0 =       5 /      20 ( 25.00%) | dim1 =      11 /      50 ( 22.00%)\n",
            "conv2.bias           | nonzeros =       9 /      50 ( 18.00%) | total_pruned =      41 | shape = (50,)\n",
            "fc1.weight           | nonzeros =    3248 /  400000 (  0.81%) | total_pruned =  396752 | shape = (500, 800)\n",
            "fc1.weight           | dim0 =     176 /     800 ( 22.00%) | dim1 =      24 /     500 (  4.80%)\n",
            "fc1.bias             | nonzeros =      23 /     500 (  4.60%) | total_pruned =     477 | shape = (500,)\n",
            "fc2.weight           | nonzeros =     181 /    5000 (  3.62%) | total_pruned =    4819 | shape = (10, 500)\n",
            "fc2.weight           | dim0 =      20 /     500 (  4.00%) | dim1 =      10 /      10 (100.00%)\n",
            "fc2.bias             | nonzeros =       8 /      10 ( 80.00%) | total_pruned =       2 | shape = (10,)\n",
            "alive: 4156, pruned : 426924, total: 431080, Compression rate :     103.72x  ( 99.04% pruned)\n"
          ],
          "name": "stdout"
        }
      ]
    },
    {
      "cell_type": "code",
      "metadata": {
        "colab": {
          "base_uri": "https://localhost:8080/"
        },
        "id": "C5FDhQbfUS1k",
        "outputId": "0195ce17-c27c-4ec5-f2fb-070bbda2795d"
      },
      "source": [
        "!python prun_tune_V_fashion.py --model saves_fashion/struction/str_0.01_2 --sensitivity 0.02"
      ],
      "execution_count": 8,
      "outputs": [
        {
          "output_type": "stream",
          "text": [
            "Using CUDA!\n",
            "/usr/local/lib/python3.7/dist-packages/torch/utils/data/dataloader.py:477: UserWarning: This DataLoader will create 5 worker processes in total. Our suggested max number of worker in current system is 4, which is smaller than what this DataLoader is going to create. Please be aware that excessive worker creation might get DataLoader running slow or even freeze, lower the worker number to avoid potential slowness/freeze if necessary.\n",
            "  cpuset_checked))\n",
            "--- Pruning ---\n",
            "Pruning with threshold : 0.01770274043083191 for layer conv1.weight\n",
            "Pruning with threshold : 0.016104822158813478 for layer conv1.bias\n",
            "Pruning with threshold : 0.0029880532622337344 for layer conv2.weight\n",
            "Pruning with threshold : 0.007348447442054749 for layer conv2.bias\n",
            "Pruning with threshold : 0.0008092962950468064 for layer fc1.weight\n",
            "Pruning with threshold : 0.0018799249827861787 for layer fc1.bias\n",
            "Pruning with threshold : 0.005800643563270569 for layer fc2.weight\n",
            "Pruning with threshold : 0.015526180267333985 for layer fc2.bias\n",
            "conv1.weight         | nonzeros =     236 /     500 ( 47.20%) | total_pruned =     264 | shape = (20, 1, 5, 5)\n",
            "conv1.weight         | dim0 =       1 /       1 (100.00%) | dim1 =      10 /      20 ( 50.00%)\n",
            "conv1.bias           | nonzeros =       8 /      20 ( 40.00%) | total_pruned =      12 | shape = (20,)\n",
            "conv2.weight         | nonzeros =    3869 /   25000 ( 15.48%) | total_pruned =   21131 | shape = (50, 20, 5, 5)\n",
            "conv2.weight         | dim0 =      10 /      20 ( 50.00%) | dim1 =      16 /      50 ( 32.00%)\n",
            "conv2.bias           | nonzeros =      36 /      50 ( 72.00%) | total_pruned =      14 | shape = (50,)\n",
            "fc1.weight           | nonzeros =    2824 /  400000 (  0.71%) | total_pruned =  397176 | shape = (500, 800)\n",
            "fc1.weight           | dim0 =     256 /     800 ( 32.00%) | dim1 =      15 /     500 (  3.00%)\n",
            "fc1.bias             | nonzeros =     162 /     500 ( 32.40%) | total_pruned =     338 | shape = (500,)\n",
            "fc2.weight           | nonzeros =     126 /    5000 (  2.52%) | total_pruned =    4874 | shape = (10, 500)\n",
            "fc2.weight           | dim0 =      14 /     500 (  2.80%) | dim1 =      10 /      10 (100.00%)\n",
            "fc2.bias             | nonzeros =      10 /      10 (100.00%) | total_pruned =       0 | shape = (10,)\n",
            "alive: 7271, pruned : 423809, total: 431080, Compression rate :      59.29x  ( 98.31% pruned)\n",
            "--- Finetuning ---\n",
            "Best: 90.72% Train Epoch: 49 [50000/60000 ( 83%)]  Loss: 0.142433 Total: 0.142433: 100% 50/50 [04:16<00:00,  5.12s/it]\n",
            "Accuracy: 90.72%\n",
            "conv1.weight         | nonzeros =     236 /     500 ( 47.20%) | total_pruned =     264 | shape = (20, 1, 5, 5)\n",
            "conv1.weight         | dim0 =       1 /       1 (100.00%) | dim1 =      10 /      20 ( 50.00%)\n",
            "conv1.bias           | nonzeros =       8 /      20 ( 40.00%) | total_pruned =      12 | shape = (20,)\n",
            "conv2.weight         | nonzeros =    3869 /   25000 ( 15.48%) | total_pruned =   21131 | shape = (50, 20, 5, 5)\n",
            "conv2.weight         | dim0 =      10 /      20 ( 50.00%) | dim1 =      16 /      50 ( 32.00%)\n",
            "conv2.bias           | nonzeros =      36 /      50 ( 72.00%) | total_pruned =      14 | shape = (50,)\n",
            "fc1.weight           | nonzeros =    2824 /  400000 (  0.71%) | total_pruned =  397176 | shape = (500, 800)\n",
            "fc1.weight           | dim0 =     256 /     800 ( 32.00%) | dim1 =      15 /     500 (  3.00%)\n",
            "fc1.bias             | nonzeros =     162 /     500 ( 32.40%) | total_pruned =     338 | shape = (500,)\n",
            "fc2.weight           | nonzeros =     126 /    5000 (  2.52%) | total_pruned =    4874 | shape = (10, 500)\n",
            "fc2.weight           | dim0 =      14 /     500 (  2.80%) | dim1 =      10 /      10 (100.00%)\n",
            "fc2.bias             | nonzeros =      10 /      10 (100.00%) | total_pruned =       0 | shape = (10,)\n",
            "alive: 7271, pruned : 423809, total: 431080, Compression rate :      59.29x  ( 98.31% pruned)\n"
          ],
          "name": "stdout"
        }
      ]
    },
    {
      "cell_type": "code",
      "metadata": {
        "colab": {
          "base_uri": "https://localhost:8080/"
        },
        "id": "tpSX_DM5AkpM",
        "outputId": "7584376f-9ae7-46c7-d9d8-7a3aab751ded"
      },
      "source": [
        "!python prun_tune_V_fashion.py --model saves_fashion/struction/str_0.01_2 --sensitivity 0.01 "
      ],
      "execution_count": 6,
      "outputs": [
        {
          "output_type": "stream",
          "text": [
            "Using CUDA!\n",
            "/usr/local/lib/python3.7/dist-packages/torch/utils/data/dataloader.py:477: UserWarning: This DataLoader will create 5 worker processes in total. Our suggested max number of worker in current system is 4, which is smaller than what this DataLoader is going to create. Please be aware that excessive worker creation might get DataLoader running slow or even freeze, lower the worker number to avoid potential slowness/freeze if necessary.\n",
            "  cpuset_checked))\n",
            "--- Pruning ---\n",
            "Pruning with threshold : 0.008851370215415955 for layer conv1.weight\n",
            "Pruning with threshold : 0.008052411079406739 for layer conv1.bias\n",
            "Pruning with threshold : 0.0014940266311168672 for layer conv2.weight\n",
            "Pruning with threshold : 0.0036742237210273744 for layer conv2.bias\n",
            "Pruning with threshold : 0.0004046481475234032 for layer fc1.weight\n",
            "Pruning with threshold : 0.0009399624913930893 for layer fc1.bias\n",
            "Pruning with threshold : 0.0029003217816352847 for layer fc2.weight\n",
            "Pruning with threshold : 0.007763090133666993 for layer fc2.bias\n",
            "conv1.weight         | nonzeros =     242 /     500 ( 48.40%) | total_pruned =     258 | shape = (20, 1, 5, 5)\n",
            "conv1.weight         | dim0 =       1 /       1 (100.00%) | dim1 =      10 /      20 ( 50.00%)\n",
            "conv1.bias           | nonzeros =      10 /      20 ( 50.00%) | total_pruned =      10 | shape = (20,)\n",
            "conv2.weight         | nonzeros =    3932 /   25000 ( 15.73%) | total_pruned =   21068 | shape = (50, 20, 5, 5)\n",
            "conv2.weight         | dim0 =      10 /      20 ( 50.00%) | dim1 =      16 /      50 ( 32.00%)\n",
            "conv2.bias           | nonzeros =      44 /      50 ( 88.00%) | total_pruned =       6 | shape = (50,)\n",
            "fc1.weight           | nonzeros =    3369 /  400000 (  0.84%) | total_pruned =  396631 | shape = (500, 800)\n",
            "fc1.weight           | dim0 =     477 /     800 ( 59.62%) | dim1 =     247 /     500 ( 49.40%)\n",
            "fc1.bias             | nonzeros =     289 /     500 ( 57.80%) | total_pruned =     211 | shape = (500,)\n",
            "fc2.weight           | nonzeros =     129 /    5000 (  2.58%) | total_pruned =    4871 | shape = (10, 500)\n",
            "fc2.weight           | dim0 =      14 /     500 (  2.80%) | dim1 =      10 /      10 (100.00%)\n",
            "fc2.bias             | nonzeros =      10 /      10 (100.00%) | total_pruned =       0 | shape = (10,)\n",
            "alive: 8025, pruned : 423055, total: 431080, Compression rate :      53.72x  ( 98.14% pruned)\n",
            "--- Finetuning ---\n",
            "Best: 90.82% Train Epoch: 49 [50000/60000 ( 83%)]  Loss: 0.141446 Total: 0.141446: 100% 50/50 [04:14<00:00,  5.09s/it]\n",
            "Accuracy: 90.82%\n",
            "conv1.weight         | nonzeros =     242 /     500 ( 48.40%) | total_pruned =     258 | shape = (20, 1, 5, 5)\n",
            "conv1.weight         | dim0 =       1 /       1 (100.00%) | dim1 =      10 /      20 ( 50.00%)\n",
            "conv1.bias           | nonzeros =      10 /      20 ( 50.00%) | total_pruned =      10 | shape = (20,)\n",
            "conv2.weight         | nonzeros =    3932 /   25000 ( 15.73%) | total_pruned =   21068 | shape = (50, 20, 5, 5)\n",
            "conv2.weight         | dim0 =      10 /      20 ( 50.00%) | dim1 =      16 /      50 ( 32.00%)\n",
            "conv2.bias           | nonzeros =      44 /      50 ( 88.00%) | total_pruned =       6 | shape = (50,)\n",
            "fc1.weight           | nonzeros =    3369 /  400000 (  0.84%) | total_pruned =  396631 | shape = (500, 800)\n",
            "fc1.weight           | dim0 =     477 /     800 ( 59.62%) | dim1 =     247 /     500 ( 49.40%)\n",
            "fc1.bias             | nonzeros =     289 /     500 ( 57.80%) | total_pruned =     211 | shape = (500,)\n",
            "fc2.weight           | nonzeros =     129 /    5000 (  2.58%) | total_pruned =    4871 | shape = (10, 500)\n",
            "fc2.weight           | dim0 =      14 /     500 (  2.80%) | dim1 =      10 /      10 (100.00%)\n",
            "fc2.bias             | nonzeros =      10 /      10 (100.00%) | total_pruned =       0 | shape = (10,)\n",
            "alive: 8025, pruned : 423055, total: 431080, Compression rate :      53.72x  ( 98.14% pruned)\n"
          ],
          "name": "stdout"
        }
      ]
    },
    {
      "cell_type": "code",
      "metadata": {
        "colab": {
          "base_uri": "https://localhost:8080/"
        },
        "id": "V8FyTL4f_PPX",
        "outputId": "bbbe2284-46f1-4f76-9b92-75b380c304f3"
      },
      "source": [
        "!python prun_tune_V_fashion.py --model saves_fashion/struction/str_0.01_2 --sensitivity 0.009 "
      ],
      "execution_count": 5,
      "outputs": [
        {
          "output_type": "stream",
          "text": [
            "Using CUDA!\n",
            "/usr/local/lib/python3.7/dist-packages/torch/utils/data/dataloader.py:477: UserWarning: This DataLoader will create 5 worker processes in total. Our suggested max number of worker in current system is 4, which is smaller than what this DataLoader is going to create. Please be aware that excessive worker creation might get DataLoader running slow or even freeze, lower the worker number to avoid potential slowness/freeze if necessary.\n",
            "  cpuset_checked))\n",
            "--- Pruning ---\n",
            "Pruning with threshold : 0.007966233193874359 for layer conv1.weight\n",
            "Pruning with threshold : 0.007247169971466064 for layer conv1.bias\n",
            "Pruning with threshold : 0.0013446239680051802 for layer conv2.weight\n",
            "Pruning with threshold : 0.0033068013489246364 for layer conv2.bias\n",
            "Pruning with threshold : 0.00036418333277106284 for layer fc1.weight\n",
            "Pruning with threshold : 0.0008459662422537803 for layer fc1.bias\n",
            "Pruning with threshold : 0.0026102896034717557 for layer fc2.weight\n",
            "Pruning with threshold : 0.006986781120300292 for layer fc2.bias\n",
            "conv1.weight         | nonzeros =     244 /     500 ( 48.80%) | total_pruned =     256 | shape = (20, 1, 5, 5)\n",
            "conv1.weight         | dim0 =       1 /       1 (100.00%) | dim1 =      10 /      20 ( 50.00%)\n",
            "conv1.bias           | nonzeros =      10 /      20 ( 50.00%) | total_pruned =      10 | shape = (20,)\n",
            "conv2.weight         | nonzeros =    3937 /   25000 ( 15.75%) | total_pruned =   21063 | shape = (50, 20, 5, 5)\n",
            "conv2.weight         | dim0 =      10 /      20 ( 50.00%) | dim1 =      16 /      50 ( 32.00%)\n",
            "conv2.bias           | nonzeros =      46 /      50 ( 92.00%) | total_pruned =       4 | shape = (50,)\n",
            "fc1.weight           | nonzeros =    3616 /  400000 (  0.90%) | total_pruned =  396384 | shape = (500, 800)\n",
            "fc1.weight           | dim0 =     570 /     800 ( 71.25%) | dim1 =     336 /     500 ( 67.20%)\n",
            "fc1.bias             | nonzeros =     304 /     500 ( 60.80%) | total_pruned =     196 | shape = (500,)\n",
            "fc2.weight           | nonzeros =     129 /    5000 (  2.58%) | total_pruned =    4871 | shape = (10, 500)\n",
            "fc2.weight           | dim0 =      14 /     500 (  2.80%) | dim1 =      10 /      10 (100.00%)\n",
            "fc2.bias             | nonzeros =      10 /      10 (100.00%) | total_pruned =       0 | shape = (10,)\n",
            "alive: 8296, pruned : 422784, total: 431080, Compression rate :      51.96x  ( 98.08% pruned)\n",
            "--- Finetuning ---\n",
            "Best: 90.79% Train Epoch: 49 [50000/60000 ( 83%)]  Loss: 0.124335 Total: 0.124335: 100% 50/50 [04:15<00:00,  5.10s/it]\n",
            "Accuracy: 90.79%\n",
            "conv1.weight         | nonzeros =     244 /     500 ( 48.80%) | total_pruned =     256 | shape = (20, 1, 5, 5)\n",
            "conv1.weight         | dim0 =       1 /       1 (100.00%) | dim1 =      10 /      20 ( 50.00%)\n",
            "conv1.bias           | nonzeros =      10 /      20 ( 50.00%) | total_pruned =      10 | shape = (20,)\n",
            "conv2.weight         | nonzeros =    3937 /   25000 ( 15.75%) | total_pruned =   21063 | shape = (50, 20, 5, 5)\n",
            "conv2.weight         | dim0 =      10 /      20 ( 50.00%) | dim1 =      16 /      50 ( 32.00%)\n",
            "conv2.bias           | nonzeros =      46 /      50 ( 92.00%) | total_pruned =       4 | shape = (50,)\n",
            "fc1.weight           | nonzeros =    3616 /  400000 (  0.90%) | total_pruned =  396384 | shape = (500, 800)\n",
            "fc1.weight           | dim0 =     570 /     800 ( 71.25%) | dim1 =     336 /     500 ( 67.20%)\n",
            "fc1.bias             | nonzeros =     304 /     500 ( 60.80%) | total_pruned =     196 | shape = (500,)\n",
            "fc2.weight           | nonzeros =     129 /    5000 (  2.58%) | total_pruned =    4871 | shape = (10, 500)\n",
            "fc2.weight           | dim0 =      14 /     500 (  2.80%) | dim1 =      10 /      10 (100.00%)\n",
            "fc2.bias             | nonzeros =      10 /      10 (100.00%) | total_pruned =       0 | shape = (10,)\n",
            "alive: 8296, pruned : 422784, total: 431080, Compression rate :      51.96x  ( 98.08% pruned)\n"
          ],
          "name": "stdout"
        }
      ]
    },
    {
      "cell_type": "code",
      "metadata": {
        "colab": {
          "base_uri": "https://localhost:8080/"
        },
        "id": "WDqrPWxuUW5f",
        "outputId": "8ebde34a-c591-466e-d854-e588ab208640"
      },
      "source": [
        "!python prun_tune_V_fashion.py --model saves_fashion/struction/str_0.01_2 --sensitivity 0.008 "
      ],
      "execution_count": 9,
      "outputs": [
        {
          "output_type": "stream",
          "text": [
            "Using CUDA!\n",
            "/usr/local/lib/python3.7/dist-packages/torch/utils/data/dataloader.py:477: UserWarning: This DataLoader will create 5 worker processes in total. Our suggested max number of worker in current system is 4, which is smaller than what this DataLoader is going to create. Please be aware that excessive worker creation might get DataLoader running slow or even freeze, lower the worker number to avoid potential slowness/freeze if necessary.\n",
            "  cpuset_checked))\n",
            "--- Pruning ---\n",
            "Pruning with threshold : 0.007081096172332764 for layer conv1.weight\n",
            "Pruning with threshold : 0.0064419288635253905 for layer conv1.bias\n",
            "Pruning with threshold : 0.0011952213048934937 for layer conv2.weight\n",
            "Pruning with threshold : 0.0029393789768218993 for layer conv2.bias\n",
            "Pruning with threshold : 0.00032371851801872256 for layer fc1.weight\n",
            "Pruning with threshold : 0.0007519699931144714 for layer fc1.bias\n",
            "Pruning with threshold : 0.0023202574253082275 for layer fc2.weight\n",
            "Pruning with threshold : 0.006210472106933594 for layer fc2.bias\n",
            "conv1.weight         | nonzeros =     244 /     500 ( 48.80%) | total_pruned =     256 | shape = (20, 1, 5, 5)\n",
            "conv1.weight         | dim0 =       1 /       1 (100.00%) | dim1 =      10 /      20 ( 50.00%)\n",
            "conv1.bias           | nonzeros =      11 /      20 ( 55.00%) | total_pruned =       9 | shape = (20,)\n",
            "conv2.weight         | nonzeros =    3941 /   25000 ( 15.76%) | total_pruned =   21059 | shape = (50, 20, 5, 5)\n",
            "conv2.weight         | dim0 =      10 /      20 ( 50.00%) | dim1 =      16 /      50 ( 32.00%)\n",
            "conv2.bias           | nonzeros =      47 /      50 ( 94.00%) | total_pruned =       3 | shape = (50,)\n",
            "fc1.weight           | nonzeros =    3917 /  400000 (  0.98%) | total_pruned =  396083 | shape = (500, 800)\n",
            "fc1.weight           | dim0 =     652 /     800 ( 81.50%) | dim1 =     411 /     500 ( 82.20%)\n",
            "fc1.bias             | nonzeros =     321 /     500 ( 64.20%) | total_pruned =     179 | shape = (500,)\n",
            "fc2.weight           | nonzeros =     130 /    5000 (  2.60%) | total_pruned =    4870 | shape = (10, 500)\n",
            "fc2.weight           | dim0 =      14 /     500 (  2.80%) | dim1 =      10 /      10 (100.00%)\n",
            "fc2.bias             | nonzeros =      10 /      10 (100.00%) | total_pruned =       0 | shape = (10,)\n",
            "alive: 8621, pruned : 422459, total: 431080, Compression rate :      50.00x  ( 98.00% pruned)\n",
            "--- Finetuning ---\n",
            "Best: 90.80% Train Epoch: 49 [50000/60000 ( 83%)]  Loss: 0.137621 Total: 0.137621: 100% 50/50 [04:24<00:00,  5.30s/it]\n",
            "Accuracy: 90.80%\n",
            "conv1.weight         | nonzeros =     244 /     500 ( 48.80%) | total_pruned =     256 | shape = (20, 1, 5, 5)\n",
            "conv1.weight         | dim0 =       1 /       1 (100.00%) | dim1 =      10 /      20 ( 50.00%)\n",
            "conv1.bias           | nonzeros =      11 /      20 ( 55.00%) | total_pruned =       9 | shape = (20,)\n",
            "conv2.weight         | nonzeros =    3941 /   25000 ( 15.76%) | total_pruned =   21059 | shape = (50, 20, 5, 5)\n",
            "conv2.weight         | dim0 =      10 /      20 ( 50.00%) | dim1 =      16 /      50 ( 32.00%)\n",
            "conv2.bias           | nonzeros =      47 /      50 ( 94.00%) | total_pruned =       3 | shape = (50,)\n",
            "fc1.weight           | nonzeros =    3917 /  400000 (  0.98%) | total_pruned =  396083 | shape = (500, 800)\n",
            "fc1.weight           | dim0 =     652 /     800 ( 81.50%) | dim1 =     411 /     500 ( 82.20%)\n",
            "fc1.bias             | nonzeros =     321 /     500 ( 64.20%) | total_pruned =     179 | shape = (500,)\n",
            "fc2.weight           | nonzeros =     130 /    5000 (  2.60%) | total_pruned =    4870 | shape = (10, 500)\n",
            "fc2.weight           | dim0 =      14 /     500 (  2.80%) | dim1 =      10 /      10 (100.00%)\n",
            "fc2.bias             | nonzeros =      10 /      10 (100.00%) | total_pruned =       0 | shape = (10,)\n",
            "alive: 8621, pruned : 422459, total: 431080, Compression rate :      50.00x  ( 98.00% pruned)\n"
          ],
          "name": "stdout"
        }
      ]
    },
    {
      "cell_type": "code",
      "metadata": {
        "colab": {
          "base_uri": "https://localhost:8080/"
        },
        "id": "VlsjKXv9UbU5",
        "outputId": "6223af26-4143-46e0-93f6-486493d6749f"
      },
      "source": [
        "!python prun_tune_V_fashion.py --model saves_fashion/struction/str_0.001_2 --sensitivity 0.008 "
      ],
      "execution_count": 10,
      "outputs": [
        {
          "output_type": "stream",
          "text": [
            "Using CUDA!\n",
            "/usr/local/lib/python3.7/dist-packages/torch/utils/data/dataloader.py:477: UserWarning: This DataLoader will create 5 worker processes in total. Our suggested max number of worker in current system is 4, which is smaller than what this DataLoader is going to create. Please be aware that excessive worker creation might get DataLoader running slow or even freeze, lower the worker number to avoid potential slowness/freeze if necessary.\n",
            "  cpuset_checked))\n",
            "--- Pruning ---\n",
            "Pruning with threshold : 0.005482544422149658 for layer conv1.weight\n",
            "Pruning with threshold : 0.0037237112522125245 for layer conv1.bias\n",
            "Pruning with threshold : 0.0011825321912765504 for layer conv2.weight\n",
            "Pruning with threshold : 0.002568634033203125 for layer conv2.bias\n",
            "Pruning with threshold : 0.00033974608778953555 for layer fc1.weight\n",
            "Pruning with threshold : 0.0005328235030174255 for layer fc1.bias\n",
            "Pruning with threshold : 0.0017995082139968873 for layer fc2.weight\n",
            "Pruning with threshold : 0.0017919936180114746 for layer fc2.bias\n",
            "conv1.weight         | nonzeros =     421 /     500 ( 84.20%) | total_pruned =      79 | shape = (20, 1, 5, 5)\n",
            "conv1.weight         | dim0 =       1 /       1 (100.00%) | dim1 =      17 /      20 ( 85.00%)\n",
            "conv1.bias           | nonzeros =      17 /      20 ( 85.00%) | total_pruned =       3 | shape = (20,)\n",
            "conv2.weight         | nonzeros =   15605 /   25000 ( 62.42%) | total_pruned =    9395 | shape = (50, 20, 5, 5)\n",
            "conv2.weight         | dim0 =      17 /      20 ( 85.00%) | dim1 =      37 /      50 ( 74.00%)\n",
            "conv2.bias           | nonzeros =      50 /      50 (100.00%) | total_pruned =       0 | shape = (50,)\n",
            "fc1.weight           | nonzeros =   23066 /  400000 (  5.77%) | total_pruned =  376934 | shape = (500, 800)\n",
            "fc1.weight           | dim0 =     707 /     800 ( 88.38%) | dim1 =     234 /     500 ( 46.80%)\n",
            "fc1.bias             | nonzeros =     251 /     500 ( 50.20%) | total_pruned =     249 | shape = (500,)\n",
            "fc2.weight           | nonzeros =     382 /    5000 (  7.64%) | total_pruned =    4618 | shape = (10, 500)\n",
            "fc2.weight           | dim0 =      45 /     500 (  9.00%) | dim1 =      10 /      10 (100.00%)\n",
            "fc2.bias             | nonzeros =      10 /      10 (100.00%) | total_pruned =       0 | shape = (10,)\n",
            "alive: 39802, pruned : 391278, total: 431080, Compression rate :      10.83x  ( 90.77% pruned)\n",
            "--- Finetuning ---\n",
            "Best: 90.61% Train Epoch: 49 [50000/60000 ( 83%)]  Loss: 0.012309 Total: 0.012309: 100% 50/50 [04:27<00:00,  5.35s/it]\n",
            "Accuracy: 90.61%\n",
            "conv1.weight         | nonzeros =     421 /     500 ( 84.20%) | total_pruned =      79 | shape = (20, 1, 5, 5)\n",
            "conv1.weight         | dim0 =       1 /       1 (100.00%) | dim1 =      17 /      20 ( 85.00%)\n",
            "conv1.bias           | nonzeros =      17 /      20 ( 85.00%) | total_pruned =       3 | shape = (20,)\n",
            "conv2.weight         | nonzeros =   15605 /   25000 ( 62.42%) | total_pruned =    9395 | shape = (50, 20, 5, 5)\n",
            "conv2.weight         | dim0 =      17 /      20 ( 85.00%) | dim1 =      37 /      50 ( 74.00%)\n",
            "conv2.bias           | nonzeros =      50 /      50 (100.00%) | total_pruned =       0 | shape = (50,)\n",
            "fc1.weight           | nonzeros =   23066 /  400000 (  5.77%) | total_pruned =  376934 | shape = (500, 800)\n",
            "fc1.weight           | dim0 =     707 /     800 ( 88.38%) | dim1 =     234 /     500 ( 46.80%)\n",
            "fc1.bias             | nonzeros =     251 /     500 ( 50.20%) | total_pruned =     249 | shape = (500,)\n",
            "fc2.weight           | nonzeros =     382 /    5000 (  7.64%) | total_pruned =    4618 | shape = (10, 500)\n",
            "fc2.weight           | dim0 =      45 /     500 (  9.00%) | dim1 =      10 /      10 (100.00%)\n",
            "fc2.bias             | nonzeros =      10 /      10 (100.00%) | total_pruned =       0 | shape = (10,)\n",
            "alive: 39802, pruned : 391278, total: 431080, Compression rate :      10.83x  ( 90.77% pruned)\n"
          ],
          "name": "stdout"
        }
      ]
    },
    {
      "cell_type": "code",
      "metadata": {
        "colab": {
          "base_uri": "https://localhost:8080/"
        },
        "id": "POF9G2HZvmM9",
        "outputId": "5b132f6f-102c-4803-b059-a2f06f5d98b9"
      },
      "source": [
        "!python prun_tune_V_fashion.py --model saves_fashion/struction/str_0.1_2 --sensitivity 0.008 "
      ],
      "execution_count": 3,
      "outputs": [
        {
          "output_type": "stream",
          "text": [
            "Using CUDA!\n",
            "/usr/local/lib/python3.7/dist-packages/torch/utils/data/dataloader.py:477: UserWarning: This DataLoader will create 5 worker processes in total. Our suggested max number of worker in current system is 4, which is smaller than what this DataLoader is going to create. Please be aware that excessive worker creation might get DataLoader running slow or even freeze, lower the worker number to avoid potential slowness/freeze if necessary.\n",
            "  cpuset_checked))\n",
            "--- Pruning ---\n",
            "Pruning with threshold : 0.007589905738830566 for layer conv1.weight\n",
            "Pruning with threshold : 0.023738025665283203 for layer conv1.bias\n",
            "Pruning with threshold : 0.0013322869539260864 for layer conv2.weight\n",
            "Pruning with threshold : 0.003167087554931641 for layer conv2.bias\n",
            "Pruning with threshold : 0.0004053986072540283 for layer fc1.weight\n",
            "Pruning with threshold : 0.0009391086101531983 for layer fc1.bias\n",
            "Pruning with threshold : 0.0030536844730377198 for layer fc2.weight\n",
            "Pruning with threshold : 0.011858652114868164 for layer fc2.bias\n",
            "conv1.weight         | nonzeros =      50 /     500 ( 10.00%) | total_pruned =     450 | shape = (20, 1, 5, 5)\n",
            "conv1.weight         | dim0 =       1 /       1 (100.00%) | dim1 =       2 /      20 ( 10.00%)\n",
            "conv1.bias           | nonzeros =       5 /      20 ( 25.00%) | total_pruned =      15 | shape = (20,)\n",
            "conv2.weight         | nonzeros =     288 /   25000 (  1.15%) | total_pruned =   24712 | shape = (50, 20, 5, 5)\n",
            "conv2.weight         | dim0 =       3 /      20 ( 15.00%) | dim1 =       6 /      50 ( 12.00%)\n",
            "conv2.bias           | nonzeros =      50 /      50 (100.00%) | total_pruned =       0 | shape = (50,)\n",
            "fc1.weight           | nonzeros =     976 /  400000 (  0.24%) | total_pruned =  399024 | shape = (500, 800)\n",
            "fc1.weight           | dim0 =     274 /     800 ( 34.25%) | dim1 =      12 /     500 (  2.40%)\n",
            "fc1.bias             | nonzeros =     387 /     500 ( 77.40%) | total_pruned =     113 | shape = (500,)\n",
            "fc2.weight           | nonzeros =      89 /    5000 (  1.78%) | total_pruned =    4911 | shape = (10, 500)\n",
            "fc2.weight           | dim0 =      10 /     500 (  2.00%) | dim1 =      10 /      10 (100.00%)\n",
            "fc2.bias             | nonzeros =      10 /      10 (100.00%) | total_pruned =       0 | shape = (10,)\n",
            "alive: 1855, pruned : 429225, total: 431080, Compression rate :     232.39x  ( 99.57% pruned)\n",
            "--- Finetuning ---\n",
            "Best: 85.69% Train Epoch: 49 [50000/60000 ( 83%)]  Loss: 0.305889 Total: 0.305889: 100% 50/50 [04:12<00:00,  5.06s/it]\n",
            "Accuracy: 85.69%\n",
            "conv1.weight         | nonzeros =      50 /     500 ( 10.00%) | total_pruned =     450 | shape = (20, 1, 5, 5)\n",
            "conv1.weight         | dim0 =       1 /       1 (100.00%) | dim1 =       2 /      20 ( 10.00%)\n",
            "conv1.bias           | nonzeros =       5 /      20 ( 25.00%) | total_pruned =      15 | shape = (20,)\n",
            "conv2.weight         | nonzeros =     288 /   25000 (  1.15%) | total_pruned =   24712 | shape = (50, 20, 5, 5)\n",
            "conv2.weight         | dim0 =       3 /      20 ( 15.00%) | dim1 =       6 /      50 ( 12.00%)\n",
            "conv2.bias           | nonzeros =      50 /      50 (100.00%) | total_pruned =       0 | shape = (50,)\n",
            "fc1.weight           | nonzeros =     976 /  400000 (  0.24%) | total_pruned =  399024 | shape = (500, 800)\n",
            "fc1.weight           | dim0 =     274 /     800 ( 34.25%) | dim1 =      12 /     500 (  2.40%)\n",
            "fc1.bias             | nonzeros =     387 /     500 ( 77.40%) | total_pruned =     113 | shape = (500,)\n",
            "fc2.weight           | nonzeros =      89 /    5000 (  1.78%) | total_pruned =    4911 | shape = (10, 500)\n",
            "fc2.weight           | dim0 =      10 /     500 (  2.00%) | dim1 =      10 /      10 (100.00%)\n",
            "fc2.bias             | nonzeros =      10 /      10 (100.00%) | total_pruned =       0 | shape = (10,)\n",
            "alive: 1855, pruned : 429225, total: 431080, Compression rate :     232.39x  ( 99.57% pruned)\n"
          ],
          "name": "stdout"
        }
      ]
    }
  ]
}