{
  "nbformat": 4,
  "nbformat_minor": 0,
  "metadata": {
    "colab": {
      "name": "Commands to operate on the MLP model.ipynb",
      "provenance": [],
      "collapsed_sections": [],
      "include_colab_link": true
    },
    "kernelspec": {
      "name": "python3",
      "display_name": "Python 3"
    },
    "language_info": {
      "name": "python"
    },
    "accelerator": "GPU"
  },
  "cells": [
    {
      "cell_type": "markdown",
      "metadata": {
        "id": "view-in-github",
        "colab_type": "text"
      },
      "source": [
        "<a href=\"https://colab.research.google.com/github/LYM52/COMP6248-Reproducibility-Challenge---DeepHoyer/blob/main/Commands_to_operate_on_the_MLP_model.ipynb\" target=\"_parent\"><img src=\"https://colab.research.google.com/assets/colab-badge.svg\" alt=\"Open In Colab\"/></a>"
      ]
    },
    {
      "cell_type": "code",
      "metadata": {
        "colab": {
          "base_uri": "https://localhost:8080/"
        },
        "id": "l33tHZxj2shN",
        "outputId": "a52c8e2d-c828-47e9-bf02-ff8947e95f61"
      },
      "source": [
        "from google.colab import drive\n",
        "drive.mount('/content/drive')"
      ],
      "execution_count": null,
      "outputs": [
        {
          "output_type": "stream",
          "text": [
            "Mounted at /content/drive\n"
          ],
          "name": "stdout"
        }
      ]
    },
    {
      "cell_type": "code",
      "metadata": {
        "colab": {
          "base_uri": "https://localhost:8080/"
        },
        "id": "ls1pIJJ22wVw",
        "outputId": "97fc30e5-118e-435d-8de2-8091bb4ca0a6"
      },
      "source": [
        "import os\n",
        "path=\"/content/drive/MyDrive/DeepHoyer-master/mnist/MLP\"\n",
        "os.chdir(path)\n",
        "os.listdir(path)"
      ],
      "execution_count": null,
      "outputs": [
        {
          "output_type": "execute_result",
          "data": {
            "text/plain": [
              "['prun_tune_T.py',\n",
              " 'prun_tune_V.py',\n",
              " 'util.py',\n",
              " 'element.py',\n",
              " 'net',\n",
              " '__pycache__',\n",
              " 'data',\n",
              " 'saves',\n",
              " 'structure.py',\n",
              " 'log.txt']"
            ]
          },
          "metadata": {
            "tags": []
          },
          "execution_count": 2
        }
      ]
    },
    {
      "cell_type": "code",
      "metadata": {
        "colab": {
          "base_uri": "https://localhost:8080/"
        },
        "id": "jlUwgdyZKcfn",
        "outputId": "b4b23910-00aa-4942-c62c-d8dce258d427"
      },
      "source": [
        "!python element.py --reg-type 0 # No regularizer; Element-wise Pruning"
      ],
      "execution_count": null,
      "outputs": [
        {
          "output_type": "stream",
          "text": [
            "Using CUDA!\n",
            "/usr/local/lib/python3.7/dist-packages/torch/utils/data/dataloader.py:477: UserWarning: This DataLoader will create 5 worker processes in total. Our suggested max number of worker in current system is 2, which is smaller than what this DataLoader is going to create. Please be aware that excessive worker creation might get DataLoader running slow or even freeze, lower the worker number to avoid potential slowness/freeze if necessary.\n",
            "  cpuset_checked))\n",
            "LeNet(\n",
            "  (fc1): Linear(in_features=784, out_features=300, bias=True)\n",
            "  (fc2): Linear(in_features=300, out_features=100, bias=True)\n",
            "  (fc3): Linear(in_features=100, out_features=10, bias=True)\n",
            ")\n",
            "Param name           Shape                          Type           \n",
            "----------------------------------------------------------------------\n",
            "fc1.weight           torch.Size([300, 784])         torch.float32  \n",
            "fc1.bias             torch.Size([300])              torch.float32  \n",
            "fc2.weight           torch.Size([100, 300])         torch.float32  \n",
            "fc2.bias             torch.Size([100])              torch.float32  \n",
            "fc3.weight           torch.Size([10, 100])          torch.float32  \n",
            "fc3.bias             torch.Size([10])               torch.float32  \n",
            "--- Initial training ---\n",
            "Train Epoch: 249 [50000/60000 ( 83%)]  Loss: 0.000  Reg: 0.000: 100% 250/250 [21:35<00:00,  5.18s/it]\n",
            "Test set: Average loss: 0.2365, Accuracy: 9848/10000 (98.48%)\n"
          ],
          "name": "stdout"
        }
      ]
    },
    {
      "cell_type": "code",
      "metadata": {
        "colab": {
          "base_uri": "https://localhost:8080/"
        },
        "id": "bx0LoWwhE8wu",
        "outputId": "68400086-eba5-4fde-b6ba-159aed1714c4"
      },
      "source": [
        "!python element.py --reg-type 1 # L1 regularizer; Element-wise Pruning"
      ],
      "execution_count": null,
      "outputs": [
        {
          "output_type": "stream",
          "text": [
            "Using CUDA!\n",
            "/usr/local/lib/python3.7/dist-packages/torch/utils/data/dataloader.py:477: UserWarning: This DataLoader will create 5 worker processes in total. Our suggested max number of worker in current system is 2, which is smaller than what this DataLoader is going to create. Please be aware that excessive worker creation might get DataLoader running slow or even freeze, lower the worker number to avoid potential slowness/freeze if necessary.\n",
            "  cpuset_checked))\n",
            "LeNet(\n",
            "  (fc1): Linear(in_features=784, out_features=300, bias=True)\n",
            "  (fc2): Linear(in_features=300, out_features=100, bias=True)\n",
            "  (fc3): Linear(in_features=100, out_features=10, bias=True)\n",
            ")\n",
            "Param name           Shape                          Type           \n",
            "----------------------------------------------------------------------\n",
            "fc1.weight           torch.Size([300, 784])         torch.float32  \n",
            "fc1.bias             torch.Size([300])              torch.float32  \n",
            "fc2.weight           torch.Size([100, 300])         torch.float32  \n",
            "fc2.bias             torch.Size([100])              torch.float32  \n",
            "fc3.weight           torch.Size([10, 100])          torch.float32  \n",
            "fc3.bias             torch.Size([10])               torch.float32  \n",
            "--- Initial training ---\n",
            "Train Epoch: 249 [50000/60000 ( 83%)]  Loss: 0.170  Reg: 263.269: 100% 250/250 [22:54<00:00,  5.50s/it]\n",
            "Test set: Average loss: 0.1726, Accuracy: 9517/10000 (95.17%)\n"
          ],
          "name": "stdout"
        }
      ]
    },
    {
      "cell_type": "code",
      "metadata": {
        "colab": {
          "base_uri": "https://localhost:8080/"
        },
        "id": "A6HjufwG37_k",
        "outputId": "90300553-1903-4339-f707-4e1851f8a81e"
      },
      "source": [
        "!python element.py --reg-type 2 --decay 0.02  # Hoyer regularizer; Element-wise Pruning"
      ],
      "execution_count": null,
      "outputs": [
        {
          "output_type": "stream",
          "text": [
            "Using CUDA!\n",
            "/usr/local/lib/python3.7/dist-packages/torch/utils/data/dataloader.py:477: UserWarning: This DataLoader will create 5 worker processes in total. Our suggested max number of worker in current system is 2, which is smaller than what this DataLoader is going to create. Please be aware that excessive worker creation might get DataLoader running slow or even freeze, lower the worker number to avoid potential slowness/freeze if necessary.\n",
            "  cpuset_checked))\n",
            "LeNet(\n",
            "  (fc1): Linear(in_features=784, out_features=300, bias=True)\n",
            "  (fc2): Linear(in_features=300, out_features=100, bias=True)\n",
            "  (fc3): Linear(in_features=100, out_features=10, bias=True)\n",
            ")\n",
            "Param name           Shape                          Type           \n",
            "----------------------------------------------------------------------\n",
            "fc1.weight           torch.Size([300, 784])         torch.float32  \n",
            "fc1.bias             torch.Size([300])              torch.float32  \n",
            "fc2.weight           torch.Size([100, 300])         torch.float32  \n",
            "fc2.bias             torch.Size([100])              torch.float32  \n",
            "fc3.weight           torch.Size([10, 100])          torch.float32  \n",
            "fc3.bias             torch.Size([10])               torch.float32  \n",
            "--- Initial training ---\n",
            "Train Epoch: 249 [50000/60000 ( 83%)]  Loss: 0.001  Reg: 23.143: 100% 250/250 [25:43<00:00,  6.17s/it]\n",
            "Test set: Average loss: 0.1693, Accuracy: 9719/10000 (97.19%)\n"
          ],
          "name": "stdout"
        }
      ]
    },
    {
      "cell_type": "code",
      "metadata": {
        "colab": {
          "base_uri": "https://localhost:8080/"
        },
        "id": "PdSCaNxN3dlL",
        "outputId": "01f2e761-e122-4192-8abf-32e20fca97b6"
      },
      "source": [
        "!python element.py --reg-type 3 --decay 0.0002 # Hoyer-Square regularizer; Element-wise Pruning"
      ],
      "execution_count": null,
      "outputs": [
        {
          "output_type": "stream",
          "text": [
            "Using CUDA!\n",
            "/usr/local/lib/python3.7/dist-packages/torch/utils/data/dataloader.py:477: UserWarning: This DataLoader will create 5 worker processes in total. Our suggested max number of worker in current system is 2, which is smaller than what this DataLoader is going to create. Please be aware that excessive worker creation might get DataLoader running slow or even freeze, lower the worker number to avoid potential slowness/freeze if necessary.\n",
            "  cpuset_checked))\n",
            "LeNet(\n",
            "  (fc1): Linear(in_features=784, out_features=300, bias=True)\n",
            "  (fc2): Linear(in_features=300, out_features=100, bias=True)\n",
            "  (fc3): Linear(in_features=100, out_features=10, bias=True)\n",
            ")\n",
            "Param name           Shape                          Type           \n",
            "----------------------------------------------------------------------\n",
            "fc1.weight           torch.Size([300, 784])         torch.float32  \n",
            "fc1.bias             torch.Size([300])              torch.float32  \n",
            "fc2.weight           torch.Size([100, 300])         torch.float32  \n",
            "fc2.bias             torch.Size([100])              torch.float32  \n",
            "fc3.weight           torch.Size([10, 100])          torch.float32  \n",
            "fc3.bias             torch.Size([10])               torch.float32  \n",
            "--- Initial training ---\n",
            "Train Epoch: 249 [50000/60000 ( 83%)]  Loss: 0.000  Reg: 149.011: 100% 250/250 [25:48<00:00,  6.19s/it]\n",
            "Test set: Average loss: 0.2069, Accuracy: 9771/10000 (97.71%)\n"
          ],
          "name": "stdout"
        }
      ]
    },
    {
      "cell_type": "code",
      "metadata": {
        "id": "1sGBEjV6A8rC",
        "colab": {
          "base_uri": "https://localhost:8080/"
        },
        "outputId": "f51dc276-3df1-48aa-cfcb-3f658a7082fb"
      },
      "source": [
        "!python element.py --reg-type 4 --decay 0.00002 # Transformed L1 regularizer; Element-wise Pruning"
      ],
      "execution_count": null,
      "outputs": [
        {
          "output_type": "stream",
          "text": [
            "Using CUDA!\n",
            "/usr/local/lib/python3.7/dist-packages/torch/utils/data/dataloader.py:477: UserWarning: This DataLoader will create 5 worker processes in total. Our suggested max number of worker in current system is 2, which is smaller than what this DataLoader is going to create. Please be aware that excessive worker creation might get DataLoader running slow or even freeze, lower the worker number to avoid potential slowness/freeze if necessary.\n",
            "  cpuset_checked))\n",
            "LeNet(\n",
            "  (fc1): Linear(in_features=784, out_features=300, bias=True)\n",
            "  (fc2): Linear(in_features=300, out_features=100, bias=True)\n",
            "  (fc3): Linear(in_features=100, out_features=10, bias=True)\n",
            ")\n",
            "Param name           Shape                          Type           \n",
            "----------------------------------------------------------------------\n",
            "fc1.weight           torch.Size([300, 784])         torch.float32  \n",
            "fc1.bias             torch.Size([300])              torch.float32  \n",
            "fc2.weight           torch.Size([100, 300])         torch.float32  \n",
            "fc2.bias             torch.Size([100])              torch.float32  \n",
            "fc3.weight           torch.Size([10, 100])          torch.float32  \n",
            "fc3.bias             torch.Size([10])               torch.float32  \n",
            "--- Initial training ---\n",
            "Train Epoch: 249 [50000/60000 ( 83%)]  Loss: 0.001  Reg: 2234.732: 100% 250/250 [25:20<00:00,  6.08s/it]\n",
            "Test set: Average loss: 0.1642, Accuracy: 9721/10000 (97.21%)\n"
          ],
          "name": "stdout"
        }
      ]
    },
    {
      "cell_type": "code",
      "metadata": {
        "colab": {
          "base_uri": "https://localhost:8080/"
        },
        "id": "FR5A5ogyTA8R",
        "outputId": "7ecdcf6d-459a-461e-aa43-7bb17a139616"
      },
      "source": [
        "!python structure.py --reg-type 0 # No regularizer; structure Pruning"
      ],
      "execution_count": null,
      "outputs": [
        {
          "output_type": "stream",
          "text": [
            "Using CUDA!\n",
            "/usr/local/lib/python3.7/dist-packages/torch/utils/data/dataloader.py:477: UserWarning: This DataLoader will create 5 worker processes in total. Our suggested max number of worker in current system is 2, which is smaller than what this DataLoader is going to create. Please be aware that excessive worker creation might get DataLoader running slow or even freeze, lower the worker number to avoid potential slowness/freeze if necessary.\n",
            "  cpuset_checked))\n",
            "LeNet(\n",
            "  (fc1): Linear(in_features=784, out_features=300, bias=True)\n",
            "  (fc2): Linear(in_features=300, out_features=100, bias=True)\n",
            "  (fc3): Linear(in_features=100, out_features=10, bias=True)\n",
            ")\n",
            "Param name           Shape                          Type           \n",
            "----------------------------------------------------------------------\n",
            "fc1.weight           torch.Size([300, 784])         torch.float32  \n",
            "fc1.bias             torch.Size([300])              torch.float32  \n",
            "fc2.weight           torch.Size([100, 300])         torch.float32  \n",
            "fc2.bias             torch.Size([100])              torch.float32  \n",
            "fc3.weight           torch.Size([10, 100])          torch.float32  \n",
            "fc3.bias             torch.Size([10])               torch.float32  \n",
            "--- Initial training ---\n",
            "Train Epoch: 249 [50000/60000 ( 83%)]  Loss: 0.007  Reg: 0.000: 100% 250/250 [21:24<00:00,  5.14s/it]\n",
            "Test set: Average loss: 0.0843, Accuracy: 9803/10000 (98.03%)\n"
          ],
          "name": "stdout"
        }
      ]
    },
    {
      "cell_type": "code",
      "metadata": {
        "colab": {
          "base_uri": "https://localhost:8080/"
        },
        "id": "Y34h4_haXQt8",
        "outputId": "9d5a32cd-01a1-4a11-ac12-9ac1ed03a220"
      },
      "source": [
        "!python structure.py --reg-type 1 # Group Lasso regularizer; structure Pruning"
      ],
      "execution_count": null,
      "outputs": [
        {
          "output_type": "stream",
          "text": [
            "Using CUDA!\n",
            "/usr/local/lib/python3.7/dist-packages/torch/utils/data/dataloader.py:477: UserWarning: This DataLoader will create 5 worker processes in total. Our suggested max number of worker in current system is 2, which is smaller than what this DataLoader is going to create. Please be aware that excessive worker creation might get DataLoader running slow or even freeze, lower the worker number to avoid potential slowness/freeze if necessary.\n",
            "  cpuset_checked))\n",
            "LeNet(\n",
            "  (fc1): Linear(in_features=784, out_features=300, bias=True)\n",
            "  (fc2): Linear(in_features=300, out_features=100, bias=True)\n",
            "  (fc3): Linear(in_features=100, out_features=10, bias=True)\n",
            ")\n",
            "Param name           Shape                          Type           \n",
            "----------------------------------------------------------------------\n",
            "fc1.weight           torch.Size([300, 784])         torch.float32  \n",
            "fc1.bias             torch.Size([300])              torch.float32  \n",
            "fc2.weight           torch.Size([100, 300])         torch.float32  \n",
            "fc2.bias             torch.Size([100])              torch.float32  \n",
            "fc3.weight           torch.Size([10, 100])          torch.float32  \n",
            "fc3.bias             torch.Size([10])               torch.float32  \n",
            "--- Initial training ---\n",
            "Train Epoch: 249 [50000/60000 ( 83%)]  Loss: 0.090  Reg: 219.939: 100% 250/250 [24:01<00:00,  5.76s/it]\n",
            "Test set: Average loss: 0.0986, Accuracy: 9718/10000 (97.18%)\n"
          ],
          "name": "stdout"
        }
      ]
    },
    {
      "cell_type": "code",
      "metadata": {
        "colab": {
          "base_uri": "https://localhost:8080/"
        },
        "id": "-J0kbZj8cs3P",
        "outputId": "915cdc14-7706-4ece-fac7-dff3fc4da5ef"
      },
      "source": [
        "!python prun_tune_V.py --model saves/elt_0.001_0 # Using prun_tune_V.py to prune the model processed by no regularizer; Element-wise Pruning"
      ],
      "execution_count": null,
      "outputs": [
        {
          "output_type": "stream",
          "text": [
            "Using CUDA!\n",
            "/usr/local/lib/python3.7/dist-packages/torch/utils/data/dataloader.py:477: UserWarning: This DataLoader will create 5 worker processes in total. Our suggested max number of worker in current system is 2, which is smaller than what this DataLoader is going to create. Please be aware that excessive worker creation might get DataLoader running slow or even freeze, lower the worker number to avoid potential slowness/freeze if necessary.\n",
            "  cpuset_checked))\n",
            "--- Pruning ---\n",
            "Pruning with threshold : 0.060640446841716766 for layer fc1.weight\n",
            "Pruning with threshold : 0.04381342977285385 for layer fc1.bias\n",
            "Pruning with threshold : 0.06632761657238007 for layer fc2.weight\n",
            "Pruning with threshold : 0.07076425850391388 for layer fc2.bias\n",
            "Pruning with threshold : 0.06845132261514664 for layer fc3.weight\n",
            "Pruning with threshold : 0.09649236500263214 for layer fc3.bias\n",
            "fc1.weight           | nonzeros =  150974 /  235200 ( 64.19%) | total_pruned =   84226 | shape = (300, 784)\n",
            "fc1.weight           | dim0 =     711 /     784 ( 90.69%) | dim1 =     288 /     300 ( 96.00%)\n",
            "fc1.bias             | nonzeros =     225 /     300 ( 75.00%) | total_pruned =      75 | shape = (300,)\n",
            "fc2.weight           | nonzeros =   22096 /   30000 ( 73.65%) | total_pruned =    7904 | shape = (100, 300)\n",
            "fc2.weight           | dim0 =     289 /     300 ( 96.33%) | dim1 =     100 /     100 (100.00%)\n",
            "fc2.bias             | nonzeros =      74 /     100 ( 74.00%) | total_pruned =      26 | shape = (100,)\n",
            "fc3.weight           | nonzeros =     746 /    1000 ( 74.60%) | total_pruned =     254 | shape = (10, 100)\n",
            "fc3.weight           | dim0 =      99 /     100 ( 99.00%) | dim1 =      10 /      10 (100.00%)\n",
            "fc3.bias             | nonzeros =       9 /      10 ( 90.00%) | total_pruned =       1 | shape = (10,)\n",
            "alive: 174124, pruned : 92486, total: 266610, Compression rate :       1.53x  ( 34.69% pruned)\n",
            "--- Finetuning ---\n",
            "Best: 98.44% Train Epoch: 49 [50000/60000 ( 83%)]  Loss: 0.004259 Total: 0.004259: 100% 50/50 [05:40<00:00,  6.80s/it]\n",
            "Accuracy: 98.44%\n",
            "fc1.weight           | nonzeros =  150974 /  235200 ( 64.19%) | total_pruned =   84226 | shape = (300, 784)\n",
            "fc1.weight           | dim0 =     711 /     784 ( 90.69%) | dim1 =     288 /     300 ( 96.00%)\n",
            "fc1.bias             | nonzeros =     225 /     300 ( 75.00%) | total_pruned =      75 | shape = (300,)\n",
            "fc2.weight           | nonzeros =   22096 /   30000 ( 73.65%) | total_pruned =    7904 | shape = (100, 300)\n",
            "fc2.weight           | dim0 =     289 /     300 ( 96.33%) | dim1 =     100 /     100 (100.00%)\n",
            "fc2.bias             | nonzeros =      74 /     100 ( 74.00%) | total_pruned =      26 | shape = (100,)\n",
            "fc3.weight           | nonzeros =     746 /    1000 ( 74.60%) | total_pruned =     254 | shape = (10, 100)\n",
            "fc3.weight           | dim0 =      99 /     100 ( 99.00%) | dim1 =      10 /      10 (100.00%)\n",
            "fc3.bias             | nonzeros =       9 /      10 ( 90.00%) | total_pruned =       1 | shape = (10,)\n",
            "alive: 174124, pruned : 92486, total: 266610, Compression rate :       1.53x  ( 34.69% pruned)\n"
          ],
          "name": "stdout"
        }
      ]
    },
    {
      "cell_type": "code",
      "metadata": {
        "colab": {
          "base_uri": "https://localhost:8080/"
        },
        "id": "ZHvanO72iyZg",
        "outputId": "9a8df2f6-ffbe-4b48-886e-6e67e5b48688"
      },
      "source": [
        "!python prun_tune_V.py --model saves/elt_0.001_1 # Using prun_tune_V.py to prune the model processed by L1 regularizer; Element-wise Pruning"
      ],
      "execution_count": null,
      "outputs": [
        {
          "output_type": "stream",
          "text": [
            "Using CUDA!\n",
            "/usr/local/lib/python3.7/dist-packages/torch/utils/data/dataloader.py:477: UserWarning: This DataLoader will create 5 worker processes in total. Our suggested max number of worker in current system is 2, which is smaller than what this DataLoader is going to create. Please be aware that excessive worker creation might get DataLoader running slow or even freeze, lower the worker number to avoid potential slowness/freeze if necessary.\n",
            "  cpuset_checked))\n",
            "--- Pruning ---\n",
            "Pruning with threshold : 0.0018731686286628246 for layer fc1.weight\n",
            "Pruning with threshold : 0.009827341884374619 for layer fc1.bias\n",
            "Pruning with threshold : 0.012433796189725399 for layer fc2.weight\n",
            "Pruning with threshold : 0.006386627443134785 for layer fc2.bias\n",
            "Pruning with threshold : 0.09336505085229874 for layer fc3.weight\n",
            "Pruning with threshold : 0.00033277246984653175 for layer fc3.bias\n",
            "fc1.weight           | nonzeros =    5237 /  235200 (  2.23%) | total_pruned =  229963 | shape = (300, 784)\n",
            "fc1.weight           | dim0 =     531 /     784 ( 67.73%) | dim1 =      16 /     300 (  5.33%)\n",
            "fc1.bias             | nonzeros =       9 /     300 (  3.00%) | total_pruned =     291 | shape = (300,)\n",
            "fc2.weight           | nonzeros =     100 /   30000 (  0.33%) | total_pruned =   29900 | shape = (100, 300)\n",
            "fc2.weight           | dim0 =      16 /     300 (  5.33%) | dim1 =      16 /     100 ( 16.00%)\n",
            "fc2.bias             | nonzeros =       2 /     100 (  2.00%) | total_pruned =      98 | shape = (100,)\n",
            "fc3.weight           | nonzeros =      43 /    1000 (  4.30%) | total_pruned =     957 | shape = (10, 100)\n",
            "fc3.weight           | dim0 =      16 /     100 ( 16.00%) | dim1 =      10 /      10 (100.00%)\n",
            "fc3.bias             | nonzeros =       8 /      10 ( 80.00%) | total_pruned =       2 | shape = (10,)\n",
            "alive: 5399, pruned : 261211, total: 266610, Compression rate :      49.38x  ( 97.97% pruned)\n",
            "--- Finetuning ---\n",
            "Best: 96.21% Train Epoch: 49 [50000/60000 ( 83%)]  Loss: 0.047028 Total: 0.047028: 100% 50/50 [05:28<00:00,  6.58s/it]\n",
            "Accuracy: 96.21%\n",
            "fc1.weight           | nonzeros =    5237 /  235200 (  2.23%) | total_pruned =  229963 | shape = (300, 784)\n",
            "fc1.weight           | dim0 =     531 /     784 ( 67.73%) | dim1 =      16 /     300 (  5.33%)\n",
            "fc1.bias             | nonzeros =       9 /     300 (  3.00%) | total_pruned =     291 | shape = (300,)\n",
            "fc2.weight           | nonzeros =     100 /   30000 (  0.33%) | total_pruned =   29900 | shape = (100, 300)\n",
            "fc2.weight           | dim0 =      16 /     300 (  5.33%) | dim1 =      16 /     100 ( 16.00%)\n",
            "fc2.bias             | nonzeros =       2 /     100 (  2.00%) | total_pruned =      98 | shape = (100,)\n",
            "fc3.weight           | nonzeros =      43 /    1000 (  4.30%) | total_pruned =     957 | shape = (10, 100)\n",
            "fc3.weight           | dim0 =      16 /     100 ( 16.00%) | dim1 =      10 /      10 (100.00%)\n",
            "fc3.bias             | nonzeros =       8 /      10 ( 80.00%) | total_pruned =       2 | shape = (10,)\n",
            "alive: 5399, pruned : 261211, total: 266610, Compression rate :      49.38x  ( 97.97% pruned)\n"
          ],
          "name": "stdout"
        }
      ]
    },
    {
      "cell_type": "code",
      "metadata": {
        "colab": {
          "base_uri": "https://localhost:8080/"
        },
        "id": "5HgOQF3lwA1n",
        "outputId": "9c2b36f2-64f5-4cb5-cd47-9826d112583f"
      },
      "source": [
        "!python prun_tune_V.py --model saves/elt_0.02_2 --sensitivity 0.05 # Using prun_tune_V.py to prune the model processed by Hoyer regularizer; Element-wise Pruning"
      ],
      "execution_count": null,
      "outputs": [
        {
          "output_type": "stream",
          "text": [
            "Using CUDA!\n",
            "/usr/local/lib/python3.7/dist-packages/torch/utils/data/dataloader.py:477: UserWarning: This DataLoader will create 5 worker processes in total. Our suggested max number of worker in current system is 2, which is smaller than what this DataLoader is going to create. Please be aware that excessive worker creation might get DataLoader running slow or even freeze, lower the worker number to avoid potential slowness/freeze if necessary.\n",
            "  cpuset_checked))\n",
            "--- Pruning ---\n",
            "Pruning with threshold : 0.16521745920181274 for layer fc1.weight\n",
            "Pruning with threshold : 0.018336598575115205 for layer fc1.bias\n",
            "Pruning with threshold : 0.1989304304122925 for layer fc2.weight\n",
            "Pruning with threshold : 0.01333688646554947 for layer fc2.bias\n",
            "Pruning with threshold : 0.510594367980957 for layer fc3.weight\n",
            "Pruning with threshold : 0.03418271541595459 for layer fc3.bias\n",
            "fc1.weight           | nonzeros =    3017 /  235200 (  1.28%) | total_pruned =  232183 | shape = (300, 784)\n",
            "fc1.weight           | dim0 =     549 /     784 ( 70.03%) | dim1 =     130 /     300 ( 43.33%)\n",
            "fc1.bias             | nonzeros =       1 /     300 (  0.33%) | total_pruned =     299 | shape = (300,)\n",
            "fc2.weight           | nonzeros =     271 /   30000 (  0.90%) | total_pruned =   29729 | shape = (100, 300)\n",
            "fc2.weight           | dim0 =      56 /     300 ( 18.67%) | dim1 =      32 /     100 ( 32.00%)\n",
            "fc2.bias             | nonzeros =       1 /     100 (  1.00%) | total_pruned =      99 | shape = (100,)\n",
            "fc3.weight           | nonzeros =      42 /    1000 (  4.20%) | total_pruned =     958 | shape = (10, 100)\n",
            "fc3.weight           | dim0 =      23 /     100 ( 23.00%) | dim1 =      10 /      10 (100.00%)\n",
            "fc3.bias             | nonzeros =       1 /      10 ( 10.00%) | total_pruned =       9 | shape = (10,)\n",
            "alive: 3333, pruned : 263277, total: 266610, Compression rate :      79.99x  ( 98.75% pruned)\n",
            "--- Finetuning ---\n",
            "Best: 97.10% Train Epoch: 49 [50000/60000 ( 83%)]  Loss: 0.018724 Total: 0.018724: 100% 50/50 [05:53<00:00,  7.07s/it]\n",
            "Accuracy: 97.10%\n",
            "fc1.weight           | nonzeros =    3017 /  235200 (  1.28%) | total_pruned =  232183 | shape = (300, 784)\n",
            "fc1.weight           | dim0 =     549 /     784 ( 70.03%) | dim1 =     130 /     300 ( 43.33%)\n",
            "fc1.bias             | nonzeros =       1 /     300 (  0.33%) | total_pruned =     299 | shape = (300,)\n",
            "fc2.weight           | nonzeros =     271 /   30000 (  0.90%) | total_pruned =   29729 | shape = (100, 300)\n",
            "fc2.weight           | dim0 =      56 /     300 ( 18.67%) | dim1 =      32 /     100 ( 32.00%)\n",
            "fc2.bias             | nonzeros =       1 /     100 (  1.00%) | total_pruned =      99 | shape = (100,)\n",
            "fc3.weight           | nonzeros =      42 /    1000 (  4.20%) | total_pruned =     958 | shape = (10, 100)\n",
            "fc3.weight           | dim0 =      23 /     100 ( 23.00%) | dim1 =      10 /      10 (100.00%)\n",
            "fc3.bias             | nonzeros =       1 /      10 ( 10.00%) | total_pruned =       9 | shape = (10,)\n",
            "alive: 3333, pruned : 263277, total: 266610, Compression rate :      79.99x  ( 98.75% pruned)\n"
          ],
          "name": "stdout"
        }
      ]
    },
    {
      "cell_type": "code",
      "metadata": {
        "id": "7ox1GZERKd8r",
        "colab": {
          "base_uri": "https://localhost:8080/"
        },
        "outputId": "491ea87f-4113-4c67-f961-c2aad81def30"
      },
      "source": [
        "!python prun_tune_V.py --model saves/elt_0.0002_3 --sensitivity 0.03 # Using prun_tune_V.py to prune the model processed by Hoyer-Square regularizer; Element-wise Pruning"
      ],
      "execution_count": null,
      "outputs": [
        {
          "output_type": "stream",
          "text": [
            "Using CUDA!\n",
            "/usr/local/lib/python3.7/dist-packages/torch/utils/data/dataloader.py:477: UserWarning: This DataLoader will create 5 worker processes in total. Our suggested max number of worker in current system is 2, which is smaller than what this DataLoader is going to create. Please be aware that excessive worker creation might get DataLoader running slow or even freeze, lower the worker number to avoid potential slowness/freeze if necessary.\n",
            "  cpuset_checked))\n",
            "--- Pruning ---\n",
            "Pruning with threshold : 0.06788153886795044 for layer fc1.weight\n",
            "Pruning with threshold : 0.006427081972360611 for layer fc1.bias\n",
            "Pruning with threshold : 0.07508782625198364 for layer fc2.weight\n",
            "Pruning with threshold : 0.40538904190063474 for layer fc2.bias\n",
            "Pruning with threshold : 0.2339591360092163 for layer fc3.weight\n",
            "Pruning with threshold : 0.005665485709905624 for layer fc3.bias\n",
            "fc1.weight           | nonzeros =    8232 /  235200 (  3.50%) | total_pruned =  226968 | shape = (300, 784)\n",
            "fc1.weight           | dim0 =     502 /     784 ( 64.03%) | dim1 =     104 /     300 ( 34.67%)\n",
            "fc1.bias             | nonzeros =      24 /     300 (  8.00%) | total_pruned =     276 | shape = (300,)\n",
            "fc2.weight           | nonzeros =    1459 /   30000 (  4.86%) | total_pruned =   28541 | shape = (100, 300)\n",
            "fc2.weight           | dim0 =      98 /     300 ( 32.67%) | dim1 =      61 /     100 ( 61.00%)\n",
            "fc2.bias             | nonzeros =       6 /     100 (  6.00%) | total_pruned =      94 | shape = (100,)\n",
            "fc3.weight           | nonzeros =     202 /    1000 ( 20.20%) | total_pruned =     798 | shape = (10, 100)\n",
            "fc3.weight           | dim0 =      48 /     100 ( 48.00%) | dim1 =      10 /      10 (100.00%)\n",
            "fc3.bias             | nonzeros =       1 /      10 ( 10.00%) | total_pruned =       9 | shape = (10,)\n",
            "alive: 9924, pruned : 256686, total: 266610, Compression rate :      26.87x  ( 96.28% pruned)\n",
            "--- Finetuning ---\n",
            "Best: 97.99% Train Epoch: 49 [50000/60000 ( 83%)]  Loss: 0.003511 Total: 0.003511: 100% 50/50 [05:33<00:00,  6.67s/it]\n",
            "Accuracy: 97.99%\n",
            "fc1.weight           | nonzeros =    8232 /  235200 (  3.50%) | total_pruned =  226968 | shape = (300, 784)\n",
            "fc1.weight           | dim0 =     502 /     784 ( 64.03%) | dim1 =     104 /     300 ( 34.67%)\n",
            "fc1.bias             | nonzeros =      24 /     300 (  8.00%) | total_pruned =     276 | shape = (300,)\n",
            "fc2.weight           | nonzeros =    1459 /   30000 (  4.86%) | total_pruned =   28541 | shape = (100, 300)\n",
            "fc2.weight           | dim0 =      98 /     300 ( 32.67%) | dim1 =      61 /     100 ( 61.00%)\n",
            "fc2.bias             | nonzeros =       6 /     100 (  6.00%) | total_pruned =      94 | shape = (100,)\n",
            "fc3.weight           | nonzeros =     202 /    1000 ( 20.20%) | total_pruned =     798 | shape = (10, 100)\n",
            "fc3.weight           | dim0 =      48 /     100 ( 48.00%) | dim1 =      10 /      10 (100.00%)\n",
            "fc3.bias             | nonzeros =       1 /      10 ( 10.00%) | total_pruned =       9 | shape = (10,)\n",
            "alive: 9924, pruned : 256686, total: 266610, Compression rate :      26.87x  ( 96.28% pruned)\n"
          ],
          "name": "stdout"
        }
      ]
    },
    {
      "cell_type": "code",
      "metadata": {
        "colab": {
          "base_uri": "https://localhost:8080/"
        },
        "id": "S4R-Oc6JylzD",
        "outputId": "99b890d8-3d96-4bfa-fa9c-51c570d02706"
      },
      "source": [
        "!python prun_tune_V.py --model saves/elt_2e-05_4 --sensitivity 0.3 # Using prun_tune_V.py to prune the model processed by Transformed L1 regularizer; Element-wise Pruning"
      ],
      "execution_count": null,
      "outputs": [
        {
          "output_type": "stream",
          "text": [
            "Using CUDA!\n",
            "/usr/local/lib/python3.7/dist-packages/torch/utils/data/dataloader.py:477: UserWarning: This DataLoader will create 5 worker processes in total. Our suggested max number of worker in current system is 2, which is smaller than what this DataLoader is going to create. Please be aware that excessive worker creation might get DataLoader running slow or even freeze, lower the worker number to avoid potential slowness/freeze if necessary.\n",
            "  cpuset_checked))\n",
            "--- Pruning ---\n",
            "Pruning with threshold : 0.01801062561571598 for layer fc1.weight\n",
            "Pruning with threshold : 0.025792519748210906 for layer fc1.bias\n",
            "Pruning with threshold : 0.025650878995656965 for layer fc2.weight\n",
            "Pruning with threshold : 0.04681365340948105 for layer fc2.bias\n",
            "Pruning with threshold : 0.16294466257095336 for layer fc3.weight\n",
            "Pruning with threshold : 0.1126896321773529 for layer fc3.bias\n",
            "fc1.weight           | nonzeros =    7002 /  235200 (  2.98%) | total_pruned =  228198 | shape = (300, 784)\n",
            "fc1.weight           | dim0 =     512 /     784 ( 65.31%) | dim1 =      63 /     300 ( 21.00%)\n",
            "fc1.bias             | nonzeros =      21 /     300 (  7.00%) | total_pruned =     279 | shape = (300,)\n",
            "fc2.weight           | nonzeros =    1017 /   30000 (  3.39%) | total_pruned =   28983 | shape = (100, 300)\n",
            "fc2.weight           | dim0 =      64 /     300 ( 21.33%) | dim1 =      50 /     100 ( 50.00%)\n",
            "fc2.bias             | nonzeros =       8 /     100 (  8.00%) | total_pruned =      92 | shape = (100,)\n",
            "fc3.weight           | nonzeros =     185 /    1000 ( 18.50%) | total_pruned =     815 | shape = (10, 100)\n",
            "fc3.weight           | dim0 =      50 /     100 ( 50.00%) | dim1 =      10 /      10 (100.00%)\n",
            "fc3.bias             | nonzeros =       1 /      10 ( 10.00%) | total_pruned =       9 | shape = (10,)\n",
            "alive: 8234, pruned : 258376, total: 266610, Compression rate :      32.38x  ( 96.91% pruned)\n",
            "--- Finetuning ---\n",
            "Best: 98.24% Train Epoch: 49 [50000/60000 ( 83%)]  Loss: 0.007027 Total: 0.007027: 100% 50/50 [05:40<00:00,  6.81s/it]\n",
            "Accuracy: 98.24%\n",
            "fc1.weight           | nonzeros =    7002 /  235200 (  2.98%) | total_pruned =  228198 | shape = (300, 784)\n",
            "fc1.weight           | dim0 =     512 /     784 ( 65.31%) | dim1 =      63 /     300 ( 21.00%)\n",
            "fc1.bias             | nonzeros =      21 /     300 (  7.00%) | total_pruned =     279 | shape = (300,)\n",
            "fc2.weight           | nonzeros =    1017 /   30000 (  3.39%) | total_pruned =   28983 | shape = (100, 300)\n",
            "fc2.weight           | dim0 =      64 /     300 ( 21.33%) | dim1 =      50 /     100 ( 50.00%)\n",
            "fc2.bias             | nonzeros =       8 /     100 (  8.00%) | total_pruned =      92 | shape = (100,)\n",
            "fc3.weight           | nonzeros =     185 /    1000 ( 18.50%) | total_pruned =     815 | shape = (10, 100)\n",
            "fc3.weight           | dim0 =      50 /     100 ( 50.00%) | dim1 =      10 /      10 (100.00%)\n",
            "fc3.bias             | nonzeros =       1 /      10 ( 10.00%) | total_pruned =       9 | shape = (10,)\n",
            "alive: 8234, pruned : 258376, total: 266610, Compression rate :      32.38x  ( 96.91% pruned)\n"
          ],
          "name": "stdout"
        }
      ]
    },
    {
      "cell_type": "code",
      "metadata": {
        "colab": {
          "base_uri": "https://localhost:8080/"
        },
        "id": "j19GRFcTm0Uu",
        "outputId": "3791876d-8576-4f19-9948-879a93a8c057"
      },
      "source": [
        "!python prun_tune_V.py --model saves/str_0.001_0 # Using prun_tune_V.py to prune the model processed by no regularizer; structure Pruning"
      ],
      "execution_count": null,
      "outputs": [
        {
          "output_type": "stream",
          "text": [
            "Using CUDA!\n",
            "/usr/local/lib/python3.7/dist-packages/torch/utils/data/dataloader.py:477: UserWarning: This DataLoader will create 5 worker processes in total. Our suggested max number of worker in current system is 2, which is smaller than what this DataLoader is going to create. Please be aware that excessive worker creation might get DataLoader running slow or even freeze, lower the worker number to avoid potential slowness/freeze if necessary.\n",
            "  cpuset_checked))\n",
            "--- Pruning ---\n",
            "Pruning with threshold : 0.008831785060465336 for layer fc1.weight\n",
            "Pruning with threshold : 0.016537098214030266 for layer fc1.bias\n",
            "Pruning with threshold : 0.015146587044000626 for layer fc2.weight\n",
            "Pruning with threshold : 0.02228979393839836 for layer fc2.bias\n",
            "Pruning with threshold : 0.06984549015760422 for layer fc3.weight\n",
            "Pruning with threshold : 0.02455362118780613 for layer fc3.bias\n",
            "fc1.weight           | nonzeros =   51549 /  235200 ( 21.92%) | total_pruned =  183651 | shape = (300, 784)\n",
            "fc1.weight           | dim0 =     631 /     784 ( 80.48%) | dim1 =     143 /     300 ( 47.67%)\n",
            "fc1.bias             | nonzeros =     105 /     300 ( 35.00%) | total_pruned =     195 | shape = (300,)\n",
            "fc2.weight           | nonzeros =    5886 /   30000 ( 19.62%) | total_pruned =   24114 | shape = (100, 300)\n",
            "fc2.weight           | dim0 =     188 /     300 ( 62.67%) | dim1 =      61 /     100 ( 61.00%)\n",
            "fc2.bias             | nonzeros =      51 /     100 ( 51.00%) | total_pruned =      49 | shape = (100,)\n",
            "fc3.weight           | nonzeros =     429 /    1000 ( 42.90%) | total_pruned =     571 | shape = (10, 100)\n",
            "fc3.weight           | dim0 =      48 /     100 ( 48.00%) | dim1 =      10 /      10 (100.00%)\n",
            "fc3.bias             | nonzeros =       8 /      10 ( 80.00%) | total_pruned =       2 | shape = (10,)\n",
            "alive: 58028, pruned : 208582, total: 266610, Compression rate :       4.59x  ( 78.23% pruned)\n",
            "--- Finetuning ---\n",
            "Best: 98.51% Train Epoch: 49 [50000/60000 ( 83%)]  Loss: 0.011966 Total: 0.011966: 100% 50/50 [05:43<00:00,  6.88s/it]\n",
            "Accuracy: 98.51%\n",
            "fc1.weight           | nonzeros =   51549 /  235200 ( 21.92%) | total_pruned =  183651 | shape = (300, 784)\n",
            "fc1.weight           | dim0 =     631 /     784 ( 80.48%) | dim1 =     143 /     300 ( 47.67%)\n",
            "fc1.bias             | nonzeros =     105 /     300 ( 35.00%) | total_pruned =     195 | shape = (300,)\n",
            "fc2.weight           | nonzeros =    5886 /   30000 ( 19.62%) | total_pruned =   24114 | shape = (100, 300)\n",
            "fc2.weight           | dim0 =     188 /     300 ( 62.67%) | dim1 =      61 /     100 ( 61.00%)\n",
            "fc2.bias             | nonzeros =      51 /     100 ( 51.00%) | total_pruned =      49 | shape = (100,)\n",
            "fc3.weight           | nonzeros =     429 /    1000 ( 42.90%) | total_pruned =     571 | shape = (10, 100)\n",
            "fc3.weight           | dim0 =      48 /     100 ( 48.00%) | dim1 =      10 /      10 (100.00%)\n",
            "fc3.bias             | nonzeros =       8 /      10 ( 80.00%) | total_pruned =       2 | shape = (10,)\n",
            "alive: 58028, pruned : 208582, total: 266610, Compression rate :       4.59x  ( 78.23% pruned)\n"
          ],
          "name": "stdout"
        }
      ]
    },
    {
      "cell_type": "code",
      "metadata": {
        "colab": {
          "base_uri": "https://localhost:8080/"
        },
        "id": "ejW5ldtqoq8l",
        "outputId": "c5842c37-ff8e-449e-8f83-7f927beb5382"
      },
      "source": [
        "!python prun_tune_V.py --model saves/str_0.001_1 # Using prun_tune_V.py to prune the model processed by Group Lasso regularizer; structure Pruning"
      ],
      "execution_count": null,
      "outputs": [
        {
          "output_type": "stream",
          "text": [
            "Using CUDA!\n",
            "/usr/local/lib/python3.7/dist-packages/torch/utils/data/dataloader.py:477: UserWarning: This DataLoader will create 5 worker processes in total. Our suggested max number of worker in current system is 2, which is smaller than what this DataLoader is going to create. Please be aware that excessive worker creation might get DataLoader running slow or even freeze, lower the worker number to avoid potential slowness/freeze if necessary.\n",
            "  cpuset_checked))\n",
            "--- Pruning ---\n",
            "Pruning with threshold : 0.002221296541392803 for layer fc1.weight\n",
            "Pruning with threshold : 0.03853587061166763 for layer fc1.bias\n",
            "Pruning with threshold : 0.00959082879126072 for layer fc2.weight\n",
            "Pruning with threshold : 0.06285696476697922 for layer fc2.bias\n",
            "Pruning with threshold : 0.0685378760099411 for layer fc3.weight\n",
            "Pruning with threshold : 0.09042486548423767 for layer fc3.bias\n",
            "fc1.weight           | nonzeros =   15985 /  235200 (  6.80%) | total_pruned =  219215 | shape = (300, 784)\n",
            "fc1.weight           | dim0 =     536 /     784 ( 68.37%) | dim1 =      42 /     300 ( 14.00%)\n",
            "fc1.bias             | nonzeros =      39 /     300 ( 13.00%) | total_pruned =     261 | shape = (300,)\n",
            "fc2.weight           | nonzeros =     354 /   30000 (  1.18%) | total_pruned =   29646 | shape = (100, 300)\n",
            "fc2.weight           | dim0 =      43 /     300 ( 14.33%) | dim1 =      10 /     100 ( 10.00%)\n",
            "fc2.bias             | nonzeros =      11 /     100 ( 11.00%) | total_pruned =      89 | shape = (100,)\n",
            "fc3.weight           | nonzeros =      94 /    1000 (  9.40%) | total_pruned =     906 | shape = (10, 100)\n",
            "fc3.weight           | dim0 =      10 /     100 ( 10.00%) | dim1 =      10 /      10 (100.00%)\n",
            "fc3.bias             | nonzeros =       8 /      10 ( 80.00%) | total_pruned =       2 | shape = (10,)\n",
            "alive: 16491, pruned : 250119, total: 266610, Compression rate :      16.17x  ( 93.81% pruned)\n",
            "--- Finetuning ---\n",
            "Best: 97.78% Train Epoch: 49 [50000/60000 ( 83%)]  Loss: 0.022350 Total: 0.022350: 100% 50/50 [05:38<00:00,  6.77s/it]\n",
            "Accuracy: 97.78%\n",
            "fc1.weight           | nonzeros =   15985 /  235200 (  6.80%) | total_pruned =  219215 | shape = (300, 784)\n",
            "fc1.weight           | dim0 =     536 /     784 ( 68.37%) | dim1 =      42 /     300 ( 14.00%)\n",
            "fc1.bias             | nonzeros =      39 /     300 ( 13.00%) | total_pruned =     261 | shape = (300,)\n",
            "fc2.weight           | nonzeros =     354 /   30000 (  1.18%) | total_pruned =   29646 | shape = (100, 300)\n",
            "fc2.weight           | dim0 =      43 /     300 ( 14.33%) | dim1 =      10 /     100 ( 10.00%)\n",
            "fc2.bias             | nonzeros =      11 /     100 ( 11.00%) | total_pruned =      89 | shape = (100,)\n",
            "fc3.weight           | nonzeros =      94 /    1000 (  9.40%) | total_pruned =     906 | shape = (10, 100)\n",
            "fc3.weight           | dim0 =      10 /     100 ( 10.00%) | dim1 =      10 /      10 (100.00%)\n",
            "fc3.bias             | nonzeros =       8 /      10 ( 80.00%) | total_pruned =       2 | shape = (10,)\n",
            "alive: 16491, pruned : 250119, total: 266610, Compression rate :      16.17x  ( 93.81% pruned)\n"
          ],
          "name": "stdout"
        }
      ]
    },
    {
      "cell_type": "code",
      "metadata": {
        "colab": {
          "base_uri": "https://localhost:8080/"
        },
        "id": "IGB0lbPXksI-",
        "outputId": "9eefa933-8696-46aa-eb1e-50dea300df62"
      },
      "source": [
        "!python prun_tune_V.py --model saves/str_0.002_2 --sensitivity 0.8 # Using prun_tune_V.py to prune the model processed by Group-HS regularizer; structure Pruning"
      ],
      "execution_count": null,
      "outputs": [
        {
          "output_type": "stream",
          "text": [
            "Using CUDA!\n",
            "/usr/local/lib/python3.7/dist-packages/torch/utils/data/dataloader.py:477: UserWarning: This DataLoader will create 5 worker processes in total. Our suggested max number of worker in current system is 2, which is smaller than what this DataLoader is going to create. Please be aware that excessive worker creation might get DataLoader running slow or even freeze, lower the worker number to avoid potential slowness/freeze if necessary.\n",
            "  cpuset_checked))\n",
            "--- Pruning ---\n",
            "Pruning with threshold : 0.04752532243728638 for layer fc1.weight\n",
            "Pruning with threshold : 0.09082839488983155 for layer fc1.bias\n",
            "Pruning with threshold : 0.08837348222732544 for layer fc2.weight\n",
            "Pruning with threshold : 0.14883502721786498 for layer fc2.bias\n",
            "Pruning with threshold : 0.4527036190032959 for layer fc3.weight\n",
            "Pruning with threshold : 0.2235142469406128 for layer fc3.bias\n",
            "fc1.weight           | nonzeros =    3083 /  235200 (  1.31%) | total_pruned =  232117 | shape = (300, 784)\n",
            "fc1.weight           | dim0 =     349 /     784 ( 44.52%) | dim1 =      39 /     300 ( 13.00%)\n",
            "fc1.bias             | nonzeros =      27 /     300 (  9.00%) | total_pruned =     273 | shape = (300,)\n",
            "fc2.weight           | nonzeros =     410 /   30000 (  1.37%) | total_pruned =   29590 | shape = (100, 300)\n",
            "fc2.weight           | dim0 =      38 /     300 ( 12.67%) | dim1 =      15 /     100 ( 15.00%)\n",
            "fc2.bias             | nonzeros =      12 /     100 ( 12.00%) | total_pruned =      88 | shape = (100,)\n",
            "fc3.weight           | nonzeros =      81 /    1000 (  8.10%) | total_pruned =     919 | shape = (10, 100)\n",
            "fc3.weight           | dim0 =      14 /     100 ( 14.00%) | dim1 =      10 /      10 (100.00%)\n",
            "fc3.bias             | nonzeros =       2 /      10 ( 20.00%) | total_pruned =       8 | shape = (10,)\n",
            "alive: 3615, pruned : 262995, total: 266610, Compression rate :      73.75x  ( 98.64% pruned)\n",
            "--- Finetuning ---\n",
            "Best: 97.80% Train Epoch: 49 [50000/60000 ( 83%)]  Loss: 0.017229 Total: 0.017229: 100% 50/50 [05:38<00:00,  6.76s/it]\n",
            "Accuracy: 97.80%\n",
            "fc1.weight           | nonzeros =    3083 /  235200 (  1.31%) | total_pruned =  232117 | shape = (300, 784)\n",
            "fc1.weight           | dim0 =     349 /     784 ( 44.52%) | dim1 =      39 /     300 ( 13.00%)\n",
            "fc1.bias             | nonzeros =      27 /     300 (  9.00%) | total_pruned =     273 | shape = (300,)\n",
            "fc2.weight           | nonzeros =     410 /   30000 (  1.37%) | total_pruned =   29590 | shape = (100, 300)\n",
            "fc2.weight           | dim0 =      38 /     300 ( 12.67%) | dim1 =      15 /     100 ( 15.00%)\n",
            "fc2.bias             | nonzeros =      12 /     100 ( 12.00%) | total_pruned =      88 | shape = (100,)\n",
            "fc3.weight           | nonzeros =      81 /    1000 (  8.10%) | total_pruned =     919 | shape = (10, 100)\n",
            "fc3.weight           | dim0 =      14 /     100 ( 14.00%) | dim1 =      10 /      10 (100.00%)\n",
            "fc3.bias             | nonzeros =       2 /      10 ( 20.00%) | total_pruned =       8 | shape = (10,)\n",
            "alive: 3615, pruned : 262995, total: 266610, Compression rate :      73.75x  ( 98.64% pruned)\n"
          ],
          "name": "stdout"
        }
      ]
    },
    {
      "cell_type": "code",
      "metadata": {
        "colab": {
          "base_uri": "https://localhost:8080/"
        },
        "id": "Bpnj1S5hqSr2",
        "outputId": "a46d7d02-d369-4ec2-89f1-a3d433e17bc8"
      },
      "source": [
        "!python prun_tune_T.py --model saves/str_0.001_0 # Using prun_tune_T.py to prune the model processed by no regularizer; structure Pruning"
      ],
      "execution_count": null,
      "outputs": [
        {
          "output_type": "stream",
          "text": [
            "Using CUDA!\n",
            "/usr/local/lib/python3.7/dist-packages/torch/utils/data/dataloader.py:477: UserWarning: This DataLoader will create 5 worker processes in total. Our suggested max number of worker in current system is 2, which is smaller than what this DataLoader is going to create. Please be aware that excessive worker creation might get DataLoader running slow or even freeze, lower the worker number to avoid potential slowness/freeze if necessary.\n",
            "  cpuset_checked))\n",
            "--- Pruning ---\n",
            "Test set: Average loss: 0.0843, Accuracy: 9802/10000 (98.02%)\n",
            "fc1.weight           | nonzeros =   68280 /  235200 ( 29.03%) | total_pruned =  166920 | shape = (300, 784)\n",
            "fc1.weight           | dim0 =     657 /     784 ( 83.80%) | dim1 =     164 /     300 ( 54.67%)\n",
            "fc1.bias             | nonzeros =     165 /     300 ( 55.00%) | total_pruned =     135 | shape = (300,)\n",
            "fc2.weight           | nonzeros =   10015 /   30000 ( 33.38%) | total_pruned =   19985 | shape = (100, 300)\n",
            "fc2.weight           | dim0 =     253 /     300 ( 84.33%) | dim1 =      71 /     100 ( 71.00%)\n",
            "fc2.bias             | nonzeros =      64 /     100 ( 64.00%) | total_pruned =      36 | shape = (100,)\n",
            "fc3.weight           | nonzeros =     657 /    1000 ( 65.70%) | total_pruned =     343 | shape = (10, 100)\n",
            "fc3.weight           | dim0 =      75 /     100 ( 75.00%) | dim1 =      10 /      10 (100.00%)\n",
            "fc3.bias             | nonzeros =      10 /      10 (100.00%) | total_pruned =       0 | shape = (10,)\n",
            "alive: 79191, pruned : 187419, total: 266610, Compression rate :       3.37x  ( 70.30% pruned)\n",
            "--- Finetuning ---\n",
            "Train Epoch: 99 [50000/60000 ( 83%)]  Loss: 0.000000 Total: 0.000000: 100% 100/100 [14:16<00:00,  8.57s/it]\n",
            "Test set: Average loss: 0.1350, Accuracy: 9859/10000 (98.59%)\n"
          ],
          "name": "stdout"
        }
      ]
    },
    {
      "cell_type": "code",
      "metadata": {
        "colab": {
          "base_uri": "https://localhost:8080/"
        },
        "id": "fA-2z_kMtQoU",
        "outputId": "bd5f03c3-8324-446f-e7ce-6d9923250238"
      },
      "source": [
        "!python prun_tune_T.py --model saves/str_0.001_1 # Using prun_tune_T.py to prune the model processed by Group Lasso regularizer; structure Pruning"
      ],
      "execution_count": null,
      "outputs": [
        {
          "output_type": "stream",
          "text": [
            "Using CUDA!\n",
            "/usr/local/lib/python3.7/dist-packages/torch/utils/data/dataloader.py:477: UserWarning: This DataLoader will create 5 worker processes in total. Our suggested max number of worker in current system is 2, which is smaller than what this DataLoader is going to create. Please be aware that excessive worker creation might get DataLoader running slow or even freeze, lower the worker number to avoid potential slowness/freeze if necessary.\n",
            "  cpuset_checked))\n",
            "--- Pruning ---\n",
            "Test set: Average loss: 0.0986, Accuracy: 9719/10000 (97.19%)\n",
            "fc1.weight           | nonzeros =   18235 /  235200 (  7.75%) | total_pruned =  216965 | shape = (300, 784)\n",
            "fc1.weight           | dim0 =     555 /     784 ( 70.79%) | dim1 =      45 /     300 ( 15.00%)\n",
            "fc1.bias             | nonzeros =     221 /     300 ( 73.67%) | total_pruned =      79 | shape = (300,)\n",
            "fc2.weight           | nonzeros =     438 /   30000 (  1.46%) | total_pruned =   29562 | shape = (100, 300)\n",
            "fc2.weight           | dim0 =      51 /     300 ( 17.00%) | dim1 =      10 /     100 ( 10.00%)\n",
            "fc2.bias             | nonzeros =      46 /     100 ( 46.00%) | total_pruned =      54 | shape = (100,)\n",
            "fc3.weight           | nonzeros =     102 /    1000 ( 10.20%) | total_pruned =     898 | shape = (10, 100)\n",
            "fc3.weight           | dim0 =      11 /     100 ( 11.00%) | dim1 =      10 /      10 (100.00%)\n",
            "fc3.bias             | nonzeros =      10 /      10 (100.00%) | total_pruned =       0 | shape = (10,)\n",
            "alive: 19052, pruned : 247558, total: 266610, Compression rate :      13.99x  ( 92.85% pruned)\n",
            "--- Finetuning ---\n",
            "Train Epoch: 99 [50000/60000 ( 83%)]  Loss: 0.007566 Total: 0.007566: 100% 100/100 [14:04<00:00,  8.44s/it]\n",
            "Test set: Average loss: 0.0901, Accuracy: 9780/10000 (97.80%)\n"
          ],
          "name": "stdout"
        }
      ]
    },
    {
      "cell_type": "code",
      "metadata": {
        "colab": {
          "base_uri": "https://localhost:8080/"
        },
        "id": "x7eirgzltSNY",
        "outputId": "8f54682f-e6d9-4573-cccf-4c0b784cd846"
      },
      "source": [
        "!python prun_tune_T.py --model saves/str_0.002_2 # Using prun_tune_T.py to prune the model processed by Group-HS regularizer; structure Pruning"
      ],
      "execution_count": null,
      "outputs": [
        {
          "output_type": "stream",
          "text": [
            "Using CUDA!\n",
            "/usr/local/lib/python3.7/dist-packages/torch/utils/data/dataloader.py:477: UserWarning: This DataLoader will create 5 worker processes in total. Our suggested max number of worker in current system is 2, which is smaller than what this DataLoader is going to create. Please be aware that excessive worker creation might get DataLoader running slow or even freeze, lower the worker number to avoid potential slowness/freeze if necessary.\n",
            "  cpuset_checked))\n",
            "--- Pruning ---\n",
            "Test set: Average loss: 0.0837, Accuracy: 9747/10000 (97.47%)\n",
            "fc1.weight           | nonzeros =   22613 /  235200 (  9.61%) | total_pruned =  212587 | shape = (300, 784)\n",
            "fc1.weight           | dim0 =     554 /     784 ( 70.66%) | dim1 =      54 /     300 ( 18.00%)\n",
            "fc1.bias             | nonzeros =     228 /     300 ( 76.00%) | total_pruned =      72 | shape = (300,)\n",
            "fc2.weight           | nonzeros =     774 /   30000 (  2.58%) | total_pruned =   29226 | shape = (100, 300)\n",
            "fc2.weight           | dim0 =      56 /     300 ( 18.67%) | dim1 =      15 /     100 ( 15.00%)\n",
            "fc2.bias             | nonzeros =      44 /     100 ( 44.00%) | total_pruned =      56 | shape = (100,)\n",
            "fc3.weight           | nonzeros =     150 /    1000 ( 15.00%) | total_pruned =     850 | shape = (10, 100)\n",
            "fc3.weight           | dim0 =      15 /     100 ( 15.00%) | dim1 =      10 /      10 (100.00%)\n",
            "fc3.bias             | nonzeros =       9 /      10 ( 90.00%) | total_pruned =       1 | shape = (10,)\n",
            "alive: 23818, pruned : 242792, total: 266610, Compression rate :      11.19x  ( 91.07% pruned)\n",
            "--- Finetuning ---\n",
            "Train Epoch: 99 [50000/60000 ( 83%)]  Loss: 0.001707 Total: 0.001707: 100% 100/100 [14:01<00:00,  8.41s/it]\n",
            "Test set: Average loss: 0.1095, Accuracy: 9779/10000 (97.79%)\n"
          ],
          "name": "stdout"
        }
      ]
    },
    {
      "cell_type": "code",
      "metadata": {
        "colab": {
          "base_uri": "https://localhost:8080/"
        },
        "id": "fNpg9HOHvZuM",
        "outputId": "f4da302f-2415-4657-b2b5-336c0412bced"
      },
      "source": [
        "!python prun_tune_T.py --model saves/elt_0.001_0 # Using prun_tune_T.py to prune the model processed by No regularizer; element Pruning"
      ],
      "execution_count": null,
      "outputs": [
        {
          "output_type": "stream",
          "text": [
            "Using CUDA!\n",
            "/usr/local/lib/python3.7/dist-packages/torch/utils/data/dataloader.py:477: UserWarning: This DataLoader will create 5 worker processes in total. Our suggested max number of worker in current system is 2, which is smaller than what this DataLoader is going to create. Please be aware that excessive worker creation might get DataLoader running slow or even freeze, lower the worker number to avoid potential slowness/freeze if necessary.\n",
            "  cpuset_checked))\n",
            "--- Pruning ---\n",
            "Test set: Average loss: 0.2365, Accuracy: 9848/10000 (98.48%)\n",
            "fc1.weight           | nonzeros =  233298 /  235200 ( 99.19%) | total_pruned =    1902 | shape = (300, 784)\n",
            "fc1.weight           | dim0 =     784 /     784 (100.00%) | dim1 =     300 /     300 (100.00%)\n",
            "fc1.bias             | nonzeros =     299 /     300 ( 99.67%) | total_pruned =       1 | shape = (300,)\n",
            "fc2.weight           | nonzeros =   29869 /   30000 ( 99.56%) | total_pruned =     131 | shape = (100, 300)\n",
            "fc2.weight           | dim0 =     300 /     300 (100.00%) | dim1 =     100 /     100 (100.00%)\n",
            "fc2.bias             | nonzeros =     100 /     100 (100.00%) | total_pruned =       0 | shape = (100,)\n",
            "fc3.weight           | nonzeros =     997 /    1000 ( 99.70%) | total_pruned =       3 | shape = (10, 100)\n",
            "fc3.weight           | dim0 =     100 /     100 (100.00%) | dim1 =      10 /      10 (100.00%)\n",
            "fc3.bias             | nonzeros =      10 /      10 (100.00%) | total_pruned =       0 | shape = (10,)\n",
            "alive: 264573, pruned : 2037, total: 266610, Compression rate :       1.01x  (  0.76% pruned)\n",
            "--- Finetuning ---\n",
            "Train Epoch: 99 [50000/60000 ( 83%)]  Loss: 0.000000 Total: 0.000000: 100% 100/100 [14:09<00:00,  8.49s/it]\n",
            "Test set: Average loss: 0.2412, Accuracy: 9871/10000 (98.71%)\n"
          ],
          "name": "stdout"
        }
      ]
    },
    {
      "cell_type": "code",
      "metadata": {
        "colab": {
          "base_uri": "https://localhost:8080/"
        },
        "id": "FumRWsfkvZ74",
        "outputId": "9e5b0384-c3d7-4de4-9be7-006c5cdddc6f"
      },
      "source": [
        "!python prun_tune_T.py --model saves/elt_0.001_1 # Using prun_tune_T.py to prune the model processed by L1 regularizer; element Pruning"
      ],
      "execution_count": null,
      "outputs": [
        {
          "output_type": "stream",
          "text": [
            "Using CUDA!\n",
            "/usr/local/lib/python3.7/dist-packages/torch/utils/data/dataloader.py:477: UserWarning: This DataLoader will create 5 worker processes in total. Our suggested max number of worker in current system is 2, which is smaller than what this DataLoader is going to create. Please be aware that excessive worker creation might get DataLoader running slow or even freeze, lower the worker number to avoid potential slowness/freeze if necessary.\n",
            "  cpuset_checked))\n",
            "--- Pruning ---\n",
            "Test set: Average loss: 0.1722, Accuracy: 9518/10000 (95.18%)\n",
            "fc1.weight           | nonzeros =    6169 /  235200 (  2.62%) | total_pruned =  229031 | shape = (300, 784)\n",
            "fc1.weight           | dim0 =     548 /     784 ( 69.90%) | dim1 =      16 /     300 (  5.33%)\n",
            "fc1.bias             | nonzeros =      15 /     300 (  5.00%) | total_pruned =     285 | shape = (300,)\n",
            "fc2.weight           | nonzeros =     209 /   30000 (  0.70%) | total_pruned =   29791 | shape = (100, 300)\n",
            "fc2.weight           | dim0 =      16 /     300 (  5.33%) | dim1 =      16 /     100 ( 16.00%)\n",
            "fc2.bias             | nonzeros =       9 /     100 (  9.00%) | total_pruned =      91 | shape = (100,)\n",
            "fc3.weight           | nonzeros =     129 /    1000 ( 12.90%) | total_pruned =     871 | shape = (10, 100)\n",
            "fc3.weight           | dim0 =      16 /     100 ( 16.00%) | dim1 =      10 /      10 (100.00%)\n",
            "fc3.bias             | nonzeros =       5 /      10 ( 50.00%) | total_pruned =       5 | shape = (10,)\n",
            "alive: 6536, pruned : 260074, total: 266610, Compression rate :      40.79x  ( 97.55% pruned)\n",
            "--- Finetuning ---\n",
            "Train Epoch: 99 [50000/60000 ( 83%)]  Loss: 0.153890 Total: 0.153890: 100% 100/100 [14:07<00:00,  8.48s/it]\n",
            "Test set: Average loss: 0.1352, Accuracy: 9621/10000 (96.21%)\n"
          ],
          "name": "stdout"
        }
      ]
    },
    {
      "cell_type": "code",
      "metadata": {
        "colab": {
          "base_uri": "https://localhost:8080/"
        },
        "id": "4gQq7h-RvZPu",
        "outputId": "d02a1fde-5868-40d1-ff1b-1b19872e4172"
      },
      "source": [
        "!python prun_tune_T.py --model saves/elt_0.02_2 # Using prun_tune_T.py to prune the model processed by Transformed Hoyer regularizer; element Pruning"
      ],
      "execution_count": null,
      "outputs": [
        {
          "output_type": "stream",
          "text": [
            "Using CUDA!\n",
            "/usr/local/lib/python3.7/dist-packages/torch/utils/data/dataloader.py:477: UserWarning: This DataLoader will create 5 worker processes in total. Our suggested max number of worker in current system is 2, which is smaller than what this DataLoader is going to create. Please be aware that excessive worker creation might get DataLoader running slow or even freeze, lower the worker number to avoid potential slowness/freeze if necessary.\n",
            "  cpuset_checked))\n",
            "--- Pruning ---\n",
            "Test set: Average loss: 0.1693, Accuracy: 9719/10000 (97.19%)\n",
            "fc1.weight           | nonzeros =   25482 /  235200 ( 10.83%) | total_pruned =  209718 | shape = (300, 784)\n",
            "fc1.weight           | dim0 =     618 /     784 ( 78.83%) | dim1 =     175 /     300 ( 58.33%)\n",
            "fc1.bias             | nonzeros =      15 /     300 (  5.00%) | total_pruned =     285 | shape = (300,)\n",
            "fc2.weight           | nonzeros =    1732 /   30000 (  5.77%) | total_pruned =   28268 | shape = (100, 300)\n",
            "fc2.weight           | dim0 =     120 /     300 ( 40.00%) | dim1 =      32 /     100 ( 32.00%)\n",
            "fc2.bias             | nonzeros =       3 /     100 (  3.00%) | total_pruned =      97 | shape = (100,)\n",
            "fc3.weight           | nonzeros =     219 /    1000 ( 21.90%) | total_pruned =     781 | shape = (10, 100)\n",
            "fc3.weight           | dim0 =      26 /     100 ( 26.00%) | dim1 =      10 /      10 (100.00%)\n",
            "fc3.bias             | nonzeros =       1 /      10 ( 10.00%) | total_pruned =       9 | shape = (10,)\n",
            "alive: 27452, pruned : 239158, total: 266610, Compression rate :       9.71x  ( 89.70% pruned)\n",
            "--- Finetuning ---\n",
            "Train Epoch: 99 [50000/60000 ( 83%)]  Loss: 0.000002 Total: 0.000002: 100% 100/100 [14:26<00:00,  8.66s/it]\n",
            "Test set: Average loss: 0.2641, Accuracy: 9747/10000 (97.47%)\n"
          ],
          "name": "stdout"
        }
      ]
    },
    {
      "cell_type": "code",
      "metadata": {
        "colab": {
          "base_uri": "https://localhost:8080/"
        },
        "id": "kKIHWjtvxbeH",
        "outputId": "394f0fb7-c9d9-4cbd-bce7-872bc45d5837"
      },
      "source": [
        "!python prun_tune_T.py --model saves/elt_0.0002_3  # Using prun_tune_T.py to prune the model processed by Transformed Hoyer-Square regularizer; element Pruning"
      ],
      "execution_count": null,
      "outputs": [
        {
          "output_type": "stream",
          "text": [
            "Using CUDA!\n",
            "/usr/local/lib/python3.7/dist-packages/torch/utils/data/dataloader.py:477: UserWarning: This DataLoader will create 5 worker processes in total. Our suggested max number of worker in current system is 2, which is smaller than what this DataLoader is going to create. Please be aware that excessive worker creation might get DataLoader running slow or even freeze, lower the worker number to avoid potential slowness/freeze if necessary.\n",
            "  cpuset_checked))\n",
            "--- Pruning ---\n",
            "Test set: Average loss: 0.2069, Accuracy: 9772/10000 (97.72%)\n",
            "fc1.weight           | nonzeros =   58245 /  235200 ( 24.76%) | total_pruned =  176955 | shape = (300, 784)\n",
            "fc1.weight           | dim0 =     601 /     784 ( 76.66%) | dim1 =     292 /     300 ( 97.33%)\n",
            "fc1.bias             | nonzeros =      66 /     300 ( 22.00%) | total_pruned =     234 | shape = (300,)\n",
            "fc2.weight           | nonzeros =   10164 /   30000 ( 33.88%) | total_pruned =   19836 | shape = (100, 300)\n",
            "fc2.weight           | dim0 =     290 /     300 ( 96.67%) | dim1 =      90 /     100 ( 90.00%)\n",
            "fc2.bias             | nonzeros =      68 /     100 ( 68.00%) | total_pruned =      32 | shape = (100,)\n",
            "fc3.weight           | nonzeros =     727 /    1000 ( 72.70%) | total_pruned =     273 | shape = (10, 100)\n",
            "fc3.weight           | dim0 =      88 /     100 ( 88.00%) | dim1 =      10 /      10 (100.00%)\n",
            "fc3.bias             | nonzeros =       5 /      10 ( 50.00%) | total_pruned =       5 | shape = (10,)\n",
            "alive: 69275, pruned : 197335, total: 266610, Compression rate :       3.85x  ( 74.02% pruned)\n",
            "--- Finetuning ---\n",
            "Train Epoch: 99 [50000/60000 ( 83%)]  Loss: 0.000000 Total: 0.000000: 100% 100/100 [14:23<00:00,  8.64s/it]\n",
            "Test set: Average loss: 0.2613, Accuracy: 9797/10000 (97.97%)\n"
          ],
          "name": "stdout"
        }
      ]
    },
    {
      "cell_type": "code",
      "metadata": {
        "colab": {
          "base_uri": "https://localhost:8080/"
        },
        "id": "sTJhM0lovZh_",
        "outputId": "ee5be6ec-f5fb-47a0-f8cb-e2555b9d0a0b"
      },
      "source": [
        "!python prun_tune_T.py --model saves/elt_2e-05_4 # Using prun_tune_T.py to prune the model processed by Transformed L1 regularizer; element Pruning"
      ],
      "execution_count": null,
      "outputs": [
        {
          "output_type": "stream",
          "text": [
            "Using CUDA!\n",
            "/usr/local/lib/python3.7/dist-packages/torch/utils/data/dataloader.py:477: UserWarning: This DataLoader will create 5 worker processes in total. Our suggested max number of worker in current system is 2, which is smaller than what this DataLoader is going to create. Please be aware that excessive worker creation might get DataLoader running slow or even freeze, lower the worker number to avoid potential slowness/freeze if necessary.\n",
            "  cpuset_checked))\n",
            "--- Pruning ---\n",
            "Test set: Average loss: 0.1641, Accuracy: 9721/10000 (97.21%)\n",
            "fc1.weight           | nonzeros =   26717 /  235200 ( 11.36%) | total_pruned =  208483 | shape = (300, 784)\n",
            "fc1.weight           | dim0 =     548 /     784 ( 69.90%) | dim1 =      68 /     300 ( 22.67%)\n",
            "fc1.bias             | nonzeros =      59 /     300 ( 19.67%) | total_pruned =     241 | shape = (300,)\n",
            "fc2.weight           | nonzeros =    3190 /   30000 ( 10.63%) | total_pruned =   26810 | shape = (100, 300)\n",
            "fc2.weight           | dim0 =     110 /     300 ( 36.67%) | dim1 =      50 /     100 ( 50.00%)\n",
            "fc2.bias             | nonzeros =      47 /     100 ( 47.00%) | total_pruned =      53 | shape = (100,)\n",
            "fc3.weight           | nonzeros =     459 /    1000 ( 45.90%) | total_pruned =     541 | shape = (10, 100)\n",
            "fc3.weight           | dim0 =      50 /     100 ( 50.00%) | dim1 =      10 /      10 (100.00%)\n",
            "fc3.bias             | nonzeros =       9 /      10 ( 90.00%) | total_pruned =       1 | shape = (10,)\n",
            "alive: 30481, pruned : 236129, total: 266610, Compression rate :       8.75x  ( 88.57% pruned)\n",
            "--- Finetuning ---\n",
            "Train Epoch: 99 [50000/60000 ( 83%)]  Loss: 0.000000 Total: 0.000000: 100% 100/100 [14:13<00:00,  8.53s/it]\n",
            "Test set: Average loss: 0.2159, Accuracy: 9815/10000 (98.15%)\n"
          ],
          "name": "stdout"
        }
      ]
    },
    {
      "cell_type": "code",
      "metadata": {
        "id": "5tqO4emA0KjG"
      },
      "source": [
        ""
      ],
      "execution_count": null,
      "outputs": []
    }
  ]
}
